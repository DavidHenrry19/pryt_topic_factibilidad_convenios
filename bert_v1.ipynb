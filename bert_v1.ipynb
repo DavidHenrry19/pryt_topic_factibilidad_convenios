{
 "cells": [
  {
   "cell_type": "code",
   "execution_count": 1,
   "id": "5963ab2b",
   "metadata": {},
   "outputs": [],
   "source": [
    "import tensorflow as tf\n",
    "import tensorflow_hub as hub\n",
    "import tensorflow_text as text"
   ]
  },
  {
   "cell_type": "code",
   "execution_count": 2,
   "id": "9c354886",
   "metadata": {},
   "outputs": [],
   "source": [
    "import pandas as pd\n",
    "import re\n",
    "from unidecode import unidecode\n",
    "def limpiar_convenio(texto):\n",
    "    # Eliminar tildes\n",
    "    texto_sin_tildes = unidecode(texto)\n",
    "    # Convertir a minúsculas\n",
    "    texto_limpio = texto_sin_tildes.lower()\n",
    "    # Eliminar espacios en blanco adicionales\n",
    "    texto_limpio = re.sub(r'\\s+', ' ', texto_limpio)\n",
    "    # Eliminar espacios al inicio y final del texto\n",
    "    texto_limpio = texto_limpio.strip()\n",
    "    # Eliminar caracteres especiales y números\n",
    "    texto_limpio = re.sub(r'[^a-zA-Z\\s]', '', texto_limpio)\n",
    "    # Eliminar comillas\n",
    "    texto_limpio = re.sub(r\"\\'\", \"\", texto_limpio)\n",
    "    # Eliminar links\n",
    "    texto_limpio = re.sub(r'http\\S+|www\\S+|https\\S+', '', texto_limpio)\n",
    "    return texto_limpio\n",
    "\n",
    "# Cargar el DataFrame desde el archivo CSV\n",
    "df = pd.read_csv('dataset_convenios.csv')\n",
    "# Aplicar la función limpiar_convenio a la columna \"Convenios\"\n",
    "df['Convenio'] = df['Convenio'].apply(limpiar_convenio)\n"
   ]
  },
  {
   "cell_type": "code",
   "execution_count": 3,
   "id": "9f038cac",
   "metadata": {},
   "outputs": [
    {
     "data": {
      "text/html": [
       "<div>\n",
       "<style scoped>\n",
       "    .dataframe tbody tr th:only-of-type {\n",
       "        vertical-align: middle;\n",
       "    }\n",
       "\n",
       "    .dataframe tbody tr th {\n",
       "        vertical-align: top;\n",
       "    }\n",
       "\n",
       "    .dataframe thead th {\n",
       "        text-align: right;\n",
       "    }\n",
       "</style>\n",
       "<table border=\"1\" class=\"dataframe\">\n",
       "  <thead>\n",
       "    <tr style=\"text-align: right;\">\n",
       "      <th></th>\n",
       "      <th>Convenio</th>\n",
       "      <th>Factibilidad</th>\n",
       "      <th>Etiqueta</th>\n",
       "    </tr>\n",
       "  </thead>\n",
       "  <tbody>\n",
       "    <tr>\n",
       "      <th>0</th>\n",
       "      <td>unidad de organizacion ano del didlogo y la re...</td>\n",
       "      <td>0.007704</td>\n",
       "      <td>Factible</td>\n",
       "    </tr>\n",
       "    <tr>\n",
       "      <th>1</th>\n",
       "      <td>we  s  cortn f by michell convenio marco de co...</td>\n",
       "      <td>0.007391</td>\n",
       "      <td>Factible</td>\n",
       "    </tr>\n",
       "    <tr>\n",
       "      <th>2</th>\n",
       "      <td>ron   programa nacional peru  ministerio  c de...</td>\n",
       "      <td>0.007171</td>\n",
       "      <td>Factible</td>\n",
       "    </tr>\n",
       "    <tr>\n",
       "      <th>3</th>\n",
       "      <td>convenio especifico entre la gerencia de red a...</td>\n",
       "      <td>0.005120</td>\n",
       "      <td>No Factible</td>\n",
       "    </tr>\n",
       "    <tr>\n",
       "      <th>4</th>\n",
       "      <td>were convenio marco de cooperacion interinstit...</td>\n",
       "      <td>0.006510</td>\n",
       "      <td>Factible</td>\n",
       "    </tr>\n",
       "  </tbody>\n",
       "</table>\n",
       "</div>"
      ],
      "text/plain": [
       "                                            Convenio  Factibilidad  \\\n",
       "0  unidad de organizacion ano del didlogo y la re...      0.007704   \n",
       "1  we  s  cortn f by michell convenio marco de co...      0.007391   \n",
       "2  ron   programa nacional peru  ministerio  c de...      0.007171   \n",
       "3  convenio especifico entre la gerencia de red a...      0.005120   \n",
       "4  were convenio marco de cooperacion interinstit...      0.006510   \n",
       "\n",
       "      Etiqueta  \n",
       "0     Factible  \n",
       "1     Factible  \n",
       "2     Factible  \n",
       "3  No Factible  \n",
       "4     Factible  "
      ]
     },
     "execution_count": 3,
     "metadata": {},
     "output_type": "execute_result"
    }
   ],
   "source": [
    "df.head(5)"
   ]
  },
  {
   "cell_type": "code",
   "execution_count": 4,
   "id": "381b3618",
   "metadata": {},
   "outputs": [
    {
     "data": {
      "text/html": [
       "<div>\n",
       "<style scoped>\n",
       "    .dataframe tbody tr th:only-of-type {\n",
       "        vertical-align: middle;\n",
       "    }\n",
       "\n",
       "    .dataframe tbody tr th {\n",
       "        vertical-align: top;\n",
       "    }\n",
       "\n",
       "    .dataframe thead th {\n",
       "        text-align: right;\n",
       "    }\n",
       "</style>\n",
       "<table border=\"1\" class=\"dataframe\">\n",
       "  <thead>\n",
       "    <tr style=\"text-align: right;\">\n",
       "      <th></th>\n",
       "      <th>Factibilidad</th>\n",
       "      <th>Etiqueta</th>\n",
       "      <th>Convenio</th>\n",
       "    </tr>\n",
       "  </thead>\n",
       "  <tbody>\n",
       "    <tr>\n",
       "      <th>0</th>\n",
       "      <td>0.007704</td>\n",
       "      <td>Factible</td>\n",
       "      <td>unidad de organizacion ano del didlogo y la re...</td>\n",
       "    </tr>\n",
       "    <tr>\n",
       "      <th>1</th>\n",
       "      <td>0.007391</td>\n",
       "      <td>Factible</td>\n",
       "      <td>we  s  cortn f by michell convenio marco de co...</td>\n",
       "    </tr>\n",
       "    <tr>\n",
       "      <th>2</th>\n",
       "      <td>0.007171</td>\n",
       "      <td>Factible</td>\n",
       "      <td>ron   programa nacional peru  ministerio  c de...</td>\n",
       "    </tr>\n",
       "    <tr>\n",
       "      <th>3</th>\n",
       "      <td>0.005120</td>\n",
       "      <td>No Factible</td>\n",
       "      <td>convenio especifico entre la gerencia de red a...</td>\n",
       "    </tr>\n",
       "    <tr>\n",
       "      <th>4</th>\n",
       "      <td>0.006510</td>\n",
       "      <td>Factible</td>\n",
       "      <td>were convenio marco de cooperacion interinstit...</td>\n",
       "    </tr>\n",
       "  </tbody>\n",
       "</table>\n",
       "</div>"
      ],
      "text/plain": [
       "   Factibilidad     Etiqueta  \\\n",
       "0      0.007704     Factible   \n",
       "1      0.007391     Factible   \n",
       "2      0.007171     Factible   \n",
       "3      0.005120  No Factible   \n",
       "4      0.006510     Factible   \n",
       "\n",
       "                                            Convenio  \n",
       "0  unidad de organizacion ano del didlogo y la re...  \n",
       "1  we  s  cortn f by michell convenio marco de co...  \n",
       "2  ron   programa nacional peru  ministerio  c de...  \n",
       "3  convenio especifico entre la gerencia de red a...  \n",
       "4  were convenio marco de cooperacion interinstit...  "
      ]
     },
     "execution_count": 4,
     "metadata": {},
     "output_type": "execute_result"
    }
   ],
   "source": [
    "temp_cols=df.columns.tolist()\n",
    "new_cols=temp_cols[1:] + temp_cols[0:1]\n",
    "df=df[new_cols]\n",
    "df.head(5)"
   ]
  },
  {
   "cell_type": "code",
   "execution_count": 5,
   "id": "a25553dc",
   "metadata": {},
   "outputs": [
    {
     "data": {
      "text/html": [
       "<div>\n",
       "<style scoped>\n",
       "    .dataframe tbody tr th:only-of-type {\n",
       "        vertical-align: middle;\n",
       "    }\n",
       "\n",
       "    .dataframe tbody tr th {\n",
       "        vertical-align: top;\n",
       "    }\n",
       "\n",
       "    .dataframe thead tr th {\n",
       "        text-align: left;\n",
       "    }\n",
       "\n",
       "    .dataframe thead tr:last-of-type th {\n",
       "        text-align: right;\n",
       "    }\n",
       "</style>\n",
       "<table border=\"1\" class=\"dataframe\">\n",
       "  <thead>\n",
       "    <tr>\n",
       "      <th></th>\n",
       "      <th colspan=\"8\" halign=\"left\">Factibilidad</th>\n",
       "    </tr>\n",
       "    <tr>\n",
       "      <th></th>\n",
       "      <th>count</th>\n",
       "      <th>mean</th>\n",
       "      <th>std</th>\n",
       "      <th>min</th>\n",
       "      <th>25%</th>\n",
       "      <th>50%</th>\n",
       "      <th>75%</th>\n",
       "      <th>max</th>\n",
       "    </tr>\n",
       "    <tr>\n",
       "      <th>Etiqueta</th>\n",
       "      <th></th>\n",
       "      <th></th>\n",
       "      <th></th>\n",
       "      <th></th>\n",
       "      <th></th>\n",
       "      <th></th>\n",
       "      <th></th>\n",
       "      <th></th>\n",
       "    </tr>\n",
       "  </thead>\n",
       "  <tbody>\n",
       "    <tr>\n",
       "      <th>Factible</th>\n",
       "      <td>285.0</td>\n",
       "      <td>0.00940</td>\n",
       "      <td>0.002953</td>\n",
       "      <td>0.00604</td>\n",
       "      <td>0.007391</td>\n",
       "      <td>0.008621</td>\n",
       "      <td>0.010846</td>\n",
       "      <td>0.028070</td>\n",
       "    </tr>\n",
       "    <tr>\n",
       "      <th>No Factible</th>\n",
       "      <td>63.0</td>\n",
       "      <td>0.00499</td>\n",
       "      <td>0.000686</td>\n",
       "      <td>0.00225</td>\n",
       "      <td>0.004556</td>\n",
       "      <td>0.005120</td>\n",
       "      <td>0.005490</td>\n",
       "      <td>0.006004</td>\n",
       "    </tr>\n",
       "  </tbody>\n",
       "</table>\n",
       "</div>"
      ],
      "text/plain": [
       "            Factibilidad                                                  \\\n",
       "                   count     mean       std      min       25%       50%   \n",
       "Etiqueta                                                                   \n",
       "Factible           285.0  0.00940  0.002953  0.00604  0.007391  0.008621   \n",
       "No Factible         63.0  0.00499  0.000686  0.00225  0.004556  0.005120   \n",
       "\n",
       "                                 \n",
       "                  75%       max  \n",
       "Etiqueta                         \n",
       "Factible     0.010846  0.028070  \n",
       "No Factible  0.005490  0.006004  "
      ]
     },
     "execution_count": 5,
     "metadata": {},
     "output_type": "execute_result"
    }
   ],
   "source": [
    "df.groupby('Etiqueta').describe()"
   ]
  },
  {
   "cell_type": "code",
   "execution_count": 6,
   "id": "76ee6ec4",
   "metadata": {},
   "outputs": [],
   "source": [
    "df = df.drop(columns=['Factibilidad'])"
   ]
  },
  {
   "cell_type": "code",
   "execution_count": 7,
   "id": "72fca9d6",
   "metadata": {},
   "outputs": [
    {
     "data": {
      "text/plain": [
       "Factible       285\n",
       "No Factible     63\n",
       "Name: Etiqueta, dtype: int64"
      ]
     },
     "execution_count": 7,
     "metadata": {},
     "output_type": "execute_result"
    }
   ],
   "source": [
    "df['Etiqueta'].value_counts()"
   ]
  },
  {
   "cell_type": "code",
   "execution_count": 8,
   "id": "0cea4f12",
   "metadata": {},
   "outputs": [
    {
     "data": {
      "text/plain": [
       "(63, 2)"
      ]
     },
     "execution_count": 8,
     "metadata": {},
     "output_type": "execute_result"
    }
   ],
   "source": [
    "df_nofacti = df[df['Etiqueta']=='No Factible']\n",
    "df_nofacti.shape"
   ]
  },
  {
   "cell_type": "code",
   "execution_count": 9,
   "id": "940b342a",
   "metadata": {},
   "outputs": [
    {
     "data": {
      "text/plain": [
       "(285, 2)"
      ]
     },
     "execution_count": 9,
     "metadata": {},
     "output_type": "execute_result"
    }
   ],
   "source": [
    "df_facti = df[df['Etiqueta']=='Factible']\n",
    "df_facti.shape"
   ]
  },
  {
   "cell_type": "code",
   "execution_count": 10,
   "id": "0f2ea909",
   "metadata": {},
   "outputs": [
    {
     "data": {
      "text/plain": [
       "(63, 2)"
      ]
     },
     "execution_count": 10,
     "metadata": {},
     "output_type": "execute_result"
    }
   ],
   "source": [
    "df_facti_downsampled = df_facti.sample(df_nofacti.shape[0])\n",
    "df_facti_downsampled.shape"
   ]
  },
  {
   "cell_type": "code",
   "execution_count": 11,
   "id": "4f06b992",
   "metadata": {},
   "outputs": [
    {
     "data": {
      "text/plain": [
       "(126, 2)"
      ]
     },
     "execution_count": 11,
     "metadata": {},
     "output_type": "execute_result"
    }
   ],
   "source": [
    "df_balanced = pd.concat([df_facti_downsampled, df_nofacti])\n",
    "df_balanced.shape "
   ]
  },
  {
   "cell_type": "code",
   "execution_count": 12,
   "id": "e98b0356",
   "metadata": {},
   "outputs": [
    {
     "data": {
      "text/plain": [
       "Factible       63\n",
       "No Factible    63\n",
       "Name: Etiqueta, dtype: int64"
      ]
     },
     "execution_count": 12,
     "metadata": {},
     "output_type": "execute_result"
    }
   ],
   "source": [
    "df_balanced['Etiqueta'].value_counts()"
   ]
  },
  {
   "cell_type": "code",
   "execution_count": 13,
   "id": "3f8eef28",
   "metadata": {},
   "outputs": [
    {
     "data": {
      "text/html": [
       "<div>\n",
       "<style scoped>\n",
       "    .dataframe tbody tr th:only-of-type {\n",
       "        vertical-align: middle;\n",
       "    }\n",
       "\n",
       "    .dataframe tbody tr th {\n",
       "        vertical-align: top;\n",
       "    }\n",
       "\n",
       "    .dataframe thead th {\n",
       "        text-align: right;\n",
       "    }\n",
       "</style>\n",
       "<table border=\"1\" class=\"dataframe\">\n",
       "  <thead>\n",
       "    <tr style=\"text-align: right;\">\n",
       "      <th></th>\n",
       "      <th>Etiqueta</th>\n",
       "      <th>Convenio</th>\n",
       "      <th>No Factible</th>\n",
       "    </tr>\n",
       "  </thead>\n",
       "  <tbody>\n",
       "    <tr>\n",
       "      <th>37</th>\n",
       "      <td>Factible</td>\n",
       "      <td>universidad nacional del altiplano rectorado c...</td>\n",
       "      <td>0</td>\n",
       "    </tr>\n",
       "    <tr>\n",
       "      <th>290</th>\n",
       "      <td>No Factible</td>\n",
       "      <td>firmado digitalmente pe evedo huertas angela m...</td>\n",
       "      <td>1</td>\n",
       "    </tr>\n",
       "    <tr>\n",
       "      <th>214</th>\n",
       "      <td>No Factible</td>\n",
       "      <td>universidad nacional del altiplano rectorado c...</td>\n",
       "      <td>1</td>\n",
       "    </tr>\n",
       "    <tr>\n",
       "      <th>107</th>\n",
       "      <td>No Factible</td>\n",
       "      <td>universidad nacional del altiplano rectorado o...</td>\n",
       "      <td>1</td>\n",
       "    </tr>\n",
       "    <tr>\n",
       "      <th>55</th>\n",
       "      <td>No Factible</td>\n",
       "      <td>of ae vilvensy   convenio especifico entre la ...</td>\n",
       "      <td>1</td>\n",
       "    </tr>\n",
       "  </tbody>\n",
       "</table>\n",
       "</div>"
      ],
      "text/plain": [
       "        Etiqueta                                           Convenio  \\\n",
       "37      Factible  universidad nacional del altiplano rectorado c...   \n",
       "290  No Factible  firmado digitalmente pe evedo huertas angela m...   \n",
       "214  No Factible  universidad nacional del altiplano rectorado c...   \n",
       "107  No Factible  universidad nacional del altiplano rectorado o...   \n",
       "55   No Factible  of ae vilvensy   convenio especifico entre la ...   \n",
       "\n",
       "     No Factible  \n",
       "37             0  \n",
       "290            1  \n",
       "214            1  \n",
       "107            1  \n",
       "55             1  "
      ]
     },
     "execution_count": 13,
     "metadata": {},
     "output_type": "execute_result"
    }
   ],
   "source": [
    "df_balanced['No Factible']=df_balanced['Etiqueta'].apply(lambda x: 1 if x=='No Factible' else 0)\n",
    "df_balanced.sample(5)"
   ]
  },
  {
   "cell_type": "code",
   "execution_count": 14,
   "id": "efc96224",
   "metadata": {},
   "outputs": [],
   "source": [
    "from sklearn.model_selection import train_test_split\n",
    "\n",
    "X_train, X_test, y_train, y_test = train_test_split(df_balanced['Convenio'],df_balanced['No Factible'], stratify=df_balanced['No Factible'])"
   ]
  },
  {
   "cell_type": "code",
   "execution_count": 15,
   "id": "b938ee4d",
   "metadata": {},
   "outputs": [],
   "source": [
    "bert_preprocess = hub.KerasLayer(\"https://tfhub.dev/tensorflow/bert_en_uncased_preprocess/3\")\n",
    "bert_encoder = hub.KerasLayer(\"https://tfhub.dev/tensorflow/bert_en_uncased_L-12_H-768_A-12/4\")"
   ]
  },
  {
   "cell_type": "code",
   "execution_count": 16,
   "id": "6cbcbb86",
   "metadata": {},
   "outputs": [],
   "source": [
    "# Capas bert\n",
    "text_input = tf.keras.layers.Input(shape=(), dtype=tf.string, name='text')\n",
    "preprocessed_text = bert_preprocess(text_input)\n",
    "outputs = bert_encoder(preprocessed_text)\n",
    "\n",
    "# Capa de las redes neuronales\n",
    "l = tf.keras.layers.Dropout(0.1, name=\"dropout\")(outputs['pooled_output'])\n",
    "l = tf.keras.layers.Dense(1, activation='sigmoid', name=\"output\")(l)\n",
    "\n",
    "model = tf.keras.Model(inputs=[text_input], outputs = [l])"
   ]
  },
  {
   "cell_type": "code",
   "execution_count": 17,
   "id": "8490292c",
   "metadata": {},
   "outputs": [
    {
     "name": "stdout",
     "output_type": "stream",
     "text": [
      "Model: \"model\"\n",
      "__________________________________________________________________________________________________\n",
      " Layer (type)                   Output Shape         Param #     Connected to                     \n",
      "==================================================================================================\n",
      " text (InputLayer)              [(None,)]            0           []                               \n",
      "                                                                                                  \n",
      " keras_layer (KerasLayer)       {'input_type_ids':   0           ['text[0][0]']                   \n",
      "                                (None, 128),                                                      \n",
      "                                 'input_word_ids':                                                \n",
      "                                (None, 128),                                                      \n",
      "                                 'input_mask': (Non                                               \n",
      "                                e, 128)}                                                          \n",
      "                                                                                                  \n",
      " keras_layer_1 (KerasLayer)     {'sequence_output':  109482241   ['keras_layer[0][0]',            \n",
      "                                 (None, 128, 768),                'keras_layer[0][1]',            \n",
      "                                 'encoder_outputs':               'keras_layer[0][2]']            \n",
      "                                 [(None, 128, 768),                                               \n",
      "                                 (None, 128, 768),                                                \n",
      "                                 (None, 128, 768),                                                \n",
      "                                 (None, 128, 768),                                                \n",
      "                                 (None, 128, 768),                                                \n",
      "                                 (None, 128, 768),                                                \n",
      "                                 (None, 128, 768),                                                \n",
      "                                 (None, 128, 768),                                                \n",
      "                                 (None, 128, 768),                                                \n",
      "                                 (None, 128, 768),                                                \n",
      "                                 (None, 128, 768),                                                \n",
      "                                 (None, 128, 768)],                                               \n",
      "                                 'default': (None,                                                \n",
      "                                768),                                                             \n",
      "                                 'pooled_output': (                                               \n",
      "                                None, 768)}                                                       \n",
      "                                                                                                  \n",
      " dropout (Dropout)              (None, 768)          0           ['keras_layer_1[0][13]']         \n",
      "                                                                                                  \n",
      " output (Dense)                 (None, 1)            769         ['dropout[0][0]']                \n",
      "                                                                                                  \n",
      "==================================================================================================\n",
      "Total params: 109,483,010\n",
      "Trainable params: 769\n",
      "Non-trainable params: 109,482,241\n",
      "__________________________________________________________________________________________________\n"
     ]
    }
   ],
   "source": [
    "model.summary()"
   ]
  },
  {
   "cell_type": "code",
   "execution_count": 18,
   "id": "4e27794e",
   "metadata": {},
   "outputs": [
    {
     "data": {
      "text/plain": [
       "94"
      ]
     },
     "execution_count": 18,
     "metadata": {},
     "output_type": "execute_result"
    }
   ],
   "source": [
    "len(X_train)"
   ]
  },
  {
   "cell_type": "code",
   "execution_count": 19,
   "id": "bfc03821",
   "metadata": {},
   "outputs": [],
   "source": [
    "METRICS = [\n",
    "      tf.keras.metrics.BinaryAccuracy(name='accuracy'),\n",
    "      tf.keras.metrics.Precision(name='precision'),\n",
    "      tf.keras.metrics.Recall(name='recall')\n",
    "]\n",
    "\n",
    "model.compile(optimizer='adam',\n",
    "              loss='binary_crossentropy',\n",
    "              metrics=METRICS)"
   ]
  },
  {
   "cell_type": "code",
   "execution_count": 20,
   "id": "04dc176a",
   "metadata": {},
   "outputs": [
    {
     "name": "stdout",
     "output_type": "stream",
     "text": [
      "Epoch 1/10\n",
      "3/3 [==============================] - 19s 4s/step - loss: 0.7030 - accuracy: 0.4574 - precision: 0.4643 - recall: 0.5532\n",
      "Epoch 2/10\n",
      "3/3 [==============================] - 12s 4s/step - loss: 0.6827 - accuracy: 0.5638 - precision: 0.5536 - recall: 0.6596\n",
      "Epoch 3/10\n",
      "3/3 [==============================] - 12s 4s/step - loss: 0.6710 - accuracy: 0.6277 - precision: 0.6875 - recall: 0.4681\n",
      "Epoch 4/10\n",
      "3/3 [==============================] - 11s 4s/step - loss: 0.6982 - accuracy: 0.5106 - precision: 0.5238 - recall: 0.2340\n",
      "Epoch 5/10\n",
      "3/3 [==============================] - 12s 4s/step - loss: 0.6959 - accuracy: 0.4894 - precision: 0.4865 - recall: 0.3830\n",
      "Epoch 6/10\n",
      "3/3 [==============================] - 12s 4s/step - loss: 0.6965 - accuracy: 0.5319 - precision: 0.5238 - recall: 0.7021\n",
      "Epoch 7/10\n",
      "3/3 [==============================] - 12s 4s/step - loss: 0.6928 - accuracy: 0.5213 - precision: 0.5161 - recall: 0.6809\n",
      "Epoch 8/10\n",
      "3/3 [==============================] - 11s 4s/step - loss: 0.7080 - accuracy: 0.4894 - precision: 0.4906 - recall: 0.5532\n",
      "Epoch 9/10\n",
      "3/3 [==============================] - 11s 4s/step - loss: 0.7077 - accuracy: 0.4894 - precision: 0.4878 - recall: 0.4255\n",
      "Epoch 10/10\n",
      "3/3 [==============================] - 11s 4s/step - loss: 0.7008 - accuracy: 0.5319 - precision: 0.5349 - recall: 0.4894\n"
     ]
    },
    {
     "data": {
      "text/plain": [
       "<keras.callbacks.History at 0x11edd3fcf40>"
      ]
     },
     "execution_count": 20,
     "metadata": {},
     "output_type": "execute_result"
    }
   ],
   "source": [
    "model.fit(X_train, y_train, epochs=10)"
   ]
  },
  {
   "cell_type": "code",
   "execution_count": 21,
   "id": "e9d127e0",
   "metadata": {},
   "outputs": [
    {
     "name": "stdout",
     "output_type": "stream",
     "text": [
      "1/1 [==============================] - 5s 5s/step - loss: 0.6574 - accuracy: 0.7188 - precision: 0.6842 - recall: 0.8125\n"
     ]
    },
    {
     "data": {
      "text/plain": [
       "[0.6573752164840698, 0.71875, 0.6842105388641357, 0.8125]"
      ]
     },
     "execution_count": 21,
     "metadata": {},
     "output_type": "execute_result"
    }
   ],
   "source": [
    "model.evaluate(X_test, y_test)"
   ]
  },
  {
   "cell_type": "code",
   "execution_count": 22,
   "id": "e5cdc013",
   "metadata": {},
   "outputs": [
    {
     "name": "stdout",
     "output_type": "stream",
     "text": [
      "1/1 [==============================] - 5s 5s/step\n"
     ]
    }
   ],
   "source": [
    "y_predicted = model.predict(X_test)\n",
    "y_predicted = y_predicted.flatten()"
   ]
  },
  {
   "cell_type": "code",
   "execution_count": 23,
   "id": "421b157c",
   "metadata": {},
   "outputs": [
    {
     "data": {
      "text/plain": [
       "array([1, 0, 1, 1, 0, 1, 1, 1, 1, 0, 1, 1, 0, 0, 0, 0, 1, 0, 0, 1, 1, 1,\n",
       "       0, 0, 0, 1, 1, 0, 1, 1, 1, 1])"
      ]
     },
     "execution_count": 23,
     "metadata": {},
     "output_type": "execute_result"
    }
   ],
   "source": [
    "import numpy as np\n",
    "\n",
    "y_predicted = np.where(y_predicted > 0.5, 1, 0)\n",
    "y_predicted"
   ]
  },
  {
   "cell_type": "code",
   "execution_count": 24,
   "id": "5dd3ec62",
   "metadata": {},
   "outputs": [
    {
     "data": {
      "text/plain": [
       "array([[10,  6],\n",
       "       [ 3, 13]], dtype=int64)"
      ]
     },
     "execution_count": 24,
     "metadata": {},
     "output_type": "execute_result"
    }
   ],
   "source": [
    "from sklearn.metrics import confusion_matrix, classification_report\n",
    "\n",
    "cm = confusion_matrix(y_test, y_predicted)\n",
    "cm "
   ]
  },
  {
   "cell_type": "code",
   "execution_count": 28,
   "id": "b73fe8bb",
   "metadata": {},
   "outputs": [
    {
     "data": {
      "text/plain": [
       "Text(50.722222222222214, 0.5, 'Verdad')"
      ]
     },
     "execution_count": 28,
     "metadata": {},
     "output_type": "execute_result"
    },
    {
     "data": {
      "image/png": "[encoded data removed]",
      "text/plain": [
       "<Figure size 640x480 with 2 Axes>"
      ]
     },
     "metadata": {},
     "output_type": "display_data"
    }
   ],
   "source": [
    "from matplotlib import pyplot as plt\n",
    "import seaborn as sn\n",
    "sn.heatmap(cm, annot=True, fmt='d')\n",
    "plt.xlabel('Predecido')\n",
    "plt.ylabel('Verdad')\n"
   ]
  },
  {
   "cell_type": "code",
   "execution_count": 26,
   "id": "28a94f3d",
   "metadata": {},
   "outputs": [
    {
     "name": "stdout",
     "output_type": "stream",
     "text": [
      "              precision    recall  f1-score   support\n",
      "\n",
      "           0       0.77      0.62      0.69        16\n",
      "           1       0.68      0.81      0.74        16\n",
      "\n",
      "    accuracy                           0.72        32\n",
      "   macro avg       0.73      0.72      0.72        32\n",
      "weighted avg       0.73      0.72      0.72        32\n",
      "\n"
     ]
    }
   ],
   "source": [
    "print(classification_report(y_test, y_predicted))"
   ]
  },
  {
   "cell_type": "code",
   "execution_count": 27,
   "id": "4bc896b1",
   "metadata": {},
   "outputs": [
    {
     "name": "stdout",
     "output_type": "stream",
     "text": [
      "1/1 [==============================] - 1s 949ms/step\n",
      "1/1 [==============================] - 0s 202ms/step\n",
      "1/1 [==============================] - 0s 192ms/step\n",
      "1/1 [==============================] - 0s 200ms/step\n",
      "1/1 [==============================] - 0s 192ms/step\n",
      "1/1 [==============================] - 0s 189ms/step\n",
      "1/1 [==============================] - 0s 193ms/step\n",
      "1/1 [==============================] - 0s 195ms/step\n",
      "1/1 [==============================] - 0s 200ms/step\n",
      "1/1 [==============================] - 0s 180ms/step\n",
      "Predicción para convenio01: [[0.40745863]]\n",
      "Predicción para convenio02: [[0.49583554]]\n",
      "Predicción para convenio03: [[0.5526722]]\n",
      "Predicción para convenio04: [[0.57172054]]\n",
      "Predicción para convenio05: [[0.45303944]]\n",
      "Predicción para convenio06: [[0.398006]]\n",
      "Predicción para convenio07: [[0.5616374]]\n",
      "Predicción para convenio08: [[0.42374262]]\n",
      "Predicción para convenio09: [[0.5474162]]\n",
      "Predicción para convenio10: [[0.5239448]]\n"
     ]
    }
   ],
   "source": [
    "predictions = []  # Lista para almacenar las predicciones\n",
    "\n",
    "for i in range(1, 11):\n",
    "    filename = f'convenio{i:02d}.txt'\n",
    "    with open(filename, 'r', encoding='utf-8') as file:\n",
    "        text = file.read()\n",
    "        prediction = model.predict([text])\n",
    "        predictions.append(prediction)\n",
    "\n",
    "# Imprimir las predicciones\n",
    "for i, prediction in enumerate(predictions):\n",
    "    print(f'Predicción para convenio{i+1:02d}: {prediction}')"
   ]
  },
  {
   "cell_type": "code",
   "execution_count": null,
   "id": "f75d4605",
   "metadata": {},
   "outputs": [],
   "source": []
  }
 ],
 "metadata": {
  "kernelspec": {
   "display_name": "Python 3 (ipykernel)",
   "language": "python",
   "name": "python3"
  },
  "language_info": {
   "codemirror_mode": {
    "name": "ipython",
    "version": 3
   },
   "file_extension": ".py",
   "mimetype": "text/x-python",
   "name": "python",
   "nbconvert_exporter": "python",
   "pygments_lexer": "ipython3",
   "version": "3.10.9"
  }
 },
 "nbformat": 4,
 "nbformat_minor": 5
}
