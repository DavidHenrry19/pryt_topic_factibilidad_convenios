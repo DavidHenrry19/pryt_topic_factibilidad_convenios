{
  "nbformat": 4,
  "nbformat_minor": 0,
  "metadata": {
    "colab": {
      "provenance": []
    },
    "kernelspec": {
      "name": "python3",
      "display_name": "Python 3"
    },
    "language_info": {
      "name": "python"
    }
  },
  "cells": [
    {
      "cell_type": "code",
      "execution_count": null,
      "metadata": {
        "id": "3tXKwRQuKtrt"
      },
      "outputs": [],
      "source": [
        "!pip install spacy\n",
        "!python -m spacy download es_core_news_sm"
      ]
    },
    {
      "cell_type": "code",
      "source": [
        "!pip install pytesseract"
      ],
      "metadata": {
        "id": "uzidgdKGetAa"
      },
      "execution_count": null,
      "outputs": []
    },
    {
      "cell_type": "code",
      "source": [
        "!pip install pdf2image"
      ],
      "metadata": {
        "id": "WYgMGFque9Oq"
      },
      "execution_count": null,
      "outputs": []
    },
    {
      "cell_type": "code",
      "source": [
        "import pytesseract\n",
        "from pdf2image import convert_from_path\n",
        "from PIL import Image"
      ],
      "metadata": {
        "id": "sP-4EgQwNQua"
      },
      "execution_count": 1,
      "outputs": []
    },
    {
      "cell_type": "code",
      "source": [
        "pytesseract.pytesseract.tesseract_cmd = '/usr/bin/tesseract'\n",
        "pytesseract.pytesseract.tesseract_cmd = r'/usr/bin/tesseract'"
      ],
      "metadata": {
        "id": "eNTj8ilnNSUo"
      },
      "execution_count": 2,
      "outputs": []
    },
    {
      "cell_type": "code",
      "source": [
        "import zipfile\n",
        "import os\n",
        "\n",
        "# Ruta de la carpeta comprimida\n",
        "ruta_carpeta_comprimida = '/content'\n",
        "\n",
        "# Ruta del archivo comprimido\n",
        "nombre_archivo_comprimido = 'convenios_result.zip'\n",
        "\n",
        "# Ruta completa del archivo comprimido\n",
        "ruta_archivo_comprimido = os.path.join(ruta_carpeta_comprimida, nombre_archivo_comprimido)\n",
        "\n",
        "# Ruta de la carpeta de destino para la descompresión\n",
        "ruta_destino = '/content/convenios'\n",
        "\n",
        "# Verifica si la carpeta de destino existe, si no, la crea\n",
        "if not os.path.exists(ruta_destino):\n",
        "    os.makedirs(ruta_destino)\n",
        "\n",
        "# Verifica si el archivo es un archivo comprimido ZIP\n",
        "if zipfile.is_zipfile(ruta_archivo_comprimido):\n",
        "    # Descomprime el archivo en la carpeta de destino\n",
        "    with zipfile.ZipFile(ruta_archivo_comprimido, 'r') as zip_ref:\n",
        "        zip_ref.extractall(ruta_destino)\n",
        "\n",
        "print(\"Proceso de descompresión completado\")"
      ],
      "metadata": {
        "colab": {
          "base_uri": "https://localhost:8080/"
        },
        "id": "3xKKVFsVCCcq",
        "outputId": "b58aca19-634c-49d7-f162-dded02d82262"
      },
      "execution_count": 3,
      "outputs": [
        {
          "output_type": "stream",
          "name": "stdout",
          "text": [
            "Proceso de descompresión completado\n"
          ]
        }
      ]
    },
    {
      "cell_type": "code",
      "source": [
        "import os\n",
        "\n",
        "# Directorio donde se encuentran los archivos de convenios\n",
        "directorio_convenios = '/content/convenios/convenios_result'\n",
        "\n",
        "# Lista para almacenar los textos de los convenios\n",
        "convenios_textos = []\n",
        "\n",
        "# Recorrer todos los archivos en el directorio de convenios\n",
        "for nombre_archivo in os.listdir(directorio_convenios):\n",
        "    ruta_archivo = os.path.join(directorio_convenios, nombre_archivo)\n",
        "\n",
        "    # Leer el contenido del archivo\n",
        "    with open(ruta_archivo, 'r') as archivo:\n",
        "        texto_convenio = archivo.read()\n",
        "\n",
        "        # Agregar el texto del convenio a la lista\n",
        "        convenios_textos.append(texto_convenio)"
      ],
      "metadata": {
        "id": "h1ItvCfbdGnY"
      },
      "execution_count": 4,
      "outputs": []
    },
    {
      "cell_type": "code",
      "source": [
        "len(convenios_textos)"
      ],
      "metadata": {
        "colab": {
          "base_uri": "https://localhost:8080/"
        },
        "id": "z9MXXhCRAKqb",
        "outputId": "850df43e-117c-4aad-8c36-d09c4e692811"
      },
      "execution_count": 5,
      "outputs": [
        {
          "output_type": "execute_result",
          "data": {
            "text/plain": [
              "348"
            ]
          },
          "metadata": {},
          "execution_count": 5
        }
      ]
    },
    {
      "cell_type": "code",
      "source": [
        "import re\n",
        "import nltk\n",
        "from nltk.corpus import stopwords\n",
        "# from unidecode import unidecode\n",
        "\n",
        "# Descarga la lista de palabras vacías en español si aún no lo has hecho\n",
        "nltk.download('stopwords')\n",
        "stop_words = set(stopwords.words('spanish'))\n",
        "\n",
        "def limpiar_convenio(texto):\n",
        "    # Eliminar tildes\n",
        "    # texto_sin_tildes = unidecode(texto)\n",
        "    # Convertir a minúsculas\n",
        "    texto_limpio = texto.lower()\n",
        "    # Eliminar espacios en blanco adicionales\n",
        "    texto_limpio = re.sub(r'\\s+', ' ', texto_limpio)\n",
        "    # Eliminar espacios al inicio y final del texto\n",
        "    texto_limpio = texto_limpio.strip()\n",
        "    # Eliminar enlaces\n",
        "    texto_limpio = re.sub(r'http\\S+|www\\S+', '', texto_limpio)\n",
        "    # Eliminar caracteres especiales y números\n",
        "    texto_limpio = re.sub(r'[^a-zA-Z\\s]', '', texto_limpio)\n",
        "    # Eliminar comillas\n",
        "    texto_limpio = re.sub(r\"\\'\", \"\", texto_limpio)\n",
        "\n",
        "    # Eliminar palabras vacías (stop words) en español y palabras cortas menores a tantos caracteres\n",
        "    words = texto_limpio.split()\n",
        "    texto_limpio = ' '.join([word for word in words if word not in stop_words and len(word) > 4])\n",
        "\n",
        "    return texto_limpio\n",
        "\n",
        "convenios_limpios = [limpiar_convenio(convenio) for convenio in convenios_textos]"
      ],
      "metadata": {
        "colab": {
          "base_uri": "https://localhost:8080/"
        },
        "id": "iUmn_2RzBUu1",
        "outputId": "a0e9303b-8ee3-4bac-87e7-8ea030e29865"
      },
      "execution_count": 6,
      "outputs": [
        {
          "output_type": "stream",
          "name": "stderr",
          "text": [
            "[nltk_data] Downloading package stopwords to /root/nltk_data...\n",
            "[nltk_data]   Package stopwords is already up-to-date!\n"
          ]
        }
      ]
    },
    {
      "cell_type": "code",
      "source": [
        "convenios_limpios[40]"
      ],
      "metadata": {
        "colab": {
          "base_uri": "https://localhost:8080/",
          "height": 88
        },
        "id": "qTo8C1LcBewf",
        "outputId": "b6b1e336-e0c5-4b31-947c-c45a7b665f3e"
      },
      "execution_count": 7,
      "outputs": [
        {
          "output_type": "execute_result",
          "data": {
            "text/plain": [
              "'convenio cooperacion interinstitucional universidad nacional altiplano municipalidad provincial departamento conste presente documento convenio cooperacion interinstitucional celebran parte universidad nacional altiplano domicilio legal distrito provincia departamento debidamente representada alcalde flores quispe identificado elegido sufragio directo proclamado jurado nacional elecciones alcalde provincia departamento periodo adelante denominara municipalidad terminos nxiiiones siguientes clausula primera partes suscriben creada mediante agosto institucion educacion superior integrada docentes estudiantes graduados mision desarrollar conocimiento cientifico tecnolgico humanistico formar profesionales graduados calificados excelencia academica capacidad competitiva gestion proponer elaborar ejecutar alternativas integrales desarrollo regional nacional igual manera universidad nacional altiplano persona juridica derecho publico interno ciudad personeria representacion legal ejercida rector municipalidad organo gobierno promotor desarrollo local personeria juridica derecho publico posee autonomia politica econdmica administrativa asuntos competencia finalidad representar vecindario promover adecuada prestacion servicios publicos locales desarrollo integral sostenible armonico circunscripcion conformidad articulo constitucion politica cuyas competencias funciones estan contenidas organica municipalidades modificatorias clausula segunda marco legal constitucion politica modificatorias organica poder ejecutivo procedimiento aministrativo legal modificatorias universitaria universidad nacional altiplano organica municipalidades partes acuerdan listado precedente caracter anunciativo limitativo aplicacion gegun especilaidad metrria actividad desarrollarse partes estan comprometidas desarrollo region especialmente referido sector pecuario desarrollarse provincia temas recursos ganaderia camelida fortaleciendo capacidades organizaciones productoras llamas generando cultura seguridad alimentaria mejores ingresos economicos organizaciones productoras alpacas llamas provincia partes objetivos comunes implementacion propuestas proyectos orientados desarrollo actividad pecuaria distritos provincia cuenten recursos adecuados produccin camlida aquellas poblaciones encuentren zonas limitrofes interdepartamentales necesario realizar sinergias coordinaciones ambas instituciones fortalecer desarrollar actividades tendientes mejorar explotacion alpacas llamas existente zonas intervencion clausula cuarta objetivos convenio presente convenio cooperacion interinstitucional objetivo establecer alianza estrategica travs facultad medicina veterinaria zootecnia municipalidad articular complementar esfuerzos interinstitucionales finalidad impulsar desarrollar fortalecer actividades mejoramiento genetico llamas distritos altoandinos provincia iniciandose materializacion convenio comunidades charamaya qquemilluni copani rosario oghaupiayllu tolapalca andamarca centro poblado charamaya distrito manazo provincia cuyas organizaciones productores camlidos cuenten predisposicion necesaria objetivos siguientes apoyar promover investigacion ejecucion desarrollo planes trabajo acciones proyectos fortalecimiento capacidades productivas alpacas llamas orientadas mejorar niveles socioecondmicos comunidades campesinas componentes centro poblado charamaya distrito mafiazo provincia iniciar actividades mejoramiento genetico basico primario llamas comunidades charamaya qquemilluni copani rosario chaupiayllu andamarca centro poblado charamaya distrito mafazo provincia sistematizar experiencias locales procesos productivos necesario investigar mejorar procesos productivos llamas clausula quinta compromiso partes obliga realizar travs facultad medicina veterinaria zootecnia conjuntamente representantes municipio provincial diagnostico potencialidades recursos naturales camlidos identificando organizaciones recursos adecuados iniciativas mejor produccion llamas comunidades campesinas componen centro poblado charamaya distrito mafiazo provincia brindar asistencia tecnica procesos competen mejora gentica llamas areas intervencion presente convenio estara considerado trabajo correspondiente facilitar calidad prstamo municipio provincial reproductores llamas numero calidades razas estaran acuerdo diagnostico potencialidades recursos naturales camelidos realizarse comunidades campesinas organizaciones centro poblado charamaya mismo tiempo prestamo meses enero marzo establecer mecanismo monitoreo seguimiento evaluacion desarrollo actividades realizar municipalidad obliga otorgar facilidades llevar actividades requeridas travs facultad medicina veterinaria zootecnia cumplimento objetivos metas previstas responsabilizarse ciudado integridad reproductores llamas entregadas prstamo haran entrega documentadamente autoridades comunidades centro poblado charamaya promover investigaciones cursos talleres necesarios fortalecer produccin camelidos organizaciones centro poblado charamaya distrito mafiazo provincia participar activamente desarrollo propuestas ampliacion servicios concernientes mejora gentica produccion camlidos intervencion resulten necesarias logro objetivos convenio lausula sexta vigencia presente convenio tendra plazo duracion partir fecha suscripcion lapso podra impartir cursos capacitacion realizar investigaciones camelidos pasturas temas relacionados pudiera priorizado comunidades campesinas involucradas presente convenio aclara siendo epoca empadre llamas meses enero febrero marzo principalmente reproductores iniciaran empadre rebafios llamas comunidades charamaya enero debindose retornar animales marzo centro investigacion facultad medicina veterinaria zootecnia universidad nacional altiplano vigencia convenio puede renovado previo acuerdo partes acuerdo suscribirse rector alcalde municipalidad provincial clausula septima presupuesto siguiente presupuesto invertira municipio finalidad formule mejoramiento genetico llamas apoye tcnicamente empadre controlado llamas apoyar arantizar integridad reproductores cuadro reserves cronograma actividades realizacion trabajo pecaey enero marzo unidad cargoservicio cantidad medida servicios profesionales propinas servicios especializados profesionales meses persona febrero vidticos propinas bachilleres tesistas practicantes labor meses persona enero marzo persona traslado reproductores camidn charamaya viceversa enero marzo unidad unidad supervisin actividades combustible camioneta municipio lnives presupuesto total partes podran introducir modificaciones presente convenio resultado evaluaciones periddicas realicen tiempo vigencia clausula octava resolucion presente convenio podra resuelto vencimiento previo acuerdo partes incumplimiento alguno compromisos asumidos presente convenio causal resolucion mismo debera comunicarse quince calendarios anticipacion domicilios sefialados presente convenio clausula novena representantes coordinadores efectos ejecucion seguimiento supervision presente convenio partes acuerdan designar representantes coordinadores siguientes personas porla decano facultad medicina veterinaria zootecnia universidad nacional altiplano municipalidad subgerente subgerencia promocin empresarial desarrollo econmico rural municipalidad provincial persona cticial designada alcalde provincial ypdau elausula decima solucion controversias partes acuerdan presente convenio cooperacion leyes peruanas celebra acuerdo reglas buena comun intencin partes espiritu partes celebrantes trataran posible resolver cualquier desavenencia diferencia criterios pudieran presentar desarrollo ejecucin convenio mediante trato directo ccmun entendimiento sefial conformidad expresado presente convenio suscriben partes ejemplares identico valor firmandose ciudad enero alcalbe genriquez salas flores quispe ector alcalde versdad nacional altiplano municipalidad provincial cualquier asunto previsto expresamente presente convenio buscara resuelto mediante entendimiento partes orsteletd ueroual oruna better betetfeceigg senemmeaaruwummauntuum febrero vistos propuesta convenio cooperacion interinstitucional facultad medicina veterinaria zootecnia universidad nacional altiplano municipalidad provincial considerando medianie memorandum sguna cuenta convenio cooperacion interinstitucional facultad medicina veterinaria zootecnia universidad nacional altiplano municipalidad provincial mismo clausulas reune requisilos forma fondo susctito liene objeto arlicular complementar esfuerzos inferinstilucionales finalidad impulsat desatrotiar fortalecer actividades mejoramiento gentico llamas distritos altoandings provincia tarea universidad nacional altiplano propiciar organizare impfementar concertacion convenios fogre objetivos bienestar universitario finalidad cumplir fines intereses institucionales procurando mejor formacin profesional estudiantes conforme establece numeral universitaria aprobacin acuerdos convenios universidades extranjeras organismos gubernamentales internacionales olros invesligacion cientifica fecnoligica olros asuntos relacionados actividades universidad atribucion consejo universitario autorizado rector calidad personero legal superior estudios efecluar suscripcin mismo tenor dispuesto misme cuerpo legal concordante estatulo universitario respectivamente consejo universitario sesian extraordinaria enero aprobaco convenio cooperacion interinstitucional facultad medicina veterinaria zootecnia universidad nacional altiplano municipalidad provincial vigencia partir suscripcin mismo atribuciones eslatuto universitario universitaria resolucin asamblea universitaria transitoria autunap resolucion rectoral nruna confieren despacho rectorai universidad resuelve articulo primero aprobar convenic cooperacion interinstitucional facultad medicina veterinaria zootecnia universidad nacional altiplano municipalidad provincial mismo clausulas forma parte presente resolucion vigencia parlir suscripcion mismo articuio sequnda nominar responsable convenio especificade articulo primero decano facultad medicina veterinaria zoolecnia universidad nacional alliplanopung articulo tercero vicerrectorado acadmico oficina universitaria proyeccin social oficina general asesoria juridica oficina cooperacin nacional internacional respensable designado demas dependencias pertinentes instiucin quedan encargados cumplimiento presente nunez secretario general distribusion recktrado vicarectorados academ cheinas grates cooperation nacie intginaconal universdarta proyeccion socal responsabla archivev'"
            ],
            "application/vnd.google.colaboratory.intrinsic+json": {
              "type": "string"
            }
          },
          "metadata": {},
          "execution_count": 7
        }
      ]
    },
    {
      "cell_type": "code",
      "source": [
        "def separar_palabras(convenios):\n",
        "    palabras_separadas = []\n",
        "    for texto in convenios:\n",
        "        palabras = texto.split()\n",
        "        palabras_separadas.append(palabras)\n",
        "    return palabras_separadas\n",
        "\n",
        "palabras_separadas = separar_palabras(convenios_limpios)"
      ],
      "metadata": {
        "id": "_mlQu4HHAyUt"
      },
      "execution_count": 8,
      "outputs": []
    },
    {
      "cell_type": "code",
      "source": [
        "print(palabras_separadas[40])"
      ],
      "metadata": {
        "colab": {
          "base_uri": "https://localhost:8080/"
        },
        "id": "bO36xnrJ_8Nc",
        "outputId": "7b8b7211-0b68-4718-8382-6ea7917c8b52"
      },
      "execution_count": 9,
      "outputs": [
        {
          "output_type": "stream",
          "name": "stdout",
          "text": [
            "['convenio', 'cooperacion', 'interinstitucional', 'universidad', 'nacional', 'altiplano', 'municipalidad', 'provincial', 'departamento', 'conste', 'presente', 'documento', 'convenio', 'cooperacion', 'interinstitucional', 'celebran', 'parte', 'universidad', 'nacional', 'altiplano', 'domicilio', 'legal', 'distrito', 'provincia', 'departamento', 'debidamente', 'representada', 'alcalde', 'flores', 'quispe', 'identificado', 'elegido', 'sufragio', 'directo', 'proclamado', 'jurado', 'nacional', 'elecciones', 'alcalde', 'provincia', 'departamento', 'periodo', 'adelante', 'denominara', 'municipalidad', 'terminos', 'nxiiiones', 'siguientes', 'clausula', 'primera', 'partes', 'suscriben', 'creada', 'mediante', 'agosto', 'institucion', 'educacion', 'superior', 'integrada', 'docentes', 'estudiantes', 'graduados', 'mision', 'desarrollar', 'conocimiento', 'cientifico', 'tecnolgico', 'humanistico', 'formar', 'profesionales', 'graduados', 'calificados', 'excelencia', 'academica', 'capacidad', 'competitiva', 'gestion', 'proponer', 'elaborar', 'ejecutar', 'alternativas', 'integrales', 'desarrollo', 'regional', 'nacional', 'igual', 'manera', 'universidad', 'nacional', 'altiplano', 'persona', 'juridica', 'derecho', 'publico', 'interno', 'ciudad', 'personeria', 'representacion', 'legal', 'ejercida', 'rector', 'municipalidad', 'organo', 'gobierno', 'promotor', 'desarrollo', 'local', 'personeria', 'juridica', 'derecho', 'publico', 'posee', 'autonomia', 'politica', 'econdmica', 'administrativa', 'asuntos', 'competencia', 'finalidad', 'representar', 'vecindario', 'promover', 'adecuada', 'prestacion', 'servicios', 'publicos', 'locales', 'desarrollo', 'integral', 'sostenible', 'armonico', 'circunscripcion', 'conformidad', 'articulo', 'constitucion', 'politica', 'cuyas', 'competencias', 'funciones', 'estan', 'contenidas', 'organica', 'municipalidades', 'modificatorias', 'clausula', 'segunda', 'marco', 'legal', 'constitucion', 'politica', 'modificatorias', 'organica', 'poder', 'ejecutivo', 'procedimiento', 'aministrativo', 'legal', 'modificatorias', 'universitaria', 'universidad', 'nacional', 'altiplano', 'organica', 'municipalidades', 'partes', 'acuerdan', 'listado', 'precedente', 'caracter', 'anunciativo', 'limitativo', 'aplicacion', 'gegun', 'especilaidad', 'metrria', 'actividad', 'desarrollarse', 'partes', 'estan', 'comprometidas', 'desarrollo', 'region', 'especialmente', 'referido', 'sector', 'pecuario', 'desarrollarse', 'provincia', 'temas', 'recursos', 'ganaderia', 'camelida', 'fortaleciendo', 'capacidades', 'organizaciones', 'productoras', 'llamas', 'generando', 'cultura', 'seguridad', 'alimentaria', 'mejores', 'ingresos', 'economicos', 'organizaciones', 'productoras', 'alpacas', 'llamas', 'provincia', 'partes', 'objetivos', 'comunes', 'implementacion', 'propuestas', 'proyectos', 'orientados', 'desarrollo', 'actividad', 'pecuaria', 'distritos', 'provincia', 'cuenten', 'recursos', 'adecuados', 'produccin', 'camlida', 'aquellas', 'poblaciones', 'encuentren', 'zonas', 'limitrofes', 'interdepartamentales', 'necesario', 'realizar', 'sinergias', 'coordinaciones', 'ambas', 'instituciones', 'fortalecer', 'desarrollar', 'actividades', 'tendientes', 'mejorar', 'explotacion', 'alpacas', 'llamas', 'existente', 'zonas', 'intervencion', 'clausula', 'cuarta', 'objetivos', 'convenio', 'presente', 'convenio', 'cooperacion', 'interinstitucional', 'objetivo', 'establecer', 'alianza', 'estrategica', 'travs', 'facultad', 'medicina', 'veterinaria', 'zootecnia', 'municipalidad', 'articular', 'complementar', 'esfuerzos', 'interinstitucionales', 'finalidad', 'impulsar', 'desarrollar', 'fortalecer', 'actividades', 'mejoramiento', 'genetico', 'llamas', 'distritos', 'altoandinos', 'provincia', 'iniciandose', 'materializacion', 'convenio', 'comunidades', 'charamaya', 'qquemilluni', 'copani', 'rosario', 'oghaupiayllu', 'tolapalca', 'andamarca', 'centro', 'poblado', 'charamaya', 'distrito', 'manazo', 'provincia', 'cuyas', 'organizaciones', 'productores', 'camlidos', 'cuenten', 'predisposicion', 'necesaria', 'objetivos', 'siguientes', 'apoyar', 'promover', 'investigacion', 'ejecucion', 'desarrollo', 'planes', 'trabajo', 'acciones', 'proyectos', 'fortalecimiento', 'capacidades', 'productivas', 'alpacas', 'llamas', 'orientadas', 'mejorar', 'niveles', 'socioecondmicos', 'comunidades', 'campesinas', 'componentes', 'centro', 'poblado', 'charamaya', 'distrito', 'mafiazo', 'provincia', 'iniciar', 'actividades', 'mejoramiento', 'genetico', 'basico', 'primario', 'llamas', 'comunidades', 'charamaya', 'qquemilluni', 'copani', 'rosario', 'chaupiayllu', 'andamarca', 'centro', 'poblado', 'charamaya', 'distrito', 'mafazo', 'provincia', 'sistematizar', 'experiencias', 'locales', 'procesos', 'productivos', 'necesario', 'investigar', 'mejorar', 'procesos', 'productivos', 'llamas', 'clausula', 'quinta', 'compromiso', 'partes', 'obliga', 'realizar', 'travs', 'facultad', 'medicina', 'veterinaria', 'zootecnia', 'conjuntamente', 'representantes', 'municipio', 'provincial', 'diagnostico', 'potencialidades', 'recursos', 'naturales', 'camlidos', 'identificando', 'organizaciones', 'recursos', 'adecuados', 'iniciativas', 'mejor', 'produccion', 'llamas', 'comunidades', 'campesinas', 'componen', 'centro', 'poblado', 'charamaya', 'distrito', 'mafiazo', 'provincia', 'brindar', 'asistencia', 'tecnica', 'procesos', 'competen', 'mejora', 'gentica', 'llamas', 'areas', 'intervencion', 'presente', 'convenio', 'estara', 'considerado', 'trabajo', 'correspondiente', 'facilitar', 'calidad', 'prstamo', 'municipio', 'provincial', 'reproductores', 'llamas', 'numero', 'calidades', 'razas', 'estaran', 'acuerdo', 'diagnostico', 'potencialidades', 'recursos', 'naturales', 'camelidos', 'realizarse', 'comunidades', 'campesinas', 'organizaciones', 'centro', 'poblado', 'charamaya', 'mismo', 'tiempo', 'prestamo', 'meses', 'enero', 'marzo', 'establecer', 'mecanismo', 'monitoreo', 'seguimiento', 'evaluacion', 'desarrollo', 'actividades', 'realizar', 'municipalidad', 'obliga', 'otorgar', 'facilidades', 'llevar', 'actividades', 'requeridas', 'travs', 'facultad', 'medicina', 'veterinaria', 'zootecnia', 'cumplimento', 'objetivos', 'metas', 'previstas', 'responsabilizarse', 'ciudado', 'integridad', 'reproductores', 'llamas', 'entregadas', 'prstamo', 'haran', 'entrega', 'documentadamente', 'autoridades', 'comunidades', 'centro', 'poblado', 'charamaya', 'promover', 'investigaciones', 'cursos', 'talleres', 'necesarios', 'fortalecer', 'produccin', 'camelidos', 'organizaciones', 'centro', 'poblado', 'charamaya', 'distrito', 'mafiazo', 'provincia', 'participar', 'activamente', 'desarrollo', 'propuestas', 'ampliacion', 'servicios', 'concernientes', 'mejora', 'gentica', 'produccion', 'camlidos', 'intervencion', 'resulten', 'necesarias', 'logro', 'objetivos', 'convenio', 'lausula', 'sexta', 'vigencia', 'presente', 'convenio', 'tendra', 'plazo', 'duracion', 'partir', 'fecha', 'suscripcion', 'lapso', 'podra', 'impartir', 'cursos', 'capacitacion', 'realizar', 'investigaciones', 'camelidos', 'pasturas', 'temas', 'relacionados', 'pudiera', 'priorizado', 'comunidades', 'campesinas', 'involucradas', 'presente', 'convenio', 'aclara', 'siendo', 'epoca', 'empadre', 'llamas', 'meses', 'enero', 'febrero', 'marzo', 'principalmente', 'reproductores', 'iniciaran', 'empadre', 'rebafios', 'llamas', 'comunidades', 'charamaya', 'enero', 'debindose', 'retornar', 'animales', 'marzo', 'centro', 'investigacion', 'facultad', 'medicina', 'veterinaria', 'zootecnia', 'universidad', 'nacional', 'altiplano', 'vigencia', 'convenio', 'puede', 'renovado', 'previo', 'acuerdo', 'partes', 'acuerdo', 'suscribirse', 'rector', 'alcalde', 'municipalidad', 'provincial', 'clausula', 'septima', 'presupuesto', 'siguiente', 'presupuesto', 'invertira', 'municipio', 'finalidad', 'formule', 'mejoramiento', 'genetico', 'llamas', 'apoye', 'tcnicamente', 'empadre', 'controlado', 'llamas', 'apoyar', 'arantizar', 'integridad', 'reproductores', 'cuadro', 'reserves', 'cronograma', 'actividades', 'realizacion', 'trabajo', 'pecaey', 'enero', 'marzo', 'unidad', 'cargoservicio', 'cantidad', 'medida', 'servicios', 'profesionales', 'propinas', 'servicios', 'especializados', 'profesionales', 'meses', 'persona', 'febrero', 'vidticos', 'propinas', 'bachilleres', 'tesistas', 'practicantes', 'labor', 'meses', 'persona', 'enero', 'marzo', 'persona', 'traslado', 'reproductores', 'camidn', 'charamaya', 'viceversa', 'enero', 'marzo', 'unidad', 'unidad', 'supervisin', 'actividades', 'combustible', 'camioneta', 'municipio', 'lnives', 'presupuesto', 'total', 'partes', 'podran', 'introducir', 'modificaciones', 'presente', 'convenio', 'resultado', 'evaluaciones', 'periddicas', 'realicen', 'tiempo', 'vigencia', 'clausula', 'octava', 'resolucion', 'presente', 'convenio', 'podra', 'resuelto', 'vencimiento', 'previo', 'acuerdo', 'partes', 'incumplimiento', 'alguno', 'compromisos', 'asumidos', 'presente', 'convenio', 'causal', 'resolucion', 'mismo', 'debera', 'comunicarse', 'quince', 'calendarios', 'anticipacion', 'domicilios', 'sefialados', 'presente', 'convenio', 'clausula', 'novena', 'representantes', 'coordinadores', 'efectos', 'ejecucion', 'seguimiento', 'supervision', 'presente', 'convenio', 'partes', 'acuerdan', 'designar', 'representantes', 'coordinadores', 'siguientes', 'personas', 'porla', 'decano', 'facultad', 'medicina', 'veterinaria', 'zootecnia', 'universidad', 'nacional', 'altiplano', 'municipalidad', 'subgerente', 'subgerencia', 'promocin', 'empresarial', 'desarrollo', 'econmico', 'rural', 'municipalidad', 'provincial', 'persona', 'cticial', 'designada', 'alcalde', 'provincial', 'ypdau', 'elausula', 'decima', 'solucion', 'controversias', 'partes', 'acuerdan', 'presente', 'convenio', 'cooperacion', 'leyes', 'peruanas', 'celebra', 'acuerdo', 'reglas', 'buena', 'comun', 'intencin', 'partes', 'espiritu', 'partes', 'celebrantes', 'trataran', 'posible', 'resolver', 'cualquier', 'desavenencia', 'diferencia', 'criterios', 'pudieran', 'presentar', 'desarrollo', 'ejecucin', 'convenio', 'mediante', 'trato', 'directo', 'ccmun', 'entendimiento', 'sefial', 'conformidad', 'expresado', 'presente', 'convenio', 'suscriben', 'partes', 'ejemplares', 'identico', 'valor', 'firmandose', 'ciudad', 'enero', 'alcalbe', 'genriquez', 'salas', 'flores', 'quispe', 'ector', 'alcalde', 'versdad', 'nacional', 'altiplano', 'municipalidad', 'provincial', 'cualquier', 'asunto', 'previsto', 'expresamente', 'presente', 'convenio', 'buscara', 'resuelto', 'mediante', 'entendimiento', 'partes', 'orsteletd', 'ueroual', 'oruna', 'better', 'betetfeceigg', 'senemmeaaruwummauntuum', 'febrero', 'vistos', 'propuesta', 'convenio', 'cooperacion', 'interinstitucional', 'facultad', 'medicina', 'veterinaria', 'zootecnia', 'universidad', 'nacional', 'altiplano', 'municipalidad', 'provincial', 'considerando', 'medianie', 'memorandum', 'sguna', 'cuenta', 'convenio', 'cooperacion', 'interinstitucional', 'facultad', 'medicina', 'veterinaria', 'zootecnia', 'universidad', 'nacional', 'altiplano', 'municipalidad', 'provincial', 'mismo', 'clausulas', 'reune', 'requisilos', 'forma', 'fondo', 'susctito', 'liene', 'objeto', 'arlicular', 'complementar', 'esfuerzos', 'inferinstilucionales', 'finalidad', 'impulsat', 'desatrotiar', 'fortalecer', 'actividades', 'mejoramiento', 'gentico', 'llamas', 'distritos', 'altoandings', 'provincia', 'tarea', 'universidad', 'nacional', 'altiplano', 'propiciar', 'organizare', 'impfementar', 'concertacion', 'convenios', 'fogre', 'objetivos', 'bienestar', 'universitario', 'finalidad', 'cumplir', 'fines', 'intereses', 'institucionales', 'procurando', 'mejor', 'formacin', 'profesional', 'estudiantes', 'conforme', 'establece', 'numeral', 'universitaria', 'aprobacin', 'acuerdos', 'convenios', 'universidades', 'extranjeras', 'organismos', 'gubernamentales', 'internacionales', 'olros', 'invesligacion', 'cientifica', 'fecnoligica', 'olros', 'asuntos', 'relacionados', 'actividades', 'universidad', 'atribucion', 'consejo', 'universitario', 'autorizado', 'rector', 'calidad', 'personero', 'legal', 'superior', 'estudios', 'efecluar', 'suscripcin', 'mismo', 'tenor', 'dispuesto', 'misme', 'cuerpo', 'legal', 'concordante', 'estatulo', 'universitario', 'respectivamente', 'consejo', 'universitario', 'sesian', 'extraordinaria', 'enero', 'aprobaco', 'convenio', 'cooperacion', 'interinstitucional', 'facultad', 'medicina', 'veterinaria', 'zootecnia', 'universidad', 'nacional', 'altiplano', 'municipalidad', 'provincial', 'vigencia', 'partir', 'suscripcin', 'mismo', 'atribuciones', 'eslatuto', 'universitario', 'universitaria', 'resolucin', 'asamblea', 'universitaria', 'transitoria', 'autunap', 'resolucion', 'rectoral', 'nruna', 'confieren', 'despacho', 'rectorai', 'universidad', 'resuelve', 'articulo', 'primero', 'aprobar', 'convenic', 'cooperacion', 'interinstitucional', 'facultad', 'medicina', 'veterinaria', 'zootecnia', 'universidad', 'nacional', 'altiplano', 'municipalidad', 'provincial', 'mismo', 'clausulas', 'forma', 'parte', 'presente', 'resolucion', 'vigencia', 'parlir', 'suscripcion', 'mismo', 'articuio', 'sequnda', 'nominar', 'responsable', 'convenio', 'especificade', 'articulo', 'primero', 'decano', 'facultad', 'medicina', 'veterinaria', 'zoolecnia', 'universidad', 'nacional', 'alliplanopung', 'articulo', 'tercero', 'vicerrectorado', 'acadmico', 'oficina', 'universitaria', 'proyeccin', 'social', 'oficina', 'general', 'asesoria', 'juridica', 'oficina', 'cooperacin', 'nacional', 'internacional', 'respensable', 'designado', 'demas', 'dependencias', 'pertinentes', 'instiucin', 'quedan', 'encargados', 'cumplimiento', 'presente', 'nunez', 'secretario', 'general', 'distribusion', 'recktrado', 'vicarectorados', 'academ', 'cheinas', 'grates', 'cooperation', 'nacie', 'intginaconal', 'universdarta', 'proyeccion', 'socal', 'responsabla', 'archivev']\n"
          ]
        }
      ]
    },
    {
      "cell_type": "code",
      "source": [
        "len(palabras_separadas[40])"
      ],
      "metadata": {
        "colab": {
          "base_uri": "https://localhost:8080/"
        },
        "id": "wy4RE9nrBs5N",
        "outputId": "3bfac765-4e0d-4e3c-8c53-588c59e674e6"
      },
      "execution_count": 10,
      "outputs": [
        {
          "output_type": "execute_result",
          "data": {
            "text/plain": [
              "1072"
            ]
          },
          "metadata": {},
          "execution_count": 10
        }
      ]
    },
    {
      "cell_type": "code",
      "source": [
        "import nltk\n",
        "nltk.download('wordnet')"
      ],
      "metadata": {
        "colab": {
          "base_uri": "https://localhost:8080/"
        },
        "id": "xFquCRAgAyI_",
        "outputId": "19978240-53ab-435c-dee7-d5251ec9b0df"
      },
      "execution_count": 11,
      "outputs": [
        {
          "output_type": "stream",
          "name": "stderr",
          "text": [
            "[nltk_data] Downloading package wordnet to /root/nltk_data...\n",
            "[nltk_data]   Package wordnet is already up-to-date!\n"
          ]
        },
        {
          "output_type": "execute_result",
          "data": {
            "text/plain": [
              "True"
            ]
          },
          "metadata": {},
          "execution_count": 11
        }
      ]
    },
    {
      "cell_type": "code",
      "source": [
        "from nltk.stem import WordNetLemmatizer\n",
        "\n",
        "def lematizar_palabras(arreglo_palabras):\n",
        "    lematizador = WordNetLemmatizer()\n",
        "    palabras_lematizadas = []\n",
        "    for palabras in arreglo_palabras:\n",
        "        palabras_lematizadas.append([lematizador.lemmatize(palabra) for palabra in palabras])\n",
        "    return palabras_lematizadas\n",
        "\n",
        "arreglo_lematizado = lematizar_palabras(palabras_separadas)"
      ],
      "metadata": {
        "id": "aS7IwI0yAyGt"
      },
      "execution_count": 12,
      "outputs": []
    },
    {
      "cell_type": "code",
      "source": [
        "print(arreglo_lematizado[40])"
      ],
      "metadata": {
        "colab": {
          "base_uri": "https://localhost:8080/"
        },
        "id": "DybANYyG4pMF",
        "outputId": "8fb477de-da94-432c-96b3-ad25fd3e20a7"
      },
      "execution_count": 13,
      "outputs": [
        {
          "output_type": "stream",
          "name": "stdout",
          "text": [
            "['convenio', 'cooperacion', 'interinstitucional', 'universidad', 'nacional', 'altiplano', 'municipalidad', 'provincial', 'departamento', 'conste', 'presente', 'documento', 'convenio', 'cooperacion', 'interinstitucional', 'celebran', 'parte', 'universidad', 'nacional', 'altiplano', 'domicilio', 'legal', 'distrito', 'provincia', 'departamento', 'debidamente', 'representada', 'alcalde', 'flores', 'quispe', 'identificado', 'elegido', 'sufragio', 'directo', 'proclamado', 'jurado', 'nacional', 'elecciones', 'alcalde', 'provincia', 'departamento', 'periodo', 'adelante', 'denominara', 'municipalidad', 'terminos', 'nxiiiones', 'siguientes', 'clausula', 'primera', 'partes', 'suscriben', 'creada', 'mediante', 'agosto', 'institucion', 'educacion', 'superior', 'integrada', 'docentes', 'estudiantes', 'graduados', 'mision', 'desarrollar', 'conocimiento', 'cientifico', 'tecnolgico', 'humanistico', 'formar', 'profesionales', 'graduados', 'calificados', 'excelencia', 'academica', 'capacidad', 'competitiva', 'gestion', 'proponer', 'elaborar', 'ejecutar', 'alternativas', 'integrales', 'desarrollo', 'regional', 'nacional', 'igual', 'manera', 'universidad', 'nacional', 'altiplano', 'persona', 'juridica', 'derecho', 'publico', 'interno', 'ciudad', 'personeria', 'representacion', 'legal', 'ejercida', 'rector', 'municipalidad', 'organo', 'gobierno', 'promotor', 'desarrollo', 'local', 'personeria', 'juridica', 'derecho', 'publico', 'posee', 'autonomia', 'politica', 'econdmica', 'administrativa', 'asuntos', 'competencia', 'finalidad', 'representar', 'vecindario', 'promover', 'adecuada', 'prestacion', 'servicios', 'publicos', 'locale', 'desarrollo', 'integral', 'sostenible', 'armonico', 'circunscripcion', 'conformidad', 'articulo', 'constitucion', 'politica', 'cuyas', 'competencias', 'funciones', 'estan', 'contenidas', 'organica', 'municipalidades', 'modificatorias', 'clausula', 'segunda', 'marco', 'legal', 'constitucion', 'politica', 'modificatorias', 'organica', 'poder', 'ejecutivo', 'procedimiento', 'aministrativo', 'legal', 'modificatorias', 'universitaria', 'universidad', 'nacional', 'altiplano', 'organica', 'municipalidades', 'partes', 'acuerdan', 'listado', 'precedente', 'caracter', 'anunciativo', 'limitativo', 'aplicacion', 'gegun', 'especilaidad', 'metrria', 'actividad', 'desarrollarse', 'partes', 'estan', 'comprometidas', 'desarrollo', 'region', 'especialmente', 'referido', 'sector', 'pecuario', 'desarrollarse', 'provincia', 'temas', 'recursos', 'ganaderia', 'camelida', 'fortaleciendo', 'capacidades', 'organizaciones', 'productoras', 'llama', 'generando', 'cultura', 'seguridad', 'alimentaria', 'mejores', 'ingresos', 'economicos', 'organizaciones', 'productoras', 'alpaca', 'llama', 'provincia', 'partes', 'objetivos', 'comunes', 'implementacion', 'propuestas', 'proyectos', 'orientados', 'desarrollo', 'actividad', 'pecuaria', 'distritos', 'provincia', 'cuenten', 'recursos', 'adecuados', 'produccin', 'camlida', 'aquellas', 'poblaciones', 'encuentren', 'zona', 'limitrofes', 'interdepartamentales', 'necesario', 'realizar', 'sinergias', 'coordinaciones', 'ambas', 'instituciones', 'fortalecer', 'desarrollar', 'actividades', 'tendientes', 'mejorar', 'explotacion', 'alpaca', 'llama', 'existente', 'zona', 'intervencion', 'clausula', 'cuarta', 'objetivos', 'convenio', 'presente', 'convenio', 'cooperacion', 'interinstitucional', 'objetivo', 'establecer', 'alianza', 'estrategica', 'travs', 'facultad', 'medicina', 'veterinaria', 'zootecnia', 'municipalidad', 'articular', 'complementar', 'esfuerzos', 'interinstitucionales', 'finalidad', 'impulsar', 'desarrollar', 'fortalecer', 'actividades', 'mejoramiento', 'genetico', 'llama', 'distritos', 'altoandinos', 'provincia', 'iniciandose', 'materializacion', 'convenio', 'comunidades', 'charamaya', 'qquemilluni', 'copani', 'rosario', 'oghaupiayllu', 'tolapalca', 'andamarca', 'centro', 'poblado', 'charamaya', 'distrito', 'manazo', 'provincia', 'cuyas', 'organizaciones', 'productores', 'camlidos', 'cuenten', 'predisposicion', 'necesaria', 'objetivos', 'siguientes', 'apoyar', 'promover', 'investigacion', 'ejecucion', 'desarrollo', 'plane', 'trabajo', 'acciones', 'proyectos', 'fortalecimiento', 'capacidades', 'productivas', 'alpaca', 'llama', 'orientadas', 'mejorar', 'niveles', 'socioecondmicos', 'comunidades', 'campesinas', 'componentes', 'centro', 'poblado', 'charamaya', 'distrito', 'mafiazo', 'provincia', 'iniciar', 'actividades', 'mejoramiento', 'genetico', 'basico', 'primario', 'llama', 'comunidades', 'charamaya', 'qquemilluni', 'copani', 'rosario', 'chaupiayllu', 'andamarca', 'centro', 'poblado', 'charamaya', 'distrito', 'mafazo', 'provincia', 'sistematizar', 'experiencias', 'locale', 'procesos', 'productivos', 'necesario', 'investigar', 'mejorar', 'procesos', 'productivos', 'llama', 'clausula', 'quinta', 'compromiso', 'partes', 'obliga', 'realizar', 'travs', 'facultad', 'medicina', 'veterinaria', 'zootecnia', 'conjuntamente', 'representantes', 'municipio', 'provincial', 'diagnostico', 'potencialidades', 'recursos', 'naturales', 'camlidos', 'identificando', 'organizaciones', 'recursos', 'adecuados', 'iniciativas', 'mejor', 'produccion', 'llama', 'comunidades', 'campesinas', 'componen', 'centro', 'poblado', 'charamaya', 'distrito', 'mafiazo', 'provincia', 'brindar', 'asistencia', 'tecnica', 'procesos', 'competen', 'mejora', 'gentica', 'llama', 'area', 'intervencion', 'presente', 'convenio', 'estara', 'considerado', 'trabajo', 'correspondiente', 'facilitar', 'calidad', 'prstamo', 'municipio', 'provincial', 'reproductores', 'llama', 'numero', 'calidades', 'razas', 'estaran', 'acuerdo', 'diagnostico', 'potencialidades', 'recursos', 'naturales', 'camelidos', 'realizarse', 'comunidades', 'campesinas', 'organizaciones', 'centro', 'poblado', 'charamaya', 'mismo', 'tiempo', 'prestamo', 'me', 'enero', 'marzo', 'establecer', 'mecanismo', 'monitoreo', 'seguimiento', 'evaluacion', 'desarrollo', 'actividades', 'realizar', 'municipalidad', 'obliga', 'otorgar', 'facilidades', 'llevar', 'actividades', 'requeridas', 'travs', 'facultad', 'medicina', 'veterinaria', 'zootecnia', 'cumplimento', 'objetivos', 'metas', 'previstas', 'responsabilizarse', 'ciudado', 'integridad', 'reproductores', 'llama', 'entregadas', 'prstamo', 'haran', 'entrega', 'documentadamente', 'autoridades', 'comunidades', 'centro', 'poblado', 'charamaya', 'promover', 'investigaciones', 'cursos', 'talleres', 'necesarios', 'fortalecer', 'produccin', 'camelidos', 'organizaciones', 'centro', 'poblado', 'charamaya', 'distrito', 'mafiazo', 'provincia', 'participar', 'activamente', 'desarrollo', 'propuestas', 'ampliacion', 'servicios', 'concernientes', 'mejora', 'gentica', 'produccion', 'camlidos', 'intervencion', 'resulten', 'necesarias', 'logro', 'objetivos', 'convenio', 'lausula', 'sexta', 'vigencia', 'presente', 'convenio', 'tendra', 'plazo', 'duracion', 'partir', 'fecha', 'suscripcion', 'lapso', 'podra', 'impartir', 'cursos', 'capacitacion', 'realizar', 'investigaciones', 'camelidos', 'pasturas', 'temas', 'relacionados', 'pudiera', 'priorizado', 'comunidades', 'campesinas', 'involucradas', 'presente', 'convenio', 'aclara', 'siendo', 'epoca', 'empadre', 'llama', 'me', 'enero', 'febrero', 'marzo', 'principalmente', 'reproductores', 'iniciaran', 'empadre', 'rebafios', 'llama', 'comunidades', 'charamaya', 'enero', 'debindose', 'retornar', 'animales', 'marzo', 'centro', 'investigacion', 'facultad', 'medicina', 'veterinaria', 'zootecnia', 'universidad', 'nacional', 'altiplano', 'vigencia', 'convenio', 'puede', 'renovado', 'previo', 'acuerdo', 'partes', 'acuerdo', 'suscribirse', 'rector', 'alcalde', 'municipalidad', 'provincial', 'clausula', 'septima', 'presupuesto', 'siguiente', 'presupuesto', 'invertira', 'municipio', 'finalidad', 'formule', 'mejoramiento', 'genetico', 'llama', 'apoye', 'tcnicamente', 'empadre', 'controlado', 'llama', 'apoyar', 'arantizar', 'integridad', 'reproductores', 'cuadro', 'reserve', 'cronograma', 'actividades', 'realizacion', 'trabajo', 'pecaey', 'enero', 'marzo', 'unidad', 'cargoservicio', 'cantidad', 'medida', 'servicios', 'profesionales', 'propinas', 'servicios', 'especializados', 'profesionales', 'me', 'persona', 'febrero', 'vidticos', 'propinas', 'bachilleres', 'tesistas', 'practicantes', 'labor', 'me', 'persona', 'enero', 'marzo', 'persona', 'traslado', 'reproductores', 'camidn', 'charamaya', 'viceversa', 'enero', 'marzo', 'unidad', 'unidad', 'supervisin', 'actividades', 'combustible', 'camioneta', 'municipio', 'lnives', 'presupuesto', 'total', 'partes', 'podran', 'introducir', 'modificaciones', 'presente', 'convenio', 'resultado', 'evaluaciones', 'periddicas', 'realicen', 'tiempo', 'vigencia', 'clausula', 'octava', 'resolucion', 'presente', 'convenio', 'podra', 'resuelto', 'vencimiento', 'previo', 'acuerdo', 'partes', 'incumplimiento', 'alguno', 'compromisos', 'asumidos', 'presente', 'convenio', 'causal', 'resolucion', 'mismo', 'debera', 'comunicarse', 'quince', 'calendarios', 'anticipacion', 'domicilios', 'sefialados', 'presente', 'convenio', 'clausula', 'novena', 'representantes', 'coordinadores', 'efectos', 'ejecucion', 'seguimiento', 'supervision', 'presente', 'convenio', 'partes', 'acuerdan', 'designar', 'representantes', 'coordinadores', 'siguientes', 'persona', 'porla', 'decano', 'facultad', 'medicina', 'veterinaria', 'zootecnia', 'universidad', 'nacional', 'altiplano', 'municipalidad', 'subgerente', 'subgerencia', 'promocin', 'empresarial', 'desarrollo', 'econmico', 'rural', 'municipalidad', 'provincial', 'persona', 'cticial', 'designada', 'alcalde', 'provincial', 'ypdau', 'elausula', 'decima', 'solucion', 'controversias', 'partes', 'acuerdan', 'presente', 'convenio', 'cooperacion', 'leyes', 'peruanas', 'celebra', 'acuerdo', 'reglas', 'buena', 'comun', 'intencin', 'partes', 'espiritu', 'partes', 'celebrantes', 'trataran', 'posible', 'resolver', 'cualquier', 'desavenencia', 'diferencia', 'criterios', 'pudieran', 'presentar', 'desarrollo', 'ejecucin', 'convenio', 'mediante', 'trato', 'directo', 'ccmun', 'entendimiento', 'sefial', 'conformidad', 'expresado', 'presente', 'convenio', 'suscriben', 'partes', 'ejemplares', 'identico', 'valor', 'firmandose', 'ciudad', 'enero', 'alcalbe', 'genriquez', 'salas', 'flores', 'quispe', 'ector', 'alcalde', 'versdad', 'nacional', 'altiplano', 'municipalidad', 'provincial', 'cualquier', 'asunto', 'previsto', 'expresamente', 'presente', 'convenio', 'buscara', 'resuelto', 'mediante', 'entendimiento', 'partes', 'orsteletd', 'ueroual', 'oruna', 'better', 'betetfeceigg', 'senemmeaaruwummauntuum', 'febrero', 'vistos', 'propuesta', 'convenio', 'cooperacion', 'interinstitucional', 'facultad', 'medicina', 'veterinaria', 'zootecnia', 'universidad', 'nacional', 'altiplano', 'municipalidad', 'provincial', 'considerando', 'medianie', 'memorandum', 'sguna', 'cuenta', 'convenio', 'cooperacion', 'interinstitucional', 'facultad', 'medicina', 'veterinaria', 'zootecnia', 'universidad', 'nacional', 'altiplano', 'municipalidad', 'provincial', 'mismo', 'clausulas', 'reune', 'requisilos', 'forma', 'fondo', 'susctito', 'liene', 'objeto', 'arlicular', 'complementar', 'esfuerzos', 'inferinstilucionales', 'finalidad', 'impulsat', 'desatrotiar', 'fortalecer', 'actividades', 'mejoramiento', 'gentico', 'llama', 'distritos', 'altoandings', 'provincia', 'tarea', 'universidad', 'nacional', 'altiplano', 'propiciar', 'organizare', 'impfementar', 'concertacion', 'convenios', 'fogre', 'objetivos', 'bienestar', 'universitario', 'finalidad', 'cumplir', 'fine', 'intereses', 'institucionales', 'procurando', 'mejor', 'formacin', 'profesional', 'estudiantes', 'conforme', 'establece', 'numeral', 'universitaria', 'aprobacin', 'acuerdos', 'convenios', 'universidades', 'extranjeras', 'organismos', 'gubernamentales', 'internacionales', 'olros', 'invesligacion', 'cientifica', 'fecnoligica', 'olros', 'asuntos', 'relacionados', 'actividades', 'universidad', 'atribucion', 'consejo', 'universitario', 'autorizado', 'rector', 'calidad', 'personero', 'legal', 'superior', 'estudios', 'efecluar', 'suscripcin', 'mismo', 'tenor', 'dispuesto', 'misme', 'cuerpo', 'legal', 'concordante', 'estatulo', 'universitario', 'respectivamente', 'consejo', 'universitario', 'sesian', 'extraordinaria', 'enero', 'aprobaco', 'convenio', 'cooperacion', 'interinstitucional', 'facultad', 'medicina', 'veterinaria', 'zootecnia', 'universidad', 'nacional', 'altiplano', 'municipalidad', 'provincial', 'vigencia', 'partir', 'suscripcin', 'mismo', 'atribuciones', 'eslatuto', 'universitario', 'universitaria', 'resolucin', 'asamblea', 'universitaria', 'transitoria', 'autunap', 'resolucion', 'rectoral', 'nruna', 'confieren', 'despacho', 'rectorai', 'universidad', 'resuelve', 'articulo', 'primero', 'aprobar', 'convenic', 'cooperacion', 'interinstitucional', 'facultad', 'medicina', 'veterinaria', 'zootecnia', 'universidad', 'nacional', 'altiplano', 'municipalidad', 'provincial', 'mismo', 'clausulas', 'forma', 'parte', 'presente', 'resolucion', 'vigencia', 'parlir', 'suscripcion', 'mismo', 'articuio', 'sequnda', 'nominar', 'responsable', 'convenio', 'especificade', 'articulo', 'primero', 'decano', 'facultad', 'medicina', 'veterinaria', 'zoolecnia', 'universidad', 'nacional', 'alliplanopung', 'articulo', 'tercero', 'vicerrectorado', 'acadmico', 'oficina', 'universitaria', 'proyeccin', 'social', 'oficina', 'general', 'asesoria', 'juridica', 'oficina', 'cooperacin', 'nacional', 'internacional', 'respensable', 'designado', 'demas', 'dependencias', 'pertinentes', 'instiucin', 'quedan', 'encargados', 'cumplimiento', 'presente', 'nunez', 'secretario', 'general', 'distribusion', 'recktrado', 'vicarectorados', 'academ', 'cheinas', 'grate', 'cooperation', 'nacie', 'intginaconal', 'universdarta', 'proyeccion', 'socal', 'responsabla', 'archivev']\n"
          ]
        }
      ]
    },
    {
      "cell_type": "code",
      "source": [
        "from collections import Counter\n",
        "\n",
        "def calcular_frecuencia_palabras(arreglo_palabras):\n",
        "    # Unir todas las palabras en un solo arreglo\n",
        "    palabras = [palabra for sublist in arreglo_palabras for palabra in sublist]\n",
        "\n",
        "    # Calcular la frecuencia de cada palabra\n",
        "    frecuencia_palabras = Counter(palabras)\n",
        "\n",
        "    return frecuencia_palabras"
      ],
      "metadata": {
        "id": "2Bod6iA8AyET"
      },
      "execution_count": 14,
      "outputs": []
    },
    {
      "cell_type": "code",
      "source": [
        "# Calcular la frecuencia de palabras en el arreglo lematizado\n",
        "frecuencia_palabras = calcular_frecuencia_palabras(arreglo_lematizado)\n",
        "# Mostrar las palabras más frecuentes\n",
        "palabras_mas_frecuentes = frecuencia_palabras.most_common(40)\n",
        "print(palabras_mas_frecuentes)"
      ],
      "metadata": {
        "colab": {
          "base_uri": "https://localhost:8080/"
        },
        "id": "yX2iZljqAyB8",
        "outputId": "67da0ddf-98c7-43d0-fcfb-17186f0e987a"
      },
      "execution_count": 15,
      "outputs": [
        {
          "output_type": "stream",
          "name": "stdout",
          "text": [
            "[('convenio', 8999), ('universidad', 7629), ('nacional', 6547), ('presente', 5763), ('partes', 4821), ('altiplano', 4108), ('clausula', 3394), ('salud', 2718), ('parte', 2521), ('actividades', 2459), ('universitaria', 2406), ('facultad', 2369), ('marco', 2187), ('acuerdo', 2167), ('desarrollo', 2161), ('mismo', 2004), ('fecha', 1957), ('cooperacion', 1890), ('estudiantes', 1804), ('legal', 1783), ('general', 1772), ('mediante', 1709), ('articulo', 1645), ('universitario', 1641), ('vigencia', 1591), ('resolucin', 1468), ('cumplimiento', 1461), ('oficina', 1448), ('investigacion', 1393), ('forma', 1368), ('especifico', 1343), ('interinstitucional', 1335), ('resolucion', 1302), ('rector', 1301), ('regional', 1213), ('convenios', 1187), ('asistencial', 1178), ('profesionales', 1162), ('trabajo', 1141), ('social', 1102)]\n"
          ]
        }
      ]
    },
    {
      "cell_type": "code",
      "source": [
        "!python -m spacy download es_core_news_sm\n",
        "!pip install pyLDAvis"
      ],
      "metadata": {
        "id": "-ZgJu51y7PSp"
      },
      "execution_count": null,
      "outputs": []
    },
    {
      "cell_type": "code",
      "source": [
        "from pprint import pprint# Gensim\n",
        "import gensim\n",
        "import gensim.corpora as corpora\n",
        "from gensim.utils import simple_preprocess\n",
        "from gensim.models import CoherenceModel# spaCy for preprocessing\n",
        "import pyLDAvis\n",
        "import pyLDAvis.gensim\n",
        "import matplotlib.pyplot as plt\n",
        "%matplotlib inline"
      ],
      "metadata": {
        "id": "BliP5R-vAx_r"
      },
      "execution_count": 16,
      "outputs": []
    },
    {
      "cell_type": "code",
      "source": [
        "# Build the bigram and trigram models\n",
        "bigram = gensim.models.Phrases(arreglo_lematizado, min_count=5, threshold=50) # higher threshold fewer phrases.\n",
        "trigram = gensim.models.Phrases(bigram[arreglo_lematizado], threshold=50)\n",
        "# Faster way to get a sentence clubbed as a trigram/bigram\n",
        "bigram_mod = gensim.models.phrases.Phraser(bigram)\n",
        "trigram_mod = gensim.models.phrases.Phraser(trigram)\n",
        "# See trigram example\n",
        "print(trigram_mod[bigram_mod[arreglo_lematizado[40]]])"
      ],
      "metadata": {
        "id": "9GNHTSGJAx9D",
        "colab": {
          "base_uri": "https://localhost:8080/"
        },
        "outputId": "9c72780e-2ffc-4b1c-cd85-3b6708653f0f"
      },
      "execution_count": 17,
      "outputs": [
        {
          "output_type": "stream",
          "name": "stderr",
          "text": [
            "/usr/local/lib/python3.10/dist-packages/ipykernel/ipkernel.py:283: DeprecationWarning: `should_run_async` will not call `transform_cell` automatically in the future. Please pass the result to `transformed_cell` argument and any exception that happen during thetransform in `preprocessing_exc_tuple` in IPython 7.17 and above.\n",
            "  and should_run_async(code)\n"
          ]
        },
        {
          "output_type": "stream",
          "name": "stdout",
          "text": [
            "['convenio', 'cooperacion', 'interinstitucional', 'universidad', 'nacional', 'altiplano_municipalidad_provincial', 'departamento', 'conste', 'presente', 'documento', 'convenio', 'cooperacion', 'interinstitucional', 'celebran_parte', 'universidad', 'nacional', 'altiplano', 'domicilio_legal', 'distrito_provincia_departamento_debidamente', 'representada', 'alcalde', 'flores_quispe', 'identificado', 'elegido', 'sufragio', 'directo', 'proclamado', 'jurado', 'nacional', 'elecciones', 'alcalde', 'provincia_departamento', 'periodo', 'adelante_denominara', 'municipalidad', 'terminos', 'nxiiiones', 'siguientes', 'clausula', 'primera', 'partes', 'suscriben', 'creada_mediante_agosto', 'institucion', 'educacion_superior_integrada', 'docentes', 'estudiantes_graduados_mision', 'desarrollar_conocimiento_cientifico_tecnolgico', 'humanistico_formar_profesionales_graduados', 'calificados_excelencia', 'academica', 'capacidad_competitiva_gestion_proponer', 'elaborar_ejecutar_alternativas_integrales', 'desarrollo', 'regional', 'nacional', 'igual_manera_universidad', 'nacional', 'altiplano_persona_juridica', 'derecho_publico_interno_ciudad', 'personeria_representacion_legal', 'ejercida_rector_municipalidad_organo', 'gobierno_promotor', 'desarrollo_local_personeria', 'juridica_derecho_publico', 'posee', 'autonomia_politica', 'econdmica_administrativa_asuntos_competencia', 'finalidad_representar', 'vecindario_promover', 'adecuada_prestacion', 'servicios_publicos_locale', 'desarrollo', 'integral_sostenible_armonico', 'circunscripcion', 'conformidad', 'articulo', 'constitucion_politica', 'cuyas', 'competencias', 'funciones', 'estan', 'contenidas', 'organica_municipalidades', 'modificatorias', 'clausula', 'segunda', 'marco', 'legal', 'constitucion_politica_modificatorias', 'organica_poder_ejecutivo', 'procedimiento', 'aministrativo', 'legal', 'modificatorias', 'universitaria', 'universidad', 'nacional', 'altiplano_organica_municipalidades', 'partes', 'acuerdan', 'listado', 'precedente', 'caracter', 'anunciativo', 'limitativo', 'aplicacion', 'gegun', 'especilaidad', 'metrria', 'actividad', 'desarrollarse', 'partes', 'estan', 'comprometidas', 'desarrollo', 'region', 'especialmente', 'referido', 'sector', 'pecuario', 'desarrollarse', 'provincia', 'temas', 'recursos', 'ganaderia', 'camelida', 'fortaleciendo', 'capacidades', 'organizaciones', 'productoras', 'llama', 'generando', 'cultura', 'seguridad', 'alimentaria', 'mejores', 'ingresos', 'economicos', 'organizaciones', 'productoras', 'alpaca_llama', 'provincia', 'partes', 'objetivos', 'comunes', 'implementacion', 'propuestas', 'proyectos', 'orientados', 'desarrollo', 'actividad', 'pecuaria', 'distritos', 'provincia', 'cuenten', 'recursos', 'adecuados', 'produccin', 'camlida', 'aquellas', 'poblaciones', 'encuentren', 'zona', 'limitrofes', 'interdepartamentales', 'necesario', 'realizar', 'sinergias', 'coordinaciones', 'ambas_instituciones', 'fortalecer', 'desarrollar', 'actividades', 'tendientes', 'mejorar', 'explotacion', 'alpaca_llama', 'existente', 'zona', 'intervencion', 'clausula', 'cuarta', 'objetivos', 'convenio', 'presente', 'convenio', 'cooperacion', 'interinstitucional', 'objetivo_establecer', 'alianza', 'estrategica', 'travs', 'facultad_medicina_veterinaria', 'zootecnia', 'municipalidad', 'articular', 'complementar_esfuerzos', 'interinstitucionales', 'finalidad', 'impulsar', 'desarrollar', 'fortalecer', 'actividades', 'mejoramiento', 'genetico', 'llama', 'distritos', 'altoandinos', 'provincia', 'iniciandose', 'materializacion', 'convenio', 'comunidades', 'charamaya', 'qquemilluni', 'copani', 'rosario', 'oghaupiayllu', 'tolapalca', 'andamarca', 'centro_poblado_charamaya', 'distrito', 'manazo', 'provincia', 'cuyas', 'organizaciones', 'productores_camlidos', 'cuenten', 'predisposicion', 'necesaria', 'objetivos', 'siguientes', 'apoyar', 'promover', 'investigacion', 'ejecucion', 'desarrollo', 'plane', 'trabajo', 'acciones', 'proyectos', 'fortalecimiento_capacidades', 'productivas', 'alpaca_llama', 'orientadas', 'mejorar', 'niveles', 'socioecondmicos', 'comunidades_campesinas', 'componentes', 'centro_poblado_charamaya', 'distrito', 'mafiazo', 'provincia', 'iniciar', 'actividades', 'mejoramiento', 'genetico', 'basico', 'primario', 'llama', 'comunidades', 'charamaya', 'qquemilluni', 'copani', 'rosario', 'chaupiayllu', 'andamarca', 'centro_poblado_charamaya', 'distrito', 'mafazo', 'provincia', 'sistematizar', 'experiencias', 'locale', 'procesos_productivos', 'necesario', 'investigar', 'mejorar', 'procesos_productivos', 'llama', 'clausula', 'quinta', 'compromiso', 'partes', 'obliga', 'realizar', 'travs', 'facultad_medicina_veterinaria', 'zootecnia', 'conjuntamente', 'representantes', 'municipio', 'provincial', 'diagnostico', 'potencialidades', 'recursos_naturales', 'camlidos', 'identificando', 'organizaciones', 'recursos', 'adecuados', 'iniciativas', 'mejor', 'produccion', 'llama', 'comunidades_campesinas', 'componen', 'centro_poblado_charamaya', 'distrito', 'mafiazo', 'provincia', 'brindar', 'asistencia_tecnica', 'procesos', 'competen', 'mejora', 'gentica', 'llama', 'area', 'intervencion', 'presente', 'convenio', 'estara', 'considerado', 'trabajo', 'correspondiente', 'facilitar', 'calidad', 'prstamo', 'municipio', 'provincial', 'reproductores', 'llama', 'numero', 'calidades', 'razas', 'estaran', 'acuerdo', 'diagnostico', 'potencialidades', 'recursos_naturales', 'camelidos', 'realizarse', 'comunidades_campesinas', 'organizaciones', 'centro_poblado_charamaya', 'mismo', 'tiempo', 'prestamo', 'me', 'enero', 'marzo', 'establecer', 'mecanismo_monitoreo', 'seguimiento_evaluacion', 'desarrollo', 'actividades', 'realizar', 'municipalidad', 'obliga', 'otorgar_facilidades', 'llevar', 'actividades', 'requeridas', 'travs', 'facultad_medicina_veterinaria', 'zootecnia', 'cumplimento', 'objetivos', 'metas', 'previstas', 'responsabilizarse', 'ciudado', 'integridad', 'reproductores', 'llama', 'entregadas', 'prstamo', 'haran', 'entrega', 'documentadamente', 'autoridades', 'comunidades', 'centro_poblado_charamaya', 'promover', 'investigaciones', 'cursos', 'talleres', 'necesarios', 'fortalecer', 'produccin', 'camelidos', 'organizaciones', 'centro_poblado_charamaya', 'distrito', 'mafiazo', 'provincia', 'participar', 'activamente', 'desarrollo', 'propuestas', 'ampliacion', 'servicios', 'concernientes', 'mejora', 'gentica', 'produccion', 'camlidos', 'intervencion', 'resulten', 'necesarias', 'logro_objetivos', 'convenio', 'lausula', 'sexta', 'vigencia', 'presente', 'convenio', 'tendra', 'plazo', 'duracion', 'partir', 'fecha', 'suscripcion', 'lapso', 'podra', 'impartir', 'cursos', 'capacitacion', 'realizar', 'investigaciones', 'camelidos', 'pasturas', 'temas', 'relacionados', 'pudiera', 'priorizado', 'comunidades_campesinas', 'involucradas', 'presente', 'convenio', 'aclara', 'siendo', 'epoca', 'empadre', 'llama', 'me', 'enero', 'febrero', 'marzo', 'principalmente', 'reproductores', 'iniciaran', 'empadre', 'rebafios', 'llama', 'comunidades', 'charamaya', 'enero', 'debindose', 'retornar', 'animales', 'marzo', 'centro', 'investigacion', 'facultad_medicina_veterinaria', 'zootecnia', 'universidad', 'nacional', 'altiplano', 'vigencia', 'convenio', 'puede', 'renovado_previo', 'acuerdo', 'partes', 'acuerdo', 'suscribirse', 'rector', 'alcalde_municipalidad_provincial', 'clausula', 'septima', 'presupuesto', 'siguiente', 'presupuesto', 'invertira', 'municipio', 'finalidad', 'formule', 'mejoramiento', 'genetico', 'llama', 'apoye', 'tcnicamente', 'empadre', 'controlado', 'llama', 'apoyar', 'arantizar', 'integridad', 'reproductores', 'cuadro', 'reserve', 'cronograma', 'actividades', 'realizacion', 'trabajo', 'pecaey', 'enero', 'marzo', 'unidad', 'cargoservicio', 'cantidad', 'medida', 'servicios', 'profesionales', 'propinas', 'servicios', 'especializados', 'profesionales', 'me', 'persona', 'febrero', 'vidticos', 'propinas', 'bachilleres', 'tesistas', 'practicantes', 'labor', 'me', 'persona', 'enero', 'marzo', 'persona', 'traslado', 'reproductores', 'camidn', 'charamaya', 'viceversa', 'enero', 'marzo', 'unidad', 'unidad', 'supervisin', 'actividades', 'combustible', 'camioneta', 'municipio', 'lnives', 'presupuesto', 'total', 'partes_podran_introducir', 'modificaciones', 'presente', 'convenio', 'resultado_evaluaciones', 'periddicas_realicen', 'tiempo', 'vigencia', 'clausula', 'octava', 'resolucion', 'presente', 'convenio', 'podra_resuelto', 'vencimiento', 'previo', 'acuerdo', 'partes', 'incumplimiento_alguno', 'compromisos_asumidos', 'presente', 'convenio', 'causal', 'resolucion', 'mismo', 'debera_comunicarse', 'quince_calendarios', 'anticipacion', 'domicilios_sefialados', 'presente', 'convenio', 'clausula', 'novena', 'representantes', 'coordinadores', 'efectos', 'ejecucion', 'seguimiento_supervision', 'presente', 'convenio', 'partes', 'acuerdan_designar', 'representantes', 'coordinadores', 'siguientes', 'persona', 'porla', 'decano_facultad_medicina_veterinaria', 'zootecnia', 'universidad', 'nacional', 'altiplano', 'municipalidad', 'subgerente', 'subgerencia', 'promocin', 'empresarial', 'desarrollo', 'econmico', 'rural', 'municipalidad_provincial', 'persona', 'cticial', 'designada', 'alcalde', 'provincial', 'ypdau', 'elausula', 'decima', 'solucion_controversias', 'partes', 'acuerdan', 'presente', 'convenio', 'cooperacion', 'leyes', 'peruanas', 'celebra', 'acuerdo', 'reglas_buena_comun_intencin', 'partes', 'espiritu', 'partes', 'celebrantes', 'trataran', 'posible', 'resolver', 'cualquier', 'desavenencia_diferencia_criterios', 'pudieran', 'presentar', 'desarrollo', 'ejecucin', 'convenio', 'mediante_trato_directo', 'ccmun', 'entendimiento', 'sefial_conformidad', 'expresado', 'presente', 'convenio', 'suscriben', 'partes', 'ejemplares', 'identico', 'valor', 'firmandose', 'ciudad', 'enero', 'alcalbe', 'genriquez', 'salas', 'flores_quispe', 'ector', 'alcalde', 'versdad', 'nacional', 'altiplano_municipalidad_provincial', 'cualquier_asunto', 'previsto_expresamente', 'presente', 'convenio', 'buscara', 'resuelto', 'mediante', 'entendimiento', 'partes', 'orsteletd', 'ueroual', 'oruna', 'better', 'betetfeceigg', 'senemmeaaruwummauntuum', 'febrero_vistos_propuesta', 'convenio', 'cooperacion', 'interinstitucional', 'facultad_medicina_veterinaria', 'zootecnia', 'universidad', 'nacional', 'altiplano_municipalidad_provincial', 'considerando', 'medianie', 'memorandum_sguna', 'cuenta', 'convenio', 'cooperacion', 'interinstitucional', 'facultad_medicina_veterinaria', 'zootecnia', 'universidad', 'nacional', 'altiplano_municipalidad_provincial', 'mismo_clausulas_reune', 'requisilos', 'forma_fondo', 'susctito', 'liene', 'objeto', 'arlicular', 'complementar_esfuerzos', 'inferinstilucionales', 'finalidad', 'impulsat', 'desatrotiar', 'fortalecer', 'actividades', 'mejoramiento_gentico', 'llama', 'distritos', 'altoandings', 'provincia', 'tarea', 'universidad', 'nacional', 'altiplano', 'propiciar_organizare', 'impfementar', 'concertacion_convenios', 'fogre', 'objetivos_bienestar', 'universitario_finalidad_cumplir', 'fine_intereses_institucionales_procurando', 'mejor_formacin_profesional', 'estudiantes_conforme_establece', 'numeral', 'universitaria', 'aprobacin_acuerdos_convenios', 'universidades_extranjeras_organismos_gubernamentales', 'internacionales', 'olros', 'invesligacion', 'cientifica', 'fecnoligica', 'olros', 'asuntos_relacionados_actividades', 'universidad', 'atribucion_consejo_universitario_autorizado', 'rector_calidad_personero', 'legal_superior_estudios', 'efecluar', 'suscripcin', 'mismo_tenor_dispuesto', 'misme', 'cuerpo_legal', 'concordante', 'estatulo', 'universitario_respectivamente', 'consejo_universitario', 'sesian', 'extraordinaria_enero', 'aprobaco', 'convenio', 'cooperacion', 'interinstitucional', 'facultad_medicina_veterinaria', 'zootecnia', 'universidad', 'nacional', 'altiplano_municipalidad_provincial', 'vigencia', 'partir', 'suscripcin', 'mismo', 'atribuciones', 'eslatuto', 'universitario', 'universitaria', 'resolucin', 'asamblea_universitaria', 'transitoria_autunap_resolucion', 'rectoral_nruna_confieren_despacho', 'rectorai', 'universidad', 'resuelve_articulo_primero_aprobar', 'convenic', 'cooperacion', 'interinstitucional', 'facultad_medicina_veterinaria', 'zootecnia', 'universidad', 'nacional', 'altiplano_municipalidad_provincial', 'mismo', 'clausulas_forma', 'parte', 'presente', 'resolucion', 'vigencia', 'parlir', 'suscripcion', 'mismo', 'articuio', 'sequnda', 'nominar_responsable_convenio', 'especificade', 'articulo_primero', 'decano_facultad_medicina_veterinaria', 'zoolecnia', 'universidad', 'nacional', 'alliplanopung', 'articulo_tercero_vicerrectorado_acadmico', 'oficina', 'universitaria', 'proyeccin_social_oficina', 'general_asesoria_juridica', 'oficina', 'cooperacin', 'nacional', 'internacional', 'respensable', 'designado_demas_dependencias', 'pertinentes', 'instiucin', 'quedan_encargados_cumplimiento', 'presente', 'nunez_secretario', 'general', 'distribusion', 'recktrado', 'vicarectorados', 'academ', 'cheinas', 'grate', 'cooperation', 'nacie', 'intginaconal', 'universdarta', 'proyeccion', 'socal', 'responsabla', 'archivev']\n"
          ]
        }
      ]
    },
    {
      "cell_type": "code",
      "source": [
        "# Create Dictionary\n",
        "id2word = corpora.Dictionary(arreglo_lematizado)\n",
        "# Create Corpus\n",
        "texts = arreglo_lematizado\n",
        "# Term Document Frequency\n",
        "corpus = [id2word.doc2bow(text) for text in texts]\n",
        "# View\n",
        "print(corpus[:1])"
      ],
      "metadata": {
        "id": "NIL1lFrDAx4L",
        "colab": {
          "base_uri": "https://localhost:8080/"
        },
        "outputId": "f527a42e-d754-447e-a616-f11af7cbf35b"
      },
      "execution_count": 18,
      "outputs": [
        {
          "output_type": "stream",
          "name": "stderr",
          "text": [
            "/usr/local/lib/python3.10/dist-packages/ipykernel/ipkernel.py:283: DeprecationWarning: `should_run_async` will not call `transform_cell` automatically in the future. Please pass the result to `transformed_cell` argument and any exception that happen during thetransform in `preprocessing_exc_tuple` in IPython 7.17 and above.\n",
            "  and should_run_async(code)\n"
          ]
        },
        {
          "output_type": "stream",
          "name": "stdout",
          "text": [
            "[[(0, 1), (1, 2), (2, 2), (3, 1), (4, 7), (5, 1), (6, 1), (7, 1), (8, 1), (9, 5), (10, 1), (11, 5), (12, 2), (13, 1), (14, 1), (15, 1), (16, 1), (17, 1), (18, 1), (19, 1), (20, 1), (21, 2), (22, 1), (23, 1), (24, 1), (25, 1), (26, 3), (27, 1), (28, 2), (29, 2), (30, 1), (31, 9), (32, 1), (33, 2), (34, 1), (35, 2), (36, 1), (37, 2), (38, 1), (39, 1), (40, 1), (41, 2), (42, 2), (43, 1), (44, 1), (45, 5), (46, 1), (47, 1), (48, 1), (49, 1), (50, 5), (51, 1), (52, 4), (53, 2), (54, 2), (55, 1), (56, 5), (57, 2), (58, 1), (59, 2), (60, 1), (61, 1), (62, 1), (63, 1), (64, 1), (65, 1), (66, 1), (67, 1), (68, 1), (69, 1), (70, 1), (71, 2), (72, 1), (73, 1), (74, 1), (75, 1), (76, 1), (77, 1), (78, 1), (79, 1), (80, 1), (81, 3), (82, 1), (83, 1), (84, 2), (85, 1), (86, 1), (87, 1), (88, 1), (89, 2), (90, 4), (91, 1), (92, 2), (93, 1), (94, 4), (95, 13), (96, 2), (97, 1), (98, 1), (99, 2), (100, 1), (101, 3), (102, 2), (103, 1), (104, 1), (105, 1), (106, 1), (107, 1), (108, 2), (109, 1), (110, 1), (111, 1), (112, 2), (113, 1), (114, 4), (115, 1), (116, 1), (117, 1), (118, 1), (119, 1), (120, 1), (121, 1), (122, 1), (123, 1), (124, 1), (125, 1), (126, 1), (127, 1), (128, 1), (129, 1), (130, 1), (131, 1), (132, 3), (133, 1), (134, 1), (135, 1), (136, 1), (137, 1), (138, 1), (139, 1), (140, 1), (141, 1), (142, 1), (143, 1), (144, 1), (145, 1), (146, 1), (147, 2), (148, 2), (149, 1), (150, 1), (151, 5), (152, 1), (153, 1), (154, 30), (155, 4), (156, 1), (157, 1), (158, 5), (159, 1), (160, 1), (161, 3), (162, 2), (163, 1), (164, 1), (165, 1), (166, 1), (167, 1), (168, 1), (169, 2), (170, 5), (171, 1), (172, 1), (173, 2), (174, 1), (175, 4), (176, 1), (177, 1), (178, 2), (179, 1), (180, 2), (181, 1), (182, 3), (183, 2), (184, 2), (185, 3), (186, 1), (187, 1), (188, 10), (189, 1), (190, 1), (191, 2), (192, 1), (193, 1), (194, 2), (195, 1), (196, 1), (197, 1), (198, 2), (199, 1), (200, 1), (201, 1), (202, 5), (203, 23), (204, 1), (205, 1), (206, 1), (207, 1), (208, 3), (209, 1), (210, 1), (211, 1), (212, 2), (213, 1), (214, 2), (215, 1), (216, 1), (217, 2), (218, 2), (219, 1), (220, 1), (221, 1), (222, 1), (223, 1), (224, 1), (225, 1), (226, 1), (227, 1), (228, 6), (229, 1), (230, 4), (231, 1), (232, 1), (233, 1), (234, 1), (235, 2), (236, 1), (237, 2), (238, 3), (239, 1), (240, 1), (241, 2), (242, 3), (243, 4), (244, 1), (245, 1), (246, 1), (247, 1), (248, 1), (249, 1), (250, 1), (251, 1), (252, 1), (253, 1), (254, 1), (255, 1), (256, 1), (257, 3), (258, 1), (259, 3), (260, 1), (261, 3), (262, 1), (263, 1), (264, 2), (265, 1), (266, 2), (267, 6), (268, 9), (269, 2), (270, 2), (271, 1), (272, 1), (273, 1), (274, 1), (275, 1), (276, 1), (277, 1), (278, 1), (279, 1), (280, 3), (281, 1), (282, 6), (283, 2), (284, 3), (285, 1), (286, 6), (287, 1), (288, 1), (289, 1), (290, 1), (291, 2), (292, 1), (293, 2), (294, 3), (295, 1), (296, 1), (297, 3), (298, 1), (299, 1), (300, 7), (301, 5), (302, 2), (303, 4), (304, 1), (305, 1), (306, 1), (307, 1), (308, 1), (309, 1), (310, 2), (311, 1), (312, 2), (313, 1), (314, 1), (315, 1), (316, 1), (317, 1), (318, 1), (319, 1), (320, 1), (321, 1), (322, 1), (323, 1), (324, 1), (325, 1), (326, 1), (327, 1), (328, 1), (329, 1), (330, 1), (331, 1), (332, 2), (333, 1), (334, 1), (335, 1), (336, 1), (337, 2), (338, 3), (339, 1), (340, 1), (341, 2), (342, 2), (343, 1), (344, 2), (345, 1), (346, 1), (347, 4), (348, 1), (349, 1), (350, 1), (351, 6), (352, 1), (353, 1), (354, 1), (355, 1), (356, 1), (357, 1), (358, 1), (359, 3), (360, 1), (361, 2), (362, 1), (363, 1), (364, 1), (365, 6), (366, 2), (367, 1), (368, 1), (369, 1), (370, 1), (371, 1), (372, 1), (373, 1), (374, 2), (375, 1), (376, 2), (377, 1), (378, 24), (379, 2), (380, 3), (381, 1), (382, 1), (383, 1), (384, 2), (385, 6), (386, 3), (387, 1), (388, 1), (389, 3), (390, 1), (391, 3), (392, 1), (393, 1), (394, 1), (395, 1), (396, 3), (397, 32), (398, 2), (399, 1), (400, 1), (401, 1), (402, 1), (403, 1), (404, 1), (405, 1), (406, 2), (407, 1), (408, 1), (409, 1), (410, 1), (411, 3), (412, 3), (413, 1), (414, 2), (415, 2), (416, 1), (417, 3), (418, 1), (419, 1), (420, 3), (421, 1), (422, 1), (423, 1), (424, 1), (425, 2), (426, 1), (427, 1), (428, 1), (429, 2), (430, 1), (431, 1), (432, 1), (433, 6), (434, 1), (435, 14), (436, 26), (437, 1), (438, 1), (439, 1), (440, 1), (441, 2), (442, 1), (443, 1), (444, 2), (445, 1), (446, 1), (447, 1), (448, 1), (449, 1), (450, 2), (451, 1), (452, 3), (453, 1), (454, 3), (455, 1), (456, 1), (457, 1), (458, 1), (459, 1), (460, 27), (461, 1), (462, 1), (463, 1), (464, 3), (465, 11), (466, 1), (467, 1), (468, 1), (469, 1), (470, 1), (471, 1), (472, 2), (473, 2), (474, 1), (475, 1), (476, 1), (477, 1), (478, 1), (479, 1), (480, 1), (481, 1), (482, 1), (483, 3), (484, 1), (485, 1), (486, 1), (487, 1), (488, 1), (489, 1), (490, 1), (491, 2), (492, 1), (493, 1), (494, 1), (495, 1), (496, 1), (497, 1), (498, 1), (499, 2), (500, 1), (501, 1), (502, 1), (503, 1), (504, 1), (505, 1), (506, 1), (507, 1), (508, 4), (509, 1), (510, 1), (511, 3), (512, 11), (513, 1), (514, 1), (515, 1), (516, 1), (517, 6), (518, 1), (519, 1), (520, 1), (521, 2), (522, 1), (523, 1), (524, 1), (525, 1), (526, 1), (527, 1), (528, 1), (529, 1), (530, 1), (531, 1), (532, 2), (533, 5), (534, 1), (535, 1), (536, 1), (537, 1), (538, 1), (539, 3), (540, 2), (541, 1), (542, 1), (543, 1), (544, 1), (545, 1), (546, 26), (547, 2), (548, 1), (549, 2), (550, 1), (551, 1), (552, 1), (553, 1), (554, 1), (555, 1), (556, 1), (557, 1), (558, 1), (559, 5), (560, 1), (561, 1), (562, 1), (563, 3), (564, 2), (565, 1), (566, 1), (567, 4), (568, 5), (569, 1), (570, 1), (571, 1), (572, 1), (573, 1), (574, 2), (575, 1), (576, 2), (577, 1), (578, 9), (579, 1), (580, 1), (581, 3), (582, 1), (583, 1), (584, 2), (585, 2), (586, 1), (587, 1), (588, 1), (589, 1), (590, 1), (591, 1), (592, 1), (593, 2), (594, 1), (595, 1), (596, 1), (597, 2), (598, 1), (599, 1), (600, 2), (601, 1), (602, 1), (603, 1), (604, 1), (605, 2), (606, 1), (607, 1), (608, 1), (609, 2), (610, 1), (611, 2), (612, 3), (613, 2), (614, 1), (615, 2), (616, 15), (617, 5), (618, 5), (619, 1), (620, 2), (621, 1), (622, 2), (623, 1), (624, 2), (625, 5), (626, 2), (627, 1), (628, 1), (629, 1), (630, 1)]]\n"
          ]
        }
      ]
    },
    {
      "cell_type": "code",
      "source": [
        "lda_model = gensim.models.ldamodel.LdaModel(corpus=corpus,\n",
        "                                           id2word=id2word,\n",
        "                                           num_topics=15,\n",
        "                                           random_state=100,\n",
        "                                           update_every=1,\n",
        "                                           chunksize=100,\n",
        "                                           passes=50,\n",
        "                                           alpha='auto',\n",
        "                                           per_word_topics=True)"
      ],
      "metadata": {
        "colab": {
          "base_uri": "https://localhost:8080/"
        },
        "id": "b54Ory2D8Rpq",
        "outputId": "734d6780-b3a5-4a9b-b448-cb641ad741a8"
      },
      "execution_count": 19,
      "outputs": [
        {
          "output_type": "stream",
          "name": "stderr",
          "text": [
            "/usr/local/lib/python3.10/dist-packages/ipykernel/ipkernel.py:283: DeprecationWarning: `should_run_async` will not call `transform_cell` automatically in the future. Please pass the result to `transformed_cell` argument and any exception that happen during thetransform in `preprocessing_exc_tuple` in IPython 7.17 and above.\n",
            "  and should_run_async(code)\n"
          ]
        }
      ]
    },
    {
      "cell_type": "code",
      "source": [
        "# Print the keyword of topics\n",
        "print(lda_model.print_topics())\n",
        "doc_lda = lda_model[corpus]"
      ],
      "metadata": {
        "colab": {
          "base_uri": "https://localhost:8080/"
        },
        "id": "LJMfIrlh8TqS",
        "outputId": "24933235-d7b7-4418-b8c8-c9fe888dda56"
      },
      "execution_count": 20,
      "outputs": [
        {
          "output_type": "stream",
          "name": "stdout",
          "text": [
            "[(0, '0.038*\"facultad\" + 0.034*\"ingenieria\" + 0.022*\"metalurgica\" + 0.020*\"geoldgica\" + 0.016*\"profamilia\" + 0.015*\"social\" + 0.012*\"camiper\" + 0.009*\"capacitacin\" + 0.009*\"acciones\" + 0.008*\"geologica\"'), (1, '0.000*\"itemes\" + 0.000*\"jdiyne\" + 0.000*\"imvaq\" + 0.000*\"interins\" + 0.000*\"interinstitucionates\" + 0.000*\"fojas\" + 0.000*\"martha\" + 0.000*\"linares\" + 0.000*\"ezzard\" + 0.000*\"jueves\"'), (2, '0.037*\"universidad\" + 0.024*\"nacional\" + 0.022*\"convenio\" + 0.017*\"altiplano\" + 0.013*\"presente\" + 0.010*\"mismo\" + 0.009*\"universitario\" + 0.009*\"universitaria\" + 0.008*\"partes\" + 0.008*\"articulo\"'), (3, '0.038*\"salud\" + 0.021*\"universidad\" + 0.019*\"convenio\" + 0.015*\"hospital\" + 0.013*\"nacional\" + 0.012*\"facultad\" + 0.011*\"docente\" + 0.011*\"desarrollo\" + 0.009*\"altiplano\" + 0.009*\"presente\"'), (4, '0.015*\"acuerdo\" + 0.014*\"intercambio\" + 0.011*\"evento\" + 0.010*\"clausula\" + 0.010*\"universidad\" + 0.008*\"partes\" + 0.008*\"acordo\" + 0.008*\"presente\" + 0.008*\"altiplano\" + 0.008*\"nacional\"'), (5, '0.021*\"unidad\" + 0.017*\"ejecutora\" + 0.013*\"convenio\" + 0.012*\"universidad\" + 0.011*\"calidad\" + 0.010*\"superior\" + 0.009*\"bienes\" + 0.009*\"clausula\" + 0.008*\"mejora\" + 0.008*\"servicios\"'), (6, '0.004*\"chuquisaca\" + 0.004*\"xavier\" + 0.000*\"tango\" + 0.000*\"educando\" + 0.000*\"sucrebolivia\" + 0.000*\"suscnipcidn\" + 0.000*\"nactonad\" + 0.000*\"transiforia\" + 0.000*\"efeciuar\" + 0.000*\"ginecoobstetricia\"'), (7, '0.021*\"partes\" + 0.016*\"subproyecto\" + 0.012*\"convenio\" + 0.011*\"proyecto\" + 0.010*\"entidad\" + 0.010*\"presente\" + 0.009*\"nacional\" + 0.008*\"clausula\" + 0.007*\"ejecucin\" + 0.007*\"contrato\"'), (8, '0.029*\"convenio\" + 0.022*\"presente\" + 0.019*\"partes\" + 0.017*\"nacional\" + 0.013*\"universidad\" + 0.012*\"clausula\" + 0.010*\"altiplano\" + 0.010*\"marco\" + 0.009*\"parte\" + 0.007*\"universitaria\"'), (9, '0.021*\"convenio\" + 0.021*\"facultad\" + 0.014*\"trabajo\" + 0.014*\"asistencial\" + 0.013*\"especifico\" + 0.012*\"universidad\" + 0.012*\"actividades\" + 0.010*\"nacional\" + 0.010*\"presente\" + 0.009*\"juliaca\"'), (10, '0.000*\"itemes\" + 0.000*\"jdiyne\" + 0.000*\"imvaq\" + 0.000*\"interins\" + 0.000*\"interinstitucionates\" + 0.000*\"fojas\" + 0.000*\"martha\" + 0.000*\"linares\" + 0.000*\"ezzard\" + 0.000*\"jueves\"'), (11, '0.031*\"institution\" + 0.030*\"project\" + 0.028*\"vliruos\" + 0.024*\"agreement\" + 0.020*\"flemish\" + 0.016*\"partner\" + 0.014*\"party\" + 0.014*\"professor\" + 0.012*\"budget\" + 0.010*\"promoter\"'), (12, '0.022*\"ministerio\" + 0.018*\"convenio\" + 0.016*\"minedu\" + 0.015*\"universidad\" + 0.013*\"universidades\" + 0.010*\"educacin\" + 0.010*\"educacion\" + 0.010*\"compromisos\" + 0.009*\"decreto\" + 0.009*\"resolucin\"'), (13, '0.021*\"nacional\" + 0.013*\"altiplano\" + 0.013*\"convenio\" + 0.012*\"fecha\" + 0.012*\"universidad\" + 0.011*\"presente\" + 0.010*\"trabajo\" + 0.008*\"servicio\" + 0.008*\"usuario\" + 0.007*\"firmado\"'), (14, '0.018*\"convenio\" + 0.018*\"software\" + 0.017*\"universidad\" + 0.017*\"nacional\" + 0.015*\"partes\" + 0.014*\"plataforma\" + 0.011*\"pilar\" + 0.009*\"presente\" + 0.007*\"especifico\" + 0.006*\"parte\"')]\n"
          ]
        },
        {
          "output_type": "stream",
          "name": "stderr",
          "text": [
            "/usr/local/lib/python3.10/dist-packages/ipykernel/ipkernel.py:283: DeprecationWarning: `should_run_async` will not call `transform_cell` automatically in the future. Please pass the result to `transformed_cell` argument and any exception that happen during thetransform in `preprocessing_exc_tuple` in IPython 7.17 and above.\n",
            "  and should_run_async(code)\n"
          ]
        }
      ]
    },
    {
      "cell_type": "code",
      "source": [
        "# Compute Perplexity\n",
        "print('\\nPerplexity: ', lda_model.log_perplexity(corpus))\n",
        "# a measure of how good the model is. lower the better.\n",
        "\n",
        "# Compute Coherence Score\n",
        "coherence_model_lda = CoherenceModel(model=lda_model, texts=arreglo_lematizado, dictionary=id2word, coherence='c_v')\n",
        "coherence_lda = coherence_model_lda.get_coherence()\n",
        "print('\\nCoherence Score: ', coherence_lda)"
      ],
      "metadata": {
        "colab": {
          "base_uri": "https://localhost:8080/"
        },
        "id": "H63ZSxmX8Tn0",
        "outputId": "c263a855-7ef0-4214-d267-04219b881816"
      },
      "execution_count": 21,
      "outputs": [
        {
          "output_type": "stream",
          "name": "stderr",
          "text": [
            "/usr/local/lib/python3.10/dist-packages/ipykernel/ipkernel.py:283: DeprecationWarning: `should_run_async` will not call `transform_cell` automatically in the future. Please pass the result to `transformed_cell` argument and any exception that happen during thetransform in `preprocessing_exc_tuple` in IPython 7.17 and above.\n",
            "  and should_run_async(code)\n"
          ]
        },
        {
          "output_type": "stream",
          "name": "stdout",
          "text": [
            "\n",
            "Perplexity:  -8.308519572569198\n",
            "\n",
            "Coherence Score:  0.4249063687388456\n"
          ]
        }
      ]
    },
    {
      "cell_type": "code",
      "source": [
        "import importlib\n",
        "importlib.reload(pyLDAvis)"
      ],
      "metadata": {
        "colab": {
          "base_uri": "https://localhost:8080/"
        },
        "id": "3tHjyy_z8TlT",
        "outputId": "ae1f5752-1533-4d9e-d12c-96db15bfa406"
      },
      "execution_count": 22,
      "outputs": [
        {
          "output_type": "stream",
          "name": "stderr",
          "text": [
            "/usr/local/lib/python3.10/dist-packages/ipykernel/ipkernel.py:283: DeprecationWarning: `should_run_async` will not call `transform_cell` automatically in the future. Please pass the result to `transformed_cell` argument and any exception that happen during thetransform in `preprocessing_exc_tuple` in IPython 7.17 and above.\n",
            "  and should_run_async(code)\n"
          ]
        },
        {
          "output_type": "execute_result",
          "data": {
            "text/plain": [
              "<module 'pyLDAvis' from '/usr/local/lib/python3.10/dist-packages/pyLDAvis/__init__.py'>"
            ]
          },
          "metadata": {},
          "execution_count": 22
        }
      ]
    },
    {
      "cell_type": "code",
      "source": [
        "import pyLDAvis\n",
        "pyLDAvis.enable_notebook()"
      ],
      "metadata": {
        "colab": {
          "base_uri": "https://localhost:8080/"
        },
        "id": "8RveiwJt8Ti4",
        "outputId": "9382ad65-701e-4442-aaba-9ebd7e859f67"
      },
      "execution_count": 23,
      "outputs": [
        {
          "output_type": "stream",
          "name": "stderr",
          "text": [
            "/usr/local/lib/python3.10/dist-packages/ipykernel/ipkernel.py:283: DeprecationWarning: `should_run_async` will not call `transform_cell` automatically in the future. Please pass the result to `transformed_cell` argument and any exception that happen during thetransform in `preprocessing_exc_tuple` in IPython 7.17 and above.\n",
            "  and should_run_async(code)\n"
          ]
        }
      ]
    },
    {
      "cell_type": "code",
      "source": [
        "!pip install --upgrade pandas"
      ],
      "metadata": {
        "id": "xtVbkIbJ8_y0"
      },
      "execution_count": null,
      "outputs": []
    },
    {
      "cell_type": "code",
      "source": [
        "import pyLDAvis\n",
        "import pyLDAvis.gensim_models as gensimvis\n",
        "pyLDAvis.enable_notebook()\n",
        "\n",
        "vis = pyLDAvis.gensim.prepare(lda_model,  corpus, id2word,mds='mmds')\n",
        "#vis = pyLDAvis.gensim.prepare(lda_model, corpus, id2word)\n",
        "vis\n"
      ],
      "metadata": {
        "colab": {
          "base_uri": "https://localhost:8080/",
          "height": 951
        },
        "id": "FKIgtiNB8TgZ",
        "outputId": "924e31bc-1d4d-4cfc-8809-22d558f6d986"
      },
      "execution_count": 24,
      "outputs": [
        {
          "output_type": "stream",
          "name": "stderr",
          "text": [
            "/usr/local/lib/python3.10/dist-packages/ipykernel/ipkernel.py:283: DeprecationWarning: `should_run_async` will not call `transform_cell` automatically in the future. Please pass the result to `transformed_cell` argument and any exception that happen during thetransform in `preprocessing_exc_tuple` in IPython 7.17 and above.\n",
            "  and should_run_async(code)\n",
            "/usr/local/lib/python3.10/dist-packages/sklearn/manifold/_mds.py:299: FutureWarning: The default value of `normalized_stress` will change to `'auto'` in version 1.4. To suppress this warning, manually set the value of `normalized_stress`.\n",
            "  warnings.warn(\n"
          ]
        },
        {
          "output_type": "execute_result",
          "data": {
            "text/plain": [
              "PreparedData(topic_coordinates=              x         y  topics  cluster       Freq\n",
              "topic                                                \n",
              "8     -0.239614 -0.068734       1        1  32.312837\n",
              "2     -0.303600 -0.023786       2        1  16.833245\n",
              "3     -0.260582 -0.174608       3        1  15.524729\n",
              "9     -0.175116 -0.264146       4        1  11.716202\n",
              "13     0.046916 -0.269174       5        1   5.773978\n",
              "7     -0.028503 -0.188572       6        1   5.459096\n",
              "12    -0.223619  0.142456       7        1   3.259320\n",
              "14    -0.105083  0.030421       8        1   2.613321\n",
              "4      0.049635  0.010557       9        1   2.595868\n",
              "5     -0.121943  0.217334      10        1   2.445797\n",
              "11     0.177953  0.382048      11        1   0.820812\n",
              "0      0.335188 -0.095640      12        1   0.639252\n",
              "6      0.283768  0.100365      13        1   0.005027\n",
              "1      0.282302  0.100736      14        1   0.000257\n",
              "10     0.282300  0.100743      15        1   0.000257, topic_info=            Term         Freq        Total Category  logprob  loglift\n",
              "280     facultad  2387.000000  2387.000000  Default  30.0000  30.0000\n",
              "730        salud  2776.000000  2776.000000  Default  29.0000  29.0000\n",
              "616  universidad  7802.000000  7802.000000  Default  28.0000  28.0000\n",
              "154     convenio  9262.000000  9262.000000  Default  27.0000  27.0000\n",
              "436       partes  4958.000000  4958.000000  Default  26.0000  26.0000\n",
              "..           ...          ...          ...      ...      ...      ...\n",
              "25      afectada     0.000045    46.321672  Topic15 -10.1246  -0.9707\n",
              "26         afios     0.000045   780.858417  Topic15 -10.1246  -3.7955\n",
              "27        agosto     0.000045   328.177492  Topic15 -10.1246  -2.9287\n",
              "28         algun     0.000045    46.392087  Topic15 -10.1246  -0.9722\n",
              "29        alguna     0.000045   339.770443  Topic15 -10.1246  -2.9634\n",
              "\n",
              "[1006 rows x 6 columns], token_table=       Topic      Freq      Term\n",
              "term                            \n",
              "2127       7  0.969752  academia\n",
              "0          1  0.408268  acadmica\n",
              "0          2  0.267486  acadmica\n",
              "0          3  0.137967  acadmica\n",
              "0          4  0.026749  acadmica\n",
              "...      ...       ...       ...\n",
              "2510       3  0.030539    walter\n",
              "2510       5  0.442820    walter\n",
              "2510       9  0.183236    walter\n",
              "2510      11  0.351202    walter\n",
              "11882     11  0.990661     which\n",
              "\n",
              "[2015 rows x 3 columns], R=30, lambda_step=0.01, plot_opts={'xlab': 'PC1', 'ylab': 'PC2'}, topic_order=[9, 3, 4, 10, 14, 8, 13, 15, 5, 6, 12, 1, 7, 2, 11])"
            ],
            "text/html": [
              "\n",
              "<link rel=\"stylesheet\" type=\"text/css\" href=\"https://cdn.jsdelivr.net/gh/bmabey/pyLDAvis@3.4.0/pyLDAvis/js/ldavis.v1.0.0.css\">\n",
              "\n",
              "\n",
              "<div id=\"ldavis_el324771367468102972486568240911\" style=\"background-color:white;\"></div>\n",
              "<script type=\"text/javascript\">\n",
              "\n",
              "var ldavis_el324771367468102972486568240911_data = {\"mdsDat\": {\"x\": [-0.23961441025967134, -0.3036001947039573, -0.26058170344066117, -0.17511590497122728, 0.046915728087866315, -0.028502529950686195, -0.22361940014573248, -0.10508308638234232, 0.04963490610523268, -0.12194336874328099, 0.1779532367564419, 0.335187556726106, 0.2837680001218933, 0.28230151675784076, 0.2822996540421781], \"y\": [-0.06873385424102717, -0.02378610216011253, -0.17460838180118005, -0.2641462143181459, -0.26917392715354255, -0.18857152775593536, 0.1424559320585048, 0.030421267670832298, 0.010556879877885858, 0.21733432339629583, 0.38204762535476866, -0.09563993264765476, 0.10036497850866374, 0.10073574537585356, 0.10074318783479361], \"topics\": [1, 2, 3, 4, 5, 6, 7, 8, 9, 10, 11, 12, 13, 14, 15], \"cluster\": [1, 1, 1, 1, 1, 1, 1, 1, 1, 1, 1, 1, 1, 1, 1], \"Freq\": [32.31283694943449, 16.833245112950486, 15.524729129359214, 11.71620231791614, 5.773978150198594, 5.459096121681162, 3.2593201110088947, 2.6133211763188173, 2.595868282908944, 2.445797028639045, 0.8208121185766942, 0.6392522611618493, 0.005026814387402585, 0.0002572794795950638, 0.00025714597866944916]}, \"tinfo\": {\"Term\": [\"facultad\", \"salud\", \"universidad\", \"convenio\", \"partes\", \"ingenieria\", \"social\", \"nacional\", \"trabajo\", \"hospital\", \"asistencial\", \"altiplano\", \"especifico\", \"ministerio\", \"acciones\", \"profesionales\", \"clausula\", \"acuerdo\", \"fecha\", \"interinstitucional\", \"unidad\", \"superior\", \"unapuno\", \"presente\", \"resolucin\", \"educacin\", \"intercambio\", \"capacitacin\", \"calidad\", \"subproyecto\", \"electricidad\", \"poblado\", \"electro\", \"pradera\", \"talleres\", \"alpaca\", \"culminar\", \"mutuamente\", \"anima\", \"prelatura\", \"andres\", \"compartir\", \"celebracion\", \"intervenido\", \"privado\", \"direcciones\", \"elecciones\", \"descritas\", \"autorizada\", \"rural\", \"jurado\", \"ambiental\", \"automaticamente\", \"fijan\", \"terminacin\", \"undac\", \"hidricos\", \"posteriormente\", \"entenderan\", \"ejecutados\", \"sociedad\", \"estadistica\", \"comunicada\", \"decanos\", \"fuerza\", \"libre\", \"introductoria\", \"separacion\", \"entendera\", \"derivada\", \"otorgada\", \"fortuito\", \"domicilios\", \"esfuerzos\", \"nauuna\", \"proyectos\", \"unapuno\", \"paulino\", \"sefialados\", \"interinstitucional\", \"materia\", \"naturales\", \"machaca\", \"gestion\", \"marco\", \"especificos\", \"presente\", \"partes\", \"decima\", \"convenio\", \"obligaciones\", \"ingenieria\", \"texto\", \"clausula\", \"pagina\", \"controversias\", \"parte\", \"cooperacion\", \"nacional\", \"legal\", \"desarrollar\", \"vigencia\", \"fecha\", \"general\", \"mediante\", \"altiplano\", \"universitaria\", \"documento\", \"objetivos\", \"regional\", \"universidad\", \"convenios\", \"acuerdo\", \"actividades\", \"desarrollo\", \"cumplimiento\", \"resolucion\", \"forma\", \"investigacion\", \"mismo\", \"articulo\", \"municipalidad\", \"distrital\", \"provincial\", \"cepreuna\", \"carabaya\", \"alcalde\", \"oviedo\", \"macusani\", \"francisco\", \"municipalidades\", \"apertura\", \"colombia\", \"marcos\", \"mastermaestria\", \"master\", \"aire\", \"filosofia\", \"ingresos\", \"iniciadas\", \"letras\", \"familias\", \"geomecanica\", \"argentina\", \"matricula\", \"tendran\", \"bogota\", \"representar\", \"normativas\", \"manazo\", \"promotor\", \"movilidad\", \"rurales\", \"destino\", \"estudiantil\", \"punoperu\", \"plaza\", \"rectorado\", \"firmantes\", \"universidad\", \"ejrcito\", \"confieren\", \"avenida\", \"gastos\", \"colaboracin\", \"minera\", \"postal\", \"casilla\", \"universitario\", \"nacional\", \"altiplano\", \"mismo\", \"institucin\", \"rectoral\", \"articulo\", \"procurando\", \"institucion\", \"convenio\", \"universitaria\", \"estudiantes\", \"responsable\", \"superior\", \"rector\", \"presente\", \"cooperacion\", \"clausulas\", \"legal\", \"instituciones\", \"consejo\", \"estudios\", \"social\", \"partes\", \"actividades\", \"clausula\", \"oficina\", \"acuerdo\", \"forma\", \"parte\", \"resolucion\", \"vigencia\", \"establecimiento\", \"establecimientos\", \"minsa\", \"butron\", \"bioseguridad\", \"odontologia\", \"sinapres\", \"docenciaservicio\", \"pacientes\", \"instrumental\", \"nutricin\", \"instalada\", \"mdicos\", \"actitud\", \"conapres\", \"cometidas\", \"emanadas\", \"asignado\", \"pasibles\", \"articulacin\", \"programatica\", \"servira\", \"sanitario\", \"desconcentrado\", \"honorio\", \"adecuando\", \"subcomit\", \"jeronimo\", \"usuaria\", \"conformada\", \"hospital\", \"salud\", \"programacin\", \"pregrado\", \"programacion\", \"internado\", \"docente\", \"enfermeria\", \"problemas\", \"descentralizado\", \"poblacin\", \"manuel\", \"roman\", \"internos\", \"poblacion\", \"regional\", \"mejorar\", \"docencia\", \"facultad\", \"ciencias\", \"servicios\", \"desarrollo\", \"asistencial\", \"universidad\", \"alumnos\", \"ambito\", \"profesionales\", \"estudiantes\", \"convenio\", \"ministerio\", \"humana\", \"nacional\", \"especifico\", \"acciones\", \"resolucin\", \"altiplano\", \"actividades\", \"profesional\", \"presente\", \"cooperacion\", \"universitaria\", \"clausula\", \"partes\", \"acuerdo\", \"investigacin\", \"general\", \"essalud\", \"practicante\", \"desastres\", \"cenepred\", \"especializadas\", \"originados\", \"fendmenos\", \"mensual\", \"estimacion\", \"bueno\", \"ejecutarse\", \"politico\", \"reduccion\", \"limitaciones\", \"adiestramiento\", \"electrica\", \"acreditar\", \"mdica\", \"simultaneidad\", \"practico\", \"menores\", \"impacto\", \"conformado\", \"curriculares\", \"visto\", \"bibliografico\", \"implique\", \"semestral\", \"escritorio\", \"consideradas\", \"anual\", \"aprendizaje\", \"juliaca\", \"clinicos\", \"gerencia\", \"incluidos\", \"mecanica\", \"asistencial\", \"trabajo\", \"mobiliario\", \"medicina\", \"ejecutivo\", \"especifico\", \"facultad\", \"humana\", \"practicas\", \"electronica\", \"asistenciales\", \"capacitacin\", \"sistemas\", \"capacitacion\", \"administrativos\", \"docencia\", \"alumnos\", \"actividades\", \"convenio\", \"desarrollo\", \"profesionales\", \"unidad\", \"universidad\", \"responsabilidad\", \"nacional\", \"investigacin\", \"presente\", \"altiplano\", \"investigacion\", \"social\", \"acuerdo\", \"marco\", \"oficina\", \"clausula\", \"mismo\", \"parte\", \"reniec\", \"colectivo\", \"sindicato\", \"pacto\", \"sutrauna\", \"unitario\", \"torre\", \"nilton\", \"civico\", \"covid\", \"feeha\", \"consultas\", \"peblt\", \"porcentaje\", \"remuneraciones\", \"namhi\", \"espafia\", \"credito\", \"line\", \"planilla\", \"cocumento\", \"trata\", \"minagri\", \"jocniuna\", \"httos\", \"ruipn\", \"jnacreniec\", \"indirecta\", \"dactilar\", \"semipresencial\", \"usuario\", \"cooperativa\", \"beneficiario\", \"mayta\", \"cesar\", \"telfono\", \"blanco\", \"identificacion\", \"calumani\", \"hector\", \"crdito\", \"ortega\", \"registro\", \"nombrados\", \"bolivia\", \"digitalmente\", \"firmado\", \"autor\", \"civil\", \"trabajadores\", \"motivo\", \"servicio\", \"trabajo\", \"fecha\", \"nacional\", \"altiplano\", \"favor\", \"universidad\", \"convenio\", \"presente\", \"persona\", \"servicios\", \"mediante\", \"general\", \"cualquier\", \"personal\", \"documento\", \"oficina\", \"parte\", \"clausula\", \"partes\", \"subproyecto\", \"fondecyt\", \"present\", \"pnipa\", \"titicaca\", \"directorio\", \"agraria\", \"adjudicacin\", \"acuicultura\", \"pesca\", \"unalm\", \"monetario\", \"nucleo\", \"impactos\", \"titularidad\", \"asociacion\", \"result\", \"solicitante\", \"trucha\", \"adjudicacion\", \"suscribientes\", \"ministros\", \"signed\", \"concytec\", \"acuicola\", \"fotovoltaicos\", \"asociadas\", \"adquirido\", \"cultivo\", \"fund\", \"contrato\", \"fundacion\", \"mujer\", \"entidad\", \"mujeres\", \"concurso\", \"asociacin\", \"sexual\", \"asociada\", \"estimado\", \"mundial\", \"violencia\", \"proyecto\", \"mamani\", \"propiedad\", \"derechos\", \"banco\", \"resultados\", \"partes\", \"ejecucin\", \"ejecutora\", \"acuerdan\", \"participacion\", \"convenio\", \"presente\", \"clausula\", \"obligaciones\", \"nacional\", \"ejecucion\", \"parte\", \"programa\", \"universidad\", \"fecha\", \"altiplano\", \"vigencia\", \"indicador\", \"academia\", \"country\", \"magistratura\", \"clave\", \"fulbright\", \"considerarlo\", \"indicadores\", \"basicos\", \"millones\", \"auxiliares\", \"fomenten\", \"gestionara\", \"ministro\", \"aspirantes\", \"destinar\", \"incentivos\", \"minedu\", \"magistrados\", \"colabore\", \"continue\", \"tesoro\", \"planillas\", \"ratificar\", \"setecientos\", \"cuatrocientos\", \"incentiven\", \"alertas\", \"regularizacion\", \"emisin\", \"fiscal\", \"complementaria\", \"aseguramiento\", \"transferidos\", \"finanzas\", \"plenos\", \"ministerio\", \"permanencia\", \"educativo\", \"publicas\", \"licenciamiento\", \"herramienta\", \"linea\", \"disposicin\", \"metas\", \"denominada\", \"universidades\", \"educacion\", \"tcnica\", \"surtira\", \"educacin\", \"presupuesto\", \"compromisos\", \"final\", \"recursos\", \"decreto\", \"supremo\", \"resolucin\", \"servicio\", \"aprueba\", \"convenio\", \"documento\", \"cumplimiento\", \"universidad\", \"fecha\", \"norma\", \"universitaria\", \"general\", \"presente\", \"partes\", \"mediante\", \"parte\", \"superior\", \"clausula\", \"nacional\", \"pilar\", \"ucayali\", \"celular\", \"software\", \"irreconciliable\", \"entreguen\", \"citaciones\", \"dirigirse\", \"hardware\", \"adaptado\", \"dejara\", \"enfoquen\", \"estrategicos\", \"ftorresunapedupe\", \"gestionadas\", \"importar\", \"isotipos\", \"mejorado\", \"resaltando\", \"promocionar\", \"transfiriendo\", \"destinatarios\", \"personalizado\", \"coasa\", \"preferenciales\", \"suponga\", \"trasmitidas\", \"perentorio\", \"recomendandolo\", \"contadores\", \"plataforma\", \"parametros\", \"concluidos\", \"autores\", \"encargada\", \"callao\", \"mejoras\", \"correo\", \"requeridos\", \"electrnico\", \"beneficios\", \"denominado\", \"pendientes\", \"labor\", \"implementacion\", \"creado\", \"herramienta\", \"reconocer\", \"desarrollado\", \"legislativo\", \"implementacin\", \"partes\", \"nacional\", \"universidad\", \"convenio\", \"escrito\", \"informatica\", \"especifico\", \"derecho\", \"compromisos\", \"unapuno\", \"resolucin\", \"presente\", \"integrada\", \"investigacin\", \"parte\", \"universitaria\", \"investigacion\", \"interinstitucional\", \"decreto\", \"clausula\", \"fecha\", \"identificado\", \"altiplano\", \"acadmica\", \"acordo\", \"brasil\", \"federal\", \"universidade\", \"engenharia\", \"technology\", \"unicamp\", \"atividades\", \"estudantes\", \"visuais\", \"deste\", \"brazilian\", \"btsym\", \"symposium\", \"satlite\", \"qualquer\", \"hernandez\", \"visuales\", \"tcnicoadministrativo\", \"origem\", \"campinas\", \"lcvfeecunicamp\", \"faculdade\", \"elche\", \"anfitria\", \"serao\", \"candidatos\", \"eltrica\", \"laboratrio\", \"becarios\", \"anfitriona\", \"doctorado\", \"evento\", \"intercambio\", \"laboratorio\", \"receptora\", \"origen\", \"acuerdo\", \"tesis\", \"ingenieria\", \"institucin\", \"clausula\", \"acadmica\", \"universidad\", \"partes\", \"programa\", \"altiplano\", \"presente\", \"periodo\", \"nacional\", \"debera\", \"acadmico\", \"fecha\", \"forma\", \"estudiantes\", \"unapuno\", \"procalidad\", \"pmesut\", \"interamericano\", \"concursables\", \"camelidos\", \"endeudamiento\", \"sustentan\", \"laureles\", \"anticipado\", \"ficuni\", \"concluyen\", \"correctamente\", \"conexos\", \"entra\", \"elaborara\", \"sudamericanos\", \"seriedad\", \"convocadas\", \"biotecnologias\", \"mineduuemcebs\", \"cursandose\", \"prohibicion\", \"demuestre\", \"satisfaga\", \"componente\", \"gestores\", \"enteron\", \"adquiere\", \"incumplir\", \"incurrir\", \"ejecutora\", \"convocatoria\", \"basica\", \"unidad\", \"mejora\", \"bienes\", \"mejoramiento\", \"manual\", \"cierre\", \"financiamiento\", \"circunstancia\", \"multianual\", \"fondos\", \"calidad\", \"educacion\", \"publicas\", \"proyecto\", \"superior\", \"operacin\", \"educacin\", \"servicios\", \"programa\", \"administrativa\", \"ministerial\", \"educativa\", \"gestion\", \"universidad\", \"convenio\", \"clausula\", \"ejecucin\", \"resolucin\", \"partes\", \"decima\", \"parte\", \"actividades\", \"nacional\", \"plazo\", \"universidades\", \"universitaria\", \"institution\", \"project\", \"vliruos\", \"agreement\", \"flemish\", \"partner\", \"professor\", \"budget\", \"promoter\", \"activity\", \"implementation\", \"shall\", \"between\", \"report\", \"south\", \"provision\", \"initiative\", \"which\", \"antwerpen\", \"belgian\", \"cost\", \"article\", \"framework\", \"financial\", \"geenen\", \"towards\", \"tudela\", \"development\", \"production\", \"around\", \"party\", \"universiteit\", \"cooperation\", \"local\", \"walter\", \"altiplano\", \"metalurgica\", \"geoldgica\", \"profamilia\", \"camiper\", \"geologica\", \"minero\", \"drogas\", \"embarazos\", \"mineras\", \"presenciales\", \"organizadores\", \"ponente\", \"estilos\", \"cuestin\", \"organiza\", \"prohibe\", \"macroregin\", \"autorizard\", \"enfatizando\", \"felicitacin\", \"deseados\", \"castigo\", \"humillante\", \"banner\", \"alcohol\", \"comprensin\", \"sistematizar\", \"claulsula\", \"merituar\", \"modificcion\", \"cumplidas\", \"familia\", \"mineria\", \"orientacion\", \"ramos\", \"ingenieria\", \"nfasis\", \"especializacin\", \"facultad\", \"minera\", \"familiar\", \"mina\", \"social\", \"educativa\", \"capacitacin\", \"camara\", \"promoviendo\", \"acciones\", \"programas\", \"apoyo\", \"profesionales\", \"trabajo\", \"nivel\", \"violencia\", \"educativos\", \"egresados\", \"chuquisaca\", \"xavier\", \"educando\", \"tango\", \"aceptando\", \"acogera\", \"aicanzadas\", \"altoplamo\", \"aportacion\", \"atacar\", \"brindando\", \"bvvanstoced\", \"ectori\", \"efeciuar\", \"ended\", \"ginecoobstetricia\", \"globales\", \"internacicnales\", \"maternoinfantil\", \"nactonad\", \"nirememeueecamsmenmnems\", \"ocasionen\", \"ocuparan\", \"programara\", \"psicolgico\", \"recstoral\", \"segundaobjetivo\", \"sucrebolivia\", \"suscnipcidn\", \"visado\", \"asimilados\", \"integradas\", \"ofrecera\", \"rentadas\", \"agrupa\", \"arcelino\", \"elcipcd\", \"enraizada\", \"establecideenel\", \"grectoral\", \"jhomar\", \"marcelino\", \"nunapunooad\", \"peruconsejo\", \"preserva\", \"restuccin\", \"unasolucin\", \"arquitectonicos\", \"capjen\", \"caret\", \"eleccidn\", \"ersig\", \"federacin\", \"gburca\", \"gshinacy\", \"gubernamenteles\", \"hervas\", \"laciudadde\", \"reesoluciim\", \"urbanistico\", \"abasrau\", \"deintercambio\", \"donaii\", \"onaires\", \"acadmica\", \"acadmico\", \"acceso\", \"accion\", \"acciones\", \"aclatants\", \"acordada\", \"acorde\", \"actividad\", \"actividades\", \"actos\", \"acuerdo\", \"acuerdos\", \"adecuado\", \"adelante\", \"ademas\", \"adenda\", \"adhesin\", \"adjunta\", \"administracin\", \"administrativa\", \"administrativo\", \"adopta\", \"adoptada\", \"adoptan\", \"afectada\", \"afios\", \"agosto\", \"algun\", \"alguna\", \"agrupa\", \"arcelino\", \"elcipcd\", \"enraizada\", \"establecideenel\", \"grectoral\", \"jhomar\", \"marcelino\", \"nunapunooad\", \"peruconsejo\", \"preserva\", \"restuccin\", \"unasolucin\", \"arquitectonicos\", \"capjen\", \"caret\", \"eleccidn\", \"ersig\", \"federacin\", \"gburca\", \"gshinacy\", \"gubernamenteles\", \"hervas\", \"laciudadde\", \"reesoluciim\", \"urbanistico\", \"abasrau\", \"deintercambio\", \"donaii\", \"onaires\", \"acadmica\", \"acadmico\", \"acceso\", \"accion\", \"acciones\", \"aclatants\", \"acordada\", \"acorde\", \"actividad\", \"actividades\", \"actos\", \"acuerdo\", \"acuerdos\", \"adecuado\", \"adelante\", \"ademas\", \"adenda\", \"adhesin\", \"adjunta\", \"administracin\", \"administrativa\", \"administrativo\", \"adopta\", \"adoptada\", \"adoptan\", \"afectada\", \"afios\", \"agosto\", \"algun\", \"alguna\"], \"Freq\": [2387.0, 2776.0, 7802.0, 9262.0, 4958.0, 614.0, 1131.0, 6898.0, 1205.0, 1011.0, 1146.0, 4354.0, 1334.0, 664.0, 773.0, 1158.0, 3517.0, 2215.0, 2023.0, 1412.0, 527.0, 1073.0, 1135.0, 6030.0, 1486.0, 595.0, 418.0, 418.0, 864.0, 380.0, 69.10681624171636, 64.18779023690875, 59.41163486845262, 58.88361750583578, 56.46969621524541, 54.94305011807667, 46.875200741868575, 45.00292883248125, 39.265417657368374, 38.78273468214285, 37.23122487001124, 35.39587181011424, 41.576623273030165, 33.825925217786605, 35.77401107771645, 33.60215384171616, 33.15856359269902, 32.63617031265201, 31.469603425843456, 31.334514280016876, 31.171872893665125, 220.35964124907474, 30.975853441871415, 30.707956073895925, 30.55063203940285, 30.43240690690429, 30.381156116399605, 30.300086571859715, 29.720176136980577, 29.508058469339076, 117.11594484069187, 62.83728167738309, 65.82839193976426, 59.21493608018452, 192.26673123409773, 177.49458018432486, 146.76731036860232, 112.18556774097573, 111.48543121889163, 57.71950240612118, 46.819071080320505, 148.9140300964546, 192.18698948357599, 151.57439407400184, 130.84055081256562, 368.9420563334463, 834.9278797378279, 98.34182673744681, 67.87099614783163, 989.1114034676352, 197.7110737243876, 183.77688627437675, 102.94125580998205, 381.5431303548668, 1385.2043895090897, 445.6472633928468, 3154.2995974159785, 2641.1097538301674, 463.91919127107434, 4063.179008224413, 382.67084537112606, 407.18687180920915, 186.86069508658224, 1658.2012770148485, 485.5334546033269, 169.45248795347322, 1266.6437883079025, 957.4489549440693, 2474.3549645399976, 866.5959935158711, 365.73700448791965, 759.0280940024705, 867.7730489461253, 808.7326652851436, 778.0779074329789, 1455.3991322356196, 991.2627509178949, 507.3253170759402, 546.0672915696193, 555.9631736405639, 1886.0190775645292, 583.0741830670222, 803.2838103537874, 804.5822076299409, 716.8185885183213, 596.1351637644176, 556.7916182953029, 556.3127725418601, 553.6786268350337, 596.5545902209, 556.8461628384108, 493.87369915740015, 240.22252300516223, 127.3247167565897, 101.62421397510549, 65.51978917492337, 65.19977989681897, 64.63651209133191, 61.15955551903559, 59.5367953332379, 59.089901947398225, 54.07705526827059, 53.70297042770259, 53.470281643768324, 52.373254663143825, 52.02760174610499, 45.196943649605835, 37.04050341466081, 36.67692397251208, 36.316244346341875, 35.93875136406537, 35.18776766032297, 33.752470282332794, 32.846273499372536, 32.836409406410056, 32.8172131393924, 32.260532120051856, 28.831482566761835, 27.578940085282664, 26.30676164575359, 26.1827408918137, 189.72888530468387, 33.05881799952692, 78.97563882096934, 56.3009138470031, 91.98673562581068, 43.69590281054021, 289.27050806763236, 49.699512799552366, 2718.1877034266063, 127.01538017398025, 144.5035783662466, 220.21145917356029, 138.6504885589959, 196.71232852796913, 72.39926798984219, 123.2450360069564, 124.17362057037813, 677.6963285021145, 1788.7824749242661, 1237.4211422583285, 707.303483960288, 291.15847701507624, 310.74482933720685, 565.8788066575921, 152.653897244089, 221.75671791662995, 1604.1543144497991, 661.1850165417881, 532.868365395784, 362.52473274892066, 365.8167273902075, 422.4296459936938, 951.1163737963863, 493.03505178599903, 330.0113439679773, 459.73380530996496, 294.79306175001636, 313.06056403817047, 290.3435772490851, 314.9586566035276, 618.0612868887637, 459.8065580895447, 496.46970364649013, 349.3497534446061, 359.5221706279054, 319.6739632887158, 344.5260382543742, 301.72427396833916, 291.606112513585, 156.94301658367203, 122.31299738824933, 118.11090322415866, 90.60027558794391, 84.77569793504729, 81.36160275001191, 75.45501275232256, 70.05553044182724, 69.24012280263089, 64.34484431724192, 58.81817363854875, 56.07422573266366, 51.317315880131694, 50.794656310285454, 49.44343864132531, 44.441310690998456, 42.350799010505604, 42.25290246096889, 41.508034141968125, 39.7865344946734, 39.02015623266067, 38.687505775004745, 38.51160452685354, 37.48734827783528, 37.26717697960059, 36.718362869888225, 36.13363028075602, 35.73702760150944, 33.999046360948604, 32.71859153835291, 987.4452157593532, 2564.2714471215495, 83.61960476476163, 365.92241888599443, 84.71546851212763, 165.56250215274198, 746.0110006009202, 269.8983935624246, 121.01530335714259, 57.68929527385061, 173.11054964819172, 127.85647011365425, 157.86006730836837, 79.51355168519524, 99.29553850637033, 552.7969108580337, 166.2073969091324, 348.51545101802924, 836.9772419362209, 359.40567761536715, 396.1944294692666, 722.3665686183147, 430.81321301301483, 1446.1252186542322, 271.8631134187481, 235.1630757384923, 401.8810934540747, 526.760266210184, 1276.0446710648555, 271.7409771375884, 241.95974298442854, 912.6954063106483, 371.8255036768586, 281.9526653229585, 380.1567235686021, 615.9964703854035, 470.80621447585236, 290.89817468892574, 580.7483637489939, 360.34235116834, 366.94711031870435, 392.50654044275865, 410.423765145359, 335.8097013587153, 281.58777566618465, 283.40029200447316, 263.4647218555267, 167.85962049431868, 164.56837785786837, 99.53557137675121, 83.43987863852749, 70.63511205503923, 56.616226071774456, 52.32070932654598, 51.763755250605335, 48.01875247698816, 42.99061041867032, 42.595978620000565, 42.3913075064722, 41.14057475510055, 39.1339612559519, 66.67946681478351, 31.246227763460155, 29.816817198648806, 26.67870991270936, 26.56532287417649, 26.54516657175304, 25.681326745420343, 25.269587020089883, 25.14288386412129, 72.26407926944006, 23.722245217028814, 23.64059890595317, 22.431484992921273, 21.691099906465222, 21.6305757641786, 215.89766342752932, 54.70448543084053, 465.72880683057946, 92.37878524712485, 271.3064699577169, 64.6097779127319, 94.74692834897692, 714.9014771834626, 735.5687124644334, 50.63316313813417, 347.67675616473304, 118.71663838159827, 678.234407295746, 1088.3807606476935, 302.38793614616065, 295.5399167431561, 108.66912021132836, 120.95593162603863, 225.2653549889102, 104.28808174685572, 209.52331563863754, 162.68200352494654, 273.50149159019827, 256.5465271107712, 620.4965819692843, 1099.9982430922826, 425.0525226938556, 291.509850529088, 193.67603716115087, 638.3620106001285, 172.69241570698972, 536.9929889930711, 246.0991910216553, 494.2916518187943, 415.1343440319524, 262.8568142234968, 230.8011337178316, 281.526488576634, 276.06539953241486, 246.35462162229683, 296.9723726980536, 248.18529517340681, 243.46095167592307, 180.60191820880718, 121.09719259804136, 116.18571509103974, 99.88673605686368, 70.00981621846579, 64.52164959527519, 58.30545144003077, 57.29242720124108, 53.4215479867869, 52.56543394504769, 41.237886120883566, 38.50120395605462, 36.7665576077388, 26.795356005464438, 22.051905129672306, 21.414242629616343, 20.6822427292069, 20.678424443747918, 20.46403544008096, 20.39437490501943, 18.449612501388437, 18.0143250162624, 17.97118501188015, 17.741571422608526, 17.419087419728164, 17.177178804138517, 15.312544481910175, 15.339621202147638, 14.433416257949787, 14.204551611760484, 193.15502825303588, 57.89873856130684, 40.66852752421546, 96.31027828641751, 87.43508793637666, 87.33947630280257, 98.17522601704769, 112.75090026141191, 84.4123830841485, 66.80910716520258, 34.86667881861295, 86.51128356544474, 155.9829554869445, 32.90472456631037, 62.916810238555335, 136.6679811888613, 182.5885095985761, 137.4980632050358, 140.8706201177694, 102.48259337980114, 125.25332348579822, 209.75314898545983, 255.07439344603458, 313.55763720536396, 529.2836852565831, 326.09241947938955, 85.96160937065342, 304.9789694598843, 320.51053638704536, 269.05738738871145, 138.7510493959615, 139.71431085470385, 170.90497397195512, 154.89749712230707, 118.74096174782385, 116.80663451971313, 108.32034721132663, 110.27519165425048, 112.44889815972194, 110.84223426582709, 110.99010417545561, 379.71906976196163, 144.76979288704203, 109.43878344175023, 93.63266231590025, 87.33331266251335, 63.35548712394197, 55.27326203066309, 50.86440784440811, 48.32012349411075, 46.242695267150964, 35.99838716540242, 32.190340979202674, 30.855613362152884, 30.484048818777577, 28.629987794683586, 117.31102705995679, 27.85494274794153, 26.76795264964674, 26.282594117282656, 23.046884479774494, 22.6900328294717, 22.179270350398355, 21.772200657912173, 21.12964955370283, 20.77417236807058, 20.640047987689808, 19.881726058158858, 17.878229562425012, 17.80100635001435, 17.46690431586273, 172.06345601463354, 58.24785955089137, 45.67046444651097, 248.68088007754542, 65.33663048371807, 53.044904227755595, 49.11325638462445, 70.0462531535469, 39.00003437293232, 30.841420762386832, 45.98421522189199, 84.6922203694087, 267.4537303307324, 62.041048163526966, 153.14256423069725, 141.09801346542613, 83.95152302784443, 104.59741805501832, 490.8923608423231, 172.12909644076188, 94.17361154485828, 112.32809737679345, 70.06397094913801, 293.3365360795022, 241.36398696184898, 197.72436640630818, 104.24291746270463, 221.9260961349547, 96.74081105917705, 136.59860598530994, 91.07559043599599, 135.01340861406695, 97.51538589432128, 97.98549732872067, 82.6861251894597, 37.23410145794557, 31.260208058329116, 29.756740306091324, 22.75953904695711, 22.239557694460967, 12.461450739267486, 10.992369113233826, 10.82121424650965, 10.644869898710029, 10.340943055699972, 8.485952746055947, 7.109480267018293, 6.595647303392346, 6.582071428203783, 6.417090283123938, 6.406405251226521, 48.01773349579617, 221.207790442581, 5.880601928884295, 5.606584786301144, 5.53081528944344, 5.4619865574075925, 5.440490245033458, 5.37178236278898, 5.137168481563007, 5.02879944201482, 4.836432322219935, 4.734976638262571, 4.661336340306421, 20.794777258777078, 52.15340106816725, 36.00925103089918, 20.60518013248197, 20.58112479462873, 16.205457011842455, 29.034585143170048, 308.7779778929778, 24.23057752596992, 77.4072831313239, 109.92597357375877, 18.87271905254534, 48.90952355899346, 65.54281374976705, 44.10215374278671, 53.95290512720884, 41.892448115612574, 183.2802985638084, 146.5835442826748, 105.16521273963103, 40.133469850526346, 149.3096497894902, 69.05657085351226, 137.18866987344364, 50.871506217263374, 129.29336279981607, 134.71745360357326, 101.96284443439873, 134.17794691158903, 100.68605932862549, 77.21046159619489, 251.91606961318894, 101.84488174869787, 117.85432455185263, 212.5482010485183, 125.34744351980217, 89.28936751202416, 107.10116161191682, 97.2087548409877, 125.20581919247562, 119.24385628360302, 92.90344572367853, 99.8925737183996, 81.45092545637823, 85.18383680446445, 83.3112115616908, 126.38362668890149, 43.245103875052536, 39.75964605586163, 206.58827240533742, 12.623070343646933, 12.197125795438163, 11.817560091037114, 11.678935017527918, 11.578410894765788, 10.799434519325365, 10.799434519325365, 10.799434519325365, 10.799434519325365, 10.799434519325365, 10.799434519325365, 10.799434519325365, 10.799434519325365, 10.799434519325365, 10.799434519325365, 10.585687732780952, 10.117978783324178, 10.008551430286275, 10.00855076432545, 9.590037672968155, 9.480353925012444, 9.327105017736645, 9.327105017736645, 8.57995690802814, 8.536175977400598, 8.200447810297257, 162.3060970390492, 15.431064861985375, 23.15300716592326, 43.982708766131985, 22.401598238853367, 19.03444569646477, 22.727474181504633, 51.60945463391153, 23.11074262809532, 36.26932938648805, 22.213056737631526, 37.02621251154335, 20.835061252932146, 30.014473474559928, 51.65097329561494, 19.036488864277324, 31.47636404020933, 22.119751630217547, 17.863798446698635, 41.02169776084583, 44.65208730256318, 171.41405432794684, 194.01810732158788, 197.31257823140578, 211.39026551656627, 62.90020774587841, 30.090659392994255, 81.02756551694533, 60.16464845460522, 59.786595813199646, 64.59117818011796, 69.00076586223061, 101.44742150594031, 39.73737898970105, 58.53180840889972, 74.07815774938305, 72.46607969837255, 61.67661927433033, 61.411497605865485, 54.2104845107522, 67.40879982814947, 57.185528642552754, 45.88943186092227, 56.39985469909053, 42.174116330897064, 91.0758000582047, 66.72744482254969, 61.52771782527799, 55.493272240795264, 51.45583990000387, 44.05000590494361, 42.03712692746547, 35.72382704759879, 34.548190991893485, 33.7116545662716, 33.51955376453909, 32.320029142351586, 32.320029142351586, 32.320029142351586, 30.77915839108384, 30.67219963672591, 29.563588103505552, 29.43952790860991, 29.086613235814536, 28.251061141908576, 25.36176707404856, 24.91415545649633, 24.484256517724766, 24.203528816816945, 22.7301879841571, 22.580998223922357, 21.500256243922394, 21.36047187907544, 21.061847598703473, 20.724446734645927, 33.64124044989391, 67.12286039862786, 129.93483475525295, 161.33314308776008, 49.205176015751675, 35.99821745157208, 58.185821683908124, 174.85750100137173, 40.49160176897108, 80.25465518129512, 73.86466474733523, 112.94116266411906, 63.25042533869202, 111.49615312092808, 94.50068171375432, 59.649057240161724, 87.85752751298551, 89.14929354274605, 51.69484728326384, 85.72175524998465, 50.25534153031244, 54.47282719352825, 58.65181807770296, 52.119215971265824, 52.85270715491648, 49.0325475180447, 62.66132929754728, 35.19362555115647, 21.31031350272868, 20.607759681698667, 20.344462958321394, 12.915595433275529, 11.325546094483414, 11.10654767175029, 9.122295562607453, 8.817616196216296, 8.272171321354666, 8.13927891250271, 8.031942448459153, 7.924789225831434, 7.877533508458855, 31.783206125804625, 7.450886411912462, 7.428397579373951, 6.842657667861158, 6.8018372144972306, 6.6074878785451325, 6.485498957205752, 6.484549093539972, 6.3685273603476915, 6.3594774781776575, 6.067795163638547, 5.950089354576885, 5.880601591956021, 5.880601591956021, 5.880601591956021, 185.640457331159, 60.887188402469356, 59.58766022597924, 230.02909723985576, 90.45603046685436, 99.14498438853606, 68.39600777221271, 19.914392862265508, 36.89002721046966, 58.08107672883192, 13.6704553294759, 8.782322279023283, 24.59654510975107, 119.78464926777495, 80.19318984718174, 50.95538898226391, 80.19535384104499, 110.58811413113725, 15.27651398461922, 72.64067176265151, 87.10286712798103, 74.15123920241803, 44.988480060177345, 32.20633174616226, 28.549281840492835, 48.3410350874117, 133.62081716418197, 141.46955309992842, 98.92211296526543, 55.72028407805285, 62.12330258367654, 82.6581783038601, 48.92752728596163, 64.0833624630377, 57.91622926082999, 50.716187881799414, 41.09979306024284, 41.37864161970184, 41.47497175666271, 110.2283049209061, 108.42703220958754, 100.94516745545442, 86.88739559081706, 72.78402798574083, 58.01519148604158, 48.95192361539407, 44.29616143469398, 35.23583198595673, 33.656236099318804, 31.715686205520534, 31.217315793308835, 30.311281175074114, 27.50741422256561, 27.022161287207272, 26.09511260157563, 25.84877880260821, 25.520903795631195, 24.67539799137014, 24.67539799137014, 24.47253141765374, 23.502018853493073, 23.502018853493073, 23.299143912971687, 22.32863469553301, 22.32863469553301, 22.32863469553301, 21.311863739978776, 20.467127681776216, 19.981871399695883, 51.04260076437484, 27.01571717400887, 27.226722975613356, 29.24598275061475, 22.598832295674782, 23.32194680327411, 62.388412707811156, 56.389044077169814, 44.71654479958422, 33.40974243891394, 23.282589895617924, 10.868902424845047, 8.53302819219034, 7.895008206588969, 16.170424091641795, 5.875599753036048, 5.705141019068307, 4.848825934235937, 4.800354900220542, 4.490830729143948, 4.184014326034, 4.1007160071476285, 3.9296792945524257, 3.8577652649562206, 3.677230350034985, 3.6756876618720598, 3.6739208196529374, 3.6687880827324038, 3.6687880827324038, 3.486652812107623, 3.402569302413933, 3.360469717123811, 3.2228912554691487, 3.073684476343954, 3.073684476343954, 3.073684476343954, 6.030602282896255, 19.74906575358782, 10.075655755327272, 13.967986683487135, 15.503801657503313, 94.03917395822472, 9.425513857204296, 14.135614820884761, 106.953762990048, 17.283200413436468, 12.674987894067582, 14.432192791994723, 42.64875490847732, 15.943170975295775, 25.847058259292062, 11.793880002237508, 11.081730836708417, 25.318810554996244, 22.210072684893234, 15.819697277305181, 20.11098984496423, 19.937988526324162, 12.442241700123478, 10.896432973898309, 10.690040520212433, 10.649243830373956, 0.09080238498574619, 0.09080238498574619, 0.0008752353484841131, 0.0008752353484841131, 0.0008750424780926054, 0.0008750424780926054, 0.0008750424780926054, 0.0008750424780926054, 0.0008750424780926054, 0.0008750424780926054, 0.0008750424780926054, 0.0008750424780926054, 0.0008750424780926054, 0.0008750424780926054, 0.0008750424780926054, 0.0008750424780926054, 0.0008750424780926054, 0.0008750424780926054, 0.0008750424780926054, 0.0008750424780926054, 0.0008750424780926054, 0.0008750424780926054, 0.0008750424780926054, 0.0008750424780926054, 0.0008750424780926054, 0.0008750424780926054, 0.0008750424780926054, 0.0008750424780926054, 0.0008750424780926054, 0.0008750424780926054, 0.0008750424780926054, 0.0008750424780926054, 0.0008750424780926054, 0.0008750424780926054, 4.5145069266637425e-05, 4.5145069266637425e-05, 4.5145069266637425e-05, 4.5145069266637425e-05, 4.5145069266637425e-05, 4.5145069266637425e-05, 4.5145069266637425e-05, 4.5145069266637425e-05, 4.5145069266637425e-05, 4.5145069266637425e-05, 4.5145069266637425e-05, 4.5145069266637425e-05, 4.5145069266637425e-05, 4.5145069266637425e-05, 4.5145069266637425e-05, 4.5145069266637425e-05, 4.5145069266637425e-05, 4.5145069266637425e-05, 4.5145069266637425e-05, 4.5145069266637425e-05, 4.5145069266637425e-05, 4.5145069266637425e-05, 4.5145069266637425e-05, 4.5145069266637425e-05, 4.5145069266637425e-05, 4.5145069266637425e-05, 4.5145069266637425e-05, 4.5145069266637425e-05, 4.5145069266637425e-05, 4.5145069266637425e-05, 4.5145069266637425e-05, 4.5145069266637425e-05, 4.5145069266637425e-05, 4.5145069266637425e-05, 4.5145069266637425e-05, 4.5145069266637425e-05, 4.5145069266637425e-05, 4.5145069266637425e-05, 4.5145069266637425e-05, 4.5145069266637425e-05, 4.5145069266637425e-05, 4.5145069266637425e-05, 4.5145069266637425e-05, 4.5145069266637425e-05, 4.5145069266637425e-05, 4.5145069266637425e-05, 4.5145069266637425e-05, 4.5145069266637425e-05, 4.5145069266637425e-05, 4.5145069266637425e-05, 4.5145069266637425e-05, 4.5145069266637425e-05, 4.5145069266637425e-05, 4.5145069266637425e-05, 4.5145069266637425e-05, 4.5145069266637425e-05, 4.5145069266637425e-05, 4.5145069266637425e-05, 4.5145069266637425e-05, 4.5145069266637425e-05, 4.5121643735213305e-05, 4.5121643735213305e-05, 4.5121643735213305e-05, 4.5121643735213305e-05, 4.5121643735213305e-05, 4.5121643735213305e-05, 4.5121643735213305e-05, 4.5121643735213305e-05, 4.5121643735213305e-05, 4.5121643735213305e-05, 4.5121643735213305e-05, 4.5121643735213305e-05, 4.5121643735213305e-05, 4.5121643735213305e-05, 4.5121643735213305e-05, 4.5121643735213305e-05, 4.5121643735213305e-05, 4.5121643735213305e-05, 4.5121643735213305e-05, 4.5121643735213305e-05, 4.5121643735213305e-05, 4.5121643735213305e-05, 4.5121643735213305e-05, 4.5121643735213305e-05, 4.5121643735213305e-05, 4.5121643735213305e-05, 4.5121643735213305e-05, 4.5121643735213305e-05, 4.5121643735213305e-05, 4.5121643735213305e-05, 4.5121643735213305e-05, 4.5121643735213305e-05, 4.5121643735213305e-05, 4.5121643735213305e-05, 4.5121643735213305e-05, 4.5121643735213305e-05, 4.5121643735213305e-05, 4.5121643735213305e-05, 4.5121643735213305e-05, 4.5121643735213305e-05, 4.5121643735213305e-05, 4.5121643735213305e-05, 4.5121643735213305e-05, 4.5121643735213305e-05, 4.5121643735213305e-05, 4.5121643735213305e-05, 4.5121643735213305e-05, 4.5121643735213305e-05, 4.5121643735213305e-05, 4.5121643735213305e-05, 4.5121643735213305e-05, 4.5121643735213305e-05, 4.5121643735213305e-05, 4.5121643735213305e-05, 4.5121643735213305e-05, 4.5121643735213305e-05, 4.5121643735213305e-05, 4.5121643735213305e-05, 4.5121643735213305e-05, 4.5121643735213305e-05], \"Total\": [2387.0, 2776.0, 7802.0, 9262.0, 4958.0, 614.0, 1131.0, 6898.0, 1205.0, 1011.0, 1146.0, 4354.0, 1334.0, 664.0, 773.0, 1158.0, 3517.0, 2215.0, 2023.0, 1412.0, 527.0, 1073.0, 1135.0, 6030.0, 1486.0, 595.0, 418.0, 418.0, 864.0, 380.0, 69.79363381679306, 64.87460804571509, 60.098452290314306, 59.570435101725636, 57.1565149632842, 55.629868248883525, 47.56201898905701, 45.68974677402777, 39.95223536138829, 39.46955201376476, 37.91837569148685, 36.08268955219285, 42.406608381861204, 34.512742933608116, 36.5008418202188, 34.28897198240866, 33.84538133159636, 33.32298820280668, 32.15642167659155, 32.02133266930736, 31.85869049580619, 225.22869339309975, 31.662673538101128, 31.394773937951594, 31.23745162631259, 31.11922612514011, 31.067973669873012, 30.986904935987273, 30.406993934151668, 30.19487683840689, 124.18381232409202, 65.4435898848799, 68.93165776824307, 62.06899519516549, 212.46752667979874, 196.53296555581417, 162.5460779722347, 122.72308541341103, 122.26511322818925, 61.111030859070816, 48.928483794500885, 169.89904985712474, 224.0814277462758, 174.2661306327102, 148.89384638124437, 460.47025092525774, 1135.9277865717177, 109.96109766124636, 73.26629089683273, 1412.4196445235423, 239.45416995510902, 221.51231385745075, 116.4465724129988, 515.4684778195301, 2233.3021114520443, 630.1780473312243, 6030.175931600923, 4958.376877768378, 697.9910811840308, 9262.143181048983, 557.8952729080714, 614.1891953358448, 240.84895705625436, 3517.251902702345, 774.5389672644613, 214.17354938038918, 2650.646946504588, 1963.702652165916, 6898.835298005276, 1854.2156089524153, 596.1619172010336, 1652.562722663509, 2023.9066289568764, 1841.2602478337406, 1748.6850690866509, 4354.018933738726, 2515.5393288916866, 966.4791071195152, 1105.2894948882133, 1156.5248194710255, 7802.873844209041, 1250.0811841808988, 2215.549128268699, 2596.9674032905996, 2245.348950793081, 1495.6933825982894, 1355.9108553583378, 1429.013672859326, 1412.560459294576, 2084.2574834090415, 1746.8975393025335, 494.56185893303723, 240.91068282474143, 128.0128763343148, 102.31237338580621, 66.20794900447606, 65.88793952701742, 65.32467160268911, 61.847715187925544, 60.22495574106931, 59.778061829027465, 54.76521476131138, 54.39113002816456, 54.15844135528223, 53.06141417966911, 52.71576142902167, 45.88510335659083, 37.72866310767538, 37.365085270871816, 37.00440436222572, 36.62691111474464, 35.87592758372095, 34.440629856992054, 33.53443372323795, 33.52456960680139, 33.50537332357027, 32.948691605724484, 29.519642381291323, 28.26710055122498, 26.9949238454873, 26.870900584582575, 195.33222319928726, 33.941156837954615, 82.61443133301715, 59.64109525665845, 101.57276814711966, 46.532251736444415, 418.49182377918555, 55.56667939651851, 7802.873844209041, 178.12414879645797, 213.95503422117386, 369.13206413603166, 209.15165962125272, 330.06672644846657, 90.32709454347665, 180.9749958513979, 183.0034508327556, 1721.3606409327654, 6898.835298005276, 4354.018933738726, 2084.2574834090415, 614.5748179352593, 700.3536687696436, 1746.8975393025335, 255.59724669359045, 446.66844115675576, 9262.143181048983, 2515.5393288916866, 1809.452817552667, 992.0471525667172, 1073.0056263189133, 1365.013397844086, 6030.175931600923, 1963.702652165916, 992.5258851839226, 1854.2156089524153, 839.0278119053628, 967.8042311716739, 887.4843752667249, 1131.2184416005769, 4958.376877768378, 2596.9674032905996, 3517.251902702345, 1473.271277379785, 2215.549128268699, 1429.013672859326, 2650.646946504588, 1355.9108553583378, 1652.562722663509, 157.64063789874024, 123.01061840123734, 118.80852375104723, 91.29789609184375, 85.4733185167474, 82.05922360124887, 76.15263321376091, 70.75315094062601, 69.9377433980948, 65.04246494252168, 59.51579431194664, 56.77184622546901, 52.01493808118926, 51.492276847128835, 50.14105913413066, 45.1389311896352, 43.04842129658098, 42.95052455609877, 42.20565461761614, 40.48415529284958, 39.717776713399395, 39.38512680562055, 39.20922536781293, 38.18497019079503, 37.96479742716616, 37.41598336161902, 36.83125074802578, 36.43464819230218, 34.696667280467445, 33.41651216813935, 1011.5094805306346, 2776.6376602431037, 87.5033254864431, 407.13271607388907, 90.16015314683027, 182.94602904291884, 914.2779420534405, 335.33931505273955, 139.6652620679627, 61.39959598033895, 211.8491446304279, 150.88550765489722, 200.05066763815603, 92.3012990374276, 123.88795247270674, 1156.5248194710255, 245.03398407530221, 652.895334577643, 2387.497336955541, 756.4047838283902, 871.7433905651599, 2245.348950793081, 1146.3419717302936, 7802.873844209041, 592.1251970069445, 486.89223416226406, 1158.61967942447, 1809.452817552667, 9262.143181048983, 664.3456493296917, 564.1526054464541, 6898.835298005276, 1334.6387303112328, 773.4080800390004, 1486.6594365639153, 4354.018933738726, 2596.9674032905996, 910.0961396110922, 6030.175931600923, 1963.702652165916, 2515.5393288916866, 3517.251902702345, 4958.376877768378, 2215.549128268699, 1098.6651883372858, 1841.2602478337406, 264.1535779500472, 168.5484767916339, 165.25723423117418, 100.22442764520906, 84.12873550267452, 71.32396828329014, 57.30508251791648, 53.009566307506, 52.45261154318737, 48.707609244583374, 43.67946740556891, 43.284836186221185, 43.08016519939083, 41.82943254996721, 39.82281765033775, 68.14229131131323, 31.93508497666672, 30.505675819825065, 27.367565958622166, 27.254179975446462, 27.234023410095936, 26.370186280614966, 25.958444839282837, 25.83174064880924, 74.27127462936566, 24.411101977670697, 24.329455448417132, 23.120342289605976, 22.37995608499305, 22.319432867429605, 235.37078894930485, 57.79906787901917, 535.3309009545487, 105.99770837685892, 345.08022553811026, 73.0983989925101, 114.34846497561188, 1146.3419717302936, 1205.5906953802303, 57.07751917169051, 529.9549025130426, 156.50128377155045, 1334.6387303112328, 2387.497336955541, 564.1526054464541, 587.2760369561635, 152.8256750763856, 178.43301149186715, 418.37991462788625, 150.08770616109996, 422.7445332433951, 294.2920289500328, 652.895334577643, 592.1251970069445, 2596.9674032905996, 9262.143181048983, 2245.348950793081, 1158.61967942447, 527.1039010453466, 7802.873844209041, 433.11127797404407, 6898.835298005276, 1098.6651883372858, 6030.175931600923, 4354.018933738726, 1412.560459294576, 1131.2184416005769, 2215.549128268699, 2233.3021114520443, 1473.271277379785, 3517.251902702345, 2084.2574834090415, 2650.646946504588, 181.27819254230548, 121.77346697760044, 116.86198947059881, 100.56301238559774, 70.68609058160523, 65.19792415691316, 58.98172616593635, 57.96870296582861, 54.09782232028519, 53.24170971799122, 41.91416047012776, 39.177478380208385, 37.44283230481563, 27.471649763787845, 22.728181108673365, 22.09051702400394, 21.358518311766865, 21.354699888871888, 21.14032376322407, 21.07064957728154, 19.125886851646865, 18.690602981125526, 18.647460004513533, 18.41784691726659, 18.09538531926787, 17.853453129258543, 15.988818873719401, 16.018040735648917, 15.109690583069812, 14.880828474463899, 203.70564844853743, 61.24633739694068, 43.30981270422693, 104.65516059260395, 97.26589034504804, 99.45674304759198, 112.9213025323005, 141.08689769985813, 105.86807553024742, 81.83381050031842, 39.72234694492276, 120.47878813940402, 271.1271120350955, 38.33108324024514, 87.50805936730846, 241.04521177730382, 357.14094745515075, 265.3085808334221, 292.791335892665, 192.79413913605703, 315.93748228794334, 802.6390803781366, 1205.5906953802303, 2023.9066289568764, 6898.835298005276, 4354.018933738726, 175.44527926199044, 7802.873844209041, 9262.143181048983, 6030.175931600923, 807.9320587067792, 871.7433905651599, 1748.6850690866509, 1841.2602478337406, 746.8362875450399, 755.4117337027459, 966.4791071195152, 1473.271277379785, 2650.646946504588, 3517.251902702345, 4958.376877768378, 380.40080033225456, 145.45152356718864, 110.12052261840589, 94.31439285547556, 88.01504383217606, 64.03721806682992, 55.954993361652114, 51.54613879310392, 49.00185434058055, 46.924426100626526, 36.68011770497775, 32.872071571637, 31.537344489613236, 31.16577987678656, 29.31171962121751, 120.17763669312787, 28.536681443345774, 27.449684034263907, 26.964325410371977, 23.728615167190306, 23.3717641180801, 22.861001266704953, 22.45393741539487, 21.81138094168126, 21.455903092004473, 21.321778672411938, 20.563457672352087, 18.5599606203024, 18.482736941770494, 18.148642749063395, 192.0917712424718, 63.79975773057881, 49.59182620879825, 317.17620164613936, 75.0153874398291, 59.77638547429477, 57.332010925682766, 88.13034028446233, 44.36722794200877, 33.71121996583104, 54.77949191133558, 116.00060534593166, 499.14346508856784, 88.13348432046783, 329.6516102259779, 416.533285620568, 176.7127556453117, 276.5345044913378, 4958.376877768378, 890.2454614089282, 280.4349702271149, 409.34729962741534, 158.86741923924097, 9262.143181048983, 6030.175931600923, 3517.251902702345, 557.8952729080714, 6898.835298005276, 505.76100389934834, 2650.646946504588, 643.1438120369658, 7802.873844209041, 2023.9066289568764, 4354.018933738726, 1652.562722663509, 37.94082337791915, 31.966930245773327, 30.46348756069806, 23.46626106245576, 22.94628016759224, 13.168173086438093, 11.699093347691086, 11.527937497565404, 11.351594735417367, 11.047668061231603, 9.192675184003313, 7.816203163946883, 7.30236921793171, 7.288794743690965, 7.123812501240878, 7.113127198038601, 53.45324976061985, 247.03636070098244, 6.587323958255737, 6.313307349387084, 6.237544483340491, 6.168708524911139, 6.147216271572519, 6.0785047988077725, 5.843891589327358, 5.7355223148109244, 5.543154236759299, 5.441698588104513, 5.36805957478249, 24.06545629083322, 62.35887168838666, 43.6292249785403, 25.341800988218466, 25.41850675076515, 20.573432290219955, 39.10051739951299, 664.3456493296917, 34.60422308488177, 142.33915219012556, 224.54737591635728, 27.549600138995075, 91.48383985150576, 135.1154346951522, 81.99905613982165, 106.82726236627789, 79.83566893121451, 654.3953743146839, 482.3958536087505, 335.0635877454059, 81.7599960970118, 595.0145108569263, 185.01029998380233, 843.8163546369206, 154.53580310382347, 834.6144370915189, 904.4489266097473, 638.7436845284542, 1486.6594365639153, 802.6390803781366, 452.3271648566171, 9262.143181048983, 966.4791071195152, 1495.6933825982894, 7802.873844209041, 2023.9066289568764, 795.7389426171385, 2515.5393288916866, 1841.2602478337406, 6030.175931600923, 4958.376877768378, 1748.6850690866509, 2650.646946504588, 1073.0056263189133, 3517.251902702345, 6898.835298005276, 127.07662317902125, 43.938100548982085, 40.452642411208195, 210.60800414256468, 13.316066849927312, 12.890122821479853, 12.510558651989419, 12.371933069877048, 12.271407501720075, 11.492430818505126, 11.492430818505126, 11.492430818505126, 11.492430818505126, 11.492430818505126, 11.492430818505126, 11.492430818505126, 11.492430818505126, 11.492430818505126, 11.492430818505126, 11.278686949450963, 10.810975082503939, 10.701547729466036, 10.701547063505211, 10.283034274691685, 10.17335120810109, 10.020101316916406, 10.020101316916406, 9.272953207207902, 9.229172276580359, 8.893445183302122, 176.6449706543587, 16.83902652630779, 28.343149134802776, 71.7776679628801, 30.714518235783686, 25.714278125107835, 33.45346500687307, 112.76536919396361, 36.004348873468594, 80.10637023720422, 39.84587196788466, 102.84530509617379, 37.55976904220066, 75.28356186473214, 228.6127163953378, 34.163122890327976, 91.48383985150576, 47.69961369130021, 31.276966076003003, 165.07125893212165, 215.9844949328232, 4958.376877768378, 6898.835298005276, 7802.873844209041, 9262.143181048983, 664.056589256779, 111.02511225658967, 1334.6387303112328, 688.1103195109474, 843.8163546369206, 1135.9277865717177, 1486.6594365639153, 6030.175931600923, 288.3837599603667, 1098.6651883372858, 2650.646946504588, 2515.5393288916866, 1412.560459294576, 1412.4196445235423, 904.4489266097473, 3517.251902702345, 2023.9066289568764, 589.0085341060011, 4354.018933738726, 710.3173507621026, 91.77050893372989, 67.42215371483138, 62.222426750735856, 56.18798113307697, 52.150548767150795, 44.74471477209053, 42.731835794612394, 36.418535931502234, 35.24289987579693, 34.40636343341852, 34.21426264006427, 33.01473800949851, 33.01473800949851, 33.01473800949851, 31.47386725823077, 31.366908512251097, 30.25829722412864, 30.134238607171007, 29.78132214796982, 28.94577003730734, 26.05647594957375, 25.60886432364326, 25.17896540162821, 24.898237841422162, 23.42489687117761, 23.275707107825802, 22.194965297348677, 22.05518074622237, 21.7565564658504, 21.419157244220166, 35.642193377231365, 84.67142498398793, 203.2030589653705, 418.61100428594915, 92.92103065192896, 55.055691196557824, 166.32016385656712, 2215.549128268699, 80.46688543047948, 614.1891953358448, 614.5748179352593, 3517.251902702345, 710.3173507621026, 7802.873844209041, 4958.376877768378, 643.1438120369658, 4354.018933738726, 6030.175931600923, 414.8163975196967, 6898.835298005276, 612.4364077115769, 1119.1323884546032, 2023.9066289568764, 1429.013672859326, 1809.452817552667, 1135.9277865717177, 63.35969506964714, 35.891991232801274, 22.008679150824445, 21.306125323305505, 21.042829158312145, 13.613962595272099, 12.023912626717006, 11.804913364657084, 9.82066185155899, 9.515982017545866, 8.970536988259687, 8.837650432058894, 8.730308204676266, 8.62315742701987, 8.575901160571279, 34.61686849109984, 8.149252068386486, 8.126763991088842, 7.5410237302627765, 7.500202896142035, 7.305853535019157, 7.183865168154924, 7.182915571851769, 7.0668935712968635, 7.057843611480922, 6.766162815835046, 6.648456150153391, 6.578967240051786, 6.578967240051786, 6.578967240051786, 280.4349702271149, 84.57969158400614, 95.33042290945264, 527.1039010453466, 191.977287925863, 222.80835984780637, 140.62327295418393, 31.166886505175633, 70.49424831303511, 177.64899739034925, 22.259924539856854, 11.225116777836917, 60.10538325069176, 864.437054079807, 482.3958536087505, 224.54737591635728, 499.14346508856784, 1073.0056263189133, 28.97485232566808, 595.0145108569263, 871.7433905651599, 643.1438120369658, 258.74961767826284, 154.6311805506919, 119.2306103166946, 515.4684778195301, 7802.873844209041, 9262.143181048983, 3517.251902702345, 890.2454614089282, 1486.6594365639153, 4958.376877768378, 697.9910811840308, 2650.646946504588, 2596.9674032905996, 6898.835298005276, 462.86112942263065, 654.3953743146839, 2515.5393288916866, 110.95250309536956, 109.15122994738131, 101.66936518175287, 87.61159334732524, 73.50822571203928, 58.73938922383534, 49.676127759415294, 45.020359243794665, 35.96002971225517, 34.38043387880732, 32.439883931818976, 31.941513531102597, 31.03547893211456, 28.231611948864053, 27.746359013505714, 26.819311799464735, 26.57297652890665, 26.245101521929637, 25.399595717668582, 25.399595717668582, 25.196729143952183, 24.226216579791515, 24.226216579791515, 24.02334163927013, 23.052832421831454, 23.052832421831454, 23.052832421831454, 22.036061560345075, 21.191325408074658, 20.706069125994325, 53.91453707563573, 28.54190322911067, 29.403496383830497, 162.33025355877209, 65.48938208290615, 4354.018933738726, 63.10407456538089, 57.104705865018516, 45.43220632439028, 34.12540396592998, 23.99825208608509, 11.584564040046526, 9.248689725374659, 8.610670050120579, 18.02505858802569, 6.5912708347843205, 6.420804395091858, 5.564489056283984, 5.516018805553033, 5.206494621859569, 4.899676479797261, 4.816380575915559, 4.645340819695357, 4.573426798477411, 4.3928918748410455, 4.39134923896856, 4.389582489023535, 4.384449922687083, 4.384449922687083, 4.2023161254541925, 4.118238102418102, 4.076132959233163, 3.9385571959008354, 3.7893460095282734, 3.7893460095282734, 3.7893460095282734, 7.537123947013873, 26.1298057014022, 15.789076427224625, 27.046627307213377, 39.656197969117514, 614.1891953358448, 20.79762124103549, 52.09967053680417, 2387.497336955541, 90.32709454347665, 60.97112903216438, 93.18078952481369, 1131.2184416005769, 119.2306103166946, 418.37991462788625, 63.60488082630476, 63.75476249842268, 773.4080800390004, 560.1612297344562, 338.7960044106877, 1158.61967942447, 1205.5906953802303, 262.5939460014287, 116.00060534593166, 97.39757174033929, 105.49069132576011, 0.849122774039177, 0.849122774039177, 0.759230114193673, 0.759230114193673, 0.7592125421031279, 0.7592125421031279, 0.7592125421031279, 0.7592125421031279, 0.7592125421031279, 0.7592125421031279, 0.7592125421031279, 0.7592125421031279, 0.7592125421031279, 0.7592125421031279, 0.7592125421031279, 0.7592125421031279, 0.7592125421031279, 0.7592125421031279, 0.7592125421031279, 0.7592125421031279, 0.7592125421031279, 0.7592125421031279, 0.7592125421031279, 0.7592125421031279, 0.7592125421031279, 0.7592125421031279, 0.7592125421031279, 0.7592125421031279, 0.7592125421031279, 0.7592125421031279, 0.7592245704766444, 0.7592685036148571, 0.7593003171833356, 0.759232565485025, 0.7592042150981647, 0.7592042150981647, 0.7592042150981647, 0.7592042150981647, 0.7592042150981647, 0.7592042150981647, 0.7592042150981647, 0.7592042150981647, 0.7592042150981647, 0.7592042150981647, 0.7592042150981647, 0.7592042150981647, 0.7592042150981647, 0.7592044108593471, 0.7592044108593471, 0.7592044108593471, 0.7592044108593471, 0.7592044108593471, 0.7592044108593471, 0.7592044108593471, 0.7592044108593471, 0.7592044108593471, 0.7592044108593471, 0.7592044108593471, 0.7592044108593471, 0.7592044108593471, 0.7592045581235332, 0.7592045581235332, 0.7592045581235332, 0.7592045581235332, 710.3173507621026, 1119.1323884546032, 241.3544893166074, 30.90824862742102, 773.4080800390004, 0.7592069583898028, 42.41682690696975, 232.55683370944357, 236.07611258648026, 2596.9674032905996, 49.19664019366177, 2215.549128268699, 644.945263262794, 130.35316421355338, 754.1128527826818, 99.91726713894262, 401.4384522585126, 11.889335640513906, 29.109495894562855, 119.40406045644808, 258.74961767826284, 607.2462169236368, 27.482033988450024, 23.161775374334642, 0.7592069583898028, 46.32167153308306, 780.8584171629774, 328.1774920892708, 46.3920872640009, 339.77044290911766, 0.7592042150981647, 0.7592042150981647, 0.7592042150981647, 0.7592042150981647, 0.7592042150981647, 0.7592042150981647, 0.7592042150981647, 0.7592042150981647, 0.7592042150981647, 0.7592042150981647, 0.7592042150981647, 0.7592042150981647, 0.7592042150981647, 0.7592044108593471, 0.7592044108593471, 0.7592044108593471, 0.7592044108593471, 0.7592044108593471, 0.7592044108593471, 0.7592044108593471, 0.7592044108593471, 0.7592044108593471, 0.7592044108593471, 0.7592044108593471, 0.7592044108593471, 0.7592044108593471, 0.7592045581235332, 0.7592045581235332, 0.7592045581235332, 0.7592045581235332, 710.3173507621026, 1119.1323884546032, 241.3544893166074, 30.90824862742102, 773.4080800390004, 0.7592069583898028, 42.41682690696975, 232.55683370944357, 236.07611258648026, 2596.9674032905996, 49.19664019366177, 2215.549128268699, 644.945263262794, 130.35316421355338, 754.1128527826818, 99.91726713894262, 401.4384522585126, 11.889335640513906, 29.109495894562855, 119.40406045644808, 258.74961767826284, 607.2462169236368, 27.482033988450024, 23.161775374334642, 0.7592069583898028, 46.32167153308306, 780.8584171629774, 328.1774920892708, 46.3920872640009, 339.77044290911766], \"Category\": [\"Default\", \"Default\", \"Default\", \"Default\", \"Default\", \"Default\", \"Default\", \"Default\", \"Default\", \"Default\", \"Default\", \"Default\", \"Default\", \"Default\", \"Default\", \"Default\", \"Default\", \"Default\", \"Default\", \"Default\", \"Default\", \"Default\", \"Default\", \"Default\", \"Default\", \"Default\", \"Default\", \"Default\", \"Default\", \"Default\", \"Topic1\", \"Topic1\", \"Topic1\", \"Topic1\", \"Topic1\", \"Topic1\", \"Topic1\", \"Topic1\", \"Topic1\", \"Topic1\", \"Topic1\", \"Topic1\", \"Topic1\", \"Topic1\", \"Topic1\", \"Topic1\", \"Topic1\", \"Topic1\", \"Topic1\", \"Topic1\", \"Topic1\", \"Topic1\", \"Topic1\", \"Topic1\", \"Topic1\", \"Topic1\", \"Topic1\", \"Topic1\", \"Topic1\", \"Topic1\", \"Topic1\", \"Topic1\", \"Topic1\", \"Topic1\", \"Topic1\", \"Topic1\", \"Topic1\", \"Topic1\", \"Topic1\", \"Topic1\", \"Topic1\", \"Topic1\", \"Topic1\", \"Topic1\", \"Topic1\", \"Topic1\", \"Topic1\", \"Topic1\", \"Topic1\", \"Topic1\", \"Topic1\", \"Topic1\", \"Topic1\", \"Topic1\", \"Topic1\", \"Topic1\", \"Topic1\", \"Topic1\", \"Topic1\", \"Topic1\", \"Topic1\", \"Topic1\", \"Topic1\", \"Topic1\", \"Topic1\", \"Topic1\", \"Topic1\", \"Topic1\", \"Topic1\", \"Topic1\", \"Topic1\", \"Topic1\", \"Topic1\", \"Topic1\", \"Topic1\", \"Topic1\", \"Topic1\", \"Topic1\", \"Topic1\", \"Topic1\", \"Topic1\", \"Topic1\", \"Topic1\", \"Topic1\", \"Topic1\", \"Topic1\", \"Topic1\", \"Topic1\", \"Topic1\", \"Topic1\", \"Topic1\", \"Topic2\", \"Topic2\", \"Topic2\", \"Topic2\", \"Topic2\", \"Topic2\", \"Topic2\", \"Topic2\", \"Topic2\", \"Topic2\", \"Topic2\", \"Topic2\", \"Topic2\", \"Topic2\", \"Topic2\", \"Topic2\", \"Topic2\", \"Topic2\", \"Topic2\", \"Topic2\", \"Topic2\", \"Topic2\", \"Topic2\", \"Topic2\", \"Topic2\", \"Topic2\", \"Topic2\", \"Topic2\", \"Topic2\", \"Topic2\", \"Topic2\", \"Topic2\", \"Topic2\", \"Topic2\", \"Topic2\", \"Topic2\", \"Topic2\", \"Topic2\", \"Topic2\", \"Topic2\", \"Topic2\", \"Topic2\", \"Topic2\", \"Topic2\", \"Topic2\", \"Topic2\", \"Topic2\", \"Topic2\", \"Topic2\", \"Topic2\", \"Topic2\", \"Topic2\", \"Topic2\", \"Topic2\", \"Topic2\", \"Topic2\", \"Topic2\", \"Topic2\", \"Topic2\", \"Topic2\", \"Topic2\", \"Topic2\", \"Topic2\", \"Topic2\", \"Topic2\", \"Topic2\", \"Topic2\", \"Topic2\", \"Topic2\", \"Topic2\", \"Topic2\", \"Topic2\", \"Topic2\", \"Topic2\", \"Topic2\", \"Topic2\", \"Topic2\", \"Topic2\", \"Topic2\", \"Topic3\", \"Topic3\", \"Topic3\", \"Topic3\", \"Topic3\", \"Topic3\", \"Topic3\", \"Topic3\", \"Topic3\", \"Topic3\", \"Topic3\", \"Topic3\", \"Topic3\", \"Topic3\", \"Topic3\", \"Topic3\", \"Topic3\", \"Topic3\", \"Topic3\", \"Topic3\", \"Topic3\", \"Topic3\", \"Topic3\", \"Topic3\", \"Topic3\", \"Topic3\", \"Topic3\", \"Topic3\", \"Topic3\", \"Topic3\", \"Topic3\", \"Topic3\", \"Topic3\", \"Topic3\", \"Topic3\", \"Topic3\", \"Topic3\", \"Topic3\", \"Topic3\", \"Topic3\", \"Topic3\", \"Topic3\", \"Topic3\", \"Topic3\", \"Topic3\", \"Topic3\", \"Topic3\", \"Topic3\", \"Topic3\", \"Topic3\", \"Topic3\", \"Topic3\", \"Topic3\", \"Topic3\", \"Topic3\", \"Topic3\", \"Topic3\", \"Topic3\", \"Topic3\", \"Topic3\", \"Topic3\", \"Topic3\", \"Topic3\", \"Topic3\", \"Topic3\", \"Topic3\", \"Topic3\", \"Topic3\", \"Topic3\", \"Topic3\", \"Topic3\", \"Topic3\", \"Topic3\", \"Topic3\", \"Topic3\", \"Topic3\", \"Topic4\", \"Topic4\", \"Topic4\", \"Topic4\", \"Topic4\", \"Topic4\", \"Topic4\", \"Topic4\", \"Topic4\", \"Topic4\", \"Topic4\", \"Topic4\", \"Topic4\", \"Topic4\", \"Topic4\", \"Topic4\", \"Topic4\", \"Topic4\", \"Topic4\", \"Topic4\", \"Topic4\", \"Topic4\", \"Topic4\", \"Topic4\", \"Topic4\", \"Topic4\", \"Topic4\", \"Topic4\", \"Topic4\", \"Topic4\", \"Topic4\", \"Topic4\", \"Topic4\", \"Topic4\", \"Topic4\", \"Topic4\", \"Topic4\", \"Topic4\", \"Topic4\", \"Topic4\", \"Topic4\", \"Topic4\", \"Topic4\", \"Topic4\", \"Topic4\", \"Topic4\", \"Topic4\", \"Topic4\", \"Topic4\", \"Topic4\", \"Topic4\", \"Topic4\", \"Topic4\", \"Topic4\", \"Topic4\", \"Topic4\", \"Topic4\", \"Topic4\", \"Topic4\", \"Topic4\", \"Topic4\", \"Topic4\", \"Topic4\", \"Topic4\", \"Topic4\", \"Topic4\", \"Topic4\", \"Topic4\", \"Topic4\", \"Topic4\", \"Topic4\", \"Topic4\", \"Topic4\", \"Topic5\", \"Topic5\", \"Topic5\", \"Topic5\", \"Topic5\", \"Topic5\", \"Topic5\", \"Topic5\", \"Topic5\", \"Topic5\", \"Topic5\", \"Topic5\", \"Topic5\", \"Topic5\", \"Topic5\", \"Topic5\", \"Topic5\", \"Topic5\", \"Topic5\", \"Topic5\", \"Topic5\", \"Topic5\", \"Topic5\", \"Topic5\", \"Topic5\", \"Topic5\", \"Topic5\", \"Topic5\", \"Topic5\", \"Topic5\", \"Topic5\", \"Topic5\", \"Topic5\", \"Topic5\", \"Topic5\", \"Topic5\", \"Topic5\", \"Topic5\", \"Topic5\", \"Topic5\", \"Topic5\", \"Topic5\", \"Topic5\", \"Topic5\", \"Topic5\", \"Topic5\", \"Topic5\", \"Topic5\", \"Topic5\", \"Topic5\", \"Topic5\", \"Topic5\", \"Topic5\", \"Topic5\", \"Topic5\", \"Topic5\", \"Topic5\", \"Topic5\", \"Topic5\", \"Topic5\", \"Topic5\", \"Topic5\", \"Topic5\", \"Topic5\", \"Topic5\", \"Topic5\", \"Topic5\", \"Topic5\", \"Topic5\", \"Topic5\", \"Topic5\", \"Topic6\", \"Topic6\", \"Topic6\", \"Topic6\", \"Topic6\", \"Topic6\", \"Topic6\", \"Topic6\", \"Topic6\", \"Topic6\", \"Topic6\", \"Topic6\", \"Topic6\", \"Topic6\", \"Topic6\", \"Topic6\", \"Topic6\", \"Topic6\", \"Topic6\", \"Topic6\", \"Topic6\", \"Topic6\", \"Topic6\", \"Topic6\", \"Topic6\", \"Topic6\", \"Topic6\", \"Topic6\", \"Topic6\", \"Topic6\", \"Topic6\", \"Topic6\", \"Topic6\", \"Topic6\", \"Topic6\", \"Topic6\", \"Topic6\", \"Topic6\", \"Topic6\", \"Topic6\", \"Topic6\", \"Topic6\", \"Topic6\", \"Topic6\", \"Topic6\", \"Topic6\", \"Topic6\", \"Topic6\", \"Topic6\", \"Topic6\", \"Topic6\", \"Topic6\", \"Topic6\", \"Topic6\", \"Topic6\", \"Topic6\", \"Topic6\", \"Topic6\", \"Topic6\", \"Topic6\", \"Topic6\", \"Topic6\", \"Topic6\", \"Topic6\", \"Topic6\", \"Topic7\", \"Topic7\", \"Topic7\", \"Topic7\", \"Topic7\", \"Topic7\", \"Topic7\", \"Topic7\", \"Topic7\", \"Topic7\", \"Topic7\", \"Topic7\", \"Topic7\", \"Topic7\", \"Topic7\", \"Topic7\", \"Topic7\", \"Topic7\", \"Topic7\", \"Topic7\", \"Topic7\", \"Topic7\", \"Topic7\", \"Topic7\", \"Topic7\", \"Topic7\", \"Topic7\", \"Topic7\", \"Topic7\", \"Topic7\", \"Topic7\", \"Topic7\", \"Topic7\", \"Topic7\", \"Topic7\", \"Topic7\", \"Topic7\", \"Topic7\", \"Topic7\", \"Topic7\", \"Topic7\", \"Topic7\", \"Topic7\", \"Topic7\", \"Topic7\", \"Topic7\", \"Topic7\", \"Topic7\", \"Topic7\", \"Topic7\", \"Topic7\", \"Topic7\", \"Topic7\", \"Topic7\", \"Topic7\", \"Topic7\", \"Topic7\", \"Topic7\", \"Topic7\", \"Topic7\", \"Topic7\", \"Topic7\", \"Topic7\", \"Topic7\", \"Topic7\", \"Topic7\", \"Topic7\", \"Topic7\", \"Topic7\", \"Topic7\", \"Topic7\", \"Topic7\", \"Topic7\", \"Topic7\", \"Topic7\", \"Topic8\", \"Topic8\", \"Topic8\", \"Topic8\", \"Topic8\", \"Topic8\", \"Topic8\", \"Topic8\", \"Topic8\", \"Topic8\", \"Topic8\", \"Topic8\", \"Topic8\", \"Topic8\", \"Topic8\", \"Topic8\", \"Topic8\", \"Topic8\", \"Topic8\", \"Topic8\", \"Topic8\", \"Topic8\", \"Topic8\", \"Topic8\", \"Topic8\", \"Topic8\", \"Topic8\", \"Topic8\", \"Topic8\", \"Topic8\", \"Topic8\", \"Topic8\", \"Topic8\", \"Topic8\", \"Topic8\", \"Topic8\", \"Topic8\", \"Topic8\", \"Topic8\", \"Topic8\", \"Topic8\", \"Topic8\", \"Topic8\", \"Topic8\", \"Topic8\", \"Topic8\", \"Topic8\", \"Topic8\", \"Topic8\", \"Topic8\", \"Topic8\", \"Topic8\", \"Topic8\", \"Topic8\", \"Topic8\", \"Topic8\", \"Topic8\", \"Topic8\", \"Topic8\", \"Topic8\", \"Topic8\", \"Topic8\", \"Topic8\", \"Topic8\", \"Topic8\", \"Topic8\", \"Topic8\", \"Topic8\", \"Topic8\", \"Topic8\", \"Topic8\", \"Topic8\", \"Topic8\", \"Topic8\", \"Topic8\", \"Topic9\", \"Topic9\", \"Topic9\", \"Topic9\", \"Topic9\", \"Topic9\", \"Topic9\", \"Topic9\", \"Topic9\", \"Topic9\", \"Topic9\", \"Topic9\", \"Topic9\", \"Topic9\", \"Topic9\", \"Topic9\", \"Topic9\", \"Topic9\", \"Topic9\", \"Topic9\", \"Topic9\", \"Topic9\", \"Topic9\", \"Topic9\", \"Topic9\", \"Topic9\", \"Topic9\", \"Topic9\", \"Topic9\", \"Topic9\", \"Topic9\", \"Topic9\", \"Topic9\", \"Topic9\", \"Topic9\", \"Topic9\", \"Topic9\", \"Topic9\", \"Topic9\", \"Topic9\", \"Topic9\", \"Topic9\", \"Topic9\", \"Topic9\", \"Topic9\", \"Topic9\", \"Topic9\", \"Topic9\", \"Topic9\", \"Topic9\", \"Topic9\", \"Topic9\", \"Topic9\", \"Topic9\", \"Topic9\", \"Topic9\", \"Topic10\", \"Topic10\", \"Topic10\", \"Topic10\", \"Topic10\", \"Topic10\", \"Topic10\", \"Topic10\", \"Topic10\", \"Topic10\", \"Topic10\", \"Topic10\", \"Topic10\", \"Topic10\", \"Topic10\", \"Topic10\", \"Topic10\", \"Topic10\", \"Topic10\", \"Topic10\", \"Topic10\", \"Topic10\", \"Topic10\", \"Topic10\", \"Topic10\", \"Topic10\", \"Topic10\", \"Topic10\", \"Topic10\", \"Topic10\", \"Topic10\", \"Topic10\", \"Topic10\", \"Topic10\", \"Topic10\", \"Topic10\", \"Topic10\", \"Topic10\", \"Topic10\", \"Topic10\", \"Topic10\", \"Topic10\", \"Topic10\", \"Topic10\", \"Topic10\", \"Topic10\", \"Topic10\", \"Topic10\", \"Topic10\", \"Topic10\", \"Topic10\", \"Topic10\", \"Topic10\", \"Topic10\", \"Topic10\", \"Topic10\", \"Topic10\", \"Topic10\", \"Topic10\", \"Topic10\", \"Topic10\", \"Topic10\", \"Topic10\", \"Topic10\", \"Topic10\", \"Topic10\", \"Topic10\", \"Topic10\", \"Topic10\", \"Topic11\", \"Topic11\", \"Topic11\", \"Topic11\", \"Topic11\", \"Topic11\", \"Topic11\", \"Topic11\", \"Topic11\", \"Topic11\", \"Topic11\", \"Topic11\", \"Topic11\", \"Topic11\", \"Topic11\", \"Topic11\", \"Topic11\", \"Topic11\", \"Topic11\", \"Topic11\", \"Topic11\", \"Topic11\", \"Topic11\", \"Topic11\", \"Topic11\", \"Topic11\", \"Topic11\", \"Topic11\", \"Topic11\", \"Topic11\", \"Topic11\", \"Topic11\", \"Topic11\", \"Topic11\", \"Topic11\", \"Topic11\", \"Topic12\", \"Topic12\", \"Topic12\", \"Topic12\", \"Topic12\", \"Topic12\", \"Topic12\", \"Topic12\", \"Topic12\", \"Topic12\", \"Topic12\", \"Topic12\", \"Topic12\", \"Topic12\", \"Topic12\", \"Topic12\", \"Topic12\", \"Topic12\", \"Topic12\", \"Topic12\", \"Topic12\", \"Topic12\", \"Topic12\", \"Topic12\", \"Topic12\", \"Topic12\", \"Topic12\", \"Topic12\", \"Topic12\", \"Topic12\", \"Topic12\", \"Topic12\", \"Topic12\", \"Topic12\", \"Topic12\", \"Topic12\", \"Topic12\", \"Topic12\", \"Topic12\", \"Topic12\", \"Topic12\", \"Topic12\", \"Topic12\", \"Topic12\", \"Topic12\", \"Topic12\", \"Topic12\", \"Topic12\", \"Topic12\", \"Topic12\", \"Topic12\", \"Topic12\", \"Topic12\", \"Topic12\", \"Topic12\", \"Topic12\", \"Topic13\", \"Topic13\", \"Topic13\", \"Topic13\", \"Topic13\", \"Topic13\", \"Topic13\", \"Topic13\", \"Topic13\", \"Topic13\", \"Topic13\", \"Topic13\", \"Topic13\", \"Topic13\", \"Topic13\", \"Topic13\", \"Topic13\", \"Topic13\", \"Topic13\", \"Topic13\", \"Topic13\", \"Topic13\", \"Topic13\", \"Topic13\", \"Topic13\", \"Topic13\", \"Topic13\", \"Topic13\", \"Topic13\", \"Topic13\", \"Topic13\", \"Topic13\", \"Topic13\", \"Topic13\", \"Topic14\", \"Topic14\", \"Topic14\", \"Topic14\", \"Topic14\", \"Topic14\", \"Topic14\", \"Topic14\", \"Topic14\", \"Topic14\", \"Topic14\", \"Topic14\", \"Topic14\", \"Topic14\", \"Topic14\", \"Topic14\", \"Topic14\", \"Topic14\", \"Topic14\", \"Topic14\", \"Topic14\", \"Topic14\", \"Topic14\", \"Topic14\", \"Topic14\", \"Topic14\", \"Topic14\", \"Topic14\", \"Topic14\", \"Topic14\", \"Topic14\", \"Topic14\", \"Topic14\", \"Topic14\", \"Topic14\", \"Topic14\", \"Topic14\", \"Topic14\", \"Topic14\", \"Topic14\", \"Topic14\", \"Topic14\", \"Topic14\", \"Topic14\", \"Topic14\", \"Topic14\", \"Topic14\", \"Topic14\", \"Topic14\", \"Topic14\", \"Topic14\", \"Topic14\", \"Topic14\", \"Topic14\", \"Topic14\", \"Topic14\", \"Topic14\", \"Topic14\", \"Topic14\", \"Topic14\", \"Topic15\", \"Topic15\", \"Topic15\", \"Topic15\", \"Topic15\", \"Topic15\", \"Topic15\", \"Topic15\", \"Topic15\", \"Topic15\", \"Topic15\", \"Topic15\", \"Topic15\", \"Topic15\", \"Topic15\", \"Topic15\", \"Topic15\", \"Topic15\", \"Topic15\", \"Topic15\", \"Topic15\", \"Topic15\", \"Topic15\", \"Topic15\", \"Topic15\", \"Topic15\", \"Topic15\", \"Topic15\", \"Topic15\", \"Topic15\", \"Topic15\", \"Topic15\", \"Topic15\", \"Topic15\", \"Topic15\", \"Topic15\", \"Topic15\", \"Topic15\", \"Topic15\", \"Topic15\", \"Topic15\", \"Topic15\", \"Topic15\", \"Topic15\", \"Topic15\", \"Topic15\", \"Topic15\", \"Topic15\", \"Topic15\", \"Topic15\", \"Topic15\", \"Topic15\", \"Topic15\", \"Topic15\", \"Topic15\", \"Topic15\", \"Topic15\", \"Topic15\", \"Topic15\", \"Topic15\"], \"logprob\": [30.0, 29.0, 28.0, 27.0, 26.0, 25.0, 24.0, 23.0, 22.0, 21.0, 20.0, 19.0, 18.0, 17.0, 16.0, 15.0, 14.0, 13.0, 12.0, 11.0, 10.0, 9.0, 8.0, 7.0, 6.0, 5.0, 4.0, 3.0, 2.0, 1.0, -7.6242, -7.698, -7.7753, -7.7842, -7.8261, -7.8535, -8.0123, -8.0531, -8.1895, -8.2018, -8.2427, -8.2932, -8.1323, -8.3386, -8.2826, -8.3452, -8.3585, -8.3744, -8.4108, -8.4151, -8.4203, -6.4646, -8.4266, -8.4353, -8.4404, -8.4443, -8.446, -8.4487, -8.468, -8.4751, -7.0966, -7.7193, -7.6728, -7.7786, -6.6009, -6.6809, -6.871, -7.1397, -7.1459, -7.8042, -8.0135, -6.8564, -6.6013, -6.8387, -6.9858, -5.9492, -5.1325, -7.2714, -7.6422, -4.963, -6.573, -6.6461, -7.2257, -5.9156, -4.6262, -5.7603, -3.8033, -3.9809, -5.7201, -3.5501, -5.9126, -5.8505, -6.6294, -4.4463, -5.6746, -6.7272, -4.7157, -4.9955, -4.0461, -5.0952, -5.9579, -5.2278, -5.0939, -5.1643, -5.203, -4.5768, -4.9608, -5.6307, -5.5571, -5.5391, -4.3176, -5.4915, -5.1711, -5.1695, -5.285, -5.4693, -5.5376, -5.5385, -5.5432, -5.4686, -5.5375, -5.0054, -5.7261, -6.361, -6.5864, -7.0254, -7.0302, -7.0389, -7.0942, -7.1211, -7.1286, -7.2173, -7.2242, -7.2286, -7.2493, -7.2559, -7.3967, -7.5957, -7.6056, -7.6154, -7.6259, -7.647, -7.6886, -7.7159, -7.7162, -7.7167, -7.7339, -7.8462, -7.8907, -7.9379, -7.9426, -5.9621, -7.7094, -6.8386, -7.177, -6.6861, -7.4304, -5.5403, -7.3017, -3.3, -6.3634, -6.2344, -5.8131, -6.2757, -5.926, -6.9255, -6.3935, -6.386, -4.689, -3.7184, -4.0869, -4.6462, -5.5338, -5.4687, -4.8693, -6.1795, -5.8061, -3.8274, -4.7137, -4.9294, -5.3146, -5.3056, -5.1617, -4.3501, -5.0071, -5.4086, -5.0771, -5.5214, -5.4613, -5.5366, -5.4553, -4.7811, -5.0769, -5.0002, -5.3516, -5.3229, -5.4404, -5.3655, -5.4982, -5.5323, -6.0709, -6.3202, -6.3552, -6.6203, -6.6868, -6.7279, -6.8032, -6.8775, -6.8892, -6.9625, -7.0523, -7.1001, -7.1888, -7.199, -7.226, -7.3326, -7.3808, -7.3831, -7.4009, -7.4433, -7.4627, -7.4713, -7.4758, -7.5028, -7.5087, -7.5235, -7.5396, -7.5506, -7.6004, -7.6388, -4.2317, -3.2774, -6.7005, -5.2244, -6.6875, -6.0174, -4.512, -5.5287, -6.3309, -7.0717, -5.9729, -6.2759, -6.0651, -6.7509, -6.5287, -4.8118, -6.0135, -5.2731, -4.397, -5.2423, -5.1449, -4.5442, -5.0611, -3.8501, -5.5215, -5.6665, -5.1306, -4.86, -3.9753, -5.5219, -5.638, -4.3104, -5.2084, -5.485, -5.1862, -4.7035, -4.9723, -5.4538, -4.7625, -5.2397, -5.2216, -5.1542, -5.1096, -5.3102, -5.4863, -5.4799, -5.2714, -5.7222, -5.742, -6.2448, -6.4212, -6.5878, -6.809, -6.8879, -6.8986, -6.9737, -7.0843, -7.0936, -7.0984, -7.1283, -7.1783, -6.6454, -7.4034, -7.4502, -7.5615, -7.5657, -7.5665, -7.5996, -7.6157, -7.6207, -6.565, -7.6789, -7.6824, -7.7349, -7.7684, -7.7712, -5.4705, -6.8434, -4.7017, -6.3194, -5.2421, -6.677, -6.2941, -4.2732, -4.2447, -6.9207, -4.994, -6.0686, -4.3258, -3.8529, -5.1336, -5.1565, -6.157, -6.0499, -5.428, -6.1982, -5.5005, -5.7535, -5.234, -5.298, -4.4148, -3.8423, -4.7931, -5.1702, -5.5791, -4.3864, -5.6938, -4.5593, -5.3396, -4.6422, -4.8167, -5.2737, -5.4038, -5.2051, -5.2247, -5.3385, -5.1517, -5.3311, -5.3504, -4.9414, -5.3411, -5.3825, -5.5337, -5.8891, -5.9707, -6.072, -6.0895, -6.1595, -6.1756, -6.4184, -6.487, -6.5331, -6.8495, -7.0443, -7.0737, -7.1084, -7.1086, -7.119, -7.1224, -7.2227, -7.2465, -7.2489, -7.2618, -7.2801, -7.2941, -7.409, -7.4073, -7.4682, -7.4841, -4.8742, -6.079, -6.4323, -5.5701, -5.6668, -5.6679, -5.551, -5.4125, -5.702, -5.9359, -6.5862, -5.6774, -5.088, -6.6441, -5.9959, -5.2202, -4.9305, -5.2141, -5.1899, -5.508, -5.3074, -4.7918, -4.5962, -4.3897, -3.8662, -4.3505, -5.6838, -4.4175, -4.3678, -4.5428, -5.205, -5.1981, -4.9966, -5.0949, -5.3608, -5.3772, -5.4526, -5.4347, -5.4152, -5.4296, -5.4283, -4.1422, -5.1065, -5.3863, -5.5423, -5.6119, -5.9329, -6.0693, -6.1525, -6.2038, -6.2477, -6.4982, -6.61, -6.6523, -6.6644, -6.7272, -5.3168, -6.7546, -6.7944, -6.8127, -6.9441, -6.9597, -6.9825, -7.001, -7.031, -7.0479, -7.0544, -7.0918, -7.198, -7.2024, -7.2213, -4.9338, -6.0169, -6.2602, -4.5655, -5.9021, -6.1105, -6.1875, -5.8325, -6.4181, -6.6528, -6.2533, -5.6426, -4.4927, -5.9538, -5.0503, -5.1322, -5.6514, -5.4315, -3.8854, -4.9334, -5.5365, -5.3602, -5.8322, -4.4003, -4.5953, -4.7948, -5.4349, -4.6793, -5.5096, -5.1646, -5.5699, -5.1763, -5.5016, -5.4968, -5.6666, -5.9486, -6.1235, -6.1728, -6.4409, -6.464, -7.0432, -7.1687, -7.1844, -7.2008, -7.2298, -7.4275, -7.6044, -7.6795, -7.6815, -7.7069, -7.7086, -5.6943, -4.1668, -7.7942, -7.8419, -7.8555, -7.8681, -7.872, -7.8847, -7.9294, -7.9507, -7.9897, -8.0109, -8.0266, -6.5312, -5.6117, -5.9821, -6.5403, -6.5415, -6.7805, -6.1974, -3.8332, -6.3783, -5.2168, -4.8661, -6.6281, -5.6759, -5.3832, -5.7794, -5.5778, -5.8308, -4.3548, -4.5783, -4.9103, -5.8737, -4.5598, -5.3309, -4.6445, -5.6366, -4.7038, -4.6627, -4.9413, -4.6667, -4.9539, -5.2193, -4.0368, -4.9424, -4.7964, -4.2067, -4.7348, -5.074, -4.8921, -4.989, -4.7359, -4.7847, -5.0343, -4.9618, -5.1659, -5.1211, -5.1433, -4.5056, -5.5781, -5.6621, -4.0142, -6.8094, -6.8438, -6.8754, -6.8872, -6.8958, -6.9655, -6.9655, -6.9655, -6.9655, -6.9655, -6.9655, -6.9655, -6.9655, -6.9655, -6.9655, -6.9855, -7.0307, -7.0415, -7.0415, -7.0842, -7.0957, -7.112, -7.112, -7.1955, -7.2007, -7.2408, -4.2555, -6.6086, -6.2028, -5.5612, -6.2358, -6.3987, -6.2214, -5.4013, -6.2047, -5.754, -6.2443, -5.7333, -6.3083, -5.9433, -5.4005, -6.3986, -5.8957, -6.2485, -6.4622, -5.6309, -5.5461, -4.2009, -4.077, -4.0602, -3.9913, -5.2034, -5.9408, -4.9502, -5.2479, -5.2542, -5.1769, -5.1109, -4.7254, -5.6627, -5.2754, -5.0398, -5.0619, -5.2231, -5.2274, -5.3521, -5.1342, -5.2987, -5.5187, -5.3125, -5.6032, -4.8266, -5.1377, -5.2188, -5.322, -5.3975, -5.5529, -5.5997, -5.7625, -5.7959, -5.8204, -5.8261, -5.8626, -5.8626, -5.8626, -5.9114, -5.9149, -5.9517, -5.9559, -5.968, -5.9971, -6.105, -6.1228, -6.1402, -6.1518, -6.2146, -6.2212, -6.2702, -6.2767, -6.2908, -6.307, -5.8225, -5.1317, -4.4712, -4.2548, -5.4423, -5.7548, -5.2746, -4.1743, -5.6372, -4.9531, -5.036, -4.6114, -5.1912, -4.6243, -4.7897, -5.2498, -4.8626, -4.848, -5.3929, -4.8872, -5.4212, -5.3406, -5.2666, -5.3847, -5.3708, -5.4458, -5.141, -5.7179, -6.2195, -6.2531, -6.2659, -6.7203, -6.8517, -6.8712, -7.068, -7.102, -7.1658, -7.182, -7.1953, -7.2087, -7.2147, -5.8198, -7.2704, -7.2734, -7.3555, -7.3615, -7.3905, -7.4091, -7.4093, -7.4274, -7.4288, -7.4757, -7.4953, -7.5071, -7.5071, -7.5071, -4.0549, -5.1697, -5.1913, -3.8405, -4.7739, -4.6821, -5.0534, -6.2873, -5.6708, -5.2169, -6.6635, -7.106, -6.0761, -4.493, -4.8943, -5.3478, -4.8943, -4.5729, -6.5524, -4.9932, -4.8116, -4.9726, -5.4723, -5.8066, -5.9271, -5.4004, -4.3837, -4.3266, -4.6844, -5.2584, -5.1496, -4.864, -5.3884, -5.1185, -5.2197, -5.3525, -5.5627, -5.556, -5.5536, -3.4843, -3.5008, -3.5723, -3.7223, -3.8994, -4.1262, -4.296, -4.396, -4.6248, -4.6707, -4.7301, -4.7459, -4.7754, -4.8724, -4.8902, -4.9251, -4.9346, -4.9474, -4.9811, -4.9811, -4.9893, -5.0298, -5.0298, -5.0385, -5.081, -5.081, -5.081, -5.1276, -5.1681, -5.1921, -4.2542, -4.8905, -4.8827, -4.8111, -5.069, -5.0375, -3.8035, -3.9046, -4.1365, -4.428, -4.7892, -5.551, -5.7929, -5.8707, -5.1537, -6.1661, -6.1955, -6.3582, -6.3682, -6.4349, -6.5056, -6.5257, -6.5683, -6.5868, -6.6347, -6.6352, -6.6356, -6.637, -6.637, -6.6879, -6.7124, -6.7248, -6.7666, -6.814, -6.814, -6.814, -6.14, -4.9538, -5.6268, -5.3001, -5.1958, -3.3932, -5.6935, -5.2882, -3.2645, -5.0872, -5.3973, -5.2674, -4.1839, -5.1679, -4.6847, -5.4693, -5.5316, -4.7053, -4.8363, -5.1756, -4.9356, -4.9443, -5.4158, -5.5485, -5.5676, -5.5714, -5.4904, -5.4904, -10.1324, -10.1324, -10.1326, -10.1326, -10.1326, -10.1326, -10.1326, -10.1326, -10.1326, -10.1326, -10.1326, -10.1326, -10.1326, -10.1326, -10.1326, -10.1326, -10.1326, -10.1326, -10.1326, -10.1326, -10.1326, -10.1326, -10.1326, -10.1326, -10.1326, -10.1326, -10.1326, -10.1326, -10.1326, -10.1326, -10.1326, -10.1326, -10.1246, -10.1246, -10.1246, -10.1246, -10.1246, -10.1246, -10.1246, -10.1246, -10.1246, -10.1246, -10.1246, -10.1246, -10.1246, -10.1246, -10.1246, -10.1246, -10.1246, -10.1246, -10.1246, -10.1246, -10.1246, -10.1246, -10.1246, -10.1246, -10.1246, -10.1246, -10.1246, -10.1246, -10.1246, -10.1246, -10.1246, -10.1246, -10.1246, -10.1246, -10.1246, -10.1246, -10.1246, -10.1246, -10.1246, -10.1246, -10.1246, -10.1246, -10.1246, -10.1246, -10.1246, -10.1246, -10.1246, -10.1246, -10.1246, -10.1246, -10.1246, -10.1246, -10.1246, -10.1246, -10.1246, -10.1246, -10.1246, -10.1246, -10.1246, -10.1246, -10.1246, -10.1246, -10.1246, -10.1246, -10.1246, -10.1246, -10.1246, -10.1246, -10.1246, -10.1246, -10.1246, -10.1246, -10.1246, -10.1246, -10.1246, -10.1246, -10.1246, -10.1246, -10.1246, -10.1246, -10.1246, -10.1246, -10.1246, -10.1246, -10.1246, -10.1246, -10.1246, -10.1246, -10.1246, -10.1246, -10.1246, -10.1246, -10.1246, -10.1246, -10.1246, -10.1246, -10.1246, -10.1246, -10.1246, -10.1246, -10.1246, -10.1246, -10.1246, -10.1246, -10.1246, -10.1246, -10.1246, -10.1246, -10.1246, -10.1246, -10.1246, -10.1246, -10.1246, -10.1246, -10.1246, -10.1246, -10.1246, -10.1246, -10.1246, -10.1246], \"loglift\": [30.0, 29.0, 28.0, 27.0, 26.0, 25.0, 24.0, 23.0, 22.0, 21.0, 20.0, 19.0, 18.0, 17.0, 16.0, 15.0, 14.0, 13.0, 12.0, 11.0, 10.0, 9.0, 8.0, 7.0, 6.0, 5.0, 4.0, 3.0, 2.0, 1.0, 1.1198, 1.1191, 1.1182, 1.1181, 1.1176, 1.1173, 1.1152, 1.1146, 1.1124, 1.1122, 1.1114, 1.1105, 1.1099, 1.1096, 1.1096, 1.1095, 1.1092, 1.1089, 1.1081, 1.108, 1.1079, 1.1079, 1.1078, 1.1076, 1.1075, 1.1074, 1.1074, 1.1073, 1.1069, 1.1067, 1.0711, 1.0891, 1.0836, 1.0826, 1.0298, 1.0278, 1.0276, 1.0399, 1.0374, 1.0726, 1.0856, 0.9979, 0.9762, 0.9902, 1.0005, 0.9081, 0.8218, 1.018, 1.0532, 0.7735, 0.9382, 0.9429, 1.0064, 0.8289, 0.6521, 0.7832, 0.4817, 0.4998, 0.7212, 0.3057, 0.7527, 0.7187, 0.8759, 0.3778, 0.6627, 0.8955, 0.3913, 0.4114, 0.1043, 0.3691, 0.6411, 0.3517, 0.2829, 0.307, 0.3199, 0.0339, 0.1984, 0.4852, 0.4246, 0.3972, -0.2903, 0.3671, 0.1152, -0.0421, -0.0121, 0.2098, 0.2397, 0.1863, 0.1931, -0.1213, -0.0136, 1.7804, 1.779, 1.7764, 1.7751, 1.7714, 1.7713, 1.7712, 1.7706, 1.7703, 1.7702, 1.7692, 1.7691, 1.769, 1.7688, 1.7687, 1.7667, 1.7634, 1.7632, 1.763, 1.7628, 1.7624, 1.7616, 1.7611, 1.7611, 1.7611, 1.7607, 1.7582, 1.7572, 1.756, 1.7559, 1.7527, 1.7555, 1.7368, 1.7242, 1.6827, 1.7189, 1.4125, 1.6702, 0.7273, 1.4436, 1.3894, 1.2652, 1.3707, 1.2643, 1.5606, 1.3976, 1.394, 0.8496, 0.432, 0.5237, 0.7011, 1.0348, 0.9692, 0.6546, 1.2664, 1.0816, 0.0285, 0.4456, 0.5593, 0.7751, 0.7057, 0.6089, -0.0651, 0.3998, 0.6807, 0.3872, 0.7358, 0.6532, 0.6645, 0.5032, -0.3004, 0.0505, -0.1761, 0.3426, -0.0367, 0.2844, -0.2586, 0.2791, 0.0471, 1.8583, 1.857, 1.8568, 1.8551, 1.8545, 1.8542, 1.8535, 1.8528, 1.8527, 1.852, 1.8509, 1.8504, 1.8492, 1.8491, 1.8487, 1.8472, 1.8464, 1.8464, 1.8461, 1.8454, 1.845, 1.8449, 1.8448, 1.8443, 1.8442, 1.8439, 1.8436, 1.8434, 1.8424, 1.8416, 1.8387, 1.7832, 1.8173, 1.756, 1.8004, 1.7629, 1.6593, 1.6456, 1.7194, 1.8004, 1.6608, 1.6971, 1.6259, 1.7136, 1.6415, 1.1246, 1.4746, 1.235, 0.8145, 1.1186, 1.0741, 0.7287, 0.8841, 0.1771, 1.0843, 1.135, 0.8039, 0.6287, -0.1194, 0.9688, 1.0162, -0.16, 0.5847, 0.8537, 0.499, -0.0929, 0.1551, 0.7222, -0.4775, 0.1672, -0.0623, -0.3301, -0.6289, -0.024, 0.5013, -0.0086, 2.1416, 2.1401, 2.14, 2.1373, 2.136, 2.1345, 2.1321, 2.1311, 2.131, 2.13, 2.1283, 2.1282, 2.1281, 2.1276, 2.1267, 2.1225, 2.1224, 2.1214, 2.1187, 2.1186, 2.1186, 2.1177, 2.1173, 2.1172, 2.1168, 2.1156, 2.1155, 2.114, 2.1129, 2.1128, 2.0578, 2.0892, 2.0049, 2.0067, 1.9037, 2.0208, 1.9562, 1.672, 1.6501, 2.0244, 1.7227, 1.8679, 1.4673, 1.3586, 1.5206, 1.4575, 1.8032, 1.7554, 1.5251, 1.7801, 1.4423, 1.5514, 1.2741, 1.3078, 0.7126, 0.0136, 0.4798, 0.7643, 1.143, -0.3591, 1.2247, -0.4089, 0.6481, -0.3572, -0.2061, 0.4626, 0.5547, 0.0812, 0.0536, 0.3557, -0.3276, 0.0162, -0.2434, 2.8481, 2.8462, 2.846, 2.8451, 2.8422, 2.8414, 2.8403, 2.8401, 2.8392, 2.839, 2.8355, 2.8344, 2.8336, 2.8269, 2.8216, 2.8207, 2.8196, 2.8196, 2.8193, 2.8192, 2.8158, 2.815, 2.8149, 2.8144, 2.8137, 2.8132, 2.8086, 2.8085, 2.806, 2.8053, 2.7986, 2.7956, 2.7889, 2.7687, 2.7453, 2.7219, 2.7119, 2.6276, 2.6253, 2.649, 2.7214, 2.5206, 2.299, 2.6992, 2.5219, 2.2844, 2.1809, 2.1945, 2.1202, 2.2199, 1.9266, 1.5098, 1.2986, 0.987, 0.2842, 0.2601, 2.1384, -0.3902, -0.512, -0.2578, 1.09, 1.0209, 0.5263, 0.3764, 1.0129, 0.9851, 0.6632, 0.2595, -0.3083, -0.6055, -0.9476, 2.9061, 2.9032, 2.9017, 2.9006, 2.9001, 2.8972, 2.8956, 2.8946, 2.8939, 2.8933, 2.8891, 2.8869, 2.886, 2.8858, 2.8844, 2.8837, 2.8837, 2.8827, 2.8823, 2.8787, 2.8783, 2.8776, 2.8771, 2.8761, 2.8756, 2.8754, 2.8742, 2.8705, 2.8703, 2.8696, 2.7978, 2.8168, 2.8255, 2.6646, 2.7697, 2.7884, 2.7532, 2.6782, 2.7789, 2.8189, 2.7329, 2.5933, 2.2839, 2.5568, 2.1412, 1.8254, 2.1636, 1.9357, 0.5953, 1.2646, 1.8167, 1.6147, 2.0892, -0.5445, -0.3103, 0.0293, 1.2304, -0.5289, 1.2539, -0.0576, 0.9532, -1.149, -0.1249, -0.8861, -0.0871, 3.4048, 3.4013, 3.4002, 3.3931, 3.3924, 3.3685, 3.3613, 3.3604, 3.3594, 3.3575, 3.3437, 3.3289, 3.3219, 3.3217, 3.3192, 3.319, 3.3164, 3.3132, 3.3102, 3.3049, 3.3034, 3.302, 3.3015, 3.3001, 3.2948, 3.2922, 3.2873, 3.2845, 3.2825, 3.2776, 3.2449, 3.2317, 3.2167, 3.2125, 3.185, 3.126, 2.6575, 3.0673, 2.8145, 2.7094, 3.0454, 2.7975, 2.7002, 2.8035, 2.7405, 2.7788, 2.151, 2.2325, 2.2649, 2.7121, 2.0411, 2.4382, 1.6071, 2.3125, 1.5588, 1.5195, 1.5888, 1.0185, 1.3478, 1.6558, -0.1809, 1.1734, 0.8828, -0.1794, 0.642, 1.2363, 0.2672, 0.4823, -0.4509, -0.304, 0.4886, 0.1452, 0.8454, -0.297, -0.9929, 3.6391, 3.6287, 3.6273, 3.6253, 3.5911, 3.5893, 3.5876, 3.5869, 3.5864, 3.5824, 3.5824, 3.5824, 3.5824, 3.5824, 3.5824, 3.5824, 3.5824, 3.5824, 3.5824, 3.5811, 3.5783, 3.5776, 3.5776, 3.5748, 3.574, 3.5729, 3.5729, 3.5669, 3.5665, 3.5634, 3.5599, 3.5572, 3.4423, 3.1548, 3.3289, 3.3438, 3.258, 2.8629, 3.2012, 2.8522, 3.0602, 2.6229, 3.0553, 2.725, 2.157, 3.0598, 2.5776, 2.8761, 3.0844, 2.2523, 2.0682, 0.2798, 0.0734, -0.0329, -0.1354, 1.2877, 2.339, 0.8429, 1.2077, 0.9974, 0.7774, 0.5744, -0.4404, 1.6625, 0.7123, 0.0671, 0.0974, 0.5133, 0.5091, 0.8301, -0.3101, 0.0781, 1.0923, -0.7018, 0.8206, 3.6437, 3.6409, 3.64, 3.6388, 3.6378, 3.6356, 3.6349, 3.632, 3.6313, 3.6309, 3.6307, 3.63, 3.63, 3.63, 3.6289, 3.6289, 3.628, 3.6279, 3.6276, 3.627, 3.6242, 3.6237, 3.6233, 3.623, 3.6211, 3.6209, 3.6194, 3.6192, 3.6188, 3.6183, 3.5935, 3.419, 3.2041, 2.6978, 3.0155, 3.2264, 2.601, 1.112, 2.9645, 1.6162, 1.5326, 0.2127, 1.2326, -0.597, -0.309, 1.2734, -0.2519, -0.563, 1.5688, -0.7368, 1.1509, 0.6286, 0.1101, 0.34, 0.118, 0.5085, 3.6997, 3.6911, 3.6786, 3.6775, 3.677, 3.6581, 3.651, 3.6498, 3.637, 3.6346, 3.6298, 3.6285, 3.6274, 3.6263, 3.6259, 3.6254, 3.6212, 3.6209, 3.6136, 3.6131, 3.6103, 3.6085, 3.6085, 3.6067, 3.6066, 3.6019, 3.5998, 3.5986, 3.5986, 3.5986, 3.2983, 3.3821, 3.2409, 2.8816, 2.9583, 2.9011, 2.99, 3.2629, 3.0632, 2.5928, 3.2232, 3.4654, 2.8173, 1.7344, 1.9165, 2.2277, 1.8824, 1.4384, 3.0707, 1.6077, 1.4074, 1.5505, 1.9613, 2.1419, 2.2814, 1.344, -0.3564, -0.4708, 0.1397, 0.9396, 0.5356, -0.3833, 1.0529, -0.0116, -0.0923, -1.2021, 1.2894, 0.9499, -0.3944, 4.7961, 4.796, 4.7955, 4.7943, 4.7927, 4.7902, 4.7879, 4.7864, 4.7823, 4.7813, 4.7801, 4.7797, 4.779, 4.7766, 4.7762, 4.7753, 4.775, 4.7746, 4.7737, 4.7737, 4.7735, 4.7723, 4.7723, 4.772, 4.7707, 4.7707, 4.7707, 4.7692, 4.7679, 4.767, 4.7479, 4.7477, 4.7257, 3.0887, 3.7386, -0.4268, 5.0412, 5.04, 5.0367, 5.0314, 5.0224, 4.9889, 4.9721, 4.9659, 4.944, 4.9377, 4.9345, 4.915, 4.9137, 4.9048, 4.8947, 4.8918, 4.8853, 4.8825, 4.8748, 4.8747, 4.8747, 4.8744, 4.8744, 4.8659, 4.8617, 4.8596, 4.8521, 4.8433, 4.8433, 4.8433, 4.8296, 4.7727, 4.6034, 4.3918, 4.1135, 3.176, 4.2612, 3.7482, 1.947, 3.3989, 3.4819, 3.1875, 1.7746, 3.0406, 2.2684, 3.3675, 3.3029, 1.6334, 1.8249, 1.9885, 0.9989, 0.9505, 2.0031, 2.6875, 2.8431, 2.7595, 7.6626, 7.6626, 3.1326, 3.1326, 3.1324, 3.1324, 3.1324, 3.1324, 3.1324, 3.1324, 3.1324, 3.1324, 3.1324, 3.1324, 3.1324, 3.1324, 3.1324, 3.1324, 3.1324, 3.1324, 3.1324, 3.1324, 3.1324, 3.1324, 3.1324, 3.1324, 3.1324, 3.1324, 3.1324, 3.1324, 3.1324, 3.1323, 3.1323, 3.1323, 3.1404, 3.1404, 3.1404, 3.1404, 3.1404, 3.1404, 3.1404, 3.1404, 3.1404, 3.1404, 3.1404, 3.1404, 3.1404, 3.1404, 3.1404, 3.1404, 3.1404, 3.1404, 3.1404, 3.1404, 3.1404, 3.1404, 3.1404, 3.1404, 3.1404, 3.1404, 3.1404, 3.1404, 3.1404, 3.1404, -3.7008, -4.1554, -2.6214, -0.5661, -3.7859, 3.1404, -0.8827, -2.5842, -2.5993, -4.9972, -1.0309, -4.8384, -3.6043, -2.0054, -3.7607, -1.7395, -3.1302, 0.3892, -0.5062, -1.9176, -2.691, -3.544, -0.4486, -0.2776, 3.1404, -0.9707, -3.7955, -2.9287, -0.9722, -2.9634, 3.1404, 3.1404, 3.1404, 3.1404, 3.1404, 3.1404, 3.1404, 3.1404, 3.1404, 3.1404, 3.1404, 3.1404, 3.1404, 3.1404, 3.1404, 3.1404, 3.1404, 3.1404, 3.1404, 3.1404, 3.1404, 3.1404, 3.1404, 3.1404, 3.1404, 3.1404, 3.1404, 3.1404, 3.1404, 3.1404, -3.7008, -4.1554, -2.6214, -0.5661, -3.7859, 3.1404, -0.8827, -2.5842, -2.5993, -4.9972, -1.0309, -4.8384, -3.6043, -2.0054, -3.7607, -1.7395, -3.1302, 0.3892, -0.5062, -1.9176, -2.691, -3.544, -0.4486, -0.2776, 3.1404, -0.9707, -3.7955, -2.9287, -0.9722, -2.9634]}, \"token.table\": {\"Topic\": [7, 1, 2, 3, 4, 7, 8, 9, 10, 1, 2, 3, 4, 5, 6, 7, 8, 9, 10, 1, 2, 3, 4, 5, 6, 10, 1, 2, 6, 10, 1, 2, 3, 5, 6, 8, 10, 12, 1, 6, 9, 1, 2, 3, 4, 6, 7, 9, 4, 3, 1, 2, 3, 4, 6, 10, 1, 2, 3, 4, 5, 6, 7, 9, 10, 11, 1, 6, 1, 2, 3, 4, 5, 6, 7, 8, 9, 1, 2, 3, 4, 5, 6, 7, 8, 9, 10, 1, 2, 3, 4, 5, 6, 9, 6, 6, 8, 1, 2, 4, 5, 8, 10, 3, 1, 2, 3, 4, 5, 6, 7, 8, 9, 10, 1, 3, 6, 7, 9, 1, 2, 4, 5, 7, 10, 1, 8, 4, 6, 6, 1, 5, 8, 1, 2, 3, 4, 6, 9, 10, 1, 2, 3, 4, 5, 6, 10, 1, 2, 3, 4, 5, 6, 7, 8, 9, 10, 1, 2, 4, 5, 9, 1, 3, 7, 1, 10, 6, 1, 2, 6, 7, 10, 1, 2, 3, 4, 8, 1, 2, 3, 4, 6, 10, 6, 11, 2, 2, 12, 7, 2, 4, 5, 1, 2, 4, 5, 6, 8, 10, 1, 1, 2, 3, 4, 5, 6, 7, 8, 9, 11, 1, 2, 3, 4, 9, 1, 6, 1, 3, 4, 9, 1, 9, 2, 9, 1, 10, 11, 2, 3, 4, 2, 1, 2, 3, 4, 6, 10, 12, 4, 12, 1, 3, 4, 7, 8, 10, 2, 11, 11, 3, 1, 2, 3, 4, 5, 6, 7, 8, 9, 3, 7, 3, 3, 4, 3, 4, 6, 9, 12, 1, 6, 6, 9, 6, 7, 9, 1, 1, 5, 6, 7, 8, 9, 2, 6, 8, 9, 1, 12, 7, 1, 2, 3, 4, 7, 9, 5, 6, 10, 12, 12, 2, 5, 10, 7, 9, 11, 4, 5, 1, 2, 6, 8, 11, 4, 1, 3, 4, 6, 8, 10, 3, 10, 5, 7, 9, 2, 2, 5, 9, 9, 9, 11, 4, 3, 1, 2, 3, 4, 5, 6, 7, 8, 9, 10, 12, 1, 8, 5, 7, 9, 1, 6, 12, 10, 12, 9, 9, 1, 3, 4, 8, 10, 12, 1, 3, 4, 12, 2, 2, 4, 12, 1, 8, 4, 2, 5, 7, 12, 1, 2, 3, 4, 6, 2, 5, 6, 7, 10, 6, 10, 8, 5, 1, 5, 7, 9, 10, 12, 12, 1, 2, 3, 4, 5, 6, 7, 8, 9, 10, 1, 2, 3, 4, 5, 6, 7, 8, 9, 10, 7, 3, 4, 8, 5, 1, 2, 3, 4, 7, 8, 10, 7, 5, 2, 3, 1, 4, 5, 7, 10, 12, 1, 2, 3, 4, 5, 6, 7, 8, 9, 10, 1, 8, 3, 5, 8, 10, 10, 10, 2, 6, 6, 10, 1, 2, 3, 4, 3, 4, 1, 2, 3, 4, 5, 6, 7, 8, 9, 10, 4, 7, 5, 8, 7, 3, 5, 6, 9, 10, 1, 3, 6, 7, 8, 9, 10, 1, 2, 3, 4, 5, 6, 7, 8, 10, 1, 2, 3, 4, 5, 6, 7, 8, 10, 2, 3, 10, 1, 2, 3, 4, 5, 6, 8, 9, 10, 3, 7, 11, 2, 5, 10, 1, 2, 5, 8, 10, 11, 7, 5, 2, 3, 5, 1, 5, 8, 5, 1, 2, 3, 4, 5, 6, 7, 8, 9, 10, 7, 12, 1, 6, 6, 12, 1, 2, 3, 4, 5, 6, 7, 8, 9, 10, 4, 10, 5, 1, 2, 3, 4, 5, 6, 7, 8, 9, 10, 1, 3, 1, 2, 3, 4, 5, 6, 7, 8, 10, 1, 3, 4, 5, 7, 8, 9, 10, 8, 10, 2, 7, 9, 1, 6, 7, 8, 10, 1, 2, 3, 4, 5, 6, 7, 8, 10, 1, 2, 3, 5, 6, 9, 10, 1, 5, 2, 8, 9, 1, 2, 3, 4, 1, 2, 3, 4, 5, 6, 7, 9, 10, 4, 3, 12, 3, 1, 12, 9, 7, 8, 2, 10, 11, 1, 5, 6, 7, 1, 6, 8, 1, 3, 5, 6, 7, 12, 2, 1, 3, 4, 7, 10, 3, 2, 3, 4, 5, 7, 4, 9, 12, 1, 2, 3, 4, 5, 6, 7, 8, 9, 10, 1, 5, 7, 8, 10, 12, 1, 2, 3, 7, 8, 10, 1, 2, 3, 7, 10, 1, 2, 10, 12, 2, 3, 7, 10, 2, 3, 4, 10, 12, 1, 2, 10, 12, 1, 2, 3, 4, 5, 6, 7, 8, 10, 12, 1, 2, 3, 4, 6, 7, 8, 10, 1, 4, 1, 4, 10, 6, 10, 2, 3, 4, 10, 9, 1, 4, 9, 1, 1, 5, 7, 8, 9, 10, 1, 1, 4, 5, 6, 9, 9, 3, 12, 5, 7, 1, 8, 10, 12, 3, 4, 8, 9, 1, 2, 7, 1, 10, 3, 4, 5, 6, 7, 10, 8, 1, 2, 3, 5, 6, 7, 8, 9, 10, 4, 1, 3, 9, 5, 1, 3, 4, 12, 4, 1, 2, 3, 4, 8, 12, 1, 2, 3, 4, 9, 4, 3, 3, 1, 9, 12, 4, 6, 9, 8, 9, 1, 2, 3, 4, 5, 7, 9, 12, 2, 7, 1, 2, 3, 4, 5, 6, 7, 8, 9, 10, 1, 2, 4, 5, 6, 9, 9, 1, 2, 3, 4, 5, 6, 9, 12, 3, 5, 12, 3, 4, 6, 12, 2, 1, 4, 5, 7, 12, 1, 2, 3, 4, 5, 6, 7, 8, 9, 10, 9, 5, 12, 4, 10, 1, 2, 2, 5, 6, 7, 9, 10, 11, 1, 2, 7, 10, 1, 7, 1, 4, 5, 6, 7, 9, 2, 10, 1, 7, 11, 7, 6, 4, 6, 9, 10, 1, 2, 3, 4, 5, 6, 7, 8, 9, 10, 1, 5, 7, 8, 10, 6, 11, 2, 8, 1, 5, 7, 8, 10, 7, 6, 5, 6, 1, 2, 8, 9, 10, 11, 1, 2, 3, 4, 5, 6, 7, 8, 9, 10, 11, 12, 12, 2, 1, 3, 4, 5, 1, 2, 3, 4, 5, 10, 8, 7, 10, 8, 4, 5, 7, 9, 9, 2, 6, 7, 8, 1, 3, 3, 4, 5, 1, 3, 4, 6, 12, 1, 3, 5, 6, 1, 2, 3, 4, 5, 6, 7, 8, 9, 10, 4, 6, 1, 3, 4, 5, 6, 7, 8, 10, 1, 3, 4, 5, 6, 7, 8, 10, 11, 4, 8, 7, 5, 7, 4, 9, 10, 10, 7, 7, 5, 1, 5, 8, 1, 4, 9, 12, 2, 2, 11, 3, 1, 2, 3, 4, 8, 9, 10, 1, 2, 3, 4, 5, 6, 8, 9, 1, 2, 3, 4, 8, 9, 10, 11, 3, 1, 2, 3, 7, 8, 10, 1, 2, 4, 9, 1, 2, 5, 7, 8, 10, 12, 3, 4, 3, 4, 10, 1, 1, 7, 10, 1, 2, 3, 4, 5, 6, 7, 8, 9, 10, 12, 1, 2, 3, 4, 5, 6, 7, 8, 9, 10, 11, 8, 8, 3, 5, 5, 4, 6, 8, 1, 1, 3, 8, 12, 1, 4, 6, 9, 9, 10, 9, 1, 2, 3, 4, 5, 6, 7, 8, 9, 10, 11, 1, 4, 5, 7, 8, 10, 2, 1, 8, 3, 7, 4, 5, 1, 5, 6, 7, 1, 2, 4, 5, 10, 11, 1, 4, 6, 9, 12, 2, 7, 7, 1, 2, 5, 6, 2, 1, 6, 10, 3, 4, 5, 6, 8, 1, 2, 3, 4, 5, 6, 7, 10, 2, 2, 2, 1, 2, 3, 6, 9, 10, 2, 1, 5, 9, 4, 3, 4, 9, 1, 2, 3, 4, 5, 6, 7, 8, 9, 10, 3, 4, 1, 4, 7, 8, 9, 10, 8, 1, 3, 7, 10, 1, 3, 5, 10, 1, 2, 8, 4, 4, 12, 12, 1, 3, 6, 7, 9, 7, 1, 2, 9, 12, 5, 1, 7, 8, 10, 10, 2, 12, 1, 12, 1, 12, 12, 3, 7, 10, 1, 3, 4, 6, 7, 10, 12, 7, 6, 3, 1, 2, 3, 4, 5, 6, 7, 8, 9, 10, 2, 4, 12, 6, 1, 3, 5, 6, 7, 8, 9, 1, 2, 6, 12, 6, 10, 12, 3, 10, 1, 5, 6, 2, 2, 1, 1, 2, 3, 4, 5, 6, 7, 8, 9, 10, 11, 5, 1, 5, 6, 1, 3, 5, 8, 1, 3, 12, 5, 1, 2, 3, 4, 5, 6, 7, 9, 10, 12, 4, 5, 7, 1, 3, 4, 5, 6, 7, 8, 9, 10, 2, 6, 3, 1, 2, 3, 4, 5, 6, 7, 9, 10, 1, 2, 3, 6, 10, 3, 1, 2, 3, 4, 5, 6, 7, 8, 9, 10, 3, 6, 10, 12, 12, 4, 8, 12, 9, 2, 9, 4, 1, 5, 6, 7, 9, 1, 7, 2, 3, 5, 1, 2, 3, 4, 5, 6, 8, 9, 10, 1, 8, 1, 2, 3, 4, 5, 6, 7, 8, 9, 10, 1, 2, 3, 4, 5, 6, 7, 8, 9, 10, 1, 2, 3, 4, 5, 6, 9, 11, 5, 11, 3, 1, 3, 4, 6, 9, 5, 1, 8, 8, 1, 2, 3, 4, 5, 6, 7, 9, 1, 2, 7, 9, 1, 2, 3, 4, 5, 6, 8, 9, 1, 2, 3, 4, 5, 6, 8, 10, 11, 8, 6, 8, 5, 7, 1, 8, 10, 1, 2, 7, 1, 3, 4, 5, 6, 7, 8, 9, 10, 7, 8, 10, 6, 1, 3, 4, 1, 3, 4, 1, 4, 12, 5, 2, 4, 1, 4, 1, 3, 4, 7, 10, 4, 1, 8, 1, 2, 3, 12, 1, 12, 6, 1, 2, 3, 4, 5, 6, 7, 8, 9, 10, 1, 3, 5, 7, 10, 1, 1, 2, 3, 12, 10, 1, 2, 3, 4, 6, 11, 12, 1, 2, 3, 4, 1, 2, 3, 4, 5, 8, 10, 12, 11, 1, 2, 3, 4, 6, 7, 9, 10, 3, 4, 1, 3, 1, 2, 3, 4, 8, 9, 12, 3, 12, 10, 11, 8, 11, 2, 1, 12, 1, 2, 6, 9, 10, 2, 11, 1, 2, 4, 6, 10, 1, 2, 4, 6, 9, 10, 12, 1, 3, 5, 7, 10, 2, 9, 9, 1, 3, 12, 7, 2, 9, 8, 2, 6, 8, 1, 2, 3, 4, 5, 6, 7, 8, 9, 10, 11, 2, 3, 4, 1, 2, 3, 4, 5, 6, 7, 8, 1, 2, 3, 4, 6, 7, 9, 10, 4, 1, 2, 3, 4, 11, 1, 3, 4, 5, 6, 7, 8, 10, 7, 5, 5, 11, 2, 1, 2, 8, 8, 1, 2, 3, 4, 5, 6, 7, 8, 9, 10, 1, 2, 3, 4, 5, 6, 7, 8, 9, 10, 1, 3, 4, 5, 8, 9, 10, 1, 2, 3, 4, 5, 6, 7, 8, 10, 6, 1, 2, 6, 7, 9, 3, 4, 6, 8, 5, 1, 2, 3, 4, 6, 9, 3, 10, 9, 1, 6, 7, 4, 5, 1, 8, 9, 10, 1, 2, 3, 4, 5, 7, 10, 1, 2, 3, 4, 5, 6, 8, 10, 3, 7, 1, 3, 6, 9, 11, 6, 4, 3, 5, 4, 6, 7, 9, 10, 12, 1, 2, 3, 4, 5, 6, 12, 1, 7, 2, 8, 6, 11, 3, 6, 1, 10, 1, 2, 3, 4, 5, 6, 7, 8, 10, 8, 1, 3, 4, 5, 7, 8, 10, 1, 7, 8, 10, 6, 10, 5, 9, 1, 1, 4, 6, 7, 8, 9, 9, 5, 8, 2, 1, 1, 6, 9, 7, 1, 4, 6, 7, 8, 10, 6, 6, 5, 11, 1, 3, 4, 5, 1, 2, 3, 4, 5, 12, 6, 7, 8, 8, 5, 6, 11, 8, 6, 1, 2, 3, 4, 6, 8, 9, 1, 9, 3, 4, 5, 6, 7, 10, 5, 1, 2, 3, 4, 5, 6, 7, 8, 9, 10, 11, 9, 1, 2, 3, 4, 5, 6, 7, 8, 9, 10, 1, 2, 3, 4, 5, 6, 7, 8, 9, 10, 1, 2, 3, 4, 5, 6, 7, 8, 9, 10, 6, 11, 3, 3, 5, 1, 2, 3, 4, 5, 6, 7, 8, 9, 10, 1, 6, 12, 4, 6, 9, 9, 11, 3, 5, 9, 11, 11], \"Freq\": [0.9697521708109219, 0.4082682193935679, 0.26748607477509617, 0.13796650172610225, 0.02674860747750962, 0.005631285784738867, 0.0591285007397581, 0.08869275110963716, 0.005631285784738867, 0.3466971414666898, 0.2385776720917685, 0.16888082406495972, 0.14475499205567977, 0.013403240005155533, 0.016977437339863677, 0.009829042670447392, 0.009829042670447392, 0.04825166401855992, 0.003574197334708142, 0.19473431023835513, 0.10358207991401869, 0.21130744302459814, 0.21959400941771964, 0.1491581950761869, 0.0952955135208972, 0.024859699179364488, 0.5500149880675551, 0.09706146848250972, 0.06470764565500649, 0.25883058262002595, 0.5120194761606719, 0.01292978475153212, 0.36461992999320575, 0.02715254797821745, 0.019394677127298178, 0.009050849326072483, 0.021980634077604602, 0.0323244618788303, 0.61296428554225, 0.21217994499539422, 0.14145329666359616, 0.2967016659945094, 0.27090152112542165, 0.3870021730363167, 0.025800144869087778, 0.008600048289695926, 0.012900072434543889, 0.9916039592382964, 0.9707191956010157, 0.9904397925811221, 0.2753349302809659, 0.23297571023774039, 0.06353883006483828, 0.39817666840631993, 0.01694368801729021, 0.008471844008645105, 0.3099769365529926, 0.17712967803028146, 0.18136538772230992, 0.23874000082342284, 0.029264903326742153, 0.03003503236165642, 0.002310387104742802, 0.008856483901514074, 0.02233374201251375, 0.9889345817988113, 0.8740434271676115, 0.12195954797687603, 0.2540629927073172, 0.2638346462729832, 0.004885826782833023, 0.11481692939657603, 0.01954330713133209, 0.27360629983864926, 0.01710039373991558, 0.04152952765408069, 0.0073287401742495335, 0.36243836336298707, 0.16248793376173767, 0.1516554048442885, 0.12728221478002785, 0.03565707435327021, 0.028435388408304094, 0.023921834692700268, 0.01715150411929453, 0.07898719002306692, 0.012186595032130326, 0.37057408374610445, 0.33646266181131657, 0.19226437817789518, 0.034111421934787854, 0.017055710967393927, 0.04496505618676581, 0.00465155753656198, 0.9787516242010635, 0.979554766772349, 0.9571517265335883, 0.29151574669676467, 0.32220161477010834, 0.13808640633004643, 0.10740053825670277, 0.061371736146687304, 0.06904320316502321, 0.9888822015554526, 0.371297212302904, 0.16443162259128608, 0.14188857755860976, 0.07823762687811192, 0.03447759828526966, 0.09149824160321564, 0.0278472909227178, 0.03447759828526966, 0.011934553252593343, 0.042433967120331886, 0.6705547691454707, 0.06004968081899738, 0.18014904245699215, 0.04003312054599825, 0.04003312054599825, 0.34874586430959237, 0.3387816967578897, 0.05480292153436451, 0.14448042949968826, 0.10711480118080337, 0.004982083775851319, 0.7569809005418054, 0.168217977898179, 0.9793380353554473, 0.9894048554190253, 0.9692938183683907, 0.3435305110133434, 0.5496488176213494, 0.10305915330400303, 0.6867438149635541, 0.1339987931636203, 0.050249547436357615, 0.016749849145452536, 0.03349969829090507, 0.008374924572726268, 0.05862447200908388, 0.20096648051730992, 0.19323700049741338, 0.16618382042777552, 0.10434798026860323, 0.14686012037803417, 0.01545896003979307, 0.17391330044767206, 0.5269691124979722, 0.07739858839813968, 0.014821006289005468, 0.12515516421826842, 0.0938663731637013, 0.01646778476556163, 0.04446301886701641, 0.06916469601535885, 0.014821006289005468, 0.01976134171867396, 0.08494963349566188, 0.030581868058438277, 0.5538716103917155, 0.3160126366038622, 0.016989926699132376, 0.4730363118488085, 0.218324451622527, 0.291099268830036, 0.9498408323386991, 0.9119972453233817, 0.9698296439438632, 0.3669988460554269, 0.06476450224507534, 0.25905800898030135, 0.2158816741502511, 0.10794083707512556, 0.4610310807789658, 0.28046057414053754, 0.2164284795879034, 0.011525777019474145, 0.029454763494211705, 0.6947460002466576, 0.1340737895212848, 0.137120921101314, 0.015235657900145999, 0.0060942631600584, 0.0121885263201168, 0.9829328304003231, 0.9930192646434285, 0.9807104421295, 0.9865234892244077, 0.7284668650504915, 0.9188307509221365, 0.21555400047196735, 0.646662001415902, 0.1293324002831804, 0.5798032292429094, 0.13538552561001946, 0.06474959920479191, 0.11478338040849476, 0.05003378120370284, 0.04709061760348503, 0.008829490800653442, 0.9886775167960933, 0.33417401764732674, 0.28410533321631837, 0.1414784844472531, 0.09531423871040591, 0.07487335378215018, 0.02250794070751754, 0.008727568845772108, 0.012861680404295738, 0.020211212063893303, 0.00528247588033575, 0.020265984390897763, 0.06924211333556736, 0.4593623128603493, 0.4340298323717271, 0.016888320325748135, 0.9767849588152877, 0.01775972652391432, 0.25467647931035836, 0.4826530051446308, 0.23003036840935592, 0.030807638626253027, 0.9757801943058168, 0.9818613130502013, 0.02805663471426007, 0.9539255802848425, 0.976165654993398, 0.9164351788134613, 0.9842676347249648, 0.0254916934543322, 0.05523200248438643, 0.9177009643559592, 0.9860273576092692, 0.3689535837868834, 0.1269200328226879, 0.3246791537324574, 0.06493583074649148, 0.06198420207619642, 0.005903257340590135, 0.04722605872472108, 0.9515724391113369, 0.03460263414950316, 0.4708980944523169, 0.15475524230827314, 0.1171718263191211, 0.17023076653910046, 0.006632367527497421, 0.07737762115413657, 0.9840631355922491, 0.9659003782080526, 0.9906623232296117, 0.9880408695859565, 0.3188509843699178, 0.3240029751407064, 0.11964067456609125, 0.10761936276758446, 0.03549149197654382, 0.037208822233473354, 0.028049727529849144, 0.022897736759060525, 0.006296877608741645, 0.15784197823428653, 0.8286703857300043, 0.9778693143815446, 0.3759785566862275, 0.6237231276813286, 0.31944761523345144, 0.6781256393552215, 0.85467087598788, 0.0872113138763143, 0.052326788325788576, 0.01664203137150197, 0.9735588352328651, 0.8790271966275619, 0.11269579443943102, 0.9725990793314071, 0.8422456372840913, 0.9885076123793269, 0.9790708280744611, 0.21861335889628142, 0.5163798304963889, 0.022615175058236008, 0.12438346282029805, 0.04899954595951135, 0.0640763293316687, 0.08359145915834026, 0.08359145915834026, 0.6130040338278285, 0.22291055775557403, 0.9640376131330131, 0.8746176939645527, 0.8702580956978928, 0.01083623014262432, 0.5959926578443376, 0.0948170137479628, 0.26819669602995194, 0.00812717260696824, 0.02167246028524864, 0.3621696677542472, 0.4753476889274494, 0.15279032858382302, 0.005658901058660112, 0.7138920324980919, 0.34616441418018545, 0.020979661465465784, 0.6293898439639735, 0.9690268421651471, 0.9804307312635621, 0.9842676347249648, 0.046178911316437185, 0.9466676819869624, 0.07529010790422574, 0.2760637289821611, 0.07529010790422574, 0.5521274579643222, 0.9666356387030626, 0.9831592208312947, 0.15708566780845853, 0.12566853424676683, 0.17952647749538117, 0.04936978131122982, 0.04488161937384529, 0.4443280318010684, 0.9944623828235397, 0.9282559305453977, 0.8678610483789598, 0.08855724983458774, 0.03542289993383509, 0.9712070021754776, 0.27426045296310153, 0.7199336890281416, 0.993738649812094, 0.9692640902009714, 0.9692640902009714, 0.9773356041370259, 0.9854723059588053, 0.9967370979552028, 0.2730100461174954, 0.17468015662602462, 0.2001302456708759, 0.06246840038281675, 0.015038688981048477, 0.04742971140176827, 0.06940933375868527, 0.006940933375868528, 0.004627288917245685, 0.13881866751737054, 0.00809775560517995, 0.23333340219811588, 0.7388891069607003, 0.793440322583369, 0.15113149001587983, 0.047228590629962444, 0.6917708111136518, 0.11005444722262642, 0.18866476666735957, 0.9504425402845503, 0.9670215195971436, 0.9594543808756675, 0.9912157872410836, 0.16731204714322653, 0.2175056612861945, 0.5377887229603711, 0.009560688408184373, 0.007170516306138281, 0.06214447465319843, 0.35955521135618335, 0.13719869907012258, 0.49675391042630596, 0.0070964844346615135, 0.9968591535064467, 0.6775828512289747, 0.3169339142845204, 0.9123151297275014, 0.9904116740909862, 0.9888105600962477, 0.9977607490460956, 0.9969468659999872, 0.8944553912103197, 0.08224877160554664, 0.01028109645069333, 0.21945921489261938, 0.08461078164534723, 0.47461360329186963, 0.19698447601807403, 0.023796782337753907, 0.02837110896081687, 0.07092777240204218, 0.326267753049394, 0.05674221792163374, 0.5248655157751121, 0.35939025694700066, 0.6289329496572511, 0.9591897799137666, 0.9797067188068024, 0.44400220929917467, 0.48157162700910483, 0.017077008049968256, 0.037569417709930164, 0.010246204829980954, 0.0068308032199873026, 0.7916933403433019, 0.4713907464876598, 0.14101918592151944, 0.11173495981281682, 0.0844409238280066, 0.03155872910743681, 0.05629394921867107, 0.024166594361550713, 0.019048962614398795, 0.03212735485712036, 0.028146974609335535, 0.3617034128369101, 0.3324850312985525, 0.11888858694917936, 0.05239158068946888, 0.02115813835536243, 0.02619579034473444, 0.020150607957488027, 0.023173199151111233, 0.030225911936232044, 0.01410542557024162, 0.9587610645088915, 0.12264416088865293, 0.8679432924427746, 0.9724756071864623, 0.9411328290091856, 0.26964244762761813, 0.5968490132880985, 0.06059380845564452, 0.003029690422782226, 0.03029690422782226, 0.01514845211391113, 0.027267213805040033, 0.950373499649514, 0.9936483127499136, 0.992808937266756, 0.974768317290226, 0.9699942114728791, 0.11460208157397539, 0.045840832629590156, 0.8251349873326228, 0.8501180148338596, 0.7359916935988234, 0.295087904650936, 0.0675502432333468, 0.08295643905849606, 0.18487434990179122, 0.01540619582514927, 0.07347570316609651, 0.1623576021573423, 0.07110551919299662, 0.0023701839730998877, 0.046218587475447805, 0.9574700817714311, 0.02901424490216458, 0.977243018918323, 0.10584568375700626, 0.8114835754703813, 0.0705637891713375, 0.8918083733972794, 0.9856320509402687, 0.10037408505705216, 0.8866377513372941, 0.9628001113798933, 0.9163479469962943, 0.04206491346539825, 0.6777124947203051, 0.1776074124094593, 0.09815146475259592, 0.9875357378399153, 0.9630777249863434, 0.34407785094807136, 0.3234125145547938, 0.14362408793327902, 0.05476314144218553, 0.04133067278655512, 0.04649700688487451, 0.009299401376974901, 0.013432468655630412, 0.012399201835966536, 0.011365935016302658, 0.985688127949893, 0.9402438012148131, 0.9954698876102746, 0.8995389115368239, 0.9619169876904389, 0.005205845068385201, 0.05205845068385201, 0.8954053517622546, 0.010411690136770402, 0.03123507041031121, 0.7890796995657136, 0.07937488102140314, 0.03735288518654265, 0.03268377453822482, 0.018676442593271326, 0.018676442593271326, 0.018676442593271326, 0.43866737110188414, 0.17317806134566138, 0.13776509119517702, 0.11876300965101466, 0.034657205543614275, 0.0316341471161339, 0.027207525847323357, 0.02278090457851281, 0.015223258509811878, 0.46636971052564397, 0.2127861801026094, 0.18398805046466227, 0.0759950643223605, 0.008799428500483849, 0.011999220682477975, 0.034397765956436864, 0.005599636318489721, 0.8613514564561785, 0.22464021379327026, 0.047292676588056894, 0.7212133179678676, 0.4873446593069742, 0.2510563396429867, 0.18332714456688684, 0.02648058754855032, 0.009675599296585694, 0.0020369682729654095, 0.018332714456688683, 0.014768019978999217, 0.00662014688713758, 0.03400956086807138, 0.03400956086807138, 0.9182581434379272, 0.04898252087397235, 0.9469954035634653, 0.9052179718468738, 0.09754767867676911, 0.04433985394398596, 0.26603912366391574, 0.46113448101745397, 0.13301956183195787, 0.9525045835467328, 0.9847854727803386, 0.9954601435740607, 0.07552423838802039, 0.05034949225868026, 0.8811161145269045, 0.32198461584769944, 0.11708531485370888, 0.5561552455551172, 0.9833900784971122, 0.3615250149233234, 0.21959297202750014, 0.03615250149233234, 0.02811861227181404, 0.1593388028736129, 0.09640667064621958, 0.02811861227181404, 0.013389815367530497, 0.041508427639344536, 0.016067778441036594, 0.8717601860058021, 0.768271224790269, 0.988183449714649, 0.9738817393067192, 0.13267660277713614, 0.7960596166628168, 0.39847739311692376, 0.14976331553387737, 0.11165390042034608, 0.14909472930381543, 0.027412035432540057, 0.04145234626384106, 0.07889317514731041, 0.02139475936198248, 0.006017276070557573, 0.016046069521486864, 0.9678016026826446, 0.9581358244381565, 0.9265576897839851, 0.3200332271759797, 0.1453212102992969, 0.05388314539187413, 0.06857854868056708, 0.14368838771166434, 0.07510983903109728, 0.04245338727844629, 0.027757983989753342, 0.08164112938162747, 0.040820564690813736, 0.9505551010530209, 0.03222220681535664, 0.6647649411406488, 0.1160473280870529, 0.0515765902609124, 0.0014326830628031222, 0.005730732251212489, 0.06590342088894362, 0.005730732251212489, 0.01719219675363747, 0.07020147007735299, 0.43341308554522795, 0.07518390259458035, 0.1426282858044245, 0.11056456263908876, 0.14926215956276984, 0.05970486382510793, 0.006633873758345325, 0.022112912527817753, 0.9571517265335883, 0.8353154008259057, 0.2880917803772213, 0.5260806424279693, 0.18788594372427475, 0.0777867302014317, 0.22363684932911615, 0.1555734604028634, 0.35976362718162164, 0.17502014295322135, 0.4548689230855524, 0.13224623642423408, 0.11044740624441526, 0.1060876402084515, 0.05231719243156513, 0.017439064143855043, 0.03197161759706758, 0.08719532071927522, 0.007266276726606268, 0.21606916687561808, 0.16565302793797387, 0.19926378722973667, 0.02640845372924221, 0.33850836143846835, 0.036011527812603014, 0.019206148166721608, 0.9490921554531584, 0.04909097355792199, 0.15986205272755688, 0.5755033898192048, 0.25577928436409103, 0.6139271721990588, 0.20128759744231436, 0.12412735175609386, 0.06038627923269431, 0.31932675753884404, 0.11312272861208701, 0.32155358290522373, 0.1892801561422716, 0.004899015806035264, 0.02538580917672819, 0.003117555512931532, 0.006235111025863064, 0.01692387278448546, 0.9984434313428341, 0.9446316229600672, 0.048860256360003476, 0.9689676282350306, 0.9903073457626026, 0.9112483954914359, 0.9937376221630633, 0.8435108543615615, 0.934444274117998, 0.9562493952364394, 0.036313268173535675, 0.952983360592461, 0.21572716428004227, 0.5683581058916498, 0.04563459244385509, 0.17009257183618717, 0.9915724512663455, 0.9838028868501522, 0.969937351925818, 0.15853841022063594, 0.18292893486996453, 0.04878104929865721, 0.04878104929865721, 0.5365915422852293, 0.024390524649328605, 0.9962198321217497, 0.03369605943689545, 0.5345420337943869, 0.4196691038958797, 0.010721473457194007, 0.003063278130626859, 0.989355231101184, 0.10390713330197257, 0.8159444362449636, 0.04812540910828204, 0.006562555787493005, 0.02515646385205652, 0.1889657579641034, 0.7912941114746829, 0.011810359872756462, 0.5245845422474343, 0.06001164388629427, 0.09001746582944141, 0.03621392303483275, 0.11174581965034106, 0.02172835382089965, 0.10553771855865544, 0.015520252729214035, 0.025867087882023392, 0.008277468122247486, 0.8568313846045236, 0.01338799038444568, 0.03570130769185515, 0.017850653845927576, 0.07586527884519219, 0.9731108153955739, 0.24705279840704045, 0.29747173685745687, 0.07562840767562462, 0.25041406097040153, 0.005041893845041642, 0.12268608356267995, 0.20315265827198295, 0.29851002848128105, 0.026948822015671208, 0.30472898740797444, 0.1658389047118228, 0.15096794314974374, 0.4696780453547583, 0.2432261306301427, 0.13419372724421666, 0.3512736954707577, 0.049178317365906075, 0.5409614910249668, 0.049178317365906075, 0.1848095355804945, 0.08213757136910867, 0.5749629995837607, 0.05133598210569292, 0.11293916063252442, 0.7394017331740903, 0.13271313159534953, 0.018959018799335647, 0.10427460339634607, 0.4594238530042094, 0.05167114239167147, 0.04717799957500439, 0.10334228478334294, 0.023588999787502195, 0.19320514111668463, 0.03594514253333667, 0.019095856970835108, 0.06290399943333919, 0.002246571408333542, 0.49430461833263956, 0.06920264656656953, 0.03954436946661116, 0.0988609236665279, 0.19179019191306415, 0.047453243359933395, 0.017794966259975023, 0.04152158793994172, 0.9935460296973619, 0.984444237855284, 0.1980814422279859, 0.7603771491977523, 0.03833834365702953, 0.3351935741960874, 0.66325537021779, 0.7129858632763073, 0.12350936214235245, 0.16280779555128277, 0.9328465720641637, 0.9639236380043008, 0.9750222541943366, 0.9832366759418966, 0.014675174267789502, 0.9886288508938174, 0.09986721375979309, 0.03745020515992241, 0.2496680343994827, 0.44940246191906885, 0.03745020515992241, 0.12483401719974135, 0.9817224529342607, 0.13086806251635116, 0.7132309407141137, 0.045803821880722906, 0.06543403125817558, 0.045803821880722906, 0.9521572387746992, 0.975645534377256, 0.9290798455211942, 0.12466000909123551, 0.8726200636386485, 0.2604631444513321, 0.7162736472411633, 0.9549019919090039, 0.9105619063625913, 0.8051546236311018, 0.19383352050378377, 0.9571517265335883, 0.9779379355663556, 0.9078632249972678, 0.024536843918845076, 0.05725263581063851, 0.9866151210135063, 0.9024651534870347, 0.07882054161141475, 0.10404311492706746, 0.012611286657826359, 0.7850525944496908, 0.018916929986739536, 0.9277344253199805, 0.930945357634873, 0.5782639705898829, 0.07680068359396881, 0.08583605813443573, 0.010541270297211407, 0.03463560240512319, 0.0451768727023346, 0.09487143267490265, 0.03162381089163422, 0.04367097694559011, 0.9830224829954948, 0.8722291557638407, 0.09755194505253481, 0.028691748544863182, 0.9832142704595127, 0.34549162815308915, 0.24952173144389772, 0.134357855392868, 0.268715710785736, 0.9865832346589991, 0.06968177821297958, 0.07942224183414877, 0.2787271128519183, 0.5080026411655931, 0.060690581024208025, 0.0029970657295905197, 0.7077364911215012, 0.10631915898013583, 0.11742713081388137, 0.0666478310024732, 0.0031737062382130097, 0.9956329270305575, 0.9959360866126934, 0.9917842994826602, 0.9626611270992568, 0.030560670701563705, 0.9064508618002622, 0.9913710389269234, 0.9195751453498546, 0.05932742873224868, 0.9571517265335883, 0.9931078351482722, 0.2741160173885347, 0.294564188040502, 0.29124826847531815, 0.088424521738237, 0.004973879347775831, 0.014368984782463512, 0.029290622825791007, 0.0033159195651838876, 0.9389498928383285, 0.05030088711633903, 0.3662036302355457, 0.32676631621017926, 0.12619940488117268, 0.09915667526377853, 0.014648145209421828, 0.014648145209421828, 0.009014243205798049, 0.010141023606522803, 0.0281695100181189, 0.003380341202174268, 0.024605928795845985, 0.04921185759169197, 0.23621691644012147, 0.019684743036676788, 0.03444830031418438, 0.6397541486919956, 0.9531765748583152, 0.07497390561626971, 0.038534074394954265, 0.35057630726713823, 0.4557073145838069, 0.010471215868194094, 0.008795821329283039, 0.015916248119655023, 0.04481680391587072, 0.15308188838868206, 0.07654094419434103, 0.7654094419434103, 0.21321566791295682, 0.032802410448147204, 0.5412397723944289, 0.21321566791295682, 0.9755845313915058, 0.09689630904581989, 0.14819435501125394, 0.49018132811414766, 0.20519218386173624, 0.05699782885048229, 0.4288735397083847, 0.09684241219221591, 0.10672429098733997, 0.028163354566103607, 0.15514549708344794, 0.048421206096107956, 0.06176174246952545, 0.028163354566103607, 0.029151542445616012, 0.016799193951710922, 0.9964252961134592, 0.9781896986633125, 0.9108817774055064, 0.9946761699920579, 0.9457773231817291, 0.9874254887538982, 0.9806867498698318, 0.11647786233658011, 0.0905938929284512, 0.2847236634894181, 0.3300206099536437, 0.11647786233658011, 0.06470992352032229, 0.9574021943060034, 0.4278099010770363, 0.1801304846640153, 0.06191985410325526, 0.32648650345352775, 0.1944255068174254, 0.7777020272697016, 0.25480136245488244, 0.008400044916095027, 0.5124027398817966, 0.047600254524538484, 0.14280076357361546, 0.03080016469234843, 0.8998198298517135, 0.08998198298517135, 0.16036210613256396, 0.8338829518893327, 0.9930861382230854, 0.8955754927518117, 0.9968957109824974, 0.3161114524593157, 0.1996493383953573, 0.0665497794651191, 0.4159361216569944, 0.38907955225333474, 0.22393067755587612, 0.11126555541057595, 0.09307118785916102, 0.07347725357302186, 0.03568895173546776, 0.0034989168368105643, 0.025192201225036064, 0.03638873510282987, 0.008397400408345355, 0.8769913670812189, 0.023543392404864937, 0.041200936708513644, 0.03531508860729741, 0.023543392404864937, 0.9849084507744054, 0.9906623232296117, 0.9962647421106213, 0.9571517265335883, 0.9036675062789971, 0.023533007976015548, 0.028239609571218658, 0.023533007976015548, 0.014119804785609329, 0.9112881431030706, 0.9367091652557504, 0.07837020355335193, 0.9090943612188824, 0.17212390312939166, 0.6645895148607067, 0.043030975782347915, 0.08606195156469583, 0.03824975625097592, 0.95432958507804, 0.4393729788886693, 0.15804392689320487, 0.15369907666933671, 0.051595096408434585, 0.0841814730874459, 0.023353569953291443, 0.05268130896440163, 0.015750082061522137, 0.005974169057818742, 0.010862125559670439, 0.004887956501851697, 0.9806547315447212, 0.9584031335905541, 0.9872061034068865, 0.02608089172877294, 0.08693630576257647, 0.7853246287219408, 0.09852781319758666, 0.7410734437455581, 0.0581994851109077, 0.03491969106654462, 0.06013946794793796, 0.011639897022181541, 0.09311917617745233, 0.9571517265335883, 0.9585929978466151, 0.8867655365841961, 0.9778829362742593, 0.012219888013110533, 0.8187324968784058, 0.1099789921179948, 0.061099440065552665, 0.9914635902273222, 0.02186178458672427, 0.0983780306402592, 0.5356137223747446, 0.33885766109422616, 0.9656246113370233, 0.9745870518862353, 0.9757694010759276, 0.02273829404736204, 0.939466040653939, 0.0053177100859542895, 0.42896194693364603, 0.5353161486527318, 0.03013369048707431, 0.9123151297275014, 0.014175660763728106, 0.1204931164916889, 0.800924833150638, 0.06379047343677648, 0.3819978607636062, 0.2173143385677404, 0.08658618177308407, 0.1154482423641121, 0.02376875578084661, 0.06281742599223747, 0.02546652405090708, 0.07809734042278171, 0.003395536540120944, 0.005093304810181416, 0.9859619391127663, 0.9625942337590957, 0.18056851725458356, 0.09722920159862192, 0.04166965782798082, 0.0324097338662073, 0.04166965782798082, 0.25001794696788493, 0.2083482891399041, 0.152788745369263, 0.3411883697016895, 0.06998735788752605, 0.06123893815158529, 0.026245259207822266, 0.034993678943763026, 0.15309734537896322, 0.22745891313445965, 0.08748419735940756, 0.9864400275678079, 0.986458576965866, 0.9571517265335883, 0.9020135082734332, 0.09353968229044153, 0.8979809499882386, 0.8892123616368138, 0.10944152143222324, 0.9119972453233817, 0.9119972453233817, 0.9752028739980722, 0.9542036467775004, 0.9364441162030998, 0.6485019338111643, 0.0720557704234627, 0.27020913908798516, 0.6626622595948604, 0.0521012095995959, 0.13025302399898975, 0.15304730319881296, 0.9902292402593171, 0.9728571671524857, 0.9784376233395098, 0.9864044191481174, 0.23756261359764985, 0.4734980860062747, 0.10739131847564994, 0.02766140021342498, 0.01464427070122499, 0.12040844798784993, 0.019525694268299986, 0.22611850467527125, 0.4970129508703982, 0.1164174479516248, 0.05596992689981962, 0.026865564911913418, 0.02014917368393506, 0.00895518830397114, 0.049253535671841264, 0.3611322481812755, 0.35159740334480616, 0.08342989231910655, 0.1358715389196878, 0.015494122859262644, 0.04648236857778793, 0.005959278022793325, 0.9914152176039612, 0.9839725486504408, 0.48546423009132184, 0.1074956509487927, 0.24619971668917037, 0.017338008217547208, 0.13870406574037766, 0.9541690283223262, 0.24844067388385854, 0.3201062528888177, 0.045388200036474154, 0.384605273993281, 0.700216825668425, 0.18124924911134155, 0.01345209270748238, 0.03752425860508243, 0.04318829763981186, 0.019116131742211804, 0.0049560341553882455, 0.9073714300792868, 0.09292358018884263, 0.8667266965285126, 0.07583858594624485, 0.06500450223963844, 0.9851433734318227, 0.9043589475293878, 0.049216813470987095, 0.043064711787113706, 0.24575275786121575, 0.1210559881316359, 0.25667510265504756, 0.2239080682735521, 0.010922344793831812, 0.030946643582523463, 0.009101953994859843, 0.05370152856967307, 0.024575275786121575, 0.020024298788691653, 0.005461172396915906, 0.39219560221632155, 0.1040663421043308, 0.17061216630710016, 0.18618672090774832, 0.019114226100795453, 0.0346887807014436, 0.010619014500441918, 0.0438919266018266, 0.021238029000883837, 0.008495211600353535, 0.009203145900382997, 0.9762642487838639, 0.9571517265335883, 0.9880704709976036, 0.9381556022662368, 0.9773129335288989, 0.8704896339237568, 0.06351211921332131, 0.06538012271959547, 0.9730468992151694, 0.15939734654905593, 0.3984933663726398, 0.3984933663726398, 0.039849336637263984, 0.1399037430901562, 0.04304730556620191, 0.2798074861803124, 0.5273294931859734, 0.9652262770977609, 0.9318153941674043, 0.9762244699355477, 0.46758316336784206, 0.24808333927244217, 0.13482790177850118, 0.06579601606790858, 0.008628985713824075, 0.029122826784156255, 0.011864855356508103, 0.014561413392078127, 0.011864855356508103, 0.005393116071140047, 0.0021572464284560187, 0.3210734584740396, 0.13933376499816813, 0.16962371391081338, 0.10298582630299384, 0.248377581083691, 0.018173969347587148, 0.9828838661065179, 0.9006122687836462, 0.09158768835087928, 0.29038533988289733, 0.6896651822218811, 0.9801710781283869, 0.9460593046731011, 0.11101618430080204, 0.28864207918208534, 0.11841726325418885, 0.488471210923529, 0.2956934948827729, 0.25257152687903517, 0.18480843430173305, 0.049282249147128816, 0.03080140571695551, 0.17864815315834195, 0.8845258204311235, 0.07728866392116614, 0.01717525864914803, 0.01717525864914803, 0.8610778315857396, 0.9862935084125622, 0.9108402802142959, 0.9801305772055121, 0.13615710410774218, 0.13615710410774218, 0.022692850684623695, 0.7034783712233346, 0.9631440395541764, 0.22459734625200906, 0.12834134071543374, 0.6417067035771687, 0.8483253427675733, 0.013255083480743333, 0.019882625221115, 0.10604066784594667, 0.013255083480743333, 0.62015792350615, 0.08865795585142071, 0.11865837525568934, 0.12358381724743493, 0.004477674537950541, 0.019254000513187326, 0.02283614014354776, 0.0022388372689752705, 0.9786101422734308, 0.9864222500136814, 0.9799964965864819, 0.8268805677392024, 0.03758548035178193, 0.07517096070356385, 0.03758548035178193, 0.012528493450593975, 0.00835232896706265, 0.9843526818403966, 0.009555190535636813, 0.9172982914211341, 0.05733114321382088, 0.9834235496760758, 0.9804875653296933, 0.8307938372435651, 0.16615876744871302, 0.44490572588142147, 0.14696757268833588, 0.09893147889137006, 0.07548529025237484, 0.09778776237239468, 0.029736629493359788, 0.053182818132355, 0.023446188638995218, 0.013724598227704518, 0.01601203126565527, 0.34342544834844857, 0.6566596484904401, 0.0052089495106638645, 0.22919377846921005, 0.21356692993721846, 0.06250739412796638, 0.015626848531991595, 0.4688054559597478, 0.9571517265335883, 0.3484487238180308, 0.10666797667898903, 0.05688958756212748, 0.4835614942780836, 0.22037759457645303, 0.6774570499942816, 0.06121599849345918, 0.040810665662306116, 0.11956907899310859, 0.17935361848966289, 0.6875222042103745, 0.9914069468703922, 0.9809550166539837, 0.7916933403433019, 0.9825039100409122, 0.08424815726477912, 0.159135408166805, 0.159135408166805, 0.5054889435886747, 0.08424815726477912, 0.9051683979438093, 0.5902504183585363, 0.12878190946004428, 0.11805008367170726, 0.15024556103671835, 0.965278917109525, 0.008095974189082386, 0.8946051478936036, 0.020239935472705965, 0.07286376770174147, 0.9333080847187041, 0.7971030216780042, 0.18820488011841766, 0.05547832175504354, 0.8876531480806966, 0.3166746340766742, 0.6333492681533484, 0.9495394010490378, 0.5496950854108943, 0.23927903717885984, 0.2069440321546896, 0.02558908907908493, 0.40942542526535886, 0.03462053228346785, 0.02558908907908493, 0.4651193250257202, 0.03763101335159549, 0.0015052405340638193, 0.9603782581556519, 0.9623375522069137, 0.9931947327891943, 0.28643294062859176, 0.3392095293541279, 0.12426487709012607, 0.11898721821757245, 0.04174148381019679, 0.024948932852071642, 0.01919148680928588, 0.016792550958125145, 0.011994679255803675, 0.016312763787893, 0.10512019595581686, 0.8935216656244432, 0.7916933403433019, 0.9734707449228892, 0.34183978177546376, 0.053808113797989665, 0.3956478955734534, 0.04431256430422678, 0.12027696025432984, 0.031651831645876274, 0.009495549493762882, 0.025597415101853222, 0.9727017738704224, 0.9275722133386366, 0.06049384000034586, 0.8664888927240084, 0.06665299174800064, 0.05332239339840052, 0.17817186578841104, 0.8017733960478497, 0.09127503424261123, 0.054765020545566735, 0.8397303150320232, 0.9988639258711753, 0.986984157645445, 0.9849036857779249, 0.35861125728212856, 0.259319134712097, 0.13234117942545812, 0.07783922601475467, 0.07667960998473969, 0.03217934483291533, 0.012031016311405282, 0.028120688727862952, 0.012465872322660896, 0.0073925521913454145, 0.0030439920787892886, 0.9506341556959049, 0.830653595711203, 0.15800476005376143, 0.00902884343164351, 0.8798214512141289, 0.05372955427261856, 0.04701335998854124, 0.01343238856815464, 0.2884945316804542, 0.24041210973371183, 0.43274179752068126, 0.9832892075159998, 0.26657126360262373, 0.11424482725826732, 0.16375091907018316, 0.034273448177480195, 0.011424482725826732, 0.015232643634435642, 0.12566930998409406, 0.09901218362383167, 0.11805298816687623, 0.04569793090330693, 0.05217697573180322, 0.8609200995747531, 0.05217697573180322, 0.2953229852331958, 0.29657967878737956, 0.15205992005624122, 0.06283467770919059, 0.027647258192043857, 0.11184572632235924, 0.012566935541838117, 0.026390564637860048, 0.015080322650205742, 0.9905508330880648, 0.9829616444152357, 0.991333488565352, 0.4939882288985487, 0.1601390412363427, 0.12304468705165315, 0.1384252729331098, 0.03438013314678544, 0.007237922767744304, 0.03076117176291329, 0.005428442075808227, 0.0063331824217762655, 0.6865087743145474, 0.06094333766760995, 0.037641473265288494, 0.1864149152185716, 0.02867921772593409, 0.9870919616983465, 0.27761350287599923, 0.23688780563257636, 0.1547576495250069, 0.16697535869803376, 0.07466377827960859, 0.03393808103618572, 0.02443541834605372, 0.014253994035198003, 0.005430092965789716, 0.009502662690132002, 0.03451268668293179, 0.4141522401951815, 0.5176903002439769, 0.8163804317475084, 0.9344623556180085, 0.3697318666173577, 0.1109195599852073, 0.5176246132643008, 0.9673261400167152, 0.6493500096184257, 0.34872500516545085, 0.9954577922248607, 0.08300216290712656, 0.7221188172920011, 0.06640173032570125, 0.04980129774427594, 0.08300216290712656, 0.96058566207364, 0.020437992810077448, 0.9950298777671047, 0.9865917407034849, 0.9944013969724879, 0.6274700441689443, 0.05680798753792911, 0.08004761880344556, 0.06197235004137721, 0.04389708127930885, 0.05551689691206708, 0.020657450013792402, 0.037441628149998726, 0.016784178136206328, 0.05938585573445646, 0.890787836016847, 0.4779965138966526, 0.13015690394186671, 0.10563458870644256, 0.09167573234166265, 0.042253835482577023, 0.051685495188509394, 0.03772663882372949, 0.02791771272955982, 0.010563458870644256, 0.02414504884718687, 0.53263397783281, 0.12463756088628421, 0.08268834945530182, 0.0441676793431978, 0.02238635802326464, 0.09902434044525169, 0.023999789232148575, 0.03448709208989417, 0.019159495605496762, 0.016739348792170854, 0.32102239870340116, 0.03776734102392955, 0.09441835255982386, 0.0692401252105375, 0.012589113674643182, 0.44061897861251137, 0.025178227349286365, 0.9874123780719308, 0.03709574649958018, 0.9459415357392946, 0.9951273207469621, 0.8912242791710344, 0.04547062648831808, 0.01818825059532723, 0.01818825059532723, 0.02728237589299085, 0.9881731087752494, 0.42598770993567714, 0.5591088692905762, 0.9705645870189732, 0.1470530103552706, 0.2651775596570453, 0.05544621701920039, 0.3447308275541589, 0.016874935614539247, 0.03133916614128718, 0.01928564070233057, 0.1253566645651487, 0.14449103474264818, 0.11559282779411856, 0.6935569667647113, 0.02889820694852964, 0.2809642191490071, 0.13491233430502986, 0.2438323840191824, 0.08911640431157934, 0.17204416943485457, 0.06436184755836287, 0.00866409486362577, 0.004950911350643297, 0.12046410710878427, 0.12575923269598357, 0.27667031193116387, 0.2435757770111682, 0.15488242342557978, 0.014561595364798098, 0.04633234888799395, 0.014561595364798098, 0.003971344190399482, 0.9344443322687752, 0.9802996823308152, 0.9915277637059607, 0.9491876330933852, 0.8133762957262849, 0.06793287097587627, 0.9170937581743297, 0.011322145162646045, 0.0214904708601667, 0.9455807178473348, 0.0429809417203334, 0.5617235569647465, 0.054011880477379474, 0.0820980583256168, 0.06049330613466501, 0.04536997960099876, 0.0518514052582843, 0.04753045482009394, 0.0064814256572855375, 0.08857948398290234, 0.741678165117099, 0.2301759822777204, 0.9751479034134475, 0.9966665442467797, 0.1085678209375055, 0.8166188270516718, 0.07080510061141662, 0.13722076812711229, 0.7991091790931834, 0.05650266922881094, 0.9865184843182593, 0.9934194925678879, 0.8985550963306316, 0.9828314000854235, 0.6796519011996426, 0.31496063714129774, 0.9681509031629322, 0.9967458810540782, 0.16006101745134974, 0.3167164813399048, 0.504021927293612, 0.013622214251178702, 0.005108330344192013, 0.9906737250698625, 0.9904241911150803, 0.8846642385483807, 0.022105813767043524, 0.06877364283080208, 0.89896975985977, 0.007368604589014509, 0.9881034369581644, 0.9102948657997805, 0.9898245795446434, 0.5230361494880398, 0.15770684152286807, 0.09634876437937576, 0.08192132461860864, 0.04460898040972819, 0.03996566646373417, 0.0207290801160447, 0.016749096733764117, 0.014759105042623824, 0.0038141507413522245, 0.23782459681354068, 0.16215313419105046, 0.1405327162989104, 0.3729522086394161, 0.08107656709552523, 0.9862786227592873, 0.08591971849206616, 0.007159976541005513, 0.8663571614616671, 0.03579988270502757, 0.9943229671599311, 0.17605823451590588, 0.59859799735408, 0.13693418240126015, 0.07824810422929152, 0.011737215634393726, 0.943782402226681, 0.9904867854907974, 0.270301113578091, 0.20547279771993096, 0.31974643923261986, 0.2032752276908408, 0.3279764764471809, 0.031071455663417142, 0.3469645882414914, 0.25202402926993905, 0.013809535850407619, 0.008630959906504762, 0.0025892879719514286, 0.017261919813009525, 0.9863892821378948, 0.15237649521903088, 0.35761830510588877, 0.03731669270670144, 0.041981279295039114, 0.14149245984624295, 0.06063962564838984, 0.0932917317667536, 0.11505980251232943, 0.9599635160496172, 0.03428441128748633, 0.05545687119516371, 0.942766810317783, 0.29634325117197435, 0.25528364408188153, 0.13389002311986795, 0.21957963791658341, 0.030348405240503397, 0.024992804315708682, 0.03927440678182793, 0.9819280742077076, 0.8304991553205134, 0.8352049849984889, 0.989452890746753, 0.9752908338798667, 0.9733028665455192, 0.967589453064991, 0.815625342519102, 0.1725361301482716, 0.43075779275780957, 0.07583763957003689, 0.4641263541686258, 0.018201033496808856, 0.009100516748404428, 0.992087699586801, 0.9694506777209292, 0.1422436733442995, 0.1502574014200347, 0.010017160094668978, 0.5349163490553235, 0.16027456151470365, 0.8013547004579348, 0.07166586752062831, 0.054292323879263873, 0.00868677182068222, 0.04777724501375221, 0.00434338591034111, 0.013030157731023331, 0.2226701594527862, 0.04008062870150152, 0.017813612756222896, 0.4898743507961296, 0.22712356264184191, 0.9057545804673325, 0.08860642635006513, 0.9883026880985804, 0.22695065237995837, 0.3782510872999306, 0.40346782645325935, 0.8225707086684692, 0.3269416768511189, 0.6538833537022378, 0.9751687074731611, 0.27253889484583044, 0.25157436447307424, 0.4612196682006361, 0.38754198371642884, 0.30915447472274665, 0.14651870839940598, 0.051281547939792095, 0.026373367511893078, 0.02344299334390496, 0.01611705792393466, 0.019047432091922778, 0.012454090213949508, 0.0036629677099851497, 0.00293037416798812, 0.6905750210128094, 0.08363365306383505, 0.22461609680001413, 0.16563060232665686, 0.44406135623784726, 0.195615452747862, 0.08852670124355798, 0.028557000401147736, 0.027129150381090348, 0.015706350220631254, 0.03426840048137728, 0.4517055819376635, 0.008387106295924786, 0.12101396226977193, 0.12820291052342175, 0.08986185317062272, 0.15456238745347106, 0.031152109099149207, 0.014377896507299634, 0.9749266235542174, 0.48075059924291536, 0.01988716507659542, 0.4781566211894464, 0.01988716507659542, 0.0008646593511563226, 0.23973994895643713, 0.033194762163198985, 0.007376613814044219, 0.575375877495449, 0.05901291051235375, 0.025818148349154767, 0.033194762163198985, 0.025818148349154767, 0.9314352663834952, 0.9679613117657057, 0.9984653832962255, 0.9917960069271435, 0.982396725049059, 0.05554884514169867, 0.3055186482793427, 0.6388117191295347, 0.9571517265335883, 0.3262347704333484, 0.11771357696048654, 0.2556066242570565, 0.05986576199704744, 0.02623331143690843, 0.02959655649292233, 0.09013496750117256, 0.04641278177299184, 0.006053841100825022, 0.041704238694572376, 0.4107939676113862, 0.22272850667619146, 0.15118988035966638, 0.06342599858990883, 0.0479382547481869, 0.02876295284891214, 0.025075394791359302, 0.027287929625891005, 0.008850139338126813, 0.014750232230211354, 0.3186248131092772, 0.11544377286568015, 0.39943545411525333, 0.03925088277433125, 0.0785017655486625, 0.03925088277433125, 0.009235501829254412, 0.17237083898438982, 0.3659100266159854, 0.17640290539338138, 0.11592190925850777, 0.015120249033718405, 0.0786252949753357, 0.01713628223821419, 0.024192398453949448, 0.03427256447642838, 0.9811932776972945, 0.28206245055558077, 0.057858964216529384, 0.3796994526709741, 0.166344522122522, 0.11571792843305877, 0.7897999135188308, 0.1649582097855786, 0.034991135409062124, 0.009997467259732036, 0.9521967474258585, 0.9681046170109492, 0.9722709263432597, 0.9234190102339509, 0.0691483814215751, 0.004321773838848444, 0.002881182559232296, 0.9946638739773553, 0.8490293421666636, 0.9849441044424928, 0.9281212296627891, 0.027297683225376148, 0.04094652483806422, 0.9515430059134704, 0.9408078336515043, 0.9126237302681177, 0.08148426163108194, 0.988154726876886, 0.8589745342588191, 0.10216297960643586, 0.049835599808017494, 0.30773482881450803, 0.1470150194336516, 0.26163689899209186, 0.12583488951524419, 0.004983559980801749, 0.1227425423101067, 0.09980001103718955, 0.45426211920375936, 0.025236784400208854, 0.16059771891041996, 0.017206898454687855, 0.020648278145625424, 0.09980001103718955, 0.99022151667757, 0.8555942429068074, 0.10212147111823565, 0.07942781086973884, 0.7942781086973884, 0.011346830124248405, 0.9705238284909132, 0.9797836162541523, 0.9865692857312229, 0.9848641712687011, 0.9926238679103124, 0.6929281728669322, 0.11992987607312289, 0.026651083571805085, 0.09994156339426907, 0.05330216714361017, 0.7617002498078065, 0.29879286578970465, 0.2784608068750206, 0.16530847900199636, 0.20420459170834843, 0.006188017930556013, 0.00884002561508002, 0.03801211014484408, 0.9421517813823925, 0.04831547596832782, 0.014244472864237587, 0.9828686276323936, 0.9836178794006302, 0.9731006503180321, 0.9774308303100367, 0.9989463735830616, 0.05777530109386439, 0.9244048175018302, 0.29636377685263476, 0.34109793184925885, 0.10251577186726359, 0.0391423856220461, 0.016775308123734043, 0.00931961562429669, 0.07548888655680319, 0.014911384998874703, 0.10344773342969325, 0.8981945107486864, 0.41487690041997594, 0.1111556978483709, 0.1628196137497264, 0.10802455143010693, 0.1596884673314624, 0.021918024927847782, 0.021918024927847782, 0.35469669012202787, 0.48923681396141777, 0.12230920349035444, 0.024461840698070888, 0.9840934507039412, 0.9148436404601041, 0.9902938389156895, 0.9692640902009714, 0.9797658243504329, 0.4357381862422376, 0.08655073562345815, 0.13131835749766063, 0.31337335311941744, 0.029845081249468327, 0.9737646923770614, 0.9833563634077506, 0.8747521518814346, 0.12065546922502546, 0.9849166484823272, 0.9923984955894233, 0.2609769209738241, 0.2236945036918492, 0.49709889709299826, 0.810542430365848, 0.7764202190683474, 0.12040741365231056, 0.008303959562228314, 0.04982375737336989, 0.0290638584677991, 0.012455939343342472, 0.9884673825293832, 0.9893653587969001, 0.983355418198945, 0.95432958507804, 0.07780319498931619, 0.3734553359487177, 0.015560638997863238, 0.5290617259273501, 0.11778458521962525, 0.006635751279978888, 0.03649663203988388, 0.6104891177580577, 0.21151457204932703, 0.016589378199947217, 0.1573656564180188, 0.8261696961945987, 0.9249859447168286, 0.8981945107486864, 0.9630507917897072, 0.9642369910726176, 0.95432958507804, 0.9786494969682111, 0.9814581373361991, 0.7350819390729656, 0.06866633682358242, 0.08011072629417948, 0.007042701212675119, 0.00968371416742829, 0.057221947352985345, 0.043136544927635107, 0.9640342558443018, 0.9828737572116042, 0.15177273368940145, 0.3680488791967985, 0.024663069224527736, 0.005691477513352554, 0.011382955026705109, 0.4363466093570292, 0.9969642567693289, 0.24170581732520366, 0.34833319803282264, 0.18531633714328977, 0.08176474626377515, 0.039088162398826676, 0.017301317783087217, 0.0272976347244265, 0.025247108172356904, 0.014225527954982824, 0.01717315987358287, 0.0024350002805826453, 0.9788570240624357, 0.1558690724347182, 0.2628380437134464, 0.14822843162909477, 0.024450050577995014, 0.016809409772371574, 0.013753153450122195, 0.279647453485818, 0.021393794255745637, 0.012225025288997507, 0.06265325460611222, 0.393951304445167, 0.26276671265212453, 0.14589316723650483, 0.052473836717217004, 0.027827034622766592, 0.01908139516989709, 0.042535610066228934, 0.028622092754845636, 0.01033575571702759, 0.01629869170762043, 0.30324848122305176, 0.3938744641172971, 0.135938974341368, 0.06099825771728052, 0.0412464409326373, 0.023237431511344962, 0.011037779967888857, 0.01626620205794147, 0.00871403681675436, 0.005228422090052616, 0.03503620595910621, 0.9459775608958676, 0.9799212046841272, 0.04909044042795072, 0.947445500259449, 0.4592866519321493, 0.1766952600318677, 0.1301009620097656, 0.11134221865021801, 0.02057410562014898, 0.05022502254330486, 0.013917777331277251, 0.013312656577743458, 0.018153622606013806, 0.007261449042405522, 0.17241289336686583, 0.7327547968091798, 0.0948270913517762, 0.969419204925458, 0.013464155623964694, 0.9881892942796789, 0.9623604690346783, 0.9934162549303199, 0.030539301737006835, 0.4428198751865991, 0.183235810422041, 0.3512019699755786, 0.9906610564365759], \"Term\": [\"academia\", \"acadmica\", \"acadmica\", \"acadmica\", \"acadmica\", \"acadmica\", \"acadmica\", \"acadmica\", \"acadmica\", \"acadmico\", \"acadmico\", \"acadmico\", \"acadmico\", \"acadmico\", \"acadmico\", \"acadmico\", \"acadmico\", \"acadmico\", \"acadmico\", \"acceso\", \"acceso\", \"acceso\", \"acceso\", \"acceso\", \"acceso\", \"acceso\", \"accion\", \"accion\", \"accion\", \"accion\", \"acciones\", \"acciones\", \"acciones\", \"acciones\", \"acciones\", \"acciones\", \"acciones\", \"acciones\", \"acordada\", \"acordada\", \"acordada\", \"acorde\", \"acorde\", \"acorde\", \"acorde\", \"acorde\", \"acorde\", \"acordo\", \"acreditar\", \"actitud\", \"actividad\", \"actividad\", \"actividad\", \"actividad\", \"actividad\", \"actividad\", \"actividades\", \"actividades\", \"actividades\", \"actividades\", \"actividades\", \"actividades\", \"actividades\", \"actividades\", \"actividades\", \"activity\", \"actos\", \"actos\", \"acuerdan\", \"acuerdan\", \"acuerdan\", \"acuerdan\", \"acuerdan\", \"acuerdan\", \"acuerdan\", \"acuerdan\", \"acuerdan\", \"acuerdo\", \"acuerdo\", \"acuerdo\", \"acuerdo\", \"acuerdo\", \"acuerdo\", \"acuerdo\", \"acuerdo\", \"acuerdo\", \"acuerdo\", \"acuerdos\", \"acuerdos\", \"acuerdos\", \"acuerdos\", \"acuerdos\", \"acuerdos\", \"acuerdos\", \"acuicola\", \"acuicultura\", \"adaptado\", \"adecuado\", \"adecuado\", \"adecuado\", \"adecuado\", \"adecuado\", \"adecuado\", \"adecuando\", \"adelante\", \"adelante\", \"adelante\", \"adelante\", \"adelante\", \"adelante\", \"adelante\", \"adelante\", \"adelante\", \"adelante\", \"ademas\", \"ademas\", \"ademas\", \"ademas\", \"ademas\", \"adenda\", \"adenda\", \"adenda\", \"adenda\", \"adenda\", \"adenda\", \"adhesin\", \"adhesin\", \"adiestramiento\", \"adjudicacin\", \"adjudicacion\", \"adjunta\", \"adjunta\", \"adjunta\", \"administracin\", \"administracin\", \"administracin\", \"administracin\", \"administracin\", \"administracin\", \"administracin\", \"administrativa\", \"administrativa\", \"administrativa\", \"administrativa\", \"administrativa\", \"administrativa\", \"administrativa\", \"administrativo\", \"administrativo\", \"administrativo\", \"administrativo\", \"administrativo\", \"administrativo\", \"administrativo\", \"administrativo\", \"administrativo\", \"administrativo\", \"administrativos\", \"administrativos\", \"administrativos\", \"administrativos\", \"administrativos\", \"adopta\", \"adopta\", \"adopta\", \"adoptada\", \"adquiere\", \"adquirido\", \"afectada\", \"afectada\", \"afectada\", \"afectada\", \"afectada\", \"afios\", \"afios\", \"afios\", \"afios\", \"afios\", \"agosto\", \"agosto\", \"agosto\", \"agosto\", \"agosto\", \"agosto\", \"agraria\", \"agreement\", \"aire\", \"alcalde\", \"alcohol\", \"alertas\", \"algun\", \"algun\", \"algun\", \"alguna\", \"alguna\", \"alguna\", \"alguna\", \"alguna\", \"alguna\", \"alguna\", \"alpaca\", \"altiplano\", \"altiplano\", \"altiplano\", \"altiplano\", \"altiplano\", \"altiplano\", \"altiplano\", \"altiplano\", \"altiplano\", \"altiplano\", \"alumnos\", \"alumnos\", \"alumnos\", \"alumnos\", \"alumnos\", \"ambiental\", \"ambiental\", \"ambito\", \"ambito\", \"ambito\", \"ambito\", \"andres\", \"anfitria\", \"anfitriona\", \"anfitriona\", \"anima\", \"anticipado\", \"antwerpen\", \"anual\", \"anual\", \"anual\", \"apertura\", \"apoyo\", \"apoyo\", \"apoyo\", \"apoyo\", \"apoyo\", \"apoyo\", \"apoyo\", \"aprendizaje\", \"aprendizaje\", \"aprueba\", \"aprueba\", \"aprueba\", \"aprueba\", \"aprueba\", \"aprueba\", \"argentina\", \"around\", \"article\", \"articulacin\", \"articulo\", \"articulo\", \"articulo\", \"articulo\", \"articulo\", \"articulo\", \"articulo\", \"articulo\", \"articulo\", \"aseguramiento\", \"aseguramiento\", \"asignado\", \"asistencial\", \"asistencial\", \"asistenciales\", \"asistenciales\", \"asociacin\", \"asociacin\", \"asociacin\", \"asociacion\", \"asociacion\", \"asociada\", \"asociada\", \"asociadas\", \"aspirantes\", \"atividades\", \"automaticamente\", \"autor\", \"autor\", \"autor\", \"autor\", \"autor\", \"autor\", \"autores\", \"autores\", \"autores\", \"autores\", \"autorizada\", \"autorizard\", \"auxiliares\", \"avenida\", \"avenida\", \"avenida\", \"avenida\", \"avenida\", \"avenida\", \"banco\", \"banco\", \"banco\", \"banco\", \"banner\", \"basica\", \"basica\", \"basica\", \"basicos\", \"becarios\", \"belgian\", \"beneficiario\", \"beneficiario\", \"beneficios\", \"beneficios\", \"beneficios\", \"beneficios\", \"between\", \"bibliografico\", \"bienes\", \"bienes\", \"bienes\", \"bienes\", \"bienes\", \"bienes\", \"bioseguridad\", \"biotecnologias\", \"blanco\", \"blanco\", \"blanco\", \"bogota\", \"bolivia\", \"bolivia\", \"brasil\", \"brazilian\", \"btsym\", \"budget\", \"bueno\", \"butron\", \"calidad\", \"calidad\", \"calidad\", \"calidad\", \"calidad\", \"calidad\", \"calidad\", \"calidad\", \"calidad\", \"calidad\", \"calidad\", \"callao\", \"callao\", \"calumani\", \"calumani\", \"calumani\", \"camara\", \"camara\", \"camara\", \"camelidos\", \"camiper\", \"campinas\", \"candidatos\", \"capacitacin\", \"capacitacin\", \"capacitacin\", \"capacitacin\", \"capacitacin\", \"capacitacin\", \"capacitacion\", \"capacitacion\", \"capacitacion\", \"capacitacion\", \"carabaya\", \"casilla\", \"casilla\", \"castigo\", \"celebracion\", \"celular\", \"cenepred\", \"cepreuna\", \"cesar\", \"cesar\", \"cesar\", \"ciencias\", \"ciencias\", \"ciencias\", \"ciencias\", \"ciencias\", \"cierre\", \"cierre\", \"cierre\", \"cierre\", \"cierre\", \"circunstancia\", \"circunstancia\", \"citaciones\", \"civico\", \"civil\", \"civil\", \"civil\", \"civil\", \"civil\", \"civil\", \"claulsula\", \"clausula\", \"clausula\", \"clausula\", \"clausula\", \"clausula\", \"clausula\", \"clausula\", \"clausula\", \"clausula\", \"clausula\", \"clausulas\", \"clausulas\", \"clausulas\", \"clausulas\", \"clausulas\", \"clausulas\", \"clausulas\", \"clausulas\", \"clausulas\", \"clausulas\", \"clave\", \"clinicos\", \"clinicos\", \"coasa\", \"cocumento\", \"colaboracin\", \"colaboracin\", \"colaboracin\", \"colaboracin\", \"colaboracin\", \"colaboracin\", \"colaboracin\", \"colabore\", \"colectivo\", \"colombia\", \"cometidas\", \"compartir\", \"complementaria\", \"complementaria\", \"complementaria\", \"componente\", \"comprensin\", \"compromisos\", \"compromisos\", \"compromisos\", \"compromisos\", \"compromisos\", \"compromisos\", \"compromisos\", \"compromisos\", \"compromisos\", \"compromisos\", \"comunicada\", \"comunicada\", \"conapres\", \"concluidos\", \"concluidos\", \"concluidos\", \"concluyen\", \"concursables\", \"concurso\", \"concurso\", \"concytec\", \"conexos\", \"confieren\", \"confieren\", \"confieren\", \"confieren\", \"conformada\", \"conformado\", \"consejo\", \"consejo\", \"consejo\", \"consejo\", \"consejo\", \"consejo\", \"consejo\", \"consejo\", \"consejo\", \"consejo\", \"consideradas\", \"considerarlo\", \"consultas\", \"contadores\", \"continue\", \"contrato\", \"contrato\", \"contrato\", \"contrato\", \"contrato\", \"controversias\", \"controversias\", \"controversias\", \"controversias\", \"controversias\", \"controversias\", \"controversias\", \"convenio\", \"convenio\", \"convenio\", \"convenio\", \"convenio\", \"convenio\", \"convenio\", \"convenio\", \"convenio\", \"convenios\", \"convenios\", \"convenios\", \"convenios\", \"convenios\", \"convenios\", \"convenios\", \"convenios\", \"convocadas\", \"convocatoria\", \"convocatoria\", \"convocatoria\", \"cooperacion\", \"cooperacion\", \"cooperacion\", \"cooperacion\", \"cooperacion\", \"cooperacion\", \"cooperacion\", \"cooperacion\", \"cooperacion\", \"cooperation\", \"cooperation\", \"cooperation\", \"cooperativa\", \"cooperativa\", \"correctamente\", \"correo\", \"correo\", \"correo\", \"correo\", \"correo\", \"cost\", \"country\", \"covid\", \"crdito\", \"crdito\", \"crdito\", \"creado\", \"creado\", \"creado\", \"credito\", \"cualquier\", \"cualquier\", \"cualquier\", \"cualquier\", \"cualquier\", \"cualquier\", \"cualquier\", \"cualquier\", \"cualquier\", \"cualquier\", \"cuatrocientos\", \"cuestin\", \"culminar\", \"cultivo\", \"cumplidas\", \"cumplidas\", \"cumplimiento\", \"cumplimiento\", \"cumplimiento\", \"cumplimiento\", \"cumplimiento\", \"cumplimiento\", \"cumplimiento\", \"cumplimiento\", \"cumplimiento\", \"cumplimiento\", \"curriculares\", \"cursandose\", \"dactilar\", \"debera\", \"debera\", \"debera\", \"debera\", \"debera\", \"debera\", \"debera\", \"debera\", \"debera\", \"debera\", \"decanos\", \"decanos\", \"decima\", \"decima\", \"decima\", \"decima\", \"decima\", \"decima\", \"decima\", \"decima\", \"decima\", \"decreto\", \"decreto\", \"decreto\", \"decreto\", \"decreto\", \"decreto\", \"decreto\", \"decreto\", \"dejara\", \"demuestre\", \"denominada\", \"denominada\", \"denominada\", \"denominado\", \"denominado\", \"denominado\", \"denominado\", \"denominado\", \"derecho\", \"derecho\", \"derecho\", \"derecho\", \"derecho\", \"derecho\", \"derecho\", \"derecho\", \"derecho\", \"derechos\", \"derechos\", \"derechos\", \"derechos\", \"derechos\", \"derechos\", \"derechos\", \"derivada\", \"derivada\", \"desarrollado\", \"desarrollado\", \"desarrollado\", \"desarrollar\", \"desarrollar\", \"desarrollar\", \"desarrollar\", \"desarrollo\", \"desarrollo\", \"desarrollo\", \"desarrollo\", \"desarrollo\", \"desarrollo\", \"desarrollo\", \"desarrollo\", \"desarrollo\", \"desastres\", \"descentralizado\", \"descentralizado\", \"desconcentrado\", \"descritas\", \"deseados\", \"deste\", \"destinar\", \"destinatarios\", \"destino\", \"destino\", \"development\", \"digitalmente\", \"digitalmente\", \"digitalmente\", \"digitalmente\", \"direcciones\", \"directorio\", \"dirigirse\", \"disposicin\", \"disposicin\", \"disposicin\", \"disposicin\", \"disposicin\", \"disposicin\", \"distrital\", \"docencia\", \"docencia\", \"docencia\", \"docencia\", \"docencia\", \"docenciaservicio\", \"docente\", \"docente\", \"docente\", \"docente\", \"docente\", \"doctorado\", \"doctorado\", \"doctorado\", \"documento\", \"documento\", \"documento\", \"documento\", \"documento\", \"documento\", \"documento\", \"documento\", \"documento\", \"documento\", \"domicilios\", \"domicilios\", \"domicilios\", \"domicilios\", \"domicilios\", \"drogas\", \"educacin\", \"educacin\", \"educacin\", \"educacin\", \"educacin\", \"educacin\", \"educacion\", \"educacion\", \"educacion\", \"educacion\", \"educacion\", \"educativa\", \"educativa\", \"educativa\", \"educativa\", \"educativo\", \"educativo\", \"educativo\", \"educativo\", \"educativos\", \"educativos\", \"educativos\", \"educativos\", \"educativos\", \"egresados\", \"egresados\", \"egresados\", \"egresados\", \"ejecucin\", \"ejecucin\", \"ejecucin\", \"ejecucin\", \"ejecucin\", \"ejecucin\", \"ejecucin\", \"ejecucin\", \"ejecucin\", \"ejecucin\", \"ejecucion\", \"ejecucion\", \"ejecucion\", \"ejecucion\", \"ejecucion\", \"ejecucion\", \"ejecucion\", \"ejecucion\", \"ejecutados\", \"ejecutarse\", \"ejecutivo\", \"ejecutivo\", \"ejecutivo\", \"ejecutora\", \"ejecutora\", \"ejrcito\", \"ejrcito\", \"ejrcito\", \"elaborara\", \"elche\", \"elecciones\", \"electrica\", \"electrica\", \"electricidad\", \"electrnico\", \"electrnico\", \"electrnico\", \"electrnico\", \"electrnico\", \"electrnico\", \"electro\", \"electronica\", \"electronica\", \"electronica\", \"electronica\", \"electronica\", \"eltrica\", \"emanadas\", \"embarazos\", \"emisin\", \"emisin\", \"encargada\", \"encargada\", \"endeudamiento\", \"enfatizando\", \"enfermeria\", \"enfermeria\", \"enfoquen\", \"engenharia\", \"entendera\", \"entendera\", \"entendera\", \"entenderan\", \"enteron\", \"entidad\", \"entidad\", \"entidad\", \"entidad\", \"entidad\", \"entra\", \"entreguen\", \"escrito\", \"escrito\", \"escrito\", \"escrito\", \"escrito\", \"escrito\", \"escrito\", \"escrito\", \"escrito\", \"escritorio\", \"esfuerzos\", \"esfuerzos\", \"esfuerzos\", \"espafia\", \"especializacin\", \"especializacin\", \"especializacin\", \"especializacin\", \"especializadas\", \"especifico\", \"especifico\", \"especifico\", \"especifico\", \"especifico\", \"especifico\", \"especificos\", \"especificos\", \"especificos\", \"especificos\", \"especificos\", \"essalud\", \"establecimiento\", \"establecimientos\", \"estadistica\", \"estadistica\", \"estilos\", \"estimacion\", \"estimado\", \"estimado\", \"estrategicos\", \"estudantes\", \"estudiantes\", \"estudiantes\", \"estudiantes\", \"estudiantes\", \"estudiantes\", \"estudiantes\", \"estudiantes\", \"estudiantes\", \"estudiantil\", \"estudiantil\", \"estudios\", \"estudios\", \"estudios\", \"estudios\", \"estudios\", \"estudios\", \"estudios\", \"estudios\", \"estudios\", \"estudios\", \"evento\", \"evento\", \"evento\", \"evento\", \"evento\", \"evento\", \"faculdade\", \"facultad\", \"facultad\", \"facultad\", \"facultad\", \"facultad\", \"facultad\", \"facultad\", \"facultad\", \"familia\", \"familia\", \"familia\", \"familiar\", \"familiar\", \"familiar\", \"familiar\", \"familias\", \"favor\", \"favor\", \"favor\", \"favor\", \"favor\", \"fecha\", \"fecha\", \"fecha\", \"fecha\", \"fecha\", \"fecha\", \"fecha\", \"fecha\", \"fecha\", \"fecha\", \"federal\", \"feeha\", \"felicitacin\", \"fendmenos\", \"ficuni\", \"fijan\", \"filosofia\", \"final\", \"final\", \"final\", \"final\", \"final\", \"final\", \"financial\", \"financiamiento\", \"financiamiento\", \"financiamiento\", \"financiamiento\", \"finanzas\", \"finanzas\", \"firmado\", \"firmado\", \"firmado\", \"firmado\", \"firmado\", \"firmado\", \"firmantes\", \"firmantes\", \"fiscal\", \"fiscal\", \"flemish\", \"fomenten\", \"fondecyt\", \"fondos\", \"fondos\", \"fondos\", \"fondos\", \"forma\", \"forma\", \"forma\", \"forma\", \"forma\", \"forma\", \"forma\", \"forma\", \"forma\", \"forma\", \"fortuito\", \"fortuito\", \"fortuito\", \"fortuito\", \"fortuito\", \"fotovoltaicos\", \"framework\", \"francisco\", \"ftorresunapedupe\", \"fuerza\", \"fuerza\", \"fuerza\", \"fuerza\", \"fuerza\", \"fulbright\", \"fund\", \"fundacion\", \"fundacion\", \"gastos\", \"gastos\", \"gastos\", \"gastos\", \"gastos\", \"geenen\", \"general\", \"general\", \"general\", \"general\", \"general\", \"general\", \"general\", \"general\", \"general\", \"general\", \"general\", \"geoldgica\", \"geologica\", \"geomecanica\", \"gerencia\", \"gerencia\", \"gerencia\", \"gerencia\", \"gestion\", \"gestion\", \"gestion\", \"gestion\", \"gestion\", \"gestion\", \"gestionadas\", \"gestionara\", \"gestores\", \"hardware\", \"hector\", \"hector\", \"hector\", \"hector\", \"hernandez\", \"herramienta\", \"herramienta\", \"herramienta\", \"herramienta\", \"hidricos\", \"honorio\", \"hospital\", \"hospital\", \"httos\", \"humana\", \"humana\", \"humana\", \"humana\", \"humillante\", \"identificacion\", \"identificacion\", \"identificacion\", \"identificacion\", \"identificado\", \"identificado\", \"identificado\", \"identificado\", \"identificado\", \"identificado\", \"identificado\", \"identificado\", \"identificado\", \"identificado\", \"impacto\", \"impactos\", \"implementacin\", \"implementacin\", \"implementacin\", \"implementacin\", \"implementacin\", \"implementacin\", \"implementacin\", \"implementacin\", \"implementacion\", \"implementacion\", \"implementacion\", \"implementacion\", \"implementacion\", \"implementacion\", \"implementacion\", \"implementacion\", \"implementation\", \"implique\", \"importar\", \"incentiven\", \"incentivos\", \"incentivos\", \"incluidos\", \"incluidos\", \"incumplir\", \"incurrir\", \"indicador\", \"indicadores\", \"indirecta\", \"informatica\", \"informatica\", \"informatica\", \"ingenieria\", \"ingenieria\", \"ingenieria\", \"ingenieria\", \"ingresos\", \"iniciadas\", \"initiative\", \"instalada\", \"institucin\", \"institucin\", \"institucin\", \"institucin\", \"institucin\", \"institucin\", \"institucin\", \"institucion\", \"institucion\", \"institucion\", \"institucion\", \"institucion\", \"institucion\", \"institucion\", \"institucion\", \"instituciones\", \"instituciones\", \"instituciones\", \"instituciones\", \"instituciones\", \"instituciones\", \"instituciones\", \"institution\", \"instrumental\", \"integrada\", \"integrada\", \"integrada\", \"integrada\", \"integrada\", \"interamericano\", \"intercambio\", \"intercambio\", \"intercambio\", \"intercambio\", \"interinstitucional\", \"interinstitucional\", \"interinstitucional\", \"interinstitucional\", \"interinstitucional\", \"interinstitucional\", \"interinstitucional\", \"internado\", \"internado\", \"internos\", \"internos\", \"internos\", \"intervenido\", \"introductoria\", \"introductoria\", \"introductoria\", \"investigacin\", \"investigacin\", \"investigacin\", \"investigacin\", \"investigacin\", \"investigacin\", \"investigacin\", \"investigacin\", \"investigacin\", \"investigacin\", \"investigacin\", \"investigacion\", \"investigacion\", \"investigacion\", \"investigacion\", \"investigacion\", \"investigacion\", \"investigacion\", \"investigacion\", \"investigacion\", \"investigacion\", \"investigacion\", \"irreconciliable\", \"isotipos\", \"jeronimo\", \"jnacreniec\", \"jocniuna\", \"juliaca\", \"juliaca\", \"juliaca\", \"jurado\", \"labor\", \"labor\", \"labor\", \"labor\", \"laboratorio\", \"laboratorio\", \"laboratorio\", \"laboratorio\", \"laboratrio\", \"laureles\", \"lcvfeecunicamp\", \"legal\", \"legal\", \"legal\", \"legal\", \"legal\", \"legal\", \"legal\", \"legal\", \"legal\", \"legal\", \"legal\", \"legislativo\", \"legislativo\", \"legislativo\", \"legislativo\", \"legislativo\", \"legislativo\", \"letras\", \"libre\", \"libre\", \"licenciamiento\", \"licenciamiento\", \"limitaciones\", \"line\", \"linea\", \"linea\", \"linea\", \"linea\", \"local\", \"local\", \"local\", \"local\", \"local\", \"local\", \"machaca\", \"machaca\", \"machaca\", \"machaca\", \"macroregin\", \"macusani\", \"magistrados\", \"magistratura\", \"mamani\", \"mamani\", \"mamani\", \"mamani\", \"manazo\", \"manual\", \"manual\", \"manual\", \"manuel\", \"manuel\", \"manuel\", \"manuel\", \"manuel\", \"marco\", \"marco\", \"marco\", \"marco\", \"marco\", \"marco\", \"marco\", \"marco\", \"marcos\", \"master\", \"mastermaestria\", \"materia\", \"materia\", \"materia\", \"materia\", \"materia\", \"materia\", \"matricula\", \"mayta\", \"mayta\", \"mayta\", \"mdica\", \"mdicos\", \"mecanica\", \"mecanica\", \"mediante\", \"mediante\", \"mediante\", \"mediante\", \"mediante\", \"mediante\", \"mediante\", \"mediante\", \"mediante\", \"mediante\", \"medicina\", \"medicina\", \"mejora\", \"mejora\", \"mejora\", \"mejora\", \"mejora\", \"mejora\", \"mejorado\", \"mejoramiento\", \"mejoramiento\", \"mejoramiento\", \"mejoramiento\", \"mejorar\", \"mejorar\", \"mejorar\", \"mejorar\", \"mejoras\", \"mejoras\", \"mejoras\", \"menores\", \"mensual\", \"merituar\", \"metalurgica\", \"metas\", \"metas\", \"metas\", \"metas\", \"metas\", \"millones\", \"mina\", \"mina\", \"mina\", \"mina\", \"minagri\", \"minedu\", \"minedu\", \"minedu\", \"minedu\", \"mineduuemcebs\", \"minera\", \"minera\", \"mineras\", \"mineras\", \"mineria\", \"mineria\", \"minero\", \"ministerial\", \"ministerial\", \"ministerial\", \"ministerio\", \"ministerio\", \"ministerio\", \"ministerio\", \"ministerio\", \"ministerio\", \"ministerio\", \"ministro\", \"ministros\", \"minsa\", \"mismo\", \"mismo\", \"mismo\", \"mismo\", \"mismo\", \"mismo\", \"mismo\", \"mismo\", \"mismo\", \"mismo\", \"mobiliario\", \"mobiliario\", \"modificcion\", \"monetario\", \"motivo\", \"motivo\", \"motivo\", \"motivo\", \"motivo\", \"motivo\", \"motivo\", \"movilidad\", \"movilidad\", \"mujer\", \"mujer\", \"mujeres\", \"mujeres\", \"mujeres\", \"multianual\", \"multianual\", \"mundial\", \"mundial\", \"mundial\", \"municipalidad\", \"municipalidades\", \"mutuamente\", \"nacional\", \"nacional\", \"nacional\", \"nacional\", \"nacional\", \"nacional\", \"nacional\", \"nacional\", \"nacional\", \"nacional\", \"nacional\", \"namhi\", \"naturales\", \"naturales\", \"naturales\", \"nauuna\", \"nauuna\", \"nauuna\", \"nauuna\", \"nfasis\", \"nfasis\", \"nfasis\", \"nilton\", \"nivel\", \"nivel\", \"nivel\", \"nivel\", \"nivel\", \"nivel\", \"nivel\", \"nivel\", \"nivel\", \"nivel\", \"nombrados\", \"nombrados\", \"nombrados\", \"norma\", \"norma\", \"norma\", \"norma\", \"norma\", \"norma\", \"norma\", \"norma\", \"norma\", \"normativas\", \"nucleo\", \"nutricin\", \"objetivos\", \"objetivos\", \"objetivos\", \"objetivos\", \"objetivos\", \"objetivos\", \"objetivos\", \"objetivos\", \"objetivos\", \"obligaciones\", \"obligaciones\", \"obligaciones\", \"obligaciones\", \"obligaciones\", \"odontologia\", \"oficina\", \"oficina\", \"oficina\", \"oficina\", \"oficina\", \"oficina\", \"oficina\", \"oficina\", \"oficina\", \"oficina\", \"operacin\", \"operacin\", \"operacin\", \"organiza\", \"organizadores\", \"orientacion\", \"orientacion\", \"orientacion\", \"origem\", \"origen\", \"origen\", \"originados\", \"ortega\", \"ortega\", \"ortega\", \"ortega\", \"ortega\", \"otorgada\", \"otorgada\", \"oviedo\", \"pacientes\", \"pacto\", \"pagina\", \"pagina\", \"pagina\", \"pagina\", \"pagina\", \"pagina\", \"pagina\", \"pagina\", \"pagina\", \"parametros\", \"parametros\", \"parte\", \"parte\", \"parte\", \"parte\", \"parte\", \"parte\", \"parte\", \"parte\", \"parte\", \"parte\", \"partes\", \"partes\", \"partes\", \"partes\", \"partes\", \"partes\", \"partes\", \"partes\", \"partes\", \"partes\", \"participacion\", \"participacion\", \"participacion\", \"participacion\", \"participacion\", \"participacion\", \"participacion\", \"partner\", \"party\", \"party\", \"pasibles\", \"paulino\", \"paulino\", \"paulino\", \"paulino\", \"paulino\", \"peblt\", \"pendientes\", \"pendientes\", \"perentorio\", \"periodo\", \"periodo\", \"periodo\", \"periodo\", \"periodo\", \"periodo\", \"periodo\", \"periodo\", \"permanencia\", \"permanencia\", \"permanencia\", \"permanencia\", \"persona\", \"persona\", \"persona\", \"persona\", \"persona\", \"persona\", \"persona\", \"persona\", \"personal\", \"personal\", \"personal\", \"personal\", \"personal\", \"personal\", \"personal\", \"personal\", \"personal\", \"personalizado\", \"pesca\", \"pilar\", \"planilla\", \"planillas\", \"plataforma\", \"plataforma\", \"plataforma\", \"plaza\", \"plaza\", \"plaza\", \"plazo\", \"plazo\", \"plazo\", \"plazo\", \"plazo\", \"plazo\", \"plazo\", \"plazo\", \"plazo\", \"plenos\", \"plenos\", \"pmesut\", \"pnipa\", \"poblacin\", \"poblacin\", \"poblacin\", \"poblacion\", \"poblacion\", \"poblacion\", \"poblado\", \"politico\", \"ponente\", \"porcentaje\", \"postal\", \"postal\", \"posteriormente\", \"practicante\", \"practicas\", \"practicas\", \"practicas\", \"practicas\", \"practicas\", \"practico\", \"pradera\", \"preferenciales\", \"pregrado\", \"pregrado\", \"pregrado\", \"pregrado\", \"prelatura\", \"presenciales\", \"present\", \"presente\", \"presente\", \"presente\", \"presente\", \"presente\", \"presente\", \"presente\", \"presente\", \"presente\", \"presente\", \"presupuesto\", \"presupuesto\", \"presupuesto\", \"presupuesto\", \"presupuesto\", \"privado\", \"problemas\", \"problemas\", \"problemas\", \"problemas\", \"procalidad\", \"procurando\", \"procurando\", \"procurando\", \"procurando\", \"procurando\", \"production\", \"profamilia\", \"profesional\", \"profesional\", \"profesional\", \"profesional\", \"profesionales\", \"profesionales\", \"profesionales\", \"profesionales\", \"profesionales\", \"profesionales\", \"profesionales\", \"profesionales\", \"professor\", \"programa\", \"programa\", \"programa\", \"programa\", \"programa\", \"programa\", \"programa\", \"programa\", \"programacin\", \"programacin\", \"programacion\", \"programacion\", \"programas\", \"programas\", \"programas\", \"programas\", \"programas\", \"programas\", \"programas\", \"programatica\", \"prohibe\", \"prohibicion\", \"project\", \"promocionar\", \"promoter\", \"promotor\", \"promoviendo\", \"promoviendo\", \"propiedad\", \"propiedad\", \"propiedad\", \"propiedad\", \"propiedad\", \"provincial\", \"provision\", \"proyecto\", \"proyecto\", \"proyecto\", \"proyecto\", \"proyecto\", \"proyectos\", \"proyectos\", \"proyectos\", \"proyectos\", \"proyectos\", \"proyectos\", \"proyectos\", \"publicas\", \"publicas\", \"publicas\", \"publicas\", \"publicas\", \"punoperu\", \"punoperu\", \"qualquer\", \"ramos\", \"ramos\", \"ramos\", \"ratificar\", \"receptora\", \"receptora\", \"recomendandolo\", \"reconocer\", \"reconocer\", \"reconocer\", \"rector\", \"rector\", \"rector\", \"rector\", \"rector\", \"rector\", \"rector\", \"rector\", \"rector\", \"rector\", \"rector\", \"rectorado\", \"rectorado\", \"rectorado\", \"rectoral\", \"rectoral\", \"rectoral\", \"rectoral\", \"rectoral\", \"rectoral\", \"rectoral\", \"rectoral\", \"recursos\", \"recursos\", \"recursos\", \"recursos\", \"recursos\", \"recursos\", \"recursos\", \"recursos\", \"reduccion\", \"regional\", \"regional\", \"regional\", \"regional\", \"regional\", \"registro\", \"registro\", \"registro\", \"registro\", \"registro\", \"registro\", \"registro\", \"registro\", \"regularizacion\", \"remuneraciones\", \"reniec\", \"report\", \"representar\", \"requeridos\", \"requeridos\", \"requeridos\", \"resaltando\", \"resolucin\", \"resolucin\", \"resolucin\", \"resolucin\", \"resolucin\", \"resolucin\", \"resolucin\", \"resolucin\", \"resolucin\", \"resolucin\", \"resolucion\", \"resolucion\", \"resolucion\", \"resolucion\", \"resolucion\", \"resolucion\", \"resolucion\", \"resolucion\", \"resolucion\", \"resolucion\", \"responsabilidad\", \"responsabilidad\", \"responsabilidad\", \"responsabilidad\", \"responsabilidad\", \"responsabilidad\", \"responsabilidad\", \"responsable\", \"responsable\", \"responsable\", \"responsable\", \"responsable\", \"responsable\", \"responsable\", \"responsable\", \"responsable\", \"result\", \"resultados\", \"resultados\", \"resultados\", \"resultados\", \"resultados\", \"roman\", \"roman\", \"roman\", \"roman\", \"ruipn\", \"rural\", \"rurales\", \"salud\", \"salud\", \"salud\", \"salud\", \"sanitario\", \"satisfaga\", \"satlite\", \"sefialados\", \"sefialados\", \"sefialados\", \"semestral\", \"semipresencial\", \"separacion\", \"separacion\", \"serao\", \"seriedad\", \"servicio\", \"servicio\", \"servicio\", \"servicio\", \"servicio\", \"servicio\", \"servicio\", \"servicios\", \"servicios\", \"servicios\", \"servicios\", \"servicios\", \"servicios\", \"servicios\", \"servicios\", \"servira\", \"setecientos\", \"sexual\", \"sexual\", \"sexual\", \"sexual\", \"shall\", \"signed\", \"simultaneidad\", \"sinapres\", \"sindicato\", \"sistemas\", \"sistemas\", \"sistemas\", \"sistemas\", \"sistemas\", \"sistematizar\", \"social\", \"social\", \"social\", \"social\", \"social\", \"social\", \"social\", \"sociedad\", \"sociedad\", \"software\", \"software\", \"solicitante\", \"south\", \"subcomit\", \"subproyecto\", \"sudamericanos\", \"sudamericanos\", \"superior\", \"superior\", \"superior\", \"superior\", \"superior\", \"superior\", \"superior\", \"superior\", \"superior\", \"suponga\", \"supremo\", \"supremo\", \"supremo\", \"supremo\", \"supremo\", \"supremo\", \"supremo\", \"surtira\", \"surtira\", \"surtira\", \"surtira\", \"suscribientes\", \"sustentan\", \"sutrauna\", \"symposium\", \"talleres\", \"tcnica\", \"tcnica\", \"tcnica\", \"tcnica\", \"tcnica\", \"tcnicoadministrativo\", \"technology\", \"telfono\", \"telfono\", \"tendran\", \"terminacin\", \"tesis\", \"tesis\", \"tesis\", \"tesoro\", \"texto\", \"texto\", \"texto\", \"texto\", \"texto\", \"texto\", \"titicaca\", \"titularidad\", \"torre\", \"towards\", \"trabajadores\", \"trabajadores\", \"trabajadores\", \"trabajadores\", \"trabajo\", \"trabajo\", \"trabajo\", \"trabajo\", \"trabajo\", \"trabajo\", \"transferidos\", \"transferidos\", \"transfiriendo\", \"trasmitidas\", \"trata\", \"trucha\", \"tudela\", \"ucayali\", \"unalm\", \"unapuno\", \"unapuno\", \"unapuno\", \"unapuno\", \"unapuno\", \"unapuno\", \"unapuno\", \"undac\", \"unicamp\", \"unidad\", \"unidad\", \"unidad\", \"unidad\", \"unidad\", \"unidad\", \"unitario\", \"universidad\", \"universidad\", \"universidad\", \"universidad\", \"universidad\", \"universidad\", \"universidad\", \"universidad\", \"universidad\", \"universidad\", \"universidad\", \"universidade\", \"universidades\", \"universidades\", \"universidades\", \"universidades\", \"universidades\", \"universidades\", \"universidades\", \"universidades\", \"universidades\", \"universidades\", \"universitaria\", \"universitaria\", \"universitaria\", \"universitaria\", \"universitaria\", \"universitaria\", \"universitaria\", \"universitaria\", \"universitaria\", \"universitaria\", \"universitario\", \"universitario\", \"universitario\", \"universitario\", \"universitario\", \"universitario\", \"universitario\", \"universitario\", \"universitario\", \"universitario\", \"universiteit\", \"universiteit\", \"usuaria\", \"usuario\", \"usuario\", \"vigencia\", \"vigencia\", \"vigencia\", \"vigencia\", \"vigencia\", \"vigencia\", \"vigencia\", \"vigencia\", \"vigencia\", \"vigencia\", \"violencia\", \"violencia\", \"violencia\", \"visto\", \"visto\", \"visuais\", \"visuales\", \"vliruos\", \"walter\", \"walter\", \"walter\", \"walter\", \"which\"]}, \"R\": 30, \"lambda.step\": 0.01, \"plot.opts\": {\"xlab\": \"PC1\", \"ylab\": \"PC2\"}, \"topic.order\": [9, 3, 4, 10, 14, 8, 13, 15, 5, 6, 12, 1, 7, 2, 11]};\n",
              "\n",
              "function LDAvis_load_lib(url, callback){\n",
              "  var s = document.createElement('script');\n",
              "  s.src = url;\n",
              "  s.async = true;\n",
              "  s.onreadystatechange = s.onload = callback;\n",
              "  s.onerror = function(){console.warn(\"failed to load library \" + url);};\n",
              "  document.getElementsByTagName(\"head\")[0].appendChild(s);\n",
              "}\n",
              "\n",
              "if(typeof(LDAvis) !== \"undefined\"){\n",
              "   // already loaded: just create the visualization\n",
              "   !function(LDAvis){\n",
              "       new LDAvis(\"#\" + \"ldavis_el324771367468102972486568240911\", ldavis_el324771367468102972486568240911_data);\n",
              "   }(LDAvis);\n",
              "}else if(typeof define === \"function\" && define.amd){\n",
              "   // require.js is available: use it to load d3/LDAvis\n",
              "   require.config({paths: {d3: \"https://d3js.org/d3.v5\"}});\n",
              "   require([\"d3\"], function(d3){\n",
              "      window.d3 = d3;\n",
              "      LDAvis_load_lib(\"https://cdn.jsdelivr.net/gh/bmabey/pyLDAvis@3.4.0/pyLDAvis/js/ldavis.v3.0.0.js\", function(){\n",
              "        new LDAvis(\"#\" + \"ldavis_el324771367468102972486568240911\", ldavis_el324771367468102972486568240911_data);\n",
              "      });\n",
              "    });\n",
              "}else{\n",
              "    // require.js not available: dynamically load d3 & LDAvis\n",
              "    LDAvis_load_lib(\"https://d3js.org/d3.v5.js\", function(){\n",
              "         LDAvis_load_lib(\"https://cdn.jsdelivr.net/gh/bmabey/pyLDAvis@3.4.0/pyLDAvis/js/ldavis.v3.0.0.js\", function(){\n",
              "                 new LDAvis(\"#\" + \"ldavis_el324771367468102972486568240911\", ldavis_el324771367468102972486568240911_data);\n",
              "            })\n",
              "         });\n",
              "}\n",
              "</script>"
            ]
          },
          "metadata": {},
          "execution_count": 24
        }
      ]
    },
    {
      "cell_type": "code",
      "source": [
        "temas_principales = {\n",
        "    \"Convenios y cooperación interinstitucional\": [\"presente\", \"partes\", \"nacional\", \"marco\", \"interinstitucional\", \"cooperacion\", \"universitaria\", \"vigencia\", \"cumplimiento\", \"acuerdo\"],\n",
        "    \"Universidad y educación superior\": [\"universidad\", \"nacional\", \"facultad\", \"estudiantes\", \"desarrollo\", \"actividades\", \"estudios\", \"programa\", \"investigacion\", \"docentes\"],\n",
        "    \"Desarrollo y actividades académicas\": [\"desarrollo\", \"actividades\", \"docente\", \"estudiantes\", \"investigacion\", \"programa\", \"docencia\", \"capacitacion\", \"humana\", \"gerencia\"],\n",
        "    \"Salud y asistencia médica\": [\"salud\", \"hospital\", \"facultad\", \"asistencial\", \"estudiantes\", \"docente\", \"servicios\", \"investigacion\", \"medicina\", \"profesionales\"],\n",
        "    \"Investigación científica y proyectos de investigación\": [\"investigacion\", \"proyecto\", \"desarrollo\", \"investigacion\", \"estudios\", \"servicios\", \"capacitacion\", \"ciencias\", \"profesional\", \"docencia\"],\n",
        "    \"Estudiantes universitarios y actividades estudiantiles\": [\"estudiantes\", \"actividades\", \"universitario\", \"universitaria\", \"estudiantiles\", \"docente\", \"alumnos\", \"investigacion\", \"cumplimiento\", \"docentes\"],\n",
        "    \"Aspectos legales y cláusulas contractuales\": [\"legal\", \"clausula\", \"acuerdo\", \"norma\", \"decreto\", \"resolucion\", \"contrato\", \"propiedad\", \"obligaciones\", \"derechos\"],\n",
        "    \"Desarrollo regional y altiplano\": [\"desarrollo\", \"regional\", \"altiplano\", \"actividades\", \"estudiantes\", \"investigacion\", \"proyectos\", \"servicios\", \"desarrollo\", \"altura\"],\n",
        "    \"Servicios y actividades específicas\": [\"servicios\", \"actividades\", \"asistencial\", \"especifico\", \"docencia\", \"capacitacion\", \"investigacion\", \"salud\", \"profesionales\", \"atencion\"],\n",
        "    \"Tecnología y transformación digital\": [\"tecnologia\", \"digital\", \"plataforma\", \"software\", \"servicio\", \"registro\", \"documento\", \"identificacion\", \"sistema\", \"innovacion\"]\n",
        "}"
      ],
      "metadata": {
        "colab": {
          "base_uri": "https://localhost:8080/"
        },
        "id": "Fny2lAL9RGZ0",
        "outputId": "01465204-5c36-4bc6-eb42-617974344f1e"
      },
      "execution_count": 25,
      "outputs": [
        {
          "output_type": "stream",
          "name": "stderr",
          "text": [
            "/usr/local/lib/python3.10/dist-packages/ipykernel/ipkernel.py:283: DeprecationWarning: `should_run_async` will not call `transform_cell` automatically in the future. Please pass the result to `transformed_cell` argument and any exception that happen during thetransform in `preprocessing_exc_tuple` in IPython 7.17 and above.\n",
            "  and should_run_async(code)\n"
          ]
        }
      ]
    },
    {
      "cell_type": "code",
      "source": [
        "import csv\n",
        "# Nombre del archivo CSV\n",
        "nombre_archivo = \"temas_principales.csv\"\n",
        "\n",
        "# Abrir el archivo CSV en modo escritura\n",
        "with open(nombre_archivo, \"w\", newline=\"\") as archivo_csv:\n",
        "    # Crear el escritor CSV\n",
        "    escritor = csv.writer(archivo_csv)\n",
        "\n",
        "    # Escribir la cabecera del archivo CSV\n",
        "    escritor.writerow([\"Tema\", \"Palabras Clave\"])\n",
        "\n",
        "    # Escribir los temas y palabras clave en el archivo CSV\n",
        "    for tema, palabras_clave in temas_principales.items():\n",
        "        escritor.writerow([tema] + palabras_clave)\n",
        "\n",
        "print(f\"El archivo CSV '{nombre_archivo}' ha sido exportado exitosamente.\")"
      ],
      "metadata": {
        "colab": {
          "base_uri": "https://localhost:8080/"
        },
        "id": "sdKcR-igRSX8",
        "outputId": "5bf2a286-23f4-4599-a668-0854216491cc"
      },
      "execution_count": 26,
      "outputs": [
        {
          "output_type": "stream",
          "name": "stdout",
          "text": [
            "El archivo CSV 'temas_principales.csv' ha sido exportado exitosamente.\n"
          ]
        },
        {
          "output_type": "stream",
          "name": "stderr",
          "text": [
            "/usr/local/lib/python3.10/dist-packages/ipykernel/ipkernel.py:283: DeprecationWarning: `should_run_async` will not call `transform_cell` automatically in the future. Please pass the result to `transformed_cell` argument and any exception that happen during thetransform in `preprocessing_exc_tuple` in IPython 7.17 and above.\n",
            "  and should_run_async(code)\n"
          ]
        }
      ]
    },
    {
      "cell_type": "code",
      "source": [
        "import csv\n",
        "\n",
        "# Ruta al archivo CSV\n",
        "archivo_csv = 'temas_principales.csv'\n",
        "\n",
        "# Leer el archivo CSV y mostrar los datos\n",
        "with open(archivo_csv, 'r') as archivo:\n",
        "    lector_csv = csv.reader(archivo)\n",
        "    for fila in lector_csv:\n",
        "        print(fila)"
      ],
      "metadata": {
        "colab": {
          "base_uri": "https://localhost:8080/"
        },
        "id": "j9YeJvatRbqY",
        "outputId": "d562333a-e04c-46e4-8f9e-ed2a31ee3b2d"
      },
      "execution_count": 27,
      "outputs": [
        {
          "output_type": "stream",
          "name": "stdout",
          "text": [
            "['Tema', 'Palabras Clave']\n",
            "['Convenios y cooperación interinstitucional', 'presente', 'partes', 'nacional', 'marco', 'interinstitucional', 'cooperacion', 'universitaria', 'vigencia', 'cumplimiento', 'acuerdo']\n",
            "['Universidad y educación superior', 'universidad', 'nacional', 'facultad', 'estudiantes', 'desarrollo', 'actividades', 'estudios', 'programa', 'investigacion', 'docentes']\n",
            "['Desarrollo y actividades académicas', 'desarrollo', 'actividades', 'docente', 'estudiantes', 'investigacion', 'programa', 'docencia', 'capacitacion', 'humana', 'gerencia']\n",
            "['Salud y asistencia médica', 'salud', 'hospital', 'facultad', 'asistencial', 'estudiantes', 'docente', 'servicios', 'investigacion', 'medicina', 'profesionales']\n",
            "['Investigación científica y proyectos de investigación', 'investigacion', 'proyecto', 'desarrollo', 'investigacion', 'estudios', 'servicios', 'capacitacion', 'ciencias', 'profesional', 'docencia']\n",
            "['Estudiantes universitarios y actividades estudiantiles', 'estudiantes', 'actividades', 'universitario', 'universitaria', 'estudiantiles', 'docente', 'alumnos', 'investigacion', 'cumplimiento', 'docentes']\n",
            "['Aspectos legales y cláusulas contractuales', 'legal', 'clausula', 'acuerdo', 'norma', 'decreto', 'resolucion', 'contrato', 'propiedad', 'obligaciones', 'derechos']\n",
            "['Desarrollo regional y altiplano', 'desarrollo', 'regional', 'altiplano', 'actividades', 'estudiantes', 'investigacion', 'proyectos', 'servicios', 'desarrollo', 'altura']\n",
            "['Servicios y actividades específicas', 'servicios', 'actividades', 'asistencial', 'especifico', 'docencia', 'capacitacion', 'investigacion', 'salud', 'profesionales', 'atencion']\n",
            "['Tecnología y transformación digital', 'tecnologia', 'digital', 'plataforma', 'software', 'servicio', 'registro', 'documento', 'identificacion', 'sistema', 'innovacion']\n"
          ]
        },
        {
          "output_type": "stream",
          "name": "stderr",
          "text": [
            "/usr/local/lib/python3.10/dist-packages/ipykernel/ipkernel.py:283: DeprecationWarning: `should_run_async` will not call `transform_cell` automatically in the future. Please pass the result to `transformed_cell` argument and any exception that happen during thetransform in `preprocessing_exc_tuple` in IPython 7.17 and above.\n",
            "  and should_run_async(code)\n"
          ]
        }
      ]
    },
    {
      "cell_type": "code",
      "source": [
        "import pandas as pd\n",
        "\n",
        "# Ruta al archivo CSV\n",
        "archivo_csv = 'temas_principales.csv'\n",
        "\n",
        "# Leer el archivo CSV y crear el DataFrame\n",
        "df = pd.read_csv(archivo_csv)\n",
        "\n",
        "# Mostrar el DataFrame\n",
        "df"
      ],
      "metadata": {
        "colab": {
          "base_uri": "https://localhost:8080/",
          "height": 522
        },
        "id": "VZUnPKZtRx86",
        "outputId": "9383019d-3520-4732-a743-f782ef3a11f9"
      },
      "execution_count": 28,
      "outputs": [
        {
          "output_type": "stream",
          "name": "stderr",
          "text": [
            "/usr/local/lib/python3.10/dist-packages/ipykernel/ipkernel.py:283: DeprecationWarning: `should_run_async` will not call `transform_cell` automatically in the future. Please pass the result to `transformed_cell` argument and any exception that happen during thetransform in `preprocessing_exc_tuple` in IPython 7.17 and above.\n",
            "  and should_run_async(code)\n"
          ]
        },
        {
          "output_type": "execute_result",
          "data": {
            "text/plain": [
              "                                                                                                                                                                                 Tema  \\\n",
              "Convenios y cooperación interinstitucional         presente      partes      nacional      marco         interinstitucional cooperacion   universitaria vigencia         cumplimiento   \n",
              "Universidad y educación superior                   universidad   nacional    facultad      estudiantes   desarrollo         actividades   estudios      programa        investigacion   \n",
              "Desarrollo y actividades académicas                desarrollo    actividades docente       estudiantes   investigacion      programa      docencia      capacitacion           humana   \n",
              "Salud y asistencia médica                          salud         hospital    facultad      asistencial   estudiantes        docente       servicios     investigacion        medicina   \n",
              "Investigación científica y proyectos de investi... investigacion proyecto    desarrollo    investigacion estudios           servicios     capacitacion  ciencias          profesional   \n",
              "Estudiantes universitarios y actividades estudi... estudiantes   actividades universitario universitaria estudiantiles      docente       alumnos       investigacion    cumplimiento   \n",
              "Aspectos legales y cláusulas contractuales         legal         clausula    acuerdo       norma         decreto            resolucion    contrato      propiedad        obligaciones   \n",
              "Desarrollo regional y altiplano                    desarrollo    regional    altiplano     actividades   estudiantes        investigacion proyectos     servicios          desarrollo   \n",
              "Servicios y actividades específicas                servicios     actividades asistencial   especifico    docencia           capacitacion  investigacion salud           profesionales   \n",
              "Tecnología y transformación digital                tecnologia    digital     plataforma    software      servicio           registro      documento     identificacion        sistema   \n",
              "\n",
              "                                                                                                                                                                       Palabras Clave  \n",
              "Convenios y cooperación interinstitucional         presente      partes      nacional      marco         interinstitucional cooperacion   universitaria vigencia              acuerdo  \n",
              "Universidad y educación superior                   universidad   nacional    facultad      estudiantes   desarrollo         actividades   estudios      programa             docentes  \n",
              "Desarrollo y actividades académicas                desarrollo    actividades docente       estudiantes   investigacion      programa      docencia      capacitacion         gerencia  \n",
              "Salud y asistencia médica                          salud         hospital    facultad      asistencial   estudiantes        docente       servicios     investigacion   profesionales  \n",
              "Investigación científica y proyectos de investi... investigacion proyecto    desarrollo    investigacion estudios           servicios     capacitacion  ciencias             docencia  \n",
              "Estudiantes universitarios y actividades estudi... estudiantes   actividades universitario universitaria estudiantiles      docente       alumnos       investigacion        docentes  \n",
              "Aspectos legales y cláusulas contractuales         legal         clausula    acuerdo       norma         decreto            resolucion    contrato      propiedad            derechos  \n",
              "Desarrollo regional y altiplano                    desarrollo    regional    altiplano     actividades   estudiantes        investigacion proyectos     servicios              altura  \n",
              "Servicios y actividades específicas                servicios     actividades asistencial   especifico    docencia           capacitacion  investigacion salud                atencion  \n",
              "Tecnología y transformación digital                tecnologia    digital     plataforma    software      servicio           registro      documento     identificacion     innovacion  "
            ],
            "text/html": [
              "\n",
              "\n",
              "  <div id=\"df-bf1633d0-de0b-4995-8ddb-b9e25942b8b1\">\n",
              "    <div class=\"colab-df-container\">\n",
              "      <div>\n",
              "<style scoped>\n",
              "    .dataframe tbody tr th:only-of-type {\n",
              "        vertical-align: middle;\n",
              "    }\n",
              "\n",
              "    .dataframe tbody tr th {\n",
              "        vertical-align: top;\n",
              "    }\n",
              "\n",
              "    .dataframe thead th {\n",
              "        text-align: right;\n",
              "    }\n",
              "</style>\n",
              "<table border=\"1\" class=\"dataframe\">\n",
              "  <thead>\n",
              "    <tr style=\"text-align: right;\">\n",
              "      <th></th>\n",
              "      <th></th>\n",
              "      <th></th>\n",
              "      <th></th>\n",
              "      <th></th>\n",
              "      <th></th>\n",
              "      <th></th>\n",
              "      <th></th>\n",
              "      <th></th>\n",
              "      <th>Tema</th>\n",
              "      <th>Palabras Clave</th>\n",
              "    </tr>\n",
              "  </thead>\n",
              "  <tbody>\n",
              "    <tr>\n",
              "      <th>Convenios y cooperación interinstitucional</th>\n",
              "      <th>presente</th>\n",
              "      <th>partes</th>\n",
              "      <th>nacional</th>\n",
              "      <th>marco</th>\n",
              "      <th>interinstitucional</th>\n",
              "      <th>cooperacion</th>\n",
              "      <th>universitaria</th>\n",
              "      <th>vigencia</th>\n",
              "      <td>cumplimiento</td>\n",
              "      <td>acuerdo</td>\n",
              "    </tr>\n",
              "    <tr>\n",
              "      <th>Universidad y educación superior</th>\n",
              "      <th>universidad</th>\n",
              "      <th>nacional</th>\n",
              "      <th>facultad</th>\n",
              "      <th>estudiantes</th>\n",
              "      <th>desarrollo</th>\n",
              "      <th>actividades</th>\n",
              "      <th>estudios</th>\n",
              "      <th>programa</th>\n",
              "      <td>investigacion</td>\n",
              "      <td>docentes</td>\n",
              "    </tr>\n",
              "    <tr>\n",
              "      <th>Desarrollo y actividades académicas</th>\n",
              "      <th>desarrollo</th>\n",
              "      <th>actividades</th>\n",
              "      <th>docente</th>\n",
              "      <th>estudiantes</th>\n",
              "      <th>investigacion</th>\n",
              "      <th>programa</th>\n",
              "      <th>docencia</th>\n",
              "      <th>capacitacion</th>\n",
              "      <td>humana</td>\n",
              "      <td>gerencia</td>\n",
              "    </tr>\n",
              "    <tr>\n",
              "      <th>Salud y asistencia médica</th>\n",
              "      <th>salud</th>\n",
              "      <th>hospital</th>\n",
              "      <th>facultad</th>\n",
              "      <th>asistencial</th>\n",
              "      <th>estudiantes</th>\n",
              "      <th>docente</th>\n",
              "      <th>servicios</th>\n",
              "      <th>investigacion</th>\n",
              "      <td>medicina</td>\n",
              "      <td>profesionales</td>\n",
              "    </tr>\n",
              "    <tr>\n",
              "      <th>Investigación científica y proyectos de investigación</th>\n",
              "      <th>investigacion</th>\n",
              "      <th>proyecto</th>\n",
              "      <th>desarrollo</th>\n",
              "      <th>investigacion</th>\n",
              "      <th>estudios</th>\n",
              "      <th>servicios</th>\n",
              "      <th>capacitacion</th>\n",
              "      <th>ciencias</th>\n",
              "      <td>profesional</td>\n",
              "      <td>docencia</td>\n",
              "    </tr>\n",
              "    <tr>\n",
              "      <th>Estudiantes universitarios y actividades estudiantiles</th>\n",
              "      <th>estudiantes</th>\n",
              "      <th>actividades</th>\n",
              "      <th>universitario</th>\n",
              "      <th>universitaria</th>\n",
              "      <th>estudiantiles</th>\n",
              "      <th>docente</th>\n",
              "      <th>alumnos</th>\n",
              "      <th>investigacion</th>\n",
              "      <td>cumplimiento</td>\n",
              "      <td>docentes</td>\n",
              "    </tr>\n",
              "    <tr>\n",
              "      <th>Aspectos legales y cláusulas contractuales</th>\n",
              "      <th>legal</th>\n",
              "      <th>clausula</th>\n",
              "      <th>acuerdo</th>\n",
              "      <th>norma</th>\n",
              "      <th>decreto</th>\n",
              "      <th>resolucion</th>\n",
              "      <th>contrato</th>\n",
              "      <th>propiedad</th>\n",
              "      <td>obligaciones</td>\n",
              "      <td>derechos</td>\n",
              "    </tr>\n",
              "    <tr>\n",
              "      <th>Desarrollo regional y altiplano</th>\n",
              "      <th>desarrollo</th>\n",
              "      <th>regional</th>\n",
              "      <th>altiplano</th>\n",
              "      <th>actividades</th>\n",
              "      <th>estudiantes</th>\n",
              "      <th>investigacion</th>\n",
              "      <th>proyectos</th>\n",
              "      <th>servicios</th>\n",
              "      <td>desarrollo</td>\n",
              "      <td>altura</td>\n",
              "    </tr>\n",
              "    <tr>\n",
              "      <th>Servicios y actividades específicas</th>\n",
              "      <th>servicios</th>\n",
              "      <th>actividades</th>\n",
              "      <th>asistencial</th>\n",
              "      <th>especifico</th>\n",
              "      <th>docencia</th>\n",
              "      <th>capacitacion</th>\n",
              "      <th>investigacion</th>\n",
              "      <th>salud</th>\n",
              "      <td>profesionales</td>\n",
              "      <td>atencion</td>\n",
              "    </tr>\n",
              "    <tr>\n",
              "      <th>Tecnología y transformación digital</th>\n",
              "      <th>tecnologia</th>\n",
              "      <th>digital</th>\n",
              "      <th>plataforma</th>\n",
              "      <th>software</th>\n",
              "      <th>servicio</th>\n",
              "      <th>registro</th>\n",
              "      <th>documento</th>\n",
              "      <th>identificacion</th>\n",
              "      <td>sistema</td>\n",
              "      <td>innovacion</td>\n",
              "    </tr>\n",
              "  </tbody>\n",
              "</table>\n",
              "</div>\n",
              "      <button class=\"colab-df-convert\" onclick=\"convertToInteractive('df-bf1633d0-de0b-4995-8ddb-b9e25942b8b1')\"\n",
              "              title=\"Convert this dataframe to an interactive table.\"\n",
              "              style=\"display:none;\">\n",
              "\n",
              "  <svg xmlns=\"http://www.w3.org/2000/svg\" height=\"24px\"viewBox=\"0 0 24 24\"\n",
              "       width=\"24px\">\n",
              "    <path d=\"M0 0h24v24H0V0z\" fill=\"none\"/>\n",
              "    <path d=\"M18.56 5.44l.94 2.06.94-2.06 2.06-.94-2.06-.94-.94-2.06-.94 2.06-2.06.94zm-11 1L8.5 8.5l.94-2.06 2.06-.94-2.06-.94L8.5 2.5l-.94 2.06-2.06.94zm10 10l.94 2.06.94-2.06 2.06-.94-2.06-.94-.94-2.06-.94 2.06-2.06.94z\"/><path d=\"M17.41 7.96l-1.37-1.37c-.4-.4-.92-.59-1.43-.59-.52 0-1.04.2-1.43.59L10.3 9.45l-7.72 7.72c-.78.78-.78 2.05 0 2.83L4 21.41c.39.39.9.59 1.41.59.51 0 1.02-.2 1.41-.59l7.78-7.78 2.81-2.81c.8-.78.8-2.07 0-2.86zM5.41 20L4 18.59l7.72-7.72 1.47 1.35L5.41 20z\"/>\n",
              "  </svg>\n",
              "      </button>\n",
              "\n",
              "\n",
              "\n",
              "    <div id=\"df-89f3cdeb-9048-4b9b-88ce-6f8ca500c67d\">\n",
              "      <button class=\"colab-df-quickchart\" onclick=\"quickchart('df-89f3cdeb-9048-4b9b-88ce-6f8ca500c67d')\"\n",
              "              title=\"Suggest charts.\"\n",
              "              style=\"display:none;\">\n",
              "\n",
              "<svg xmlns=\"http://www.w3.org/2000/svg\" height=\"24px\"viewBox=\"0 0 24 24\"\n",
              "     width=\"24px\">\n",
              "    <g>\n",
              "        <path d=\"M19 3H5c-1.1 0-2 .9-2 2v14c0 1.1.9 2 2 2h14c1.1 0 2-.9 2-2V5c0-1.1-.9-2-2-2zM9 17H7v-7h2v7zm4 0h-2V7h2v10zm4 0h-2v-4h2v4z\"/>\n",
              "    </g>\n",
              "</svg>\n",
              "      </button>\n",
              "    </div>\n",
              "\n",
              "<style>\n",
              "  .colab-df-quickchart {\n",
              "    background-color: #E8F0FE;\n",
              "    border: none;\n",
              "    border-radius: 50%;\n",
              "    cursor: pointer;\n",
              "    display: none;\n",
              "    fill: #1967D2;\n",
              "    height: 32px;\n",
              "    padding: 0 0 0 0;\n",
              "    width: 32px;\n",
              "  }\n",
              "\n",
              "  .colab-df-quickchart:hover {\n",
              "    background-color: #E2EBFA;\n",
              "    box-shadow: 0px 1px 2px rgba(60, 64, 67, 0.3), 0px 1px 3px 1px rgba(60, 64, 67, 0.15);\n",
              "    fill: #174EA6;\n",
              "  }\n",
              "\n",
              "  [theme=dark] .colab-df-quickchart {\n",
              "    background-color: #3B4455;\n",
              "    fill: #D2E3FC;\n",
              "  }\n",
              "\n",
              "  [theme=dark] .colab-df-quickchart:hover {\n",
              "    background-color: #434B5C;\n",
              "    box-shadow: 0px 1px 3px 1px rgba(0, 0, 0, 0.15);\n",
              "    filter: drop-shadow(0px 1px 2px rgba(0, 0, 0, 0.3));\n",
              "    fill: #FFFFFF;\n",
              "  }\n",
              "</style>\n",
              "\n",
              "    <script>\n",
              "      async function quickchart(key) {\n",
              "        const containerElement = document.querySelector('#' + key);\n",
              "        const charts = await google.colab.kernel.invokeFunction(\n",
              "            'suggestCharts', [key], {});\n",
              "      }\n",
              "    </script>\n",
              "\n",
              "      <script>\n",
              "\n",
              "function displayQuickchartButton(domScope) {\n",
              "  let quickchartButtonEl =\n",
              "    domScope.querySelector('#df-89f3cdeb-9048-4b9b-88ce-6f8ca500c67d button.colab-df-quickchart');\n",
              "  quickchartButtonEl.style.display =\n",
              "    google.colab.kernel.accessAllowed ? 'block' : 'none';\n",
              "}\n",
              "\n",
              "        displayQuickchartButton(document);\n",
              "      </script>\n",
              "      <style>\n",
              "    .colab-df-container {\n",
              "      display:flex;\n",
              "      flex-wrap:wrap;\n",
              "      gap: 12px;\n",
              "    }\n",
              "\n",
              "    .colab-df-convert {\n",
              "      background-color: #E8F0FE;\n",
              "      border: none;\n",
              "      border-radius: 50%;\n",
              "      cursor: pointer;\n",
              "      display: none;\n",
              "      fill: #1967D2;\n",
              "      height: 32px;\n",
              "      padding: 0 0 0 0;\n",
              "      width: 32px;\n",
              "    }\n",
              "\n",
              "    .colab-df-convert:hover {\n",
              "      background-color: #E2EBFA;\n",
              "      box-shadow: 0px 1px 2px rgba(60, 64, 67, 0.3), 0px 1px 3px 1px rgba(60, 64, 67, 0.15);\n",
              "      fill: #174EA6;\n",
              "    }\n",
              "\n",
              "    [theme=dark] .colab-df-convert {\n",
              "      background-color: #3B4455;\n",
              "      fill: #D2E3FC;\n",
              "    }\n",
              "\n",
              "    [theme=dark] .colab-df-convert:hover {\n",
              "      background-color: #434B5C;\n",
              "      box-shadow: 0px 1px 3px 1px rgba(0, 0, 0, 0.15);\n",
              "      filter: drop-shadow(0px 1px 2px rgba(0, 0, 0, 0.3));\n",
              "      fill: #FFFFFF;\n",
              "    }\n",
              "  </style>\n",
              "\n",
              "      <script>\n",
              "        const buttonEl =\n",
              "          document.querySelector('#df-bf1633d0-de0b-4995-8ddb-b9e25942b8b1 button.colab-df-convert');\n",
              "        buttonEl.style.display =\n",
              "          google.colab.kernel.accessAllowed ? 'block' : 'none';\n",
              "\n",
              "        async function convertToInteractive(key) {\n",
              "          const element = document.querySelector('#df-bf1633d0-de0b-4995-8ddb-b9e25942b8b1');\n",
              "          const dataTable =\n",
              "            await google.colab.kernel.invokeFunction('convertToInteractive',\n",
              "                                                     [key], {});\n",
              "          if (!dataTable) return;\n",
              "\n",
              "          const docLinkHtml = 'Like what you see? Visit the ' +\n",
              "            '<a target=\"_blank\" href=https://colab.research.google.com/notebooks/data_table.ipynb>data table notebook</a>'\n",
              "            + ' to learn more about interactive tables.';\n",
              "          element.innerHTML = '';\n",
              "          dataTable['output_type'] = 'display_data';\n",
              "          await google.colab.output.renderOutput(dataTable, element);\n",
              "          const docLink = document.createElement('div');\n",
              "          docLink.innerHTML = docLinkHtml;\n",
              "          element.appendChild(docLink);\n",
              "        }\n",
              "      </script>\n",
              "    </div>\n",
              "  </div>\n"
            ]
          },
          "metadata": {},
          "execution_count": 28
        },
        {
          "output_type": "stream",
          "name": "stdout",
          "text": [
            "No charts were generated by quickchart\n"
          ]
        },
        {
          "output_type": "stream",
          "name": "stderr",
          "text": [
            "/usr/local/lib/python3.10/dist-packages/ipykernel/ipkernel.py:283: DeprecationWarning: `should_run_async` will not call `transform_cell` automatically in the future. Please pass the result to `transformed_cell` argument and any exception that happen during thetransform in `preprocessing_exc_tuple` in IPython 7.17 and above.\n",
            "  and should_run_async(code)\n"
          ]
        },
        {
          "output_type": "stream",
          "name": "stdout",
          "text": [
            "Error: Runtime no longer has a reference to this dataframe, please re-run this cell and try again.\n"
          ]
        },
        {
          "output_type": "stream",
          "name": "stderr",
          "text": [
            "/usr/local/lib/python3.10/dist-packages/ipykernel/ipkernel.py:283: DeprecationWarning: `should_run_async` will not call `transform_cell` automatically in the future. Please pass the result to `transformed_cell` argument and any exception that happen during thetransform in `preprocessing_exc_tuple` in IPython 7.17 and above.\n",
            "  and should_run_async(code)\n"
          ]
        }
      ]
    },
    {
      "cell_type": "code",
      "source": [
        "def calcular_factibilidad(convenio, diccionario_temas):\n",
        "    factibilidad = 0\n",
        "    total_palabras_convenio = len(convenio)\n",
        "\n",
        "    for tema, palabras_clave in diccionario_temas.items():\n",
        "        conteo_palabras_clave = sum(palabra.lower() in convenio for palabra in palabras_clave)\n",
        "        factibilidad_tema = conteo_palabras_clave / total_palabras_convenio\n",
        "\n",
        "        if factibilidad_tema > factibilidad:\n",
        "            factibilidad = factibilidad_tema\n",
        "\n",
        "    return factibilidad\n",
        "\n",
        "def determinar_factibilidad_convenios(convenios, diccionario_temas):\n",
        "    resultados = []\n",
        "\n",
        "    for convenio in convenios:\n",
        "        factibilidad = calcular_factibilidad(convenio, diccionario_temas)\n",
        "        resultados.append({'Convenio': convenio, 'Factibilidad': factibilidad})\n",
        "\n",
        "    return resultados\n",
        "\n",
        "\n",
        "# Lista de convenios\n",
        "convenios = arreglo_lematizado\n",
        "\n",
        "# Diccionario de temas principales\n",
        "temas_principales = temas_principales\n",
        "# Determinar la factibilidad de los convenios\n",
        "resultados = determinar_factibilidad_convenios(convenios, temas_principales)\n",
        "\n",
        "# Mostrar los resultados\n",
        "for resultado in resultados:\n",
        "    resultados_completos = [resultado['Factibilidad'] for resultado in resultados]\n",
        "    print(f\"Factibilidad: {resultado['Factibilidad']}\")"
      ],
      "metadata": {
        "id": "yRfu3IfXZz_r",
        "colab": {
          "base_uri": "https://localhost:8080/"
        },
        "outputId": "2212f60f-c02b-406f-993c-3a6656be5302"
      },
      "execution_count": 29,
      "outputs": [
        {
          "output_type": "stream",
          "name": "stderr",
          "text": [
            "/usr/local/lib/python3.10/dist-packages/ipykernel/ipkernel.py:283: DeprecationWarning: `should_run_async` will not call `transform_cell` automatically in the future. Please pass the result to `transformed_cell` argument and any exception that happen during thetransform in `preprocessing_exc_tuple` in IPython 7.17 and above.\n",
            "  and should_run_async(code)\n"
          ]
        },
        {
          "output_type": "stream",
          "name": "stdout",
          "text": [
            "Factibilidad: 0.008103727714748784\n",
            "Factibilidad: 0.0144\n",
            "Factibilidad: 0.0063335679099225895\n",
            "Factibilidad: 0.008695652173913044\n",
            "Factibilidad: 0.00922509225092251\n",
            "Factibilidad: 0.011363636363636364\n",
            "Factibilidad: 0.02\n",
            "Factibilidad: 0.007897334649555774\n",
            "Factibilidad: 0.008100810081008101\n",
            "Factibilidad: 0.007633587786259542\n",
            "Factibilidad: 0.007960199004975124\n",
            "Factibilidad: 0.010856453558504222\n",
            "Factibilidad: 0.0074503311258278145\n",
            "Factibilidad: 0.007171314741035857\n",
            "Factibilidad: 0.01584507042253521\n",
            "Factibilidad: 0.0076103500761035\n",
            "Factibilidad: 0.008216926869350863\n",
            "Factibilidad: 0.011984021304926764\n",
            "Factibilidad: 0.006770480704129994\n",
            "Factibilidad: 0.006765899864682003\n",
            "Factibilidad: 0.010940919037199124\n",
            "Factibilidad: 0.004780114722753346\n",
            "Factibilidad: 0.0037174721189591076\n",
            "Factibilidad: 0.009433962264150943\n",
            "Factibilidad: 0.005402485143165856\n",
            "Factibilidad: 0.005243838489774515\n",
            "Factibilidad: 0.009900990099009901\n",
            "Factibilidad: 0.005733944954128441\n",
            "Factibilidad: 0.0149812734082397\n",
            "Factibilidad: 0.00801924619085806\n",
            "Factibilidad: 0.006189821182943604\n",
            "Factibilidad: 0.007390983000739098\n",
            "Factibilidad: 0.00831792975970425\n",
            "Factibilidad: 0.008936550491510277\n",
            "Factibilidad: 0.011688311688311689\n",
            "Factibilidad: 0.005737234652897304\n",
            "Factibilidad: 0.00946073793755913\n",
            "Factibilidad: 0.007342143906020558\n",
            "Factibilidad: 0.0049285362247412515\n",
            "Factibilidad: 0.012924071082390954\n",
            "Factibilidad: 0.009328358208955223\n",
            "Factibilidad: 0.008169934640522876\n",
            "Factibilidad: 0.00563063063063063\n",
            "Factibilidad: 0.010080645161290322\n",
            "Factibilidad: 0.008517887563884156\n",
            "Factibilidad: 0.007182761372705506\n",
            "Factibilidad: 0.005252100840336135\n",
            "Factibilidad: 0.008746355685131196\n",
            "Factibilidad: 0.01021566401816118\n",
            "Factibilidad: 0.007805724197745013\n",
            "Factibilidad: 0.0078064012490242\n",
            "Factibilidad: 0.006830601092896175\n",
            "Factibilidad: 0.00864304235090752\n",
            "Factibilidad: 0.009285051067780872\n",
            "Factibilidad: 0.010688836104513063\n",
            "Factibilidad: 0.00942507068803016\n",
            "Factibilidad: 0.004629629629629629\n",
            "Factibilidad: 0.011097410604192354\n",
            "Factibilidad: 0.008658008658008658\n",
            "Factibilidad: 0.00881057268722467\n",
            "Factibilidad: 0.01221001221001221\n",
            "Factibilidad: 0.005175983436853002\n",
            "Factibilidad: 0.0073152889539136795\n",
            "Factibilidad: 0.006662225183211193\n",
            "Factibilidad: 0.006109979633401222\n",
            "Factibilidad: 0.00818926296633303\n",
            "Factibilidad: 0.005754475703324808\n",
            "Factibilidad: 0.0042158516020236085\n",
            "Factibilidad: 0.005099439061703213\n",
            "Factibilidad: 0.008084074373484237\n",
            "Factibilidad: 0.004384042086804033\n",
            "Factibilidad: 0.0071174377224199285\n",
            "Factibilidad: 0.00420954162768943\n",
            "Factibilidad: 0.010625737898465172\n",
            "Factibilidad: 0.005583472920156337\n",
            "Factibilidad: 0.008832188420019628\n",
            "Factibilidad: 0.007446016381236039\n",
            "Factibilidad: 0.007846556233653008\n",
            "Factibilidad: 0.00782472613458529\n",
            "Factibilidad: 0.013089005235602094\n",
            "Factibilidad: 0.006510416666666667\n",
            "Factibilidad: 0.0106951871657754\n",
            "Factibilidad: 0.011947431302270013\n",
            "Factibilidad: 0.011826544021024968\n",
            "Factibilidad: 0.0074850299401197605\n",
            "Factibilidad: 0.0045351473922902496\n",
            "Factibilidad: 0.005288207297726071\n",
            "Factibilidad: 0.010030090270812437\n",
            "Factibilidad: 0.006194081211286993\n",
            "Factibilidad: 0.009380863039399626\n",
            "Factibilidad: 0.00628140703517588\n",
            "Factibilidad: 0.006738544474393531\n",
            "Factibilidad: 0.013333333333333334\n",
            "Factibilidad: 0.0067613252197430695\n",
            "Factibilidad: 0.01020408163265306\n",
            "Factibilidad: 0.009813542688910697\n",
            "Factibilidad: 0.015873015873015872\n",
            "Factibilidad: 0.006258692628650904\n",
            "Factibilidad: 0.006459948320413436\n",
            "Factibilidad: 0.007058823529411765\n",
            "Factibilidad: 0.003837298541826554\n",
            "Factibilidad: 0.008382229673093043\n",
            "Factibilidad: 0.008658008658008658\n",
            "Factibilidad: 0.009606147934678195\n",
            "Factibilidad: 0.0039147455415398\n",
            "Factibilidad: 0.0102880658436214\n",
            "Factibilidad: 0.01171303074670571\n",
            "Factibilidad: 0.005027652086475616\n",
            "Factibilidad: 0.006459948320413436\n",
            "Factibilidad: 0.004103405826836274\n",
            "Factibilidad: 0.01335113484646195\n",
            "Factibilidad: 0.009009009009009009\n",
            "Factibilidad: 0.005149330587023687\n",
            "Factibilidad: 0.007451564828614009\n",
            "Factibilidad: 0.006864988558352402\n",
            "Factibilidad: 0.006433166547533953\n",
            "Factibilidad: 0.012706480304955527\n",
            "Factibilidad: 0.0075\n",
            "Factibilidad: 0.007633587786259542\n",
            "Factibilidad: 0.008237232289950576\n",
            "Factibilidad: 0.009533898305084746\n",
            "Factibilidad: 0.007358351729212656\n",
            "Factibilidad: 0.008726003490401396\n",
            "Factibilidad: 0.010741138560687433\n",
            "Factibilidad: 0.012465373961218837\n",
            "Factibilidad: 0.00449842555105713\n",
            "Factibilidad: 0.008396305625524769\n",
            "Factibilidad: 0.011061946902654867\n",
            "Factibilidad: 0.014903129657228018\n",
            "Factibilidad: 0.006868131868131868\n",
            "Factibilidad: 0.004812319538017324\n",
            "Factibilidad: 0.006715916722632639\n",
            "Factibilidad: 0.013123359580052493\n",
            "Factibilidad: 0.011264080100125156\n",
            "Factibilidad: 0.005220417633410673\n",
            "Factibilidad: 0.028070175438596492\n",
            "Factibilidad: 0.006357279084551812\n",
            "Factibilidad: 0.0076103500761035\n",
            "Factibilidad: 0.009541984732824428\n",
            "Factibilidad: 0.022172949002217297\n",
            "Factibilidad: 0.007541478129713424\n",
            "Factibilidad: 0.012224938875305624\n",
            "Factibilidad: 0.011123470522803115\n",
            "Factibilidad: 0.011918951132300357\n",
            "Factibilidad: 0.012578616352201259\n",
            "Factibilidad: 0.01935483870967742\n",
            "Factibilidad: 0.006040268456375839\n",
            "Factibilidad: 0.007142857142857143\n",
            "Factibilidad: 0.01443298969072165\n",
            "Factibilidad: 0.00697350069735007\n",
            "Factibilidad: 0.010089686098654708\n",
            "Factibilidad: 0.010121457489878543\n",
            "Factibilidad: 0.006596306068601583\n",
            "Factibilidad: 0.01044932079414838\n",
            "Factibilidad: 0.0068634179821551134\n",
            "Factibilidad: 0.013245033112582781\n",
            "Factibilidad: 0.006934812760055479\n",
            "Factibilidad: 0.006798096532970768\n",
            "Factibilidad: 0.008\n",
            "Factibilidad: 0.007639419404125287\n",
            "Factibilidad: 0.008756567425569177\n",
            "Factibilidad: 0.005972130059721301\n",
            "Factibilidad: 0.004214075010535188\n",
            "Factibilidad: 0.005595970900951315\n",
            "Factibilidad: 0.007704160246533128\n",
            "Factibilidad: 0.009033423667570008\n",
            "Factibilidad: 0.006657789613848202\n",
            "Factibilidad: 0.008613264427217916\n",
            "Factibilidad: 0.009624639076034648\n",
            "Factibilidad: 0.009074410163339383\n",
            "Factibilidad: 0.008156606851549755\n",
            "Factibilidad: 0.004025764895330112\n",
            "Factibilidad: 0.005717552887364208\n",
            "Factibilidad: 0.012594458438287154\n",
            "Factibilidad: 0.012422360248447204\n",
            "Factibilidad: 0.007922535211267605\n",
            "Factibilidad: 0.005288207297726071\n",
            "Factibilidad: 0.009643201542912247\n",
            "Factibilidad: 0.007763975155279503\n",
            "Factibilidad: 0.008417508417508417\n",
            "Factibilidad: 0.009708737864077669\n",
            "Factibilidad: 0.004273504273504274\n",
            "Factibilidad: 0.008368200836820083\n",
            "Factibilidad: 0.00949367088607595\n",
            "Factibilidad: 0.008888888888888889\n",
            "Factibilidad: 0.004191895668374476\n",
            "Factibilidad: 0.01141552511415525\n",
            "Factibilidad: 0.005972130059721301\n",
            "Factibilidad: 0.010416666666666666\n",
            "Factibilidad: 0.006373486297004461\n",
            "Factibilidad: 0.007763975155279503\n",
            "Factibilidad: 0.006998444790046656\n",
            "Factibilidad: 0.011325028312570781\n",
            "Factibilidad: 0.007451564828614009\n",
            "Factibilidad: 0.010604453870625663\n",
            "Factibilidad: 0.01845018450184502\n",
            "Factibilidad: 0.015037593984962405\n",
            "Factibilidad: 0.005148741418764302\n",
            "Factibilidad: 0.009813542688910697\n",
            "Factibilidad: 0.004934210526315789\n",
            "Factibilidad: 0.006870229007633588\n",
            "Factibilidad: 0.008865248226950355\n",
            "Factibilidad: 0.0076045627376425855\n",
            "Factibilidad: 0.004206983592763988\n",
            "Factibilidad: 0.010309278350515464\n",
            "Factibilidad: 0.01256281407035176\n",
            "Factibilidad: 0.016483516483516484\n",
            "Factibilidad: 0.008547008547008548\n",
            "Factibilidad: 0.007052186177715092\n",
            "Factibilidad: 0.006199628022318661\n",
            "Factibilidad: 0.010384215991692628\n",
            "Factibilidad: 0.004524886877828055\n",
            "Factibilidad: 0.014652014652014652\n",
            "Factibilidad: 0.012300123001230012\n",
            "Factibilidad: 0.008012820512820512\n",
            "Factibilidad: 0.009784735812133072\n",
            "Factibilidad: 0.007639419404125287\n",
            "Factibilidad: 0.006530612244897959\n",
            "Factibilidad: 0.010192525481313703\n",
            "Factibilidad: 0.005772931366260423\n",
            "Factibilidad: 0.006734006734006734\n",
            "Factibilidad: 0.0056457304163726185\n",
            "Factibilidad: 0.009988901220865706\n",
            "Factibilidad: 0.00911854103343465\n",
            "Factibilidad: 0.007103393843725336\n",
            "Factibilidad: 0.006365372374283896\n",
            "Factibilidad: 0.0071174377224199285\n",
            "Factibilidad: 0.008561643835616438\n",
            "Factibilidad: 0.007601351351351352\n",
            "Factibilidad: 0.006142506142506142\n",
            "Factibilidad: 0.007898894154818325\n",
            "Factibilidad: 0.008771929824561403\n",
            "Factibilidad: 0.006373937677053824\n",
            "Factibilidad: 0.011857707509881422\n",
            "Factibilidad: 0.005120327700972862\n",
            "Factibilidad: 0.007407407407407408\n",
            "Factibilidad: 0.007936507936507936\n",
            "Factibilidad: 0.00779423226812159\n",
            "Factibilidad: 0.014842300556586271\n",
            "Factibilidad: 0.008403361344537815\n",
            "Factibilidad: 0.01122334455667789\n",
            "Factibilidad: 0.007475083056478406\n",
            "Factibilidad: 0.0084530853761623\n",
            "Factibilidad: 0.005733944954128441\n",
            "Factibilidad: 0.007656967840735069\n",
            "Factibilidad: 0.008064516129032258\n",
            "Factibilidad: 0.012430939226519336\n",
            "Factibilidad: 0.006443298969072165\n",
            "Factibilidad: 0.007326007326007326\n",
            "Factibilidad: 0.007705479452054794\n",
            "Factibilidad: 0.014144271570014143\n",
            "Factibilidad: 0.011933174224343675\n",
            "Factibilidad: 0.0078064012490242\n",
            "Factibilidad: 0.00630119722747322\n",
            "Factibilidad: 0.010385756676557863\n",
            "Factibilidad: 0.006349206349206349\n",
            "Factibilidad: 0.005159958720330237\n",
            "Factibilidad: 0.011235955056179775\n",
            "Factibilidad: 0.009578544061302681\n",
            "Factibilidad: 0.008051529790660225\n",
            "Factibilidad: 0.009836065573770493\n",
            "Factibilidad: 0.010845986984815618\n",
            "Factibilidad: 0.0050568900126422255\n",
            "Factibilidad: 0.008982035928143712\n",
            "Factibilidad: 0.0048828125\n",
            "Factibilidad: 0.008278145695364239\n",
            "Factibilidad: 0.00628140703517588\n",
            "Factibilidad: 0.007293946024799417\n",
            "Factibilidad: 0.007598784194528876\n",
            "Factibilidad: 0.007598784194528876\n",
            "Factibilidad: 0.006971340046475601\n",
            "Factibilidad: 0.006906077348066298\n",
            "Factibilidad: 0.007980845969672785\n",
            "Factibilidad: 0.005078720162519045\n",
            "Factibilidad: 0.015410958904109588\n",
            "Factibilidad: 0.010905125408942203\n",
            "Factibilidad: 0.005443658138268917\n",
            "Factibilidad: 0.0068212824010914054\n",
            "Factibilidad: 0.014144271570014143\n",
            "Factibilidad: 0.011111111111111112\n",
            "Factibilidad: 0.01256281407035176\n",
            "Factibilidad: 0.005219206680584551\n",
            "Factibilidad: 0.011210762331838564\n",
            "Factibilidad: 0.005537098560354375\n",
            "Factibilidad: 0.01019108280254777\n",
            "Factibilidad: 0.007258064516129033\n",
            "Factibilidad: 0.006596306068601583\n",
            "Factibilidad: 0.00937207122774133\n",
            "Factibilidad: 0.0069767441860465115\n",
            "Factibilidad: 0.004872766648619383\n",
            "Factibilidad: 0.01182033096926714\n",
            "Factibilidad: 0.007532956685499058\n",
            "Factibilidad: 0.012062726176115802\n",
            "Factibilidad: 0.012547051442910916\n",
            "Factibilidad: 0.012674271229404309\n",
            "Factibilidad: 0.00600400266844563\n",
            "Factibilidad: 0.00929368029739777\n",
            "Factibilidad: 0.0047984644913627635\n",
            "Factibilidad: 0.008718395815170008\n",
            "Factibilidad: 0.006194081211286993\n",
            "Factibilidad: 0.006747638326585695\n",
            "Factibilidad: 0.011299435028248588\n",
            "Factibilidad: 0.0072306579898770785\n",
            "Factibilidad: 0.022675736961451247\n",
            "Factibilidad: 0.007246376811594203\n",
            "Factibilidad: 0.009922822491730982\n",
            "Factibilidad: 0.01141552511415525\n",
            "Factibilidad: 0.008532423208191127\n",
            "Factibilidad: 0.0076511094108645756\n",
            "Factibilidad: 0.007204610951008645\n",
            "Factibilidad: 0.0074850299401197605\n",
            "Factibilidad: 0.009345794392523364\n",
            "Factibilidad: 0.012953367875647668\n",
            "Factibilidad: 0.0057361376673040155\n",
            "Factibilidad: 0.011920529801324504\n",
            "Factibilidad: 0.00589622641509434\n",
            "Factibilidad: 0.007564296520423601\n",
            "Factibilidad: 0.005002779321845469\n",
            "Factibilidad: 0.007097232079488999\n",
            "Factibilidad: 0.008488964346349746\n",
            "Factibilidad: 0.009074410163339383\n",
            "Factibilidad: 0.007269789983844911\n",
            "Factibilidad: 0.006402048655569782\n",
            "Factibilidad: 0.009708737864077669\n",
            "Factibilidad: 0.0048\n",
            "Factibilidad: 0.0022497187851518562\n",
            "Factibilidad: 0.011292346298619825\n",
            "Factibilidad: 0.010101010101010102\n",
            "Factibilidad: 0.0052173913043478265\n",
            "Factibilidad: 0.011494252873563218\n",
            "Factibilidad: 0.009025270758122744\n",
            "Factibilidad: 0.0076045627376425855\n",
            "Factibilidad: 0.012468827930174564\n",
            "Factibilidad: 0.009045226130653266\n",
            "Factibilidad: 0.009036144578313253\n",
            "Factibilidad: 0.007880220646178092\n",
            "Factibilidad: 0.0071146245059288534\n",
            "Factibilidad: 0.0062932662051604785\n",
            "Factibilidad: 0.010964912280701754\n",
            "Factibilidad: 0.009794319294809012\n",
            "Factibilidad: 0.008620689655172414\n",
            "Factibilidad: 0.005230125523012552\n",
            "Factibilidad: 0.00796812749003984\n",
            "Factibilidad: 0.004576659038901602\n",
            "Factibilidad: 0.013043478260869565\n",
            "Factibilidad: 0.007155635062611807\n",
            "Factibilidad: 0.005379557680812911\n",
            "Factibilidad: 0.007122507122507123\n"
          ]
        }
      ]
    },
    {
      "cell_type": "code",
      "source": [
        "len(resultados_completos)"
      ],
      "metadata": {
        "colab": {
          "base_uri": "https://localhost:8080/"
        },
        "id": "-ObtgM2icpw4",
        "outputId": "89e6fa85-5539-409c-d803-c546c74fb449"
      },
      "execution_count": 30,
      "outputs": [
        {
          "output_type": "stream",
          "name": "stderr",
          "text": [
            "/usr/local/lib/python3.10/dist-packages/ipykernel/ipkernel.py:283: DeprecationWarning: `should_run_async` will not call `transform_cell` automatically in the future. Please pass the result to `transformed_cell` argument and any exception that happen during thetransform in `preprocessing_exc_tuple` in IPython 7.17 and above.\n",
            "  and should_run_async(code)\n"
          ]
        },
        {
          "output_type": "execute_result",
          "data": {
            "text/plain": [
              "348"
            ]
          },
          "metadata": {},
          "execution_count": 30
        }
      ]
    },
    {
      "cell_type": "code",
      "source": [
        "max_valor = max(resultados_completos)\n",
        "min_valor = min(resultados_completos)\n",
        "promedio = sum(resultados_completos) / len(resultados_completos)\n",
        "\n",
        "# Mostrar\n",
        "print(f\"Promedio: {promedio}\")\n",
        "print(f\"Valor máximo: {max_valor}\")\n",
        "print(f\"Valor mínimo: {min_valor}\")"
      ],
      "metadata": {
        "colab": {
          "base_uri": "https://localhost:8080/"
        },
        "id": "j6kEiVH_c7Gt",
        "outputId": "d125d957-2690-4bcf-8dd7-17e948b6a768"
      },
      "execution_count": 31,
      "outputs": [
        {
          "output_type": "stream",
          "name": "stdout",
          "text": [
            "Promedio: 0.008601549971686275\n",
            "Valor máximo: 0.028070175438596492\n",
            "Valor mínimo: 0.0022497187851518562\n"
          ]
        },
        {
          "output_type": "stream",
          "name": "stderr",
          "text": [
            "/usr/local/lib/python3.10/dist-packages/ipykernel/ipkernel.py:283: DeprecationWarning: `should_run_async` will not call `transform_cell` automatically in the future. Please pass the result to `transformed_cell` argument and any exception that happen during thetransform in `preprocessing_exc_tuple` in IPython 7.17 and above.\n",
            "  and should_run_async(code)\n"
          ]
        }
      ]
    },
    {
      "cell_type": "code",
      "source": [
        "# Calcular el promedio de los niveles de factibilidad\n",
        "promedio = sum(resultados_completos) / len(resultados_completos)\n",
        "umbral = promedio * 0.7  # Ajustar el umbral\n",
        "\n",
        "# Clasificar los convenios\n",
        "convenios_factibles = []\n",
        "convenios_no_factibles = []\n",
        "\n",
        "for resultado in resultados:\n",
        "    if resultado['Factibilidad'] >= umbral:\n",
        "        convenios_factibles.append(resultado)\n",
        "    else:\n",
        "        convenios_no_factibles.append(resultado)"
      ],
      "metadata": {
        "id": "XODEOGA1bSb8",
        "colab": {
          "base_uri": "https://localhost:8080/"
        },
        "outputId": "88ddbb10-e8e7-4ce8-cfdf-85baf0dafd78"
      },
      "execution_count": 32,
      "outputs": [
        {
          "output_type": "stream",
          "name": "stderr",
          "text": [
            "/usr/local/lib/python3.10/dist-packages/ipykernel/ipkernel.py:283: DeprecationWarning: `should_run_async` will not call `transform_cell` automatically in the future. Please pass the result to `transformed_cell` argument and any exception that happen during thetransform in `preprocessing_exc_tuple` in IPython 7.17 and above.\n",
            "  and should_run_async(code)\n"
          ]
        }
      ]
    },
    {
      "cell_type": "code",
      "source": [
        "umbral"
      ],
      "metadata": {
        "colab": {
          "base_uri": "https://localhost:8080/"
        },
        "id": "jyzZNJiki1D9",
        "outputId": "f6bf40c1-6941-4c09-9039-df0c1b334287"
      },
      "execution_count": 33,
      "outputs": [
        {
          "output_type": "stream",
          "name": "stderr",
          "text": [
            "/usr/local/lib/python3.10/dist-packages/ipykernel/ipkernel.py:283: DeprecationWarning: `should_run_async` will not call `transform_cell` automatically in the future. Please pass the result to `transformed_cell` argument and any exception that happen during thetransform in `preprocessing_exc_tuple` in IPython 7.17 and above.\n",
            "  and should_run_async(code)\n"
          ]
        },
        {
          "output_type": "execute_result",
          "data": {
            "text/plain": [
              "0.006021084980180392"
            ]
          },
          "metadata": {},
          "execution_count": 33
        }
      ]
    },
    {
      "cell_type": "code",
      "source": [
        "print(\"Convenios factibles: \",len(convenios_factibles), \"Convenios no factibles: \",len(convenios_no_factibles))"
      ],
      "metadata": {
        "colab": {
          "base_uri": "https://localhost:8080/"
        },
        "id": "1tpiuR8Hdw7p",
        "outputId": "afaa2ae6-3de8-4cac-9b49-3b4a6c98a67c"
      },
      "execution_count": 34,
      "outputs": [
        {
          "output_type": "stream",
          "name": "stdout",
          "text": [
            "Convenios factibles:  285 Convenios no factibles:  63\n"
          ]
        },
        {
          "output_type": "stream",
          "name": "stderr",
          "text": [
            "/usr/local/lib/python3.10/dist-packages/ipykernel/ipkernel.py:283: DeprecationWarning: `should_run_async` will not call `transform_cell` automatically in the future. Please pass the result to `transformed_cell` argument and any exception that happen during thetransform in `preprocessing_exc_tuple` in IPython 7.17 and above.\n",
            "  and should_run_async(code)\n"
          ]
        }
      ]
    },
    {
      "cell_type": "code",
      "source": [
        "convenios_etiquetados = list(zip(convenios_textos, resultados_completos))\n",
        "\n",
        "for convenio, factibilidad in convenios_etiquetados:\n",
        "    print(f\"Convenio: {convenio}, Factibilidad: {factibilidad}\")"
      ],
      "metadata": {
        "colab": {
          "base_uri": "https://localhost:8080/"
        },
        "id": "wejFnpwhk7mb",
        "outputId": "9f106dfd-f611-4da2-8317-8c65e3ee5289"
      },
      "execution_count": 35,
      "outputs": [
        {
          "output_type": "stream",
          "name": "stderr",
          "text": [
            "IOPub data rate exceeded.\n",
            "The notebook server will temporarily stop sending output\n",
            "to the client in order to avoid crashing it.\n",
            "To change this limit, set the config variable\n",
            "`--NotebookApp.iopub_data_rate_limit`.\n",
            "\n",
            "Current values:\n",
            "NotebookApp.iopub_data_rate_limit=1000000.0 (bytes/sec)\n",
            "NotebookApp.rate_limit_window=3.0 (secs)\n",
            "\n",
            "/usr/local/lib/python3.10/dist-packages/ipykernel/ipkernel.py:283: DeprecationWarning: `should_run_async` will not call `transform_cell` automatically in the future. Please pass the result to `transformed_cell` argument and any exception that happen during thetransform in `preprocessing_exc_tuple` in IPython 7.17 and above.\n",
            "  and should_run_async(code)\n"
          ]
        }
      ]
    },
    {
      "cell_type": "code",
      "source": [
        "convenios_etiquetados[40]"
      ],
      "metadata": {
        "id": "5LOO3BwdlLoJ",
        "colab": {
          "base_uri": "https://localhost:8080/"
        },
        "outputId": "14d39b8d-6015-4394-9628-09d39809f94c"
      },
      "execution_count": 36,
      "outputs": [
        {
          "output_type": "stream",
          "name": "stderr",
          "text": [
            "/usr/local/lib/python3.10/dist-packages/ipykernel/ipkernel.py:283: DeprecationWarning: `should_run_async` will not call `transform_cell` automatically in the future. Please pass the result to `transformed_cell` argument and any exception that happen during thetransform in `preprocessing_exc_tuple` in IPython 7.17 and above.\n",
            "  and should_run_async(code)\n"
          ]
        },
        {
          "output_type": "execute_result",
          "data": {
            "text/plain": [
              "('CONVENIO DE COOPERACION INTERINSTITUCIONAL ENTRE LA UNIVERSIDAD NACIONAL\\nDEL ALTIPLANO - UNA PUNO Y LA MUNICIPALIDAD PROVINCIAL DE PUNO,\\nDEPARTAMENTO DE PUNO\\n\\n20 BBS Conste por el presente documento, el Convenio de Cooperacion Interinstitucional que celebran de una parte\\n- eh la UNIVERSIDAD NACIONAL DEL ALTIPLANO, con RUC N° 20145496170, con domicilio legal en la Av. El\\n\\nstua N°. 438 del Distrito, Provincia y Departamento de Puno, debidamente representada por su Alcalde Lic.\\n_Avan Joel Flores Quispe, identificado con DNI N° 09308537, elegido por sufragio directo y proclamado con\\npeep del Jurado Nacional de Elecciones como Alcalde de la Provincia de Puno del departamento de Puno,\\n7 el periodo 2015-2018 a quien en adelante se le denominara “LA MUNICIPALIDAD”; bajo los terminos y\\nNIC Nxiiiones siguientes:\\n\\nSie 9 CLAUSULA PRIMERA: DE LAS PARTES QUE SUSCRIBEN\\n\\n1.1 La UNA PUNO, fue creada mediante Ley N° 406, el 29 de agosto de 1956, como una institucion de\\neducacion superior, integrada por docentes, estudiantes y graduados. Tiene como mision desarrollar\\nconocimiento cientifico, tecnolégico y humanistico para formar profesionales y post graduados\\ncalificados, de excelencia academica, capacidad competitiva y de gestion para proponer, elaborar y\\nejecutar alternativas integrales para el desarrollo regional y nacional; de igual manera, la Universidad\\nNacional del Altiplano es persona juridica de derecho publico interno, tiene sede en la ciudad de Puno\\ny la personeria y representacion legal es ejercida por su Rector.\\n\\nLA MUNICIPALIDAD es un Organo de Gobierno promotor del desarrollo local, con personeria juridica\\nde derecho publico y como tal posee autonomia politica, econdmica y administrativa, en los asuntos\\nde sus competencia, cuya finalidad es representar al vecindario, promover la adecuada prestacion de\\nlos servicios publicos locales y de desarrollo integral sostenible y armonico de su circunscripcion, de\\nconformidad con el Articulo 194° de la Constitucion Politica del Estado, cuyas competencias y\\nfunciones estan contenidas en la Ley N° 27972 — Ley Organica de Municipalidades y sus\\nmodificatorias.\\n\\nCLAUSULA SEGUNDA: MARCO LEGAL\\n\\nConstitucion Politica del Perl de 1993 y sus modificatorias.\\n\\nLey N° 29158, Ley Organica del Poder Ejecutivo.\\n\\nLey N° 27444. Ley del Procedimiento Aministrativo Legal y sus modificatorias.\\nLey N° 30220. Ley Universitaria.\\n\\nLey N° 406. Ley que crea a la Universidad Nacional del Altiplano.\\n\\nLey N° 27972, Ley Organica de Municipalidades.\\n\\nB™,, Las partes acuerdan que el listado precedente, es de caracter anunciativo mas no limitativo y sera de aplicacion\\n}>gegun la especilaidad de la metrria y/o actividad a desarrollarse.\\n\\n\\nLas partes estan comprometidas con el desarrollo de la region Puno, especialmente referido al sector\\npecuario a desarrollarse en la provincia de Puno en temas de recursos de ganaderia camelida,\\nfortaleciendo las capacidades de las organizaciones productoras de llamas; generando una cultura de\\nseguridad alimentaria y de mejores ingresos economicos en las organizaciones productoras de alpacas\\ny llamas de la provincia de Puno.\\n\\nLas partes tienen objetivos comunes para la implementacion de propuestas y proyectos orientados al\\n_~ desarrollo de la actividad pecuaria en los distritos de la provincia de Puno que cuenten con recursos\\nadecuados para la produccién camélida, sobre todo en aquellas poblaciones que se encuentren en\\n“285 yi zonas limitrofes interdepartamentales, por lo que es necesario realizar sinergias y coordinaciones entre\\n\\\\ ambas instituciones para fortalecer y desarrollar actividades tendientes a mejorar la explotacion de\\n\\n2} alpacas y llamas existente en las zonas de intervencion.\\nee\\n\\n* Fw © CLAUSULA CUARTA: DE LOS OBJETIVOS DEL CONVENIO\\n\\nEl presente Convenio de Cooperacion Interinstitucional tiene como objetivo establecer una alianza estrategica\\nentre LA UNA PUNO, a través de la Facultad de Medicina Veterinaria y Zootecnia y LA MUNICIPALIDAD,\\npara articular y complementar esfuerzos interinstitucionales con la finalidad de impulsar, desarrollar y fortalecer\\nactividades de mejoramiento genetico de llamas en los distritos altoandinos de la provincia de Puno, iniciandose\\na materializacion de este convenio en las comunidades de: Charamaya, Qquemilluni, Copani del Rosario,\\noGhaupiayllu, Tolapalca y Andamarca del Centro Poblado de Charamaya del distrito de Manazo de la provincia\\n=de Puno, cuyas organizaciones de productores de camélidos cuenten con la predisposicion necesaria, los\\n\\nLos Objetivos son los siguientes:\\n\\n4.1 Apoyar y promover la investigacion, ejecucion y desarrollo de planes de trabajo, acciones y proyectos\\n\\nfe de fortalecimiento de capacidades y productivas de alpacas y llamas, orientadas a mejorar los niveles\\njo ¥ socioecondmicos de las comunidades campesinas componentes del Centro Poblado Charamaya del\\ne 7 distrito de Mafiazo de la provincia de Puno.\\n\\\\F\\nNE 42 Iniciar con actividades para un Mejoramiento genetico basico primario en llamas en las comunidades\\n\\nde Charamaya, Qquemilluni, Copani del Rosario, Chaupiayllu y Andamarca del Centro Poblado de\\nCharamaya del distrito de Mafazo de la provincia de Puno.\\n\\n43 Sistematizar experiencias locales sobre los procesos productivos y otros necesario para investigar y/o\\nmejorar los procesos productivos de llamas.\\n\\nCLAUSULA QUINTA: COMPROMISO DE LAS PARTES\\nLA UNA PUNO se obliga a:\\nRealizar a través de la Facultad de Medicina Veterinaria y Zootecnia, conjuntamente con\\n\\nrepresentantes del Municipio Provincial de Puno; el diagnostico de las potencialidades de recursos\\nnaturales y de camélidos, identificando las organizaciones con recursos adecuados y con iniciativas\\n\\n~ [)\\nPuno\\n\\n\\npara una mejor produccion de llamas en las comunidades campesinas que componen el Centro\\nPoblado Charamaya del distrito de Mafiazo provincia de Puno.\\n\\nBrindar asistencia tecnica en los procesos que competen a la mejora genética de llamas en las areas\\nde intervencion del presente convenio, el que estara considerado en el Plan de Trabajo y\\ncorrespondiente.\\n\\nFacilitar en calidad de préstamo al Municipio Provincial de Puno, reproductores de llamas cuyo numero,\\ncalidades y razas, estaran de acuerdo al diagnostico de las potencialidades de recursos naturales y de\\ncameélidos, a realizarse en las comunidades campesinas y organizaciones del Centro Poblado\\nCharamaya. Asi mismo el tiempo del prestamo sera de tres meses de enero a marzo del afio 2017.\\n\\n_ AWAD 3 ae - i\\ni —_ a4 Establecer un mecanismo de monitoreo, seguimiento y evaluacion del desarrollo de las actividades a\\naf, “a \\\\e) realizar.\\n=| , i PAL 24)\\n* tA MUNICIPALIDAD se obliga a:\\n\\n5.5 Otorgar facilidades para llevar a cabo las actividades requeridas por la UNA PUNO a través de la\\nFacultad de Medicina Veterinaria y Zootecnia para el cumplimento de los objetivos y metas previstas.\\n\\nResponsabilizarse por el ciudado y la integridad de los reproductores de llamas entregadas a préstamo\\npor LA UNA PUNO, las que se haran entrega documentadamente a las autoridades de las\\ncomunidades del centro poblado Charamaya.\\n\\nPromover investigaciones, cursos y talleres necesarios para fortalecer la produccién camelidos en las\\norganizaciones del centro poblado Charamaya del distrito de Mafiazo provincia de Puno.\\n\\nParticipar activamente en el desarrollo de propuestas para la ampliacion de los servicios concernientes\\nala mejora genética y produccion de camélidos en el area de intervencion.\\n\\na Otras que resulten necesarias para el logro de los objetivos del Convenio.\\n\\nLAUSULA SEXTA: DE LA VIGENCIA\\n\\n~~ El presente Convenio tendra un plazo de duracion de un (01) afo a partir de la fecha de suscripcion, lapso en\\nel que se podra impartir cursos de capacitacion y realizar investigaciones en camelidos, pasturas y otros temas\\nrelacionados que pudiera ser priorizado por las comunidades campesinas involucradas en el presente\\nConvenio.\\n\\n- 13 Se aclara que siendo la epoca de empadre de llamas, los meses de enero, febrero y marzo principalmente; los\\n\\nAb reproductores iniciaran el empadre en los rebafios de llamas de las comunidades del C.P. Charamaya, en el\\nmes de enero del 2017, debiéndose retornar los animales el 30 de marzo del 2017 al Centro de Investigacion\\nLa Raya, Facultad de Medicina Veterinaria y Zootecnia de la Universidad Nacional del Altiplano.\\n\\nLa vigencia de Convenio puede ser renovado previo acuerdo de las partes, via acuerdo, que debe suscribirse\\nentre el Rector de la UNA Puno y el Alcalde la Municipalidad Provincial de Puno.\\n\\n\\nCLAUSULA SEPTIMA: DEL PRESUPUESTO\\n\\nEl siguiente es el presupuesto que invertira el Municipio, con la finalidad que la UNA Puno, formule un Plan de\\nMejoramiento Genetico de llamas, apoye técnicamente en el empadre controlado de llamas y apoyar en\\narantizar la integridad de los reproductores.\\n\\nLe, i Cuadro N° 01\\nJ/ reserves y CRONOGRAMA DE ACTIVIDADES PARA LA REALIZACION DEL PLAN DE TRABAJO\\n\\nPecaey aide) ENERO A MARZO DEL 2017\\n\\nie oN\\n\\nUNIDAD\\nCARGO/SERVICIO DE CANTIDAD\\nMEDIDA\\n\\nSERVICIOS PROFESIONALES Y PROPINAS | | 3,800.00\\n\\nPago por servicios especializados a profesionales de\\n\\nMESES\\nAfio 2017\\n\\nPersona Febrero 2,000\\n\\nVidticos y/o Propinas a Bachilleres, Tesistas y/o\\nPracticantes (S/ 600, por cada mes, labor de 3 meses | Persona Enero - Marzo 1,800\\npor persona)\\n\\n4,850.00\\n\\n| Traslado de 30 reproductores en camidn desde La\\nRaya a Charamaya y viceversa. Enero - Marzo\\n\\nUnidad\\n\\nUnidad\\n\\nSupervisién de actividades ( Combustible para\\n\\ncamioneta - Municipio de Puno) Lnives\\n\\nPRESUPUESTO TOTAL\\n\\n¥. : “Y Las partes podran introducir modificaciones al presente Convenio como resultado de las evaluaciones\\n‘= periddicas que se realicen durante el tiempo de su vigencia.\\n\\nCLAUSULA OCTAVA: DE LA RESOLUCION\\nEl presente Convenio podra ser resuelto antes de su vencimiento previo acuerdo entre las partes.\\nEl incumplimiento de alguno de los compromisos asumidos por el presente Convenio sera causal de\\n\\nresolucion del mismo, para lo cual debera comunicarse con quince (15) dias calendarios de\\nanticipacion, a los domicilios sefialados en el presente Convenio.\\n\\nCLAUSULA NOVENA: REPRESENTANTES O COORDINADORES\\n\\nPara efectos de ejecucion, seguimiento y supervision el presente Convenio, las partes acuerdan designar como\\nsus representantes o coordinadores a las siguientes personas:\\n\\n- PorLA UNA, al Decano de la Facultad de Medicina Veterinaria y Zootecnia de la Universidad Nacional\\ndel Altiplano.\\n\\n\\n- Por la MUNICIPALIDAD, al Subgerente de la Subgerencia de Promocién Empresarial y Desarrollo\\nEconémico Rural de la Municipalidad Provincial de Puno o persona cticial designada por el Alcalde\\nProvincial.\\n\\nypDAu Pp,\\n\\n¥ \\\\ELAUSULA DECIMA: SOLUCION DE CONTROVERSIAS\\nGIA Ve\\n\\nIPAL ; 3 . on ‘\\nas partes acuerdan que el presente Convenio de Cooperacion se rige por las leyes peruanas y se celebra de\\n\\n“acuerdo a las reglas de la buena fe y la comun intencién de las partes. En ese espiritu, las partes celebrantes\\ntrataran en lo posible de resolver cualquier desavenencia o diferencia de criterios que se pudieran presentar\\ndurante el desarrollo y/o ejecucién del convenio, mediante el trato directo y el ccmUn entendimiento.\\n\\n+\\n\\nEn sefial de conformidad con lo expresado en el presente Convenio, lo suscriben las partes, en tres (03)\\nejemplares de identico valor, firmandose en la ciudad de Puno, a los 31 dias dei mes de enero del afio 2017.\\n\\nLic. Ivan Joel F\\n| ALCALBE\\nGENRIQUEZ SALAS Lic. IVAN JOEL FLORES QUISPE\\nox i, £D ECTOR ALCALDE\\nVERS{DAD NACIONAL DEL ALTIPLANO PUNO MUNICIPALIDAD PROVINCIAL DE PUNO\\n\\nCualquier asunto no previsto expresamente en el presente Convenio, buscara ser resuelto mediante el\\n| entendimiento de las partes.\\n\\npe. . an ae mi ffey f CW\\n\\n“Ab sre orsteletd Ov ueroual ded ¢ THO - ‘Dna sea\\n.. ; alk? ae, O477-2017-R-UNA\\n\\ni (eo ‘YQ fe wer f CV or\\n\\nat better etre COA betetfeceigg de to! Sf S8enemmeaaruwummauntuum\\n\\nPuno, 13 de febrero del 2017\\nVISTOS:\\n\\nLa propuesta del CONVENIO DE COOPERACION INTERINSTITUCIONAL ENTRE LA FACULTAD DE MEDICINA VETERINARIA Y\\nZOOTECNIA DE LA UNIVERSIDAD NACIONAL DEL ALTIPLANO PUNO -UNA PUNO y LA MUNICIPALIDAD PROVINCIAL DE\\nPUNO;\\n\\nCONSIDERANDO:\\n\\nQue, medianie MEMORANDUM N? 035-2017-SG-UNA se da cuenta del CONVENIO DE COOPERACION INTERINSTITUCIONAL\\nENTRE LA FACULTAD DE MEDICINA VETERINARIA Y ZOOTECNIA DE LA UNIVERSIDAD NACIONAL DEL ALTIPLANO PUNO ~\\nUNA PUNO y LA MUNICIPALIDAD PROVINCIAL DE PUNO, el mismo que en diez {10) clausulas reune los requisilos da forma y de\\nfondo a fin de ser susctito; ef cual liene por objeto: Arlicular y complementar esfuerzos inferinstilucionales con la finalidad de\\nimpulsat, desatrotiar y fortalecer actividades de mejoramiento genético de llamas en los distritos altoandings de la provincia de Puno:\\n\\nQue, es tarea de ia Universidad Nacional del Altiplano — Puno: propiciar, organizar_e@ impfementar la concertacion de convenios para\\nel fogre de los objetivos de bienestar universitario, con ta finalidad de cumplir los fines @ intereses institucionales, procurando una\\nmejor formacién profesional de sus estudiantes:\\n\\nQue, conforme io establece el numeral 59.13 del Ar. 59° de ta Ley N° 30220 ~ Ley Universitaria , la aprobacién de acuerdos y\\nconvenios con universidades extranjeras, organismos gubernamentales, internacionales u olros sobre invesligacion cientifica y\\nfecnoligica, asi como olros asuntos relacionados con las actividades de la universidad, es atribucion del Consejo Universitario;\\nestando autorizado el Rector en su calidad de personero legal de esta Casa Superior de Estudios, a efecluar fa suscripcién del\\nmismo, ello, a tenor de lo dispuesto por el Art. 60° del misme cuerpo legal, concordante con los Art. 111° y 112° del Estatulo\\nUniversitario, respectivamente, por to que, el Consejo Universitario en Sesian Extraordinaria del 20 de enero del 2017, ha aprobaco el\\nCONVENIO DE COOPERACION INTERINSTITUCIONAL ENTRE LA FACULTAD DE MEDICINA VETERINARIA Y ZOOTECNIA DE\\nLA UNIVERSIDAD NACIONAL DEL ALTIPLANO PUNO —UNA PUNO y LA MUNICIPALIDAD PROVINCIAL DE PUNO: cuya vigencia\\nes de un (01) afio, a partir de la suscripcién del mismo;\\n\\nEn uso de las atribuciones gue el Eslatuto Universitario, la Ley N° 30220 — Ley Universitaria, la Resolucién de Asamblea\\nUniversitaria Transitoria N° 002-2015-AUT-UNA-P, y la Resolucion Rectoral N°1376-2015-R-UNA confieren al Despacho Rectorai de\\nesta Universidad:\\n\\nSE RESUELVE:\\n\\nArticulo Primero.- APROBAR, cl CONVENIC DE COOPERACION INTERINSTITUCIONAL ENTRE LA\\nFACULTAD DE MEDICINA VETERINARIA Y ZOOTECNIA DE LA UNIVERSIDAD NACIONAL DEL .\\nALTIPLANO PUNO —UNA PUNO y LA MUNICIPALIDAD PROVINCIAL DE PUNO, el mismo que en diez {10}\\nclausulas forma parte de ia presente Resolucion; cuya vigencia es de un (041) afio, a parlir de ta suscripcion del mismo.\\n\\nArticuio Sequnda.- NOMINAR, como Responsable del Convenio especificade en el Articulo Primero, al Decano de la\\nFacultad de Medicina Veterinaria y Zoolecnia de ta Universidad Nacional del Alliplano-Pung,\\n\\nArticulo Tercero.- El Vicerrectorado Académico, la Oficina Universitaria de Proyeccién Social, la Oficina General de Asesoria\\nJuridica, la Oficina de Cooperaci6n Nacional e internacional, el Respensable designado; y, demas dependencias pertinentes de la\\ninstiuci6n, quedan encargados de! cumplimiento da la presente\\n\\nADE\\nee 2\\n\\naon “aN LD\\nA\\n\\nFax /\\n[Sere é o f/f) LO\\nie AD ee VE! :\\n\\nig; A ven ss CA NUNEZ a\\n~~\" SECRETARIO GENERAL yo\\nDISTRIBUSION \\' ;\\n\\n* Recktrado :\\n*Vicarectorados. Academ, .\\n*Cheinas Grates OC), GAS, OGPD &\\n“Ols Cooperation Nacie intginaconal., Ofe Universdarta de Proyeccion Socal\\n* Responsabla FMV2 |\\n\\n* Archivev201?\\n\\nfly\\n\\n',\n",
              " 0.009328358208955223)"
            ]
          },
          "metadata": {},
          "execution_count": 36
        }
      ]
    },
    {
      "cell_type": "code",
      "source": [
        "convenios_etiquetados[40][1]"
      ],
      "metadata": {
        "colab": {
          "base_uri": "https://localhost:8080/"
        },
        "id": "nAtxMFKJtoJa",
        "outputId": "4782dce5-7af6-4c74-a612-83a372fd20dc"
      },
      "execution_count": 37,
      "outputs": [
        {
          "output_type": "stream",
          "name": "stderr",
          "text": [
            "/usr/local/lib/python3.10/dist-packages/ipykernel/ipkernel.py:283: DeprecationWarning: `should_run_async` will not call `transform_cell` automatically in the future. Please pass the result to `transformed_cell` argument and any exception that happen during thetransform in `preprocessing_exc_tuple` in IPython 7.17 and above.\n",
            "  and should_run_async(code)\n"
          ]
        },
        {
          "output_type": "execute_result",
          "data": {
            "text/plain": [
              "0.009328358208955223"
            ]
          },
          "metadata": {},
          "execution_count": 37
        }
      ]
    },
    {
      "cell_type": "code",
      "source": [
        "for i in range(len(convenios_etiquetados)):\n",
        "    if convenios_etiquetados[i][1] >= umbral:\n",
        "        print(i,\"Factible\",convenios_etiquetados[i][1])\n",
        "    else:\n",
        "        print(i,\"No factible\",convenios_etiquetados[i][1])"
      ],
      "metadata": {
        "id": "yUSINgLOquNv",
        "colab": {
          "base_uri": "https://localhost:8080/"
        },
        "outputId": "29af9ccc-e92c-49a5-bbb8-986d14db8b3c"
      },
      "execution_count": 38,
      "outputs": [
        {
          "output_type": "stream",
          "name": "stdout",
          "text": [
            "0 Factible 0.008103727714748784\n",
            "1 Factible 0.0144\n",
            "2 Factible 0.0063335679099225895\n",
            "3 Factible 0.008695652173913044\n",
            "4 Factible 0.00922509225092251\n",
            "5 Factible 0.011363636363636364\n",
            "6 Factible 0.02\n",
            "7 Factible 0.007897334649555774\n",
            "8 Factible 0.008100810081008101\n",
            "9 Factible 0.007633587786259542\n",
            "10 Factible 0.007960199004975124\n",
            "11 Factible 0.010856453558504222\n",
            "12 Factible 0.0074503311258278145\n",
            "13 Factible 0.007171314741035857\n",
            "14 Factible 0.01584507042253521\n",
            "15 Factible 0.0076103500761035\n",
            "16 Factible 0.008216926869350863\n",
            "17 Factible 0.011984021304926764\n",
            "18 Factible 0.006770480704129994\n",
            "19 Factible 0.006765899864682003\n",
            "20 Factible 0.010940919037199124\n",
            "21 No factible 0.004780114722753346\n",
            "22 No factible 0.0037174721189591076\n",
            "23 Factible 0.009433962264150943\n",
            "24 No factible 0.005402485143165856\n",
            "25 No factible 0.005243838489774515\n",
            "26 Factible 0.009900990099009901\n",
            "27 No factible 0.005733944954128441\n",
            "28 Factible 0.0149812734082397\n",
            "29 Factible 0.00801924619085806\n",
            "30 Factible 0.006189821182943604\n",
            "31 Factible 0.007390983000739098\n",
            "32 Factible 0.00831792975970425\n",
            "33 Factible 0.008936550491510277\n",
            "34 Factible 0.011688311688311689\n",
            "35 No factible 0.005737234652897304\n",
            "36 Factible 0.00946073793755913\n",
            "37 Factible 0.007342143906020558\n",
            "38 No factible 0.0049285362247412515\n",
            "39 Factible 0.012924071082390954\n",
            "40 Factible 0.009328358208955223\n",
            "41 Factible 0.008169934640522876\n",
            "42 No factible 0.00563063063063063\n",
            "43 Factible 0.010080645161290322\n",
            "44 Factible 0.008517887563884156\n",
            "45 Factible 0.007182761372705506\n",
            "46 No factible 0.005252100840336135\n",
            "47 Factible 0.008746355685131196\n",
            "48 Factible 0.01021566401816118\n",
            "49 Factible 0.007805724197745013\n",
            "50 Factible 0.0078064012490242\n",
            "51 Factible 0.006830601092896175\n",
            "52 Factible 0.00864304235090752\n",
            "53 Factible 0.009285051067780872\n",
            "54 Factible 0.010688836104513063\n",
            "55 Factible 0.00942507068803016\n",
            "56 No factible 0.004629629629629629\n",
            "57 Factible 0.011097410604192354\n",
            "58 Factible 0.008658008658008658\n",
            "59 Factible 0.00881057268722467\n",
            "60 Factible 0.01221001221001221\n",
            "61 No factible 0.005175983436853002\n",
            "62 Factible 0.0073152889539136795\n",
            "63 Factible 0.006662225183211193\n",
            "64 Factible 0.006109979633401222\n",
            "65 Factible 0.00818926296633303\n",
            "66 No factible 0.005754475703324808\n",
            "67 No factible 0.0042158516020236085\n",
            "68 No factible 0.005099439061703213\n",
            "69 Factible 0.008084074373484237\n",
            "70 No factible 0.004384042086804033\n",
            "71 Factible 0.0071174377224199285\n",
            "72 No factible 0.00420954162768943\n",
            "73 Factible 0.010625737898465172\n",
            "74 No factible 0.005583472920156337\n",
            "75 Factible 0.008832188420019628\n",
            "76 Factible 0.007446016381236039\n",
            "77 Factible 0.007846556233653008\n",
            "78 Factible 0.00782472613458529\n",
            "79 Factible 0.013089005235602094\n",
            "80 Factible 0.006510416666666667\n",
            "81 Factible 0.0106951871657754\n",
            "82 Factible 0.011947431302270013\n",
            "83 Factible 0.011826544021024968\n",
            "84 Factible 0.0074850299401197605\n",
            "85 No factible 0.0045351473922902496\n",
            "86 No factible 0.005288207297726071\n",
            "87 Factible 0.010030090270812437\n",
            "88 Factible 0.006194081211286993\n",
            "89 Factible 0.009380863039399626\n",
            "90 Factible 0.00628140703517588\n",
            "91 Factible 0.006738544474393531\n",
            "92 Factible 0.013333333333333334\n",
            "93 Factible 0.0067613252197430695\n",
            "94 Factible 0.01020408163265306\n",
            "95 Factible 0.009813542688910697\n",
            "96 Factible 0.015873015873015872\n",
            "97 Factible 0.006258692628650904\n",
            "98 Factible 0.006459948320413436\n",
            "99 Factible 0.007058823529411765\n",
            "100 No factible 0.003837298541826554\n",
            "101 Factible 0.008382229673093043\n",
            "102 Factible 0.008658008658008658\n",
            "103 Factible 0.009606147934678195\n",
            "104 No factible 0.0039147455415398\n",
            "105 Factible 0.0102880658436214\n",
            "106 Factible 0.01171303074670571\n",
            "107 No factible 0.005027652086475616\n",
            "108 Factible 0.006459948320413436\n",
            "109 No factible 0.004103405826836274\n",
            "110 Factible 0.01335113484646195\n",
            "111 Factible 0.009009009009009009\n",
            "112 No factible 0.005149330587023687\n",
            "113 Factible 0.007451564828614009\n",
            "114 Factible 0.006864988558352402\n",
            "115 Factible 0.006433166547533953\n",
            "116 Factible 0.012706480304955527\n",
            "117 Factible 0.0075\n",
            "118 Factible 0.007633587786259542\n",
            "119 Factible 0.008237232289950576\n",
            "120 Factible 0.009533898305084746\n",
            "121 Factible 0.007358351729212656\n",
            "122 Factible 0.008726003490401396\n",
            "123 Factible 0.010741138560687433\n",
            "124 Factible 0.012465373961218837\n",
            "125 No factible 0.00449842555105713\n",
            "126 Factible 0.008396305625524769\n",
            "127 Factible 0.011061946902654867\n",
            "128 Factible 0.014903129657228018\n",
            "129 Factible 0.006868131868131868\n",
            "130 No factible 0.004812319538017324\n",
            "131 Factible 0.006715916722632639\n",
            "132 Factible 0.013123359580052493\n",
            "133 Factible 0.011264080100125156\n",
            "134 No factible 0.005220417633410673\n",
            "135 Factible 0.028070175438596492\n",
            "136 Factible 0.006357279084551812\n",
            "137 Factible 0.0076103500761035\n",
            "138 Factible 0.009541984732824428\n",
            "139 Factible 0.022172949002217297\n",
            "140 Factible 0.007541478129713424\n",
            "141 Factible 0.012224938875305624\n",
            "142 Factible 0.011123470522803115\n",
            "143 Factible 0.011918951132300357\n",
            "144 Factible 0.012578616352201259\n",
            "145 Factible 0.01935483870967742\n",
            "146 Factible 0.006040268456375839\n",
            "147 Factible 0.007142857142857143\n",
            "148 Factible 0.01443298969072165\n",
            "149 Factible 0.00697350069735007\n",
            "150 Factible 0.010089686098654708\n",
            "151 Factible 0.010121457489878543\n",
            "152 Factible 0.006596306068601583\n",
            "153 Factible 0.01044932079414838\n",
            "154 Factible 0.0068634179821551134\n",
            "155 Factible 0.013245033112582781\n",
            "156 Factible 0.006934812760055479\n",
            "157 Factible 0.006798096532970768\n",
            "158 Factible 0.008\n",
            "159 Factible 0.007639419404125287\n",
            "160 Factible 0.008756567425569177\n",
            "161 No factible 0.005972130059721301\n",
            "162 No factible 0.004214075010535188\n",
            "163 No factible 0.005595970900951315\n",
            "164 Factible 0.007704160246533128\n",
            "165 Factible 0.009033423667570008\n",
            "166 Factible 0.006657789613848202\n",
            "167 Factible 0.008613264427217916\n",
            "168 Factible 0.009624639076034648\n",
            "169 Factible 0.009074410163339383\n",
            "170 Factible 0.008156606851549755\n",
            "171 No factible 0.004025764895330112\n",
            "172 No factible 0.005717552887364208\n",
            "173 Factible 0.012594458438287154\n",
            "174 Factible 0.012422360248447204\n",
            "175 Factible 0.007922535211267605\n",
            "176 No factible 0.005288207297726071\n",
            "177 Factible 0.009643201542912247\n",
            "178 Factible 0.007763975155279503\n",
            "179 Factible 0.008417508417508417\n",
            "180 Factible 0.009708737864077669\n",
            "181 No factible 0.004273504273504274\n",
            "182 Factible 0.008368200836820083\n",
            "183 Factible 0.00949367088607595\n",
            "184 Factible 0.008888888888888889\n",
            "185 No factible 0.004191895668374476\n",
            "186 Factible 0.01141552511415525\n",
            "187 No factible 0.005972130059721301\n",
            "188 Factible 0.010416666666666666\n",
            "189 Factible 0.006373486297004461\n",
            "190 Factible 0.007763975155279503\n",
            "191 Factible 0.006998444790046656\n",
            "192 Factible 0.011325028312570781\n",
            "193 Factible 0.007451564828614009\n",
            "194 Factible 0.010604453870625663\n",
            "195 Factible 0.01845018450184502\n",
            "196 Factible 0.015037593984962405\n",
            "197 No factible 0.005148741418764302\n",
            "198 Factible 0.009813542688910697\n",
            "199 No factible 0.004934210526315789\n",
            "200 Factible 0.006870229007633588\n",
            "201 Factible 0.008865248226950355\n",
            "202 Factible 0.0076045627376425855\n",
            "203 No factible 0.004206983592763988\n",
            "204 Factible 0.010309278350515464\n",
            "205 Factible 0.01256281407035176\n",
            "206 Factible 0.016483516483516484\n",
            "207 Factible 0.008547008547008548\n",
            "208 Factible 0.007052186177715092\n",
            "209 Factible 0.006199628022318661\n",
            "210 Factible 0.010384215991692628\n",
            "211 No factible 0.004524886877828055\n",
            "212 Factible 0.014652014652014652\n",
            "213 Factible 0.012300123001230012\n",
            "214 Factible 0.008012820512820512\n",
            "215 Factible 0.009784735812133072\n",
            "216 Factible 0.007639419404125287\n",
            "217 Factible 0.006530612244897959\n",
            "218 Factible 0.010192525481313703\n",
            "219 No factible 0.005772931366260423\n",
            "220 Factible 0.006734006734006734\n",
            "221 No factible 0.0056457304163726185\n",
            "222 Factible 0.009988901220865706\n",
            "223 Factible 0.00911854103343465\n",
            "224 Factible 0.007103393843725336\n",
            "225 Factible 0.006365372374283896\n",
            "226 Factible 0.0071174377224199285\n",
            "227 Factible 0.008561643835616438\n",
            "228 Factible 0.007601351351351352\n",
            "229 Factible 0.006142506142506142\n",
            "230 Factible 0.007898894154818325\n",
            "231 Factible 0.008771929824561403\n",
            "232 Factible 0.006373937677053824\n",
            "233 Factible 0.011857707509881422\n",
            "234 No factible 0.005120327700972862\n",
            "235 Factible 0.007407407407407408\n",
            "236 Factible 0.007936507936507936\n",
            "237 Factible 0.00779423226812159\n",
            "238 Factible 0.014842300556586271\n",
            "239 Factible 0.008403361344537815\n",
            "240 Factible 0.01122334455667789\n",
            "241 Factible 0.007475083056478406\n",
            "242 Factible 0.0084530853761623\n",
            "243 No factible 0.005733944954128441\n",
            "244 Factible 0.007656967840735069\n",
            "245 Factible 0.008064516129032258\n",
            "246 Factible 0.012430939226519336\n",
            "247 Factible 0.006443298969072165\n",
            "248 Factible 0.007326007326007326\n",
            "249 Factible 0.007705479452054794\n",
            "250 Factible 0.014144271570014143\n",
            "251 Factible 0.011933174224343675\n",
            "252 Factible 0.0078064012490242\n",
            "253 Factible 0.00630119722747322\n",
            "254 Factible 0.010385756676557863\n",
            "255 Factible 0.006349206349206349\n",
            "256 No factible 0.005159958720330237\n",
            "257 Factible 0.011235955056179775\n",
            "258 Factible 0.009578544061302681\n",
            "259 Factible 0.008051529790660225\n",
            "260 Factible 0.009836065573770493\n",
            "261 Factible 0.010845986984815618\n",
            "262 No factible 0.0050568900126422255\n",
            "263 Factible 0.008982035928143712\n",
            "264 No factible 0.0048828125\n",
            "265 Factible 0.008278145695364239\n",
            "266 Factible 0.00628140703517588\n",
            "267 Factible 0.007293946024799417\n",
            "268 Factible 0.007598784194528876\n",
            "269 Factible 0.007598784194528876\n",
            "270 Factible 0.006971340046475601\n",
            "271 Factible 0.006906077348066298\n",
            "272 Factible 0.007980845969672785\n",
            "273 No factible 0.005078720162519045\n",
            "274 Factible 0.015410958904109588\n",
            "275 Factible 0.010905125408942203\n",
            "276 No factible 0.005443658138268917\n",
            "277 Factible 0.0068212824010914054\n",
            "278 Factible 0.014144271570014143\n",
            "279 Factible 0.011111111111111112\n",
            "280 Factible 0.01256281407035176\n",
            "281 No factible 0.005219206680584551\n",
            "282 Factible 0.011210762331838564\n",
            "283 No factible 0.005537098560354375\n",
            "284 Factible 0.01019108280254777\n",
            "285 Factible 0.007258064516129033\n",
            "286 Factible 0.006596306068601583\n",
            "287 Factible 0.00937207122774133\n",
            "288 Factible 0.0069767441860465115\n",
            "289 No factible 0.004872766648619383\n",
            "290 Factible 0.01182033096926714\n",
            "291 Factible 0.007532956685499058\n",
            "292 Factible 0.012062726176115802\n",
            "293 Factible 0.012547051442910916\n",
            "294 Factible 0.012674271229404309\n",
            "295 No factible 0.00600400266844563\n",
            "296 Factible 0.00929368029739777\n",
            "297 No factible 0.0047984644913627635\n",
            "298 Factible 0.008718395815170008\n",
            "299 Factible 0.006194081211286993\n",
            "300 Factible 0.006747638326585695\n",
            "301 Factible 0.011299435028248588\n",
            "302 Factible 0.0072306579898770785\n",
            "303 Factible 0.022675736961451247\n",
            "304 Factible 0.007246376811594203\n",
            "305 Factible 0.009922822491730982\n",
            "306 Factible 0.01141552511415525\n",
            "307 Factible 0.008532423208191127\n",
            "308 Factible 0.0076511094108645756\n",
            "309 Factible 0.007204610951008645\n",
            "310 Factible 0.0074850299401197605\n",
            "311 Factible 0.009345794392523364\n",
            "312 Factible 0.012953367875647668\n",
            "313 No factible 0.0057361376673040155\n",
            "314 Factible 0.011920529801324504\n",
            "315 No factible 0.00589622641509434\n",
            "316 Factible 0.007564296520423601\n",
            "317 No factible 0.005002779321845469\n",
            "318 Factible 0.007097232079488999\n",
            "319 Factible 0.008488964346349746\n",
            "320 Factible 0.009074410163339383\n",
            "321 Factible 0.007269789983844911\n",
            "322 Factible 0.006402048655569782\n",
            "323 Factible 0.009708737864077669\n",
            "324 No factible 0.0048\n",
            "325 No factible 0.0022497187851518562\n",
            "326 Factible 0.011292346298619825\n",
            "327 Factible 0.010101010101010102\n",
            "328 No factible 0.0052173913043478265\n",
            "329 Factible 0.011494252873563218\n",
            "330 Factible 0.009025270758122744\n",
            "331 Factible 0.0076045627376425855\n",
            "332 Factible 0.012468827930174564\n",
            "333 Factible 0.009045226130653266\n",
            "334 Factible 0.009036144578313253\n",
            "335 Factible 0.007880220646178092\n",
            "336 Factible 0.0071146245059288534\n",
            "337 Factible 0.0062932662051604785\n",
            "338 Factible 0.010964912280701754\n",
            "339 Factible 0.009794319294809012\n",
            "340 Factible 0.008620689655172414\n",
            "341 No factible 0.005230125523012552\n",
            "342 Factible 0.00796812749003984\n",
            "343 No factible 0.004576659038901602\n",
            "344 Factible 0.013043478260869565\n",
            "345 Factible 0.007155635062611807\n",
            "346 No factible 0.005379557680812911\n",
            "347 Factible 0.007122507122507123\n"
          ]
        },
        {
          "output_type": "stream",
          "name": "stderr",
          "text": [
            "/usr/local/lib/python3.10/dist-packages/ipykernel/ipkernel.py:283: DeprecationWarning: `should_run_async` will not call `transform_cell` automatically in the future. Please pass the result to `transformed_cell` argument and any exception that happen during thetransform in `preprocessing_exc_tuple` in IPython 7.17 and above.\n",
            "  and should_run_async(code)\n"
          ]
        }
      ]
    },
    {
      "cell_type": "code",
      "source": [
        "mi_lista_actualizada = [(tupla[0], tupla[1], \"Factible\" if tupla[1] >= umbral else \"No Factible\") for tupla in convenios_etiquetados]"
      ],
      "metadata": {
        "colab": {
          "base_uri": "https://localhost:8080/"
        },
        "id": "XgU3D9JQulP-",
        "outputId": "80da0c0a-f6d6-4395-b77d-bcd0a7e1cbd8"
      },
      "execution_count": 39,
      "outputs": [
        {
          "output_type": "stream",
          "name": "stderr",
          "text": [
            "/usr/local/lib/python3.10/dist-packages/ipykernel/ipkernel.py:283: DeprecationWarning: `should_run_async` will not call `transform_cell` automatically in the future. Please pass the result to `transformed_cell` argument and any exception that happen during thetransform in `preprocessing_exc_tuple` in IPython 7.17 and above.\n",
            "  and should_run_async(code)\n"
          ]
        }
      ]
    },
    {
      "cell_type": "code",
      "source": [
        "print(mi_lista_actualizada[40][1])\n",
        "print(mi_lista_actualizada[40][2])"
      ],
      "metadata": {
        "colab": {
          "base_uri": "https://localhost:8080/"
        },
        "id": "2-gHZaxuquLn",
        "outputId": "5b1c9407-eccd-4e6b-c3b4-6e5110000e56"
      },
      "execution_count": 40,
      "outputs": [
        {
          "output_type": "stream",
          "name": "stdout",
          "text": [
            "0.009328358208955223\n",
            "Factible\n"
          ]
        },
        {
          "output_type": "stream",
          "name": "stderr",
          "text": [
            "/usr/local/lib/python3.10/dist-packages/ipykernel/ipkernel.py:283: DeprecationWarning: `should_run_async` will not call `transform_cell` automatically in the future. Please pass the result to `transformed_cell` argument and any exception that happen during thetransform in `preprocessing_exc_tuple` in IPython 7.17 and above.\n",
            "  and should_run_async(code)\n"
          ]
        }
      ]
    },
    {
      "cell_type": "code",
      "source": [
        "import pandas as pd\n",
        "\n",
        "# Crear DataFrame\n",
        "df = pd.DataFrame(mi_lista_actualizada, columns=['Convenio', 'Factibilidad', 'Etiqueta'])\n",
        "\n",
        "# Mostrar DataFrame\n",
        "df.iloc[100:110]"
      ],
      "metadata": {
        "colab": {
          "base_uri": "https://localhost:8080/",
          "height": 418
        },
        "id": "0O-kse5EwFHj",
        "outputId": "9e1d8203-7b38-4900-a37b-ddd2cccfa242"
      },
      "execution_count": 41,
      "outputs": [
        {
          "output_type": "stream",
          "name": "stderr",
          "text": [
            "/usr/local/lib/python3.10/dist-packages/ipykernel/ipkernel.py:283: DeprecationWarning: `should_run_async` will not call `transform_cell` automatically in the future. Please pass the result to `transformed_cell` argument and any exception that happen during thetransform in `preprocessing_exc_tuple` in IPython 7.17 and above.\n",
            "  and should_run_async(code)\n"
          ]
        },
        {
          "output_type": "execute_result",
          "data": {
            "text/plain": [
              "                                              Convenio  Factibilidad  \\\n",
              "100  CONVENIO MARCO DE COOPERACION ACADEMICA, CIENT...      0.003837   \n",
              "101  SPAR\\n\\n~ UNA CONVENIO MARCO DE COOPERACION IN...      0.008382   \n",
              "102  Gro Nive,\\n\\n\\\\n\\n;~S\\n\\nCONVENIO DE COOPERACI...      0.008658   \n",
              "103  . “ ‘ \\\\n\\nG DE TRABAO CON LAS FAMILIAS\\n\\nUni...      0.009606   \n",
              "104  “o> RICAs>\\nJ BON\\n\\n$s\\nAS i) UNIVERSIDAD\\nSA...      0.003915   \n",
              "105  wifi, ‘GARABAYA\\n\\nae SA\\n\\nneers\\n\\n>\\non™\\nS...      0.010288   \n",
              "106  <~ _. Ministerio\\n\\nPERU de Trabajo\\n\\nrd\\n\\nL...      0.011713   \n",
              "107  CONVENIO N° 33 \\ -2018-MINEDU\\n\\nCONVENIO DE C...      0.005028   \n",
              "108  Electro Puno S.A.A.\\n\\nEmpress Regional de Ser...      0.006460   \n",
              "109  vitaeRro >>\\n\\nCONVENIO DE COOPERACION INTERIN...      0.004103   \n",
              "\n",
              "        Etiqueta  \n",
              "100  No Factible  \n",
              "101     Factible  \n",
              "102     Factible  \n",
              "103     Factible  \n",
              "104  No Factible  \n",
              "105     Factible  \n",
              "106     Factible  \n",
              "107  No Factible  \n",
              "108     Factible  \n",
              "109  No Factible  "
            ],
            "text/html": [
              "\n",
              "\n",
              "  <div id=\"df-978cc2d1-4b1f-40f1-be88-89c2047d7b6d\">\n",
              "    <div class=\"colab-df-container\">\n",
              "      <div>\n",
              "<style scoped>\n",
              "    .dataframe tbody tr th:only-of-type {\n",
              "        vertical-align: middle;\n",
              "    }\n",
              "\n",
              "    .dataframe tbody tr th {\n",
              "        vertical-align: top;\n",
              "    }\n",
              "\n",
              "    .dataframe thead th {\n",
              "        text-align: right;\n",
              "    }\n",
              "</style>\n",
              "<table border=\"1\" class=\"dataframe\">\n",
              "  <thead>\n",
              "    <tr style=\"text-align: right;\">\n",
              "      <th></th>\n",
              "      <th>Convenio</th>\n",
              "      <th>Factibilidad</th>\n",
              "      <th>Etiqueta</th>\n",
              "    </tr>\n",
              "  </thead>\n",
              "  <tbody>\n",
              "    <tr>\n",
              "      <th>100</th>\n",
              "      <td>CONVENIO MARCO DE COOPERACION ACADEMICA, CIENT...</td>\n",
              "      <td>0.003837</td>\n",
              "      <td>No Factible</td>\n",
              "    </tr>\n",
              "    <tr>\n",
              "      <th>101</th>\n",
              "      <td>SPAR\\n\\n~ UNA CONVENIO MARCO DE COOPERACION IN...</td>\n",
              "      <td>0.008382</td>\n",
              "      <td>Factible</td>\n",
              "    </tr>\n",
              "    <tr>\n",
              "      <th>102</th>\n",
              "      <td>Gro Nive,\\n\\n\\\\n\\n;~S\\n\\nCONVENIO DE COOPERACI...</td>\n",
              "      <td>0.008658</td>\n",
              "      <td>Factible</td>\n",
              "    </tr>\n",
              "    <tr>\n",
              "      <th>103</th>\n",
              "      <td>. “ ‘ \\\\n\\nG DE TRABAO CON LAS FAMILIAS\\n\\nUni...</td>\n",
              "      <td>0.009606</td>\n",
              "      <td>Factible</td>\n",
              "    </tr>\n",
              "    <tr>\n",
              "      <th>104</th>\n",
              "      <td>“o&gt; RICAs&gt;\\nJ BON\\n\\n$s\\nAS i) UNIVERSIDAD\\nSA...</td>\n",
              "      <td>0.003915</td>\n",
              "      <td>No Factible</td>\n",
              "    </tr>\n",
              "    <tr>\n",
              "      <th>105</th>\n",
              "      <td>wifi, ‘GARABAYA\\n\\nae SA\\n\\nneers\\n\\n&gt;\\non™\\nS...</td>\n",
              "      <td>0.010288</td>\n",
              "      <td>Factible</td>\n",
              "    </tr>\n",
              "    <tr>\n",
              "      <th>106</th>\n",
              "      <td>&lt;~ _. Ministerio\\n\\nPERU de Trabajo\\n\\nrd\\n\\nL...</td>\n",
              "      <td>0.011713</td>\n",
              "      <td>Factible</td>\n",
              "    </tr>\n",
              "    <tr>\n",
              "      <th>107</th>\n",
              "      <td>CONVENIO N° 33 \\ -2018-MINEDU\\n\\nCONVENIO DE C...</td>\n",
              "      <td>0.005028</td>\n",
              "      <td>No Factible</td>\n",
              "    </tr>\n",
              "    <tr>\n",
              "      <th>108</th>\n",
              "      <td>Electro Puno S.A.A.\\n\\nEmpress Regional de Ser...</td>\n",
              "      <td>0.006460</td>\n",
              "      <td>Factible</td>\n",
              "    </tr>\n",
              "    <tr>\n",
              "      <th>109</th>\n",
              "      <td>vitaeRro &gt;&gt;\\n\\nCONVENIO DE COOPERACION INTERIN...</td>\n",
              "      <td>0.004103</td>\n",
              "      <td>No Factible</td>\n",
              "    </tr>\n",
              "  </tbody>\n",
              "</table>\n",
              "</div>\n",
              "      <button class=\"colab-df-convert\" onclick=\"convertToInteractive('df-978cc2d1-4b1f-40f1-be88-89c2047d7b6d')\"\n",
              "              title=\"Convert this dataframe to an interactive table.\"\n",
              "              style=\"display:none;\">\n",
              "\n",
              "  <svg xmlns=\"http://www.w3.org/2000/svg\" height=\"24px\"viewBox=\"0 0 24 24\"\n",
              "       width=\"24px\">\n",
              "    <path d=\"M0 0h24v24H0V0z\" fill=\"none\"/>\n",
              "    <path d=\"M18.56 5.44l.94 2.06.94-2.06 2.06-.94-2.06-.94-.94-2.06-.94 2.06-2.06.94zm-11 1L8.5 8.5l.94-2.06 2.06-.94-2.06-.94L8.5 2.5l-.94 2.06-2.06.94zm10 10l.94 2.06.94-2.06 2.06-.94-2.06-.94-.94-2.06-.94 2.06-2.06.94z\"/><path d=\"M17.41 7.96l-1.37-1.37c-.4-.4-.92-.59-1.43-.59-.52 0-1.04.2-1.43.59L10.3 9.45l-7.72 7.72c-.78.78-.78 2.05 0 2.83L4 21.41c.39.39.9.59 1.41.59.51 0 1.02-.2 1.41-.59l7.78-7.78 2.81-2.81c.8-.78.8-2.07 0-2.86zM5.41 20L4 18.59l7.72-7.72 1.47 1.35L5.41 20z\"/>\n",
              "  </svg>\n",
              "      </button>\n",
              "\n",
              "\n",
              "\n",
              "    <div id=\"df-39a4c808-1bdf-49ef-b01a-0a9daf9a92c0\">\n",
              "      <button class=\"colab-df-quickchart\" onclick=\"quickchart('df-39a4c808-1bdf-49ef-b01a-0a9daf9a92c0')\"\n",
              "              title=\"Suggest charts.\"\n",
              "              style=\"display:none;\">\n",
              "\n",
              "<svg xmlns=\"http://www.w3.org/2000/svg\" height=\"24px\"viewBox=\"0 0 24 24\"\n",
              "     width=\"24px\">\n",
              "    <g>\n",
              "        <path d=\"M19 3H5c-1.1 0-2 .9-2 2v14c0 1.1.9 2 2 2h14c1.1 0 2-.9 2-2V5c0-1.1-.9-2-2-2zM9 17H7v-7h2v7zm4 0h-2V7h2v10zm4 0h-2v-4h2v4z\"/>\n",
              "    </g>\n",
              "</svg>\n",
              "      </button>\n",
              "    </div>\n",
              "\n",
              "<style>\n",
              "  .colab-df-quickchart {\n",
              "    background-color: #E8F0FE;\n",
              "    border: none;\n",
              "    border-radius: 50%;\n",
              "    cursor: pointer;\n",
              "    display: none;\n",
              "    fill: #1967D2;\n",
              "    height: 32px;\n",
              "    padding: 0 0 0 0;\n",
              "    width: 32px;\n",
              "  }\n",
              "\n",
              "  .colab-df-quickchart:hover {\n",
              "    background-color: #E2EBFA;\n",
              "    box-shadow: 0px 1px 2px rgba(60, 64, 67, 0.3), 0px 1px 3px 1px rgba(60, 64, 67, 0.15);\n",
              "    fill: #174EA6;\n",
              "  }\n",
              "\n",
              "  [theme=dark] .colab-df-quickchart {\n",
              "    background-color: #3B4455;\n",
              "    fill: #D2E3FC;\n",
              "  }\n",
              "\n",
              "  [theme=dark] .colab-df-quickchart:hover {\n",
              "    background-color: #434B5C;\n",
              "    box-shadow: 0px 1px 3px 1px rgba(0, 0, 0, 0.15);\n",
              "    filter: drop-shadow(0px 1px 2px rgba(0, 0, 0, 0.3));\n",
              "    fill: #FFFFFF;\n",
              "  }\n",
              "</style>\n",
              "\n",
              "    <script>\n",
              "      async function quickchart(key) {\n",
              "        const containerElement = document.querySelector('#' + key);\n",
              "        const charts = await google.colab.kernel.invokeFunction(\n",
              "            'suggestCharts', [key], {});\n",
              "      }\n",
              "    </script>\n",
              "\n",
              "      <script>\n",
              "\n",
              "function displayQuickchartButton(domScope) {\n",
              "  let quickchartButtonEl =\n",
              "    domScope.querySelector('#df-39a4c808-1bdf-49ef-b01a-0a9daf9a92c0 button.colab-df-quickchart');\n",
              "  quickchartButtonEl.style.display =\n",
              "    google.colab.kernel.accessAllowed ? 'block' : 'none';\n",
              "}\n",
              "\n",
              "        displayQuickchartButton(document);\n",
              "      </script>\n",
              "      <style>\n",
              "    .colab-df-container {\n",
              "      display:flex;\n",
              "      flex-wrap:wrap;\n",
              "      gap: 12px;\n",
              "    }\n",
              "\n",
              "    .colab-df-convert {\n",
              "      background-color: #E8F0FE;\n",
              "      border: none;\n",
              "      border-radius: 50%;\n",
              "      cursor: pointer;\n",
              "      display: none;\n",
              "      fill: #1967D2;\n",
              "      height: 32px;\n",
              "      padding: 0 0 0 0;\n",
              "      width: 32px;\n",
              "    }\n",
              "\n",
              "    .colab-df-convert:hover {\n",
              "      background-color: #E2EBFA;\n",
              "      box-shadow: 0px 1px 2px rgba(60, 64, 67, 0.3), 0px 1px 3px 1px rgba(60, 64, 67, 0.15);\n",
              "      fill: #174EA6;\n",
              "    }\n",
              "\n",
              "    [theme=dark] .colab-df-convert {\n",
              "      background-color: #3B4455;\n",
              "      fill: #D2E3FC;\n",
              "    }\n",
              "\n",
              "    [theme=dark] .colab-df-convert:hover {\n",
              "      background-color: #434B5C;\n",
              "      box-shadow: 0px 1px 3px 1px rgba(0, 0, 0, 0.15);\n",
              "      filter: drop-shadow(0px 1px 2px rgba(0, 0, 0, 0.3));\n",
              "      fill: #FFFFFF;\n",
              "    }\n",
              "  </style>\n",
              "\n",
              "      <script>\n",
              "        const buttonEl =\n",
              "          document.querySelector('#df-978cc2d1-4b1f-40f1-be88-89c2047d7b6d button.colab-df-convert');\n",
              "        buttonEl.style.display =\n",
              "          google.colab.kernel.accessAllowed ? 'block' : 'none';\n",
              "\n",
              "        async function convertToInteractive(key) {\n",
              "          const element = document.querySelector('#df-978cc2d1-4b1f-40f1-be88-89c2047d7b6d');\n",
              "          const dataTable =\n",
              "            await google.colab.kernel.invokeFunction('convertToInteractive',\n",
              "                                                     [key], {});\n",
              "          if (!dataTable) return;\n",
              "\n",
              "          const docLinkHtml = 'Like what you see? Visit the ' +\n",
              "            '<a target=\"_blank\" href=https://colab.research.google.com/notebooks/data_table.ipynb>data table notebook</a>'\n",
              "            + ' to learn more about interactive tables.';\n",
              "          element.innerHTML = '';\n",
              "          dataTable['output_type'] = 'display_data';\n",
              "          await google.colab.output.renderOutput(dataTable, element);\n",
              "          const docLink = document.createElement('div');\n",
              "          docLink.innerHTML = docLinkHtml;\n",
              "          element.appendChild(docLink);\n",
              "        }\n",
              "      </script>\n",
              "    </div>\n",
              "  </div>\n"
            ]
          },
          "metadata": {},
          "execution_count": 41
        }
      ]
    },
    {
      "cell_type": "code",
      "source": [
        "df.to_csv('dataset_convenios.csv', index=False)"
      ],
      "metadata": {
        "colab": {
          "base_uri": "https://localhost:8080/"
        },
        "id": "Jp6qzO7YmyL4",
        "outputId": "79ea7e4f-058f-40f1-ae39-b6352035f31f"
      },
      "execution_count": 42,
      "outputs": [
        {
          "output_type": "stream",
          "name": "stderr",
          "text": [
            "/usr/local/lib/python3.10/dist-packages/ipykernel/ipkernel.py:283: DeprecationWarning: `should_run_async` will not call `transform_cell` automatically in the future. Please pass the result to `transformed_cell` argument and any exception that happen during thetransform in `preprocessing_exc_tuple` in IPython 7.17 and above.\n",
            "  and should_run_async(code)\n"
          ]
        }
      ]
    },
    {
      "cell_type": "code",
      "source": [
        "import pandas as pd\n",
        "\n",
        "# Leer el archivo CSV\n",
        "df2 = pd.read_csv('dataset_convenios.csv')\n",
        "\n",
        "# Verificar el contenido del DataFrame\n",
        "df.iloc[100:110]"
      ],
      "metadata": {
        "colab": {
          "base_uri": "https://localhost:8080/",
          "height": 1000
        },
        "id": "woq0ejEdnM1l",
        "outputId": "c2121cf4-aade-4175-f9dd-5b429bba674d"
      },
      "execution_count": 45,
      "outputs": [
        {
          "output_type": "stream",
          "name": "stderr",
          "text": [
            "/usr/local/lib/python3.10/dist-packages/ipykernel/ipkernel.py:283: DeprecationWarning: `should_run_async` will not call `transform_cell` automatically in the future. Please pass the result to `transformed_cell` argument and any exception that happen during thetransform in `preprocessing_exc_tuple` in IPython 7.17 and above.\n",
            "  and should_run_async(code)\n"
          ]
        },
        {
          "output_type": "execute_result",
          "data": {
            "text/plain": [
              "                                              Convenio  Factibilidad  \\\n",
              "100  CONVENIO MARCO DE COOPERACION ACADEMICA, CIENT...      0.003837   \n",
              "101  SPAR\\n\\n~ UNA CONVENIO MARCO DE COOPERACION IN...      0.008382   \n",
              "102  Gro Nive,\\n\\n\\\\n\\n;~S\\n\\nCONVENIO DE COOPERACI...      0.008658   \n",
              "103  . “ ‘ \\\\n\\nG DE TRABAO CON LAS FAMILIAS\\n\\nUni...      0.009606   \n",
              "104  “o> RICAs>\\nJ BON\\n\\n$s\\nAS i) UNIVERSIDAD\\nSA...      0.003915   \n",
              "105  wifi, ‘GARABAYA\\n\\nae SA\\n\\nneers\\n\\n>\\non™\\nS...      0.010288   \n",
              "106  <~ _. Ministerio\\n\\nPERU de Trabajo\\n\\nrd\\n\\nL...      0.011713   \n",
              "107  CONVENIO N° 33 \\ -2018-MINEDU\\n\\nCONVENIO DE C...      0.005028   \n",
              "108  Electro Puno S.A.A.\\n\\nEmpress Regional de Ser...      0.006460   \n",
              "109  vitaeRro >>\\n\\nCONVENIO DE COOPERACION INTERIN...      0.004103   \n",
              "\n",
              "        Etiqueta  \n",
              "100  No Factible  \n",
              "101     Factible  \n",
              "102     Factible  \n",
              "103     Factible  \n",
              "104  No Factible  \n",
              "105     Factible  \n",
              "106     Factible  \n",
              "107  No Factible  \n",
              "108     Factible  \n",
              "109  No Factible  "
            ],
            "text/html": [
              "\n",
              "\n",
              "  <div id=\"df-907b7a92-0f60-4142-8e7d-8694eac860b6\">\n",
              "    <div class=\"colab-df-container\">\n",
              "      <div>\n",
              "<style scoped>\n",
              "    .dataframe tbody tr th:only-of-type {\n",
              "        vertical-align: middle;\n",
              "    }\n",
              "\n",
              "    .dataframe tbody tr th {\n",
              "        vertical-align: top;\n",
              "    }\n",
              "\n",
              "    .dataframe thead th {\n",
              "        text-align: right;\n",
              "    }\n",
              "</style>\n",
              "<table border=\"1\" class=\"dataframe\">\n",
              "  <thead>\n",
              "    <tr style=\"text-align: right;\">\n",
              "      <th></th>\n",
              "      <th>Convenio</th>\n",
              "      <th>Factibilidad</th>\n",
              "      <th>Etiqueta</th>\n",
              "    </tr>\n",
              "  </thead>\n",
              "  <tbody>\n",
              "    <tr>\n",
              "      <th>100</th>\n",
              "      <td>CONVENIO MARCO DE COOPERACION ACADEMICA, CIENT...</td>\n",
              "      <td>0.003837</td>\n",
              "      <td>No Factible</td>\n",
              "    </tr>\n",
              "    <tr>\n",
              "      <th>101</th>\n",
              "      <td>SPAR\\n\\n~ UNA CONVENIO MARCO DE COOPERACION IN...</td>\n",
              "      <td>0.008382</td>\n",
              "      <td>Factible</td>\n",
              "    </tr>\n",
              "    <tr>\n",
              "      <th>102</th>\n",
              "      <td>Gro Nive,\\n\\n\\\\n\\n;~S\\n\\nCONVENIO DE COOPERACI...</td>\n",
              "      <td>0.008658</td>\n",
              "      <td>Factible</td>\n",
              "    </tr>\n",
              "    <tr>\n",
              "      <th>103</th>\n",
              "      <td>. “ ‘ \\\\n\\nG DE TRABAO CON LAS FAMILIAS\\n\\nUni...</td>\n",
              "      <td>0.009606</td>\n",
              "      <td>Factible</td>\n",
              "    </tr>\n",
              "    <tr>\n",
              "      <th>104</th>\n",
              "      <td>“o&gt; RICAs&gt;\\nJ BON\\n\\n$s\\nAS i) UNIVERSIDAD\\nSA...</td>\n",
              "      <td>0.003915</td>\n",
              "      <td>No Factible</td>\n",
              "    </tr>\n",
              "    <tr>\n",
              "      <th>105</th>\n",
              "      <td>wifi, ‘GARABAYA\\n\\nae SA\\n\\nneers\\n\\n&gt;\\non™\\nS...</td>\n",
              "      <td>0.010288</td>\n",
              "      <td>Factible</td>\n",
              "    </tr>\n",
              "    <tr>\n",
              "      <th>106</th>\n",
              "      <td>&lt;~ _. Ministerio\\n\\nPERU de Trabajo\\n\\nrd\\n\\nL...</td>\n",
              "      <td>0.011713</td>\n",
              "      <td>Factible</td>\n",
              "    </tr>\n",
              "    <tr>\n",
              "      <th>107</th>\n",
              "      <td>CONVENIO N° 33 \\ -2018-MINEDU\\n\\nCONVENIO DE C...</td>\n",
              "      <td>0.005028</td>\n",
              "      <td>No Factible</td>\n",
              "    </tr>\n",
              "    <tr>\n",
              "      <th>108</th>\n",
              "      <td>Electro Puno S.A.A.\\n\\nEmpress Regional de Ser...</td>\n",
              "      <td>0.006460</td>\n",
              "      <td>Factible</td>\n",
              "    </tr>\n",
              "    <tr>\n",
              "      <th>109</th>\n",
              "      <td>vitaeRro &gt;&gt;\\n\\nCONVENIO DE COOPERACION INTERIN...</td>\n",
              "      <td>0.004103</td>\n",
              "      <td>No Factible</td>\n",
              "    </tr>\n",
              "  </tbody>\n",
              "</table>\n",
              "</div>\n",
              "      <button class=\"colab-df-convert\" onclick=\"convertToInteractive('df-907b7a92-0f60-4142-8e7d-8694eac860b6')\"\n",
              "              title=\"Convert this dataframe to an interactive table.\"\n",
              "              style=\"display:none;\">\n",
              "\n",
              "  <svg xmlns=\"http://www.w3.org/2000/svg\" height=\"24px\"viewBox=\"0 0 24 24\"\n",
              "       width=\"24px\">\n",
              "    <path d=\"M0 0h24v24H0V0z\" fill=\"none\"/>\n",
              "    <path d=\"M18.56 5.44l.94 2.06.94-2.06 2.06-.94-2.06-.94-.94-2.06-.94 2.06-2.06.94zm-11 1L8.5 8.5l.94-2.06 2.06-.94-2.06-.94L8.5 2.5l-.94 2.06-2.06.94zm10 10l.94 2.06.94-2.06 2.06-.94-2.06-.94-.94-2.06-.94 2.06-2.06.94z\"/><path d=\"M17.41 7.96l-1.37-1.37c-.4-.4-.92-.59-1.43-.59-.52 0-1.04.2-1.43.59L10.3 9.45l-7.72 7.72c-.78.78-.78 2.05 0 2.83L4 21.41c.39.39.9.59 1.41.59.51 0 1.02-.2 1.41-.59l7.78-7.78 2.81-2.81c.8-.78.8-2.07 0-2.86zM5.41 20L4 18.59l7.72-7.72 1.47 1.35L5.41 20z\"/>\n",
              "  </svg>\n",
              "      </button>\n",
              "\n",
              "\n",
              "\n",
              "    <div id=\"df-760ba1f3-7b15-4bbe-8f1e-2b94cb4b744f\">\n",
              "      <button class=\"colab-df-quickchart\" onclick=\"quickchart('df-760ba1f3-7b15-4bbe-8f1e-2b94cb4b744f')\"\n",
              "              title=\"Suggest charts.\"\n",
              "              style=\"display:none;\">\n",
              "\n",
              "<svg xmlns=\"http://www.w3.org/2000/svg\" height=\"24px\"viewBox=\"0 0 24 24\"\n",
              "     width=\"24px\">\n",
              "    <g>\n",
              "        <path d=\"M19 3H5c-1.1 0-2 .9-2 2v14c0 1.1.9 2 2 2h14c1.1 0 2-.9 2-2V5c0-1.1-.9-2-2-2zM9 17H7v-7h2v7zm4 0h-2V7h2v10zm4 0h-2v-4h2v4z\"/>\n",
              "    </g>\n",
              "</svg>\n",
              "      </button>\n",
              "    </div>\n",
              "\n",
              "<style>\n",
              "  .colab-df-quickchart {\n",
              "    background-color: #E8F0FE;\n",
              "    border: none;\n",
              "    border-radius: 50%;\n",
              "    cursor: pointer;\n",
              "    display: none;\n",
              "    fill: #1967D2;\n",
              "    height: 32px;\n",
              "    padding: 0 0 0 0;\n",
              "    width: 32px;\n",
              "  }\n",
              "\n",
              "  .colab-df-quickchart:hover {\n",
              "    background-color: #E2EBFA;\n",
              "    box-shadow: 0px 1px 2px rgba(60, 64, 67, 0.3), 0px 1px 3px 1px rgba(60, 64, 67, 0.15);\n",
              "    fill: #174EA6;\n",
              "  }\n",
              "\n",
              "  [theme=dark] .colab-df-quickchart {\n",
              "    background-color: #3B4455;\n",
              "    fill: #D2E3FC;\n",
              "  }\n",
              "\n",
              "  [theme=dark] .colab-df-quickchart:hover {\n",
              "    background-color: #434B5C;\n",
              "    box-shadow: 0px 1px 3px 1px rgba(0, 0, 0, 0.15);\n",
              "    filter: drop-shadow(0px 1px 2px rgba(0, 0, 0, 0.3));\n",
              "    fill: #FFFFFF;\n",
              "  }\n",
              "</style>\n",
              "\n",
              "    <script>\n",
              "      async function quickchart(key) {\n",
              "        const containerElement = document.querySelector('#' + key);\n",
              "        const charts = await google.colab.kernel.invokeFunction(\n",
              "            'suggestCharts', [key], {});\n",
              "      }\n",
              "    </script>\n",
              "\n",
              "      <script>\n",
              "\n",
              "function displayQuickchartButton(domScope) {\n",
              "  let quickchartButtonEl =\n",
              "    domScope.querySelector('#df-760ba1f3-7b15-4bbe-8f1e-2b94cb4b744f button.colab-df-quickchart');\n",
              "  quickchartButtonEl.style.display =\n",
              "    google.colab.kernel.accessAllowed ? 'block' : 'none';\n",
              "}\n",
              "\n",
              "        displayQuickchartButton(document);\n",
              "      </script>\n",
              "      <style>\n",
              "    .colab-df-container {\n",
              "      display:flex;\n",
              "      flex-wrap:wrap;\n",
              "      gap: 12px;\n",
              "    }\n",
              "\n",
              "    .colab-df-convert {\n",
              "      background-color: #E8F0FE;\n",
              "      border: none;\n",
              "      border-radius: 50%;\n",
              "      cursor: pointer;\n",
              "      display: none;\n",
              "      fill: #1967D2;\n",
              "      height: 32px;\n",
              "      padding: 0 0 0 0;\n",
              "      width: 32px;\n",
              "    }\n",
              "\n",
              "    .colab-df-convert:hover {\n",
              "      background-color: #E2EBFA;\n",
              "      box-shadow: 0px 1px 2px rgba(60, 64, 67, 0.3), 0px 1px 3px 1px rgba(60, 64, 67, 0.15);\n",
              "      fill: #174EA6;\n",
              "    }\n",
              "\n",
              "    [theme=dark] .colab-df-convert {\n",
              "      background-color: #3B4455;\n",
              "      fill: #D2E3FC;\n",
              "    }\n",
              "\n",
              "    [theme=dark] .colab-df-convert:hover {\n",
              "      background-color: #434B5C;\n",
              "      box-shadow: 0px 1px 3px 1px rgba(0, 0, 0, 0.15);\n",
              "      filter: drop-shadow(0px 1px 2px rgba(0, 0, 0, 0.3));\n",
              "      fill: #FFFFFF;\n",
              "    }\n",
              "  </style>\n",
              "\n",
              "      <script>\n",
              "        const buttonEl =\n",
              "          document.querySelector('#df-907b7a92-0f60-4142-8e7d-8694eac860b6 button.colab-df-convert');\n",
              "        buttonEl.style.display =\n",
              "          google.colab.kernel.accessAllowed ? 'block' : 'none';\n",
              "\n",
              "        async function convertToInteractive(key) {\n",
              "          const element = document.querySelector('#df-907b7a92-0f60-4142-8e7d-8694eac860b6');\n",
              "          const dataTable =\n",
              "            await google.colab.kernel.invokeFunction('convertToInteractive',\n",
              "                                                     [key], {});\n",
              "          if (!dataTable) return;\n",
              "\n",
              "          const docLinkHtml = 'Like what you see? Visit the ' +\n",
              "            '<a target=\"_blank\" href=https://colab.research.google.com/notebooks/data_table.ipynb>data table notebook</a>'\n",
              "            + ' to learn more about interactive tables.';\n",
              "          element.innerHTML = '';\n",
              "          dataTable['output_type'] = 'display_data';\n",
              "          await google.colab.output.renderOutput(dataTable, element);\n",
              "          const docLink = document.createElement('div');\n",
              "          docLink.innerHTML = docLinkHtml;\n",
              "          element.appendChild(docLink);\n",
              "        }\n",
              "      </script>\n",
              "    </div>\n",
              "  </div>\n"
            ]
          },
          "metadata": {},
          "execution_count": 45
        },
        {
          "output_type": "stream",
          "name": "stderr",
          "text": [
            "/usr/local/lib/python3.10/dist-packages/ipykernel/ipkernel.py:283: DeprecationWarning: `should_run_async` will not call `transform_cell` automatically in the future. Please pass the result to `transformed_cell` argument and any exception that happen during thetransform in `preprocessing_exc_tuple` in IPython 7.17 and above.\n",
            "  and should_run_async(code)\n"
          ]
        },
        {
          "output_type": "display_data",
          "data": {
            "text/plain": [
              "<google.colab._quickchart_helpers.SectionTitle at 0x7c5ed81e7700>"
            ],
            "text/html": [
              "<h4 class=\"colab-quickchart-section-title\">Values</h4>\n",
              "<style>\n",
              "  .colab-quickchart-section-title {\n",
              "      clear: both;\n",
              "  }\n",
              "</style>"
            ]
          },
          "metadata": {}
        },
        {
          "output_type": "display_data",
          "data": {
            "text/plain": [
              "import numpy as np\n",
              "from google.colab import autoviz\n",
              "df_2777643592227335457 = autoviz.get_registered_df('df_2777643592227335457')\n",
              "\n",
              "def value_plot(df, y, sort_ascending=False, figsize=(2, 1)):\n",
              "  from matplotlib import pyplot as plt\n",
              "  if sort_ascending:\n",
              "    df = df.sort_values(y).reset_index(drop=True)\n",
              "  _, ax = plt.subplots(figsize=figsize)\n",
              "  df[y].plot(kind='line')\n",
              "  plt.title(y)\n",
              "  ax.spines[['top', 'right',]].set_visible(False)\n",
              "  plt.tight_layout()\n",
              "  return autoviz.MplChart.from_current_mpl_state()\n",
              "\n",
              "chart = value_plot(df_2777643592227335457, *['Factibilidad'], **{})\n",
              "chart"
            ],
            "text/html": [
              "      <div class=\"colab-quickchart-chart-with-code\" id=\"chart-f558b17b-db61-49b5-b39a-962cbd049150\">\n",
              "        <img src=\"data:image/png;base64,iVBORw0KGgoAAAANSUhEUgAAAMQAAABgCAYAAABCK92TAAAAOXRFWHRTb2Z0d2FyZQBNYXRwbG90\n",
              "bGliIHZlcnNpb24zLjcuMSwgaHR0cHM6Ly9tYXRwbG90bGliLm9yZy/bCgiHAAAACXBIWXMAAA9h\n",
              "AAAPYQGoP6dpAAAWIUlEQVR4nO2deVRUR9qHn2broEgDsogiIAi4sLihBDfcZsZEMcbE0TExKiom\n",
              "o0k+40w0M37JJJ5ojPG45DO4Z1OjjpJozOISFdS4RUWNooAgi8giO8ra9f3R2mmUraEBwXrOuUf6\n",
              "3qr3vlXeX9e9Ve99WyGEEEgkEgCMmtoBieRxQgpCItFBCkIi0UEKQiLRQQpCItFBCkIi0UEKQiLR\n",
              "QQpCItFBCkIi0UEKopmxZcsWvLy8tJ+nTJnCSy+9VGX5xMRELCwsuHHjBgCff/45Tk5O2uOzZs1i\n",
              "+vTpVdaPjY1FoVCQkJBQZ583bNiAq6trnes3JlIQBiIoKAgzMzMsLCy026BBg+pt89///neFfZMm\n",
              "TeLatWu1tuHs7ExBQQFubm6VHg8LC2PDhg318rMlIQVhQP75z39SUFCg3SIiIpraJYmeSEE0IJcv\n",
              "X2bYsGHY2dmhUqno168fv/zyS4UyV69eJTg4mHbt2qFSqQgICCApKYlZs2YRGRnJ0qVLtSMOPHrL\n",
              "A1BSUsL06dOxsrLC2dmZpUuXao8lJCSgUCiIjY2t1MeHb7ni4uIYNmwYlpaWdO3alcOHD+vdpp9/\n",
              "/hkfHx8sLCwYOnQoSUlJ+ndeEyEF0cDMnz+fxMRE0tPTGTlyJGPHjiU9PR2AtLQ0Bg4ciLe3N9ev\n",
              "XycrK4vVq1djbm5OWFgYAwcOrDDqVEV4eDj+/v5kZGSwY8cOlixZwpYtW/T2tby8nNGjR+Ps7Exq\n",
              "aioHDhxg/fr1erUpPj6e4OBg5syZQ3Z2NosWLWLNmjV6+9JUSEEYkGXLlmFlZaXdzp8/z4gRIzA3\n",
              "N0epVPLee++hUCg4deoUAF999RXt2rXjww8/xNLSEmNjY/z9/bG1tdXrvL6+voSGhmJqakpAQAAz\n",
              "Zsxg06ZNevt/8uRJrl27xooVK2jdujVOTk4sXLiwQhlvb+9q27R161a8vb2ZOXMmpqamBAYGMnny\n",
              "ZL19aSqkIAzIvHnzyMnJ0W6DBw9mwoQJODs7Y2lpiZWVFXl5eRW+TXVnjOpKp06dHvlcl9uU5ORk\n",
              "rK2tUalUVdpOTEystk3JycmV+tNckIJoQGbMmIFarebMmTPk5eWRnZ2NpaUlD97JcnV1JSYmpsr6\n",
              "Rka1++95eEo0ISHhkeeM2uDk5ER2dja5ublV2q6pTU5OTpX601yQgmhAcnNzsbCwwNramsLCQhYs\n",
              "WFDhWWDy5MkkJyezcOFC8vPzKS8v5+zZs2RmZgLQrl07rl+/XuN5oqKi2LBhA2VlZZw+fZr169cz\n",
              "depUvf3t168fHh4ezJ07l8LCQlJSUli0aJFebZo4cSKXLl3S+nPy5Em+/PJLvX1pKqQgGpBVq1YR\n",
              "FRWFtbU13bp1o0OHDhW+uR0cHIiIiOC3336jU6dOtG3bljlz5lBUVATAW2+9xbVr17C2tsbKyqrK\n",
              "84wdO5aTJ09ia2vLuHHjmDdvXrWLdVVhYmLC3r17iY+Px9HRkeHDhxMSEqJXm9zc3AgPD2fFihVY\n",
              "WVnxzjvv8Oqrr+rtS1OhkO9USyR/IEcIiUQHKQiJRAcpCIlEBykIiUQHKQiJRAcpCIlEBykIiUSH\n",
              "FiWIlStXNrULkmaOSVM7YEhu3rzZ1C60OErK1OyNusXnJxIwMzHiq5C+tDJrUZdNBVpuyyT1Ir+o\n",
              "lG9OJ7HxWDy384q0+3ecSWJK/+YTvaovUhCSCqTlFbHpeDxbTyaSX1wGgF0bJT07WrH/ShrrI+OZ\n",
              "FOCCqXGLutvWIgUhASAmLZ91ETf49kIKpeWa8DZ3u9aEDnJnTM/2CAEDPvqFlJx77LuYynM9OzSx\n",
              "xw2DFMQTjBCCMwnZrD0ax6HodO1+f1drQge5M7SLPUZGCu3+KYGuLNt/nbCjcYzp0R6FQlGZ2WaN\n",
              "3uNeTEwMgYGBeHp64u/vz++//15puY0bN+Lh4YG7uzszZsygtLQU0LwsEhQUhEqlokePHrWuJzEc\n",
              "5WrBT5dTGbvmBOPX/sqh6HQUCvhzdwd2vRrIzlmBDO/mUEEMAC8HuNLazJjo2/kcuZ7RRN43LHoL\n",
              "IjQ0lJkzZ3L9+nXefvttpkyZ8kiZ+Ph4Fi5cSGRkJLGxsaSlpbFu3ToALC0tWbRoEVu3btWrnsQw\n",
              "XLmVx/DlR5n19TkuJOVgZmLExL7OHJo7mLUv96G3i3WVdVWtTJnY1xmAsCNxjeVyo6KXINLT0zl7\n",
              "9qz25ZNx48aRlJT0SIqT//73v9rUKgqFglmzZrFt2zYAbGxsGDBgAK1bt37EfnX1JPVHCMGC8EvE\n",
              "ZxaiMjdlztDOHH97KIuf98HNzqJWNkIGdsLUWMGp+CzOJ2Y3sMeNj16CSEpKwtHRERMTzaOHQqHA\n",
              "2dmZxMTECuUSExNxcXHRfnZ1dX2kTGXoU6+4uJi8vLwKW3l5uT7NeeKIjMkkKimHp0yNODB3EG/9\n",
              "yQu7Nkq9bDiqzBnTQ/NAHXa05Y0SzXbubPHixahUqgrb6dOnm9otvSgpU3MsJpP39vzOm9+cJ+du\n",
              "SYOe79NfNCP53/q6YN/mqTrbmTVYkxZz/5U04jKqzhfVHNFLEB07diQ1NZWyMs38tBCCxMREnJ2d\n",
              "K5RzdnausGqckJDwSJnK0KfeggULyM3NrbD17dtXn+Y0Cbn3SvnuQgqzt56j9wcHeGnjKT4/kcC3\n",
              "F26x/EDNCQXqyskbdzidkIWZsRGhgyvP81pbOtu3YXhXB4SAdUdvGMjDxwO9BGFvb0+vXr34+uuv\n",
              "Adi1axdOTk507ty5Qrlx48axZ88ebt++jRCCsLAwJkyYUKN9feoplUosLS0rbMbGxvo0p9FIyrrL\n",
              "pmPx/G39SXp/cIA3vrnA9xdTyS8uw9bCjJHe7QDYeiqR+MzCBvFh9S+adDfj/Z1wsKz76PCAV4M0\n",
              "ogo/n0Kazkp2c0fvdYi1a9cyZcoUbba5zZs3AzB9+nSCg4MJDg7Gzc2N//znP/Tv3x/QZLEODQ0F\n",
              "4O7du3h6elJcXExubi5OTk68/PLLLF68uNp6zQm1WhCVnMPBq2kcvJLOtbT8Csc97C0Y0c2B4d0c\n",
              "6OFkhZGRgqmbT3P4WgYf/xzNmkm9DerPbzezOR57BxMjBbMGuxvEZm8XG/xdrTmTkM2mY/EseKar\n",
              "Qew2NS0q68bcuXNZvnx5g59HCEFeURmZBcVk5hdzp7BE+3dKThERMRlk5BdryxsbKfB3tWZ4VweG\n",
              "d3XA1fbRGbbo23mMXBmJEBD+WiA9naue/tSXB2L7a5+OfPSCr8HsHrqaRsgXZ7FQmnB8/lBU5qYG\n",
              "s91UyJXqKkjILOTg1TQyC0q4U1CsueALNBf+nYISSsrV1da3UJow2MuOEV0dCPKyw6qVWbXlu7Sz\n",
              "5IVeTuz8LZnFP0SzPTTAICvBl5JzOXwtAyMFvDbEMKPDA4Z42eNhb0FMegFbTt3ktaDONVd6zJGC\n",
              "qISEzEKeWRXJ3ZLqp3HbKE1oa2GGrYUSWwslbS3MsGujpLeLNf06tcXMRL9JvLl/8mRP1C1OJ2Rx\n",
              "8Go6I7o51KcZwB/PDmN6dMCl7aMjU30wMlIQOtideTuj2HQsgWn9O/GU6eP5HFdbpCAeolwtmLcz\n",
              "irsl5Xg6WBDobotdGyW29y/8thZ//G3o/3xHlTnTBnTisyNxfPRTNEO87DCpR1Tp1dQ89l9JQ6GA\n",
              "vw9pmG/vYL/2fLL/Gqm5RYSfT9GuZDdXpCAeYn3kDc7ezMZCacKmKf44Wbdq1PO/GuTON6cTiU0v\n",
              "YOdvyfW6wP7vsGbd4RkfRzrb124lWl/MTIwIGdCJRfuusi7iBuP7dMTYqPkG/TXbhbmGIPp2Hsv3\n",
              "a9YC/ndUt0YXA4DlU6bMGeoBwPID17lbUlYnO7HpBey7lArA7AYaHR4wsa8zKnNT4jML2f/77QY9\n",
              "V0MjBXGfkjI1c7dHUVKuZlgXe17so386eUMxKcCZjjbmZOQXszEyvk421hyORQgY0c2Bro6WBvaw\n",
              "Iq2VJkx+WhNyE3Y0juY8cSkFcZ/Vv8RwJTUP61amLB7n06Sx/koTY/7x5y6A5gLLLCiuoUZFbt4p\n",
              "5LuoWwC8fn+0aWheCXRFaWJEVHIuv9640yjnbAikIIALSTmsuR/OvOg5n3rF+RiKUT6O+DqpKCwp\n",
              "Z9Whqn9UpTI+OxJHuVoQ5GWHj5Oq5goGwNZCyfg+HQEIa8bhHE+8IIpKy5m74wLlakGwX3ue9XVs\n",
              "apcAzZTm/JGaUUKfkI6UnHvsOpcMwJyhjbsuMGOgG0YKiLiewe+3cmuu8BjyxAvio5+iuZFRiH0b\n",
              "Je+P6d7U7lQg0N2WIV52lKkFH/8cXas6YUfiKC0XBLq3pbeLTQN7WBHntq141rc9AGvrMEoIITge\n",
              "m8nkTacJXHyIny6nGtrFGnmiBXEiLpPNxxMA+OgF3xpXk5uC+SO7YqSAHy7d5lwNL+Sk5RWx/azm\n",
              "xxbnNNKzw8OEDtIE/X1/8RZJWXdrVaesXJP7afSnx5i04RQR1zO4lVvErK/P8f7eK5SUVR8VYEie\n",
              "WEHkF5Xyj50XAc204RAv+yb2qHK82rVhXC/NjNeSH6KrncFZF3GDkjI1/q7WBLg17ujwAO8OKgZ6\n",
              "2KIWmjWd6rhXUs6XvyYw5JMjzNl2nsspeTxlasSUQFdCBmhyP206Hs9f1/1KSs69xnC/8ZMMVHfs\n",
              "yJEjmJub06NHD+12717DdMQH318hJeceHW3M+dezj3ek5tw/eaI0MdKGdFRGZkExW05p3iWZPdSj\n",
              "SWfJHkTU7jibxJ1KZsiyCktYcfA6gUsO8b/f/U5S1j1sWpvxP8M9OTF/GO8Fd2fhqG6sn9wHy6dM\n",
              "OJ+Yw7OrIjkcXXnbDUmjJxmoKZGAl5cXFy5c0G7m5uZ1b10VHLySxo6zySgUsOwFPyyUj/eCvaPK\n",
              "XPuNueTHq5RVEli4ITKeolI1fk4qBnno98PvhibQvS0+HVQUlar54kSCdn9S1l3e/e4ygUsOseJg\n",
              "DNl3S+loY84HY7pz/O2hvDHcA5vWf9y2jujmwL7XB+LrpCLnbilTPz/D0p+iK22/oWj0JANNnUgg\n",
              "q7CE+bsvARDSvxP93No22rnrw6wgd6xbmRKXUcjO35IrHMsuLOGrXxMAzbNDU+dLUij+eO/ii19v\n",
              "ciYhiznbzjP448N88etNikrVeHew5NO/9eTwW0G8/LQr5maVx4V1tGnFzllPaxf+1hyJY9KGU6Q3\n",
              "0EtJjZ5koKZEAnFxcfTq1Qt/f3/WrFlTpS91STIghGDht5fJLCims70F8/7sVfvGNzHVhXRsPh5P\n",
              "YUk5XR0tGdb18XgW+ot3O1zbtiL3Xikvhv3K3qhbqAUM9LBl6/R+7J09gFG+7WsVvKg0Meb9Md6s\n",
              "ntiT1mbGnIrP4plVkZyIzTS434/VQ3WvXr1ITk7m3LlzhIeHExYWxo4dOyotW5ckA3svprLvUirG\n",
              "RgqWj/drdqHKLwW44GzTioz8YjbcD+nIKypl8/3bkjlDOzf56PAAYyMFrwa5a/8e06M9+14fwFch\n",
              "/QjsbFsnP0f7tWfPnAF0adeGzIISXtp4ilWHYlCrDRcq0uhJBqo7ZmlpiUqlWVl1cnJi4sSJREZG\n",
              "VuqLvkkG0vKKWPjtZUAT7ObrZKVP0x8LzEyMtKPa2vshHV+eSCC/qAwPewv+0r1dE3tYkfF9OrJl\n",
              "ej+O/iOIlRN60r19/VfN3e0sCH+tP+P7OKEWmtFyyudnKn14rwuNnmSgumOpqamo1ZoHpvz8fL7/\n",
              "/nt69uxZqS/6JBkQQvD2rovk3ivFp4OK2Y28gmtIdEM6Fv8QzcZjmpFi9tDOj6SebGoUCgX9O9sa\n",
              "PGrY3MyYpS/48fELvjxlakTE9QyeXXWMswlZ9bat9y3T2rVrWbt2LZ6enixZsqRCkoE9e/YAVEgW\n",
              "0LlzZ+zs7LTJAqo7tmvXLnx8fPDz8yMgIIARI0YwderUejfymzNJHLmWgZmJEcvH+zXrVO66IR27\n",
              "ziWTfbcU17ateNbn8Qg5aUxe7NORb//eHze71tzOK+Kv606yPuJGvaJtW3ySgaSsu/xlRQSFJeX8\n",
              "65muzBhUv5xEjwsPEgcALH3BVxtY9yRSUFzGgt2X2Bt1i9ZmxuyfO5gOVnWbrn+8J+ANwDvhlygs\n",
              "Kaevqw3TBrScX76ZP7IrJ+Lu0MHanLEt9LcaaouF0oRVE3rQr5MNVq1M6ywGeBIE8UxXFn57mWUv\n",
              "+jXrVxsfxqtdGw7PC6K1mUmzvgU0FAqFgpcCXGouWJOdlnTL9Pzzz+Pq6lphX3l5OadPn6Zv375N\n",
              "mtlP+tG0fri4uPDGG2/UWK5FCaIy8vLyUKlU5ObmYmnZsK9SSj+anx8PI8daiUQHKQiJRAcpCIlE\n",
              "hxYvCKVSybvvvotSqd8v5Ug/ngw/HqbFP1RLJPrQ4kcIiUQfpCAkEh2kICQSHZqVIF5//XVcXV1R\n",
              "KBRcuHBBu7+6xAe1TYoA1SdGqI8fRUVFPPfcc3h6euLn58eIESMeee32AQkJCRgbG1dItBAXV/nP\n",
              "39alP1xdXfHy8tLa3r59e6P3x507dyq0z9PTExMTE7KyHg3f1qc/DIJoRhw9elQkJSUJFxcXcf78\n",
              "ee3+IUOGiM2bNwshhNi5c6fo06dPrY7pcuPGDeHo6ChSU1OFWq0Wo0ePFp9++qlB/Lh3757Yt2+f\n",
              "UKvVQgghVq9eLQYPHlyp7fj4eKFSqarviDr6IYR4pGxVNGR/PMzHH38sRo0aVekxffrDEDQrQTxA\n",
              "t+PT0tJEmzZtRGlpqRBCCLVaLRwcHERMTEy1xx5m6dKlIjQ0VPt53759on///gbx42HOnDkjXFxc\n",
              "KrVZlwtAHz9qK4jG7I8uXbqI8PDwSm02tiCa1S1TZVSX+KC2SRGg5uQH9fHjYVauXMmYMWOqtFVY\n",
              "WIi/vz+9evXi/fffrzF5gr5+TJ48GR8fH0JCQsjIyKjUTmP1x4kTJ8jOzmbUqFFV2qpPf+hLsxdE\n",
              "c+PDDz8kNjaWxYsXV3rc0dGRlJQUzpw5w8GDB4mMjOSTTz4x2PkjIiK4ePEi586dw9bWlldeecVg\n",
              "tuvCxo0bmTx5slY4D9PQ/fEwzV4Q1SU+qG1SBKg++UF9/XjAsmXL2L17Nz/++COtWlX+nrFSqcTe\n",
              "XpNKxsbGhmnTplWZaKEufjz419TUlDfffLNK243RHwUFBezYsYNp06ZVaae+/aEvzV4Q1SU+qG1S\n",
              "BKg++UF9/QBYvnw527Zt48CBA1hZWVVpJz09XTubU1xczO7du6tMtKCvH4WFheTk5GjLbtu2rUrb\n",
              "Dd0fANu3b8fPz48uXbpUaae+/aE3jfa0YgBmzpwpOnToIIyNjYW9vb1wd3cXQggRHR0tAgIChIeH\n",
              "h+jdu7e4ePGitk51x0JCQsR3332n/bxu3Trh5uYm3NzcxLRp00RJSYlB/EhKShKAcHNzE35+fsLP\n",
              "z0/07dtXa2/hwoXis88+E0IIsWvXLtG9e3fh6+srunXrJmbPni2KiooM4kdcXJzo0aOH8PHxEd7e\n",
              "3iI4OFjEx8c3en884OmnnxabNm16xF5d+8MQyFgmiUSHZn/LJJEYEikIiUQHKQiJRAcpCIlEBykI\n",
              "iUQHKQiJRAcpCIlEBykIiUQHKQiJRAcpCIlEBykIiUSH/wd0eXKVjT9WKAAAAABJRU5ErkJggg==\n",
              "\">\n",
              "        \n",
              "      </div>\n",
              "      <script></script>\n",
              "      <script type=\"text/javascript\">\n",
              "        (() => {\n",
              "          const chartElement = document.getElementById(\"chart-f558b17b-db61-49b5-b39a-962cbd049150\");\n",
              "          async function getCodeForChartHandler(event) {\n",
              "            const chartCodeResponse =  await google.colab.kernel.invokeFunction(\n",
              "                'getCodeForChart', [\"chart-f558b17b-db61-49b5-b39a-962cbd049150\"], {});\n",
              "            const responseJson = chartCodeResponse.data['application/json'];\n",
              "            await google.colab.notebook.addCell(responseJson.code, 'code');\n",
              "          }\n",
              "          chartElement.onclick = getCodeForChartHandler;\n",
              "        })();\n",
              "      </script>\n",
              "      <style>\n",
              "        .colab-quickchart-chart-with-code  {\n",
              "            display: block;\n",
              "            float: left;\n",
              "            border: 1px solid transparent;\n",
              "        }\n",
              "\n",
              "        .colab-quickchart-chart-with-code:hover {\n",
              "            cursor: pointer;\n",
              "            border: 1px solid #aaa;\n",
              "        }\n",
              "      </style>"
            ]
          },
          "metadata": {}
        },
        {
          "output_type": "display_data",
          "data": {
            "text/plain": [
              "<google.colab._quickchart_helpers.SectionTitle at 0x7c5ed81e77c0>"
            ],
            "text/html": [
              "<h4 class=\"colab-quickchart-section-title\">Distributions</h4>\n",
              "<style>\n",
              "  .colab-quickchart-section-title {\n",
              "      clear: both;\n",
              "  }\n",
              "</style>"
            ]
          },
          "metadata": {}
        },
        {
          "output_type": "display_data",
          "data": {
            "text/plain": [
              "import numpy as np\n",
              "from google.colab import autoviz\n",
              "df_8843423647211585147 = autoviz.get_registered_df('df_8843423647211585147')\n",
              "\n",
              "def histogram(df, colname, num_bins=20, figsize=(2, 1)):\n",
              "  from matplotlib import pyplot as plt\n",
              "  _, ax = plt.subplots(figsize=figsize)\n",
              "  plt.hist(df[colname], bins=num_bins, histtype='stepfilled')\n",
              "  plt.ylabel('count')\n",
              "  plt.title(colname)\n",
              "  ax.spines[['top', 'right',]].set_visible(False)\n",
              "  plt.tight_layout()\n",
              "  return autoviz.MplChart.from_current_mpl_state()\n",
              "\n",
              "chart = histogram(df_8843423647211585147, *['Factibilidad'], **{})\n",
              "chart"
            ],
            "text/html": [
              "      <div class=\"colab-quickchart-chart-with-code\" id=\"chart-dbd716ff-1375-4507-b79e-661a59e69830\">\n",
              "        <img src=\"data:image/png;base64,iVBORw0KGgoAAAANSUhEUgAAAM4AAABgCAYAAABVCU1aAAAAOXRFWHRTb2Z0d2FyZQBNYXRwbG90\n",
              "bGliIHZlcnNpb24zLjcuMSwgaHR0cHM6Ly9tYXRwbG90bGliLm9yZy/bCgiHAAAACXBIWXMAAA9h\n",
              "AAAPYQGoP6dpAAANv0lEQVR4nO3de0xT5/8H8HeFjjFKS7eCRbqCqGwDpgxXRZgTcSaTX0SExcvm\n",
              "jFMElowsQ8N0rl424whRg7IYvDA2N8XMW6bbEjOdi2wGmWZe5hQEqaWIsE1HtQMU+vz+MJyvHW3h\n",
              "HHpKtZ9XchJ7bv081bfnOaenz5EwxhgIIbwMGewCCHkYUXAIEYCCQ4gAFBxCBKDgECIABYcQASg4\n",
              "hAhAwSFEAAoOIQJQcB5yu3btwjPPPMO9XrBgAebNm+dwfaPRCJlMhqtXrwIAPv/8c2g0Gm55bm4u\n",
              "srKyHG5fV1cHiUQCg8EguOYdO3YgIiJC8PaegIIjkuTkZDz22GOQyWTc9PLLLw94nx9++KHNvDfe\n",
              "eAM1NTX93odWq8WdO3cQGRlpd3lpaSl27NgxoDq9AQVHRAUFBbhz5w43nThxYrBLIi5CwXGj33//\n",
              "HVOmTEFwcDAUCgXGjx+PH3/80WadS5cuIS0tDWq1GgqFAgkJCWhsbERubi4qKytRVFTEHcGA3l0t\n",
              "ALh79y6ysrIQFBQErVaLoqIibpnBYIBEIkFdXZ3dGv/b1auvr8eUKVMgl8vx3HPP4fjx47zbdOTI\n",
              "ETz//POQyWRISUlBY2Mj/w/Pw1Bw3GzZsmUwGo1obW3FtGnTMHPmTLS2tgIAWlpaMHHiRMTGxqK2\n",
              "thY3b95ESUkJ/P39UVpaiokTJ9ocxRw5ePAgdDod/vzzT3z99dcoLCzErl27eNfa3d2N6dOnQ6vV\n",
              "orm5GT/88AO2b9/Oq00NDQ1IS0tDXl4ebt26hbVr12LLli28a/E0FBwRrV+/HkFBQdz022+/YerU\n",
              "qfD394efnx9Wr14NiUSCU6dOAQC+/PJLqNVqrFu3DnK5HD4+PtDpdFCpVLzed/To0cjJyYFUKkVC\n",
              "QgIWL16Mzz77jHf9VVVVqKmpQXFxMQICAqDRaKDX623WiY2Nddqm3bt3IzY2FtnZ2ZBKpUhMTMT8\n",
              "+fN51+JpKDgiWrp0Kf755x9umjRpEubMmQOtVgu5XI6goCCYzWab/50fvEIm1PDhw3u9FtI9MplM\n",
              "UCqVUCgUDvdtNBqdtslkMtmt52FHwXGjxYsXw2q14tdff4XZbMatW7cgl8vR81vCiIgIXLlyxeH2\n",
              "Q4b076/rv5eKDQZDr/Og/tBoNLh16xba2toc7ruvNmk0Grv1POwoOG7U1tYGmUwGpVIJi8WC5cuX\n",
              "25yrzJ8/HyaTCXq9Hrdv30Z3dzdOnz6Nv/76CwCgVqtRW1vb5/ucO3cOO3bsQFdXF6qrq7F9+3a8\n",
              "9dZbvOsdP348Ro0ahfz8fFgsFjQ1NWHt2rW82jR37lxcuHCBq6eqqgo7d+7kXYunoeC40ebNm3Hu\n",
              "3DkolUpER0cjLCzM5kgwdOhQnDhxAmfOnMHw4cPx1FNPIS8vDx0dHQCAJUuWoKamBkqlEkFBQQ7f\n",
              "Z+bMmaiqqoJKpUJmZiaWLl3q9EtRR3x9fXH48GE0NDQgNDQUr7zyChYtWsSrTZGRkTh48CCKi4sR\n",
              "FBSEDz74AG+//TbvWjyNhMYcIIQ/OuIQIgAFhxABKDiECEDBIUQACg4hAlBwCBGAgkOIAI9EcDZt\n",
              "2jTYJRAv80gE59q1a4NdAvEyvoNdgNgiln1nd76h8P/cXAl5lDwSRxxC3E204HR0dCA9PR1RUVEY\n",
              "M2YMpk6davfnugaDAT4+PoiLi+Om+vp6scoixCV4B+f8+fP9mgcA2dnZqKmpwblz5zBjxgyHww4F\n",
              "Bgbi7Nmz3DRixAi+ZRHiVryDs2DBgn7Ne/zxx5GamgqJRAIASEhIeCR+wEQIwOPiQGtrK27cuIH2\n",
              "9nZcuHCB+4VfW1sbLBZLn9tv2rQJM2bMsLvMYrFAp9Ohu7sb6enpWLFiBXx8fOyu29nZic7OTpt5\n",
              "3d3d/W0GIS7R7+BUVFSguLgY169fR1paGjdfoVCgoKDA6bbr1q1DXV0djh071mtZaGgompqaEBIS\n",
              "gps3b2L27NnYsGGDw31+8sknWLNmjc28hISE/jaDEJfg/UO2jz/+uNdIJ86sX78ee/bswdGjR53+\n",
              "arFHRUUFdu/ejcOHD9tdbu+Io9frHX4JSpejiRh4f4+j1+thtVpx48YNdHV1cfO1Wm2vdTdu3IiK\n",
              "igqnoWltbYVSqYRUKkVnZycOHDiAF154weH7+/n5wc/Pz2aeo24dIWLhHZwvvvgCeXl5kEql3Kgr\n",
              "EomEGw6oh8lkwpIlSxAZGYnJkycDuP+P/tSpU1i5ciWGDRuG3Nxc/Pzzz1i5ciV8fHzQ1dWFlJQU\n",
              "rFixwgVNI0Q8vLtqI0aMwPfff++S8b9cJT8/Hxs3brS7jLpqRAy8L0erVCqPCg0hg4F3cNLT01Fc\n",
              "XIzW1laYzWZuIsSb8D7H6Tn/yM/Ph0QiAWMMEomEvkshXoV3cKxWqxh1EPJQobujCRGA9xFnyJAh\n",
              "3P1nD6KuGvEmvINz+/Zt7s/t7e3YuXMnhYZ4Hd5dtYCAAG5SqVTIz8/Hvn37xKiNEI814HOcy5cv\n",
              "c4+hIMRb8O6qKZVK7hyn5161kpIS11ZFiIfjHZyzZ8/+b2NfX6jVarrJkngd3sEJDw/Hv//+ywVI\n",
              "qVTiiSeecHVdhHg03sE5efIkMjMzoVarAdx/xPj+/fsxYcIElxdHiKfiHZyeq2hJSUkA7gfpvffe\n",
              "Q1VVlcuL80Suvtva0f4Gsk9X1uCMs/qEfE6u/izE/Gx5X1Vrb2/nQgMAiYmJ3DMqCfEWvIMjk8lw\n",
              "9OhR7vWxY8cQEBDg0qII8XS8u2qbN29GRkYGdyXNarXiwIEDLi+MEE/GOzjXr1/H6dOn0dLSAuD+\n",
              "I8arq6tdXhghnox3V02v1yM4OBixsbGIjY2FSqXiNeoNIY+CAd9yQz9iI96Id3ACAwNx8uRJ7vUv\n",
              "v/yCwMBAlxZFiKfjHZyioiJkZGQgOTkZycnJmDVrlsMRZq5cuYLExERERUVBp9Ph4sWLdtcrKyvD\n",
              "qFGjMGLECCxevBj37t3jWxYhbsU7OBMmTMClS5dQUFCAgoICXLx4EePGjbO7bk5ODrKzs1FbW4v3\n",
              "33/f7uDsDQ0N0Ov1qKysRF1dHVpaWrBt2zbeDSHEnQSd4yiVSqSmpiI1NdXpCJ2nT5/GvHnzAACZ\n",
              "mZlobGzs9Yycffv2IS0tDWq1GhKJBLm5uaioqBBSFiFuI9qjDBsbGxEaGgpf3/tvIZFIoNVqYTQa\n",
              "MXLkSG49o9GI8PBw7nVERASMRqPD/dLTCogn4D2SZ3+dOXMGr7/+Ompqarh548aNQ2FhIVJSUrh5\n",
              "eXl5GDZsGJYvXw4A+OOPP/Dqq686DM/q1at7Pa3g2WefxbRp00Roxf90d3ejuroa48aN8/ifUVCt\n",
              "AxMeHo53333X6TqiHXGefvppNDc3o6urC76+vmCMwWg09hqcXavV2jy60GAw2B3Avcfy5cuRn59v\n",
              "M8/eQOyuZjaboVAocOTIEcjlclHfa6CoVvGJNjxUSEgI4uPj8dVXXwEA9u/fD41GY9NNA+6f+xw6\n",
              "dAg3btwAYwylpaWYM2eOw/36+flBLpfbTGKHhpD/EnVcta1bt2Lr1q2IiopCYWEhysvLAQBZWVk4\n",
              "dOgQACAyMhJr1qxBUlISRo4cieDgYOTk5IhZFiEDJto5zqOmp0vR1tbm8V0KqlV8NJJnP/n5+WHV\n",
              "qlUPRbeQahUfHXEIEYCOOIQIQMEhRAAKDiECeE1wXHGntqNlP/30E/z9/REXF8dN7e3t/dqnO+ss\n",
              "Ly+3qVGlUiEjIwPA/S+efXx8bJY/+MW0GLUaDAYkJydDoVAgLi7OJW10G+YlJk+ezMrLyxljjO3d\n",
              "u5e9+OKLvda5evUqCw0NZc3NzcxqtbLp06ezTz/9tM9lx48fZ2PGjLH7vs62c3ed/xUTE8P27dvH\n",
              "GGOsoaGBKRQKh3WJUevff//NKisr2bffftvr83NVG8XiFcFpaWlhgYGB7N69e4wxxqxWKxs6dCi7\n",
              "cuWKzXpFRUUsJyeHe/3dd9+xpKSkPpc5C46z7dxd54OqqqpYcHAwu3v3LmOMf3BcUWsPe5+fK9oo\n",
              "Jq/oqjm7U/tBzu7U7usu7vr6esTHx0On02HLli392udg1NmjrKwMb775JqRSKTfPYrFAp9MhPj4e\n",
              "H330kdO7zl1RqzOuaKOYRLvJ05vEx8fDZDJBoVDAZDIhNTUVKpUKs2bNGuzS7LJYLNizZ4/N6Kuh\n",
              "oaFoampCSEgIbt68idmzZ2PDhg0oKCgYxEo9l1cccR68UxuA0zu1r127xr1+8E5tZ8vkcjkUCgUA\n",
              "QKPRYO7cuaisrOxzO3fX2WPv3r2IiYlBdHQ0N8/Pzw8hISEAgCeffBILFy7k2iBWrc4MtI2ic2vH\n",
              "cBBNmjTJ5kR27Nixvdapr6/vddJZUlLS57Lr16+z7u5uxhhjZrOZJSYmsrKysj63c3edPV566SW2\n",
              "fft2m3ktLS3c+U5HRwd77bXXmF6vF/Uz7WHvHGegbRSb1wTn8uXLLCEhgY0aNYqNHTuWnT9/njHG\n",
              "2KJFi9g333zDrbdt2zYWGRnJIiMj2cKFC7l/TM6WlZSUsOjoaDZ69GgWHR3NVq1axaxWa7/26c46\n",
              "e/Yvk8mY2Wy2ed/9+/ezmJgYrg3vvPMO6+joEPUztVgsLCwsjKlUKiaVSllYWBhbtmzZgNvoDnSv\n",
              "GiECeMU5DiGuRsEhRAAKDiECUHAIEYCCQ4gAFBxCBKDgECIABYcQASg4hAhAwSFEAAoOIQL8Pyn/\n",
              "iGZFPZuMAAAAAElFTkSuQmCC\n",
              "\">\n",
              "        \n",
              "      </div>\n",
              "      <script></script>\n",
              "      <script type=\"text/javascript\">\n",
              "        (() => {\n",
              "          const chartElement = document.getElementById(\"chart-dbd716ff-1375-4507-b79e-661a59e69830\");\n",
              "          async function getCodeForChartHandler(event) {\n",
              "            const chartCodeResponse =  await google.colab.kernel.invokeFunction(\n",
              "                'getCodeForChart', [\"chart-dbd716ff-1375-4507-b79e-661a59e69830\"], {});\n",
              "            const responseJson = chartCodeResponse.data['application/json'];\n",
              "            await google.colab.notebook.addCell(responseJson.code, 'code');\n",
              "          }\n",
              "          chartElement.onclick = getCodeForChartHandler;\n",
              "        })();\n",
              "      </script>\n",
              "      <style>\n",
              "        .colab-quickchart-chart-with-code  {\n",
              "            display: block;\n",
              "            float: left;\n",
              "            border: 1px solid transparent;\n",
              "        }\n",
              "\n",
              "        .colab-quickchart-chart-with-code:hover {\n",
              "            cursor: pointer;\n",
              "            border: 1px solid #aaa;\n",
              "        }\n",
              "      </style>"
            ]
          },
          "metadata": {}
        },
        {
          "output_type": "display_data",
          "data": {
            "text/plain": [
              "<google.colab._quickchart_helpers.SectionTitle at 0x7c5ed832bf10>"
            ],
            "text/html": [
              "<h4 class=\"colab-quickchart-section-title\">Categorical distributions</h4>\n",
              "<style>\n",
              "  .colab-quickchart-section-title {\n",
              "      clear: both;\n",
              "  }\n",
              "</style>"
            ]
          },
          "metadata": {}
        },
        {
          "output_type": "display_data",
          "data": {
            "text/plain": [
              "import numpy as np\n",
              "from google.colab import autoviz\n",
              "df_5336210421954705339 = autoviz.get_registered_df('df_5336210421954705339')\n",
              "\n",
              "def categorical_histogram(df, colname, figsize=(2, 1.2), mpl_palette_name='Dark2'):\n",
              "  from matplotlib import pyplot as plt\n",
              "  import seaborn as sns\n",
              "  _, ax = plt.subplots(figsize=figsize)\n",
              "  bars = df[colname].value_counts()\n",
              "  plt.barh(bars.index, bars.values, color=sns.palettes.mpl_palette(mpl_palette_name))\n",
              "  plt.title(colname)\n",
              "  ax.spines[['top', 'right',]].set_visible(False)\n",
              "  return autoviz.MplChart.from_current_mpl_state()\n",
              "\n",
              "chart = categorical_histogram(df_5336210421954705339, *['Etiqueta'], **{})\n",
              "chart"
            ],
            "text/html": [
              "      <div class=\"colab-quickchart-chart-with-code\" id=\"chart-d3ccf9ed-7916-44aa-a4d4-4fca034cb72b\">\n",
              "        <img src=\"data:image/png;base64,iVBORw0KGgoAAAANSUhEUgAAAPYAAACWCAYAAADt5nWSAAAAOXRFWHRTb2Z0d2FyZQBNYXRwbG90\n",
              "bGliIHZlcnNpb24zLjcuMSwgaHR0cHM6Ly9tYXRwbG90bGliLm9yZy/bCgiHAAAACXBIWXMAAA9h\n",
              "AAAPYQGoP6dpAAAPMElEQVR4nO3de1BUZR8H8O8qRuYuF8VrcrFUSIJdBJWxIUDdxAw0ctIBm6Ac\n",
              "NLPiLcdkUvM2qBOSOjVDI7bOoDSGGYMD5kiGYoZCiaHlghdQwhuKEBUgy/P+0bTzbovGLpsHnvf7\n",
              "mTkz7Dnn+Z3f2dkv55xlOasSQggQkVT6KN0AETkeg00kIQabSEIMNpGEGGwiCTHYRBJisIkkxGAT\n",
              "SYjBJpIQg03dplarUVRUpHQb9D8YbLIQERGBhx56CGq12mLas2cPdu7ciZEjR1qNaW5uRkRExAPt\n",
              "U6VSobCw8IFuszdhsMnKsmXL0NzcbDHNnTtX6bbIBgw2dUlxcTEWLVqEuro681F89+7dAKyPnllZ\n",
              "WRgzZgw0Gg1iY2OxZMkSiyO6j48PMjMzLer/vcaJEycQERGBQYMGwdvbGytXrkR7ezsAwN/fHwAQ\n",
              "HR0NtVqNGTNmAABycnIQHBwMd3d3eHh4ICYmBpcuXfpXno+ejsGmLgkLC0NGRgZGjBhhPorHx8db\n",
              "rXf8+HG88sorSE9PR0NDAxITE7Fjxw6btmU0GjF16lQsWrQI169fx9GjR5GXl4dNmzYBAM6ePQsA\n",
              "2L9/P5qbm3HgwAEAgEajwaeffor6+nqcO3cOQgjExcV1c897JwabrKSlpcHNzc1iqqqq6tJYg8GA\n",
              "mJgYREdHw8nJCdHR0Xj22Wdt2v7HH3+M6OhozJs3D05OTvD29sayZctgMBjuOy4qKgparRZ9+/aF\n",
              "h4cH1q5di5KSEvz66682bV8GTko3QD3P0qVLsX79eqv533777T+Ora2tNZ8q/2XUqFG4detWl7df\n",
              "VVWFb775Bm5ubuZ5HR0d6OjouO+4I0eOYO3atfjpp5/w22+/meffuHEDGo2my9uXAY/Y1GV9+vzz\n",
              "y2XkyJGorq62mPf3xxqNxiJ4dXV1FsuHDRuGuLg43Llzxzw1NTWhubnZvI5KpbIY09bWhueeew5R\n",
              "UVGorKxEU1MTjhw5AgD4f7yXCINNXTZs2DDU19ff9+j78ssvIy8vD/n5+TCZTMjPz0dBQYHFOiEh\n",
              "Ifjss8/MgV2+fLnF8sWLF2Pv3r3IyclBW1sbTCYTzp8/j6+++sqiF6PRaH7c1taGP/74A+7u7tBo\n",
              "NKirq8OKFSsctOe9kCD6H+Hh4aJfv35iwIABFtOmTZvE3bt3xYsvvigGDhwoXF1dxe7du4UQQgAQ\n",
              "hw4dMtcwGAzi8ccfF2q1Wjz//PPi9ddfF+Hh4ebltbW1Qq/XC7VaLUaPHi327dtnVaOkpETo9Xrh\n",
              "4eEhXF1dhVarFRkZGeblO3fuFJ6ensLV1VXMnDnTvF1vb28xYMAAERgYKAwGgwAgqqqq/uVnredR\n",
              "CfF/eJ5CD9SKFStw7NgxfjrtAeKpOJGEGGwiCfFUnEhCPGITSYjBJpIQg00kIQabSEIMtgNs3bpV\n",
              "6RaILDDYDlBTU6N0C0QWGGwiCTHYRBLiB1QcINFfhZQJ/B3ZE4zdaVK6hR6Br0YiCTHYRBJisIkk\n",
              "xGATSYjBJpIQg00kIQabSEIMNpGEGGwiCTHYRBJisIkkxGATSYjBJpIQg00kIZuC7ePjAz8/P7S3\n",
              "t5vnhYSE2PzVLUVFRejfvz90Op15ysvLs6nGX1avXo2Wlhbz41WrVmH37t3mZcnJyfccd69lRL2d\n",
              "zd+P3draih07dmDhwoXd2rCvry/Ky8u7VQMA1qxZg+TkZDz88MMAgLVr13a7JlFvZ/Op+OrVq7Fu\n",
              "3Tr8/vvvVstu3LiB2NhYBAQE4Mknn8Qnn3xiU+34+HiEhIQgMDAQM2fOxLVr18zL8vPzMWHCBGi1\n",
              "Wuh0Opw4cQKLFi0CAISFhUGn0+HGjRtISEjAli1bzOOuXLmCKVOmwM/PD9HR0ff8Cti0tDRMnDgR\n",
              "48ePR1RUFO9jRr2azcHWarWIjIzEhx9+aLXsjTfegK+vLyoqKnD48GGsX78eJSUlndYxGo0Wp+Im\n",
              "kwlbtmxBWVkZfvzxR4SFhWH16tUAgMrKSiQmJiIrKwunT59GaWkp/Pz8kJGRAQAoLi5GeXk5hgwZ\n",
              "YrWd4uJiZGdn49y5c/D09ERKSorVOtnZ2TAajfjuu+/www8/ID4+HosXL+6079bWVjQ1NVlMpo6u\n",
              "PntED4bNp+IAsG7dOkycONF8xPxLYWEhvv/+ewDAkCFDEBsbi8LCQoSGhlrV6OxUPDs7G1lZWWhp\n",
              "aUFLSws8PDwAAIcOHUJUVBT8/PwAAP369YOrq2uXep05cyaGDRsGAEhKSkJsbKzVOrm5uSgtLUVw\n",
              "cDAAwGS69+11NmzYgDVr1ljM03p0qRWiB8aud8V9fHwQFxeH9evX33c9lUrV5ZrHjh3Dtm3bUFBQ\n",
              "gDNnziA9Pd3iTTFH6awnIQRSUlJQXl6O8vJyVFRUoKKiotPxKSkpaGxstJgCGWzqYez+c9eKFSuw\n",
              "a9cu1NXVmedNmzYN27dvBwDcvHkT+/btg16v71K9hoYGaDQaDBo0CG1tbRbX59OnT8fBgwdx7tw5\n",
              "AMDdu3fR2NgIANBoNOafO1NQUIDr168DADIzMzFt2jSrdWbPno2MjAzcvn3bXP/UqVOd1nN2doaL\n",
              "i4vF1Jd/NKQexu6XpIeHB958801cvXrVPG/btm34+eefERAQgMjISLz33nuYNGlSl+pFRUXB19cX\n",
              "vr6+5jfD/jJ69GgYDAbMnz8fWq0WkyZNgtFoBAC888470Ov15jfP/i4sLAxxcXHw8/NDTU0NUlNT\n",
              "rdaJj49HQkICIiMjzW/OHT582MZnhKjn4O2HHYC3H+45ePvhP/HVSCQhBptIQgw2kYQYbCIJMdhE\n",
              "EmKwiSTEYBNJiMEmkhCDTSQhBptIQgw2kYQYbCIJMdhEErLrDipkyX36fzA2PV3pNojMeMQmkhCD\n",
              "TSQhBptIQgw2kYQYbCIJMdhEEmKwiSTEYBNJiMEmkhDvK+4A6ukT4DZvqtJtkCRqEzd2uwaP2EQS\n",
              "YrCJJMRgE0mIwSaSEINNJCEGm0hCDDaRhBhsIgkx2EQSYrCJJMRgE0mIwSaSEINNJCEGm0hCigXb\n",
              "x8cHvr6+0Ol00Ol0WLBggc01cnNzUVJSYn5cVlaGuXPnAgCqq6vh5ubW6bj7LSOSgaLfBLJnzx7o\n",
              "dDq7x+fm5kKn0yE0NBQAEBISgj179jioO6Leq8ecimdnZ2PSpEkICgqCVqvF/v37zct++eUXzJkz\n",
              "BwEBAQgMDMTKlStRUFCAvLw8fPDBB9DpdMjMzERRUZHVL4qlS5ciMDAQ/v7+KCws7HTbpaWlmDJl\n",
              "CkJCQhAUFIScnJx79tna2oqmpiaLCSbeq4J6FkWP2HPnzkX//v0BACtXrkRJSQlUKhWqq6sRGhqK\n",
              "mpoaODs7Y/78+XjmmWewd+9eAMDNmzcxePBgxMTEQKfTITk5GQBQVFRkUb+xsRFPPPEE0tLSUFJS\n",
              "gpiYGFy4cMFinTt37iApKQkFBQUYPnw46uvrMX78eEyePBmPPvqoVc8bNmzAmjVrLOb1e2yEg54R\n",
              "IsfoMafiZWVlmDFjBmpra+Hk5ITbt2/j0qVLGDlyJI4dO4aDBw+axw0ePLhL9Z2cnJCQkAAACA0N\n",
              "xYgRI3Dq1Cl4eXmZ1zl+/DguXryIGTNmWIw1Go2dBjslJQVvv/22xbwRsVO61A/Rg9Jjvm1z3rx5\n",
              "2LhxI+bMmQMAGDhwIFpaWhy+HZVKZfFYCAF/f38cP368S+OdnZ3h7OxsObOvqvOViRTSY66xGxoa\n",
              "MGrUKADArl270NDQAABQq9V4+umnsXnzZvO6N2/eBAC4uLigsbHxnjXb29uRlZUFADh58iTq6uqs\n",
              "rsEnT56MS5cuWVx/l5eXo62tzSH7RaSEHhPsrVu3Ys6cOQgKCrI6Xc7KykJZWRn8/f2h0+nw0Ucf\n",
              "AQBeeuklfP755wgKCkJmZqZVTVdXV5w5cwZarRaJiYnIzs6GRqOxWMfd3R35+flITU2FVqvFuHHj\n",
              "sHz5cnR0dPy7O0z0L+Lthx2Atx8mR+Lth4moUww2kYQYbCIJMdhEEmKwiSTEYBNJiMEmkhCDTSQh\n",
              "BptIQgw2kYQYbCIJMdhEEmKwiSTUY2600Jsl+Ych3QH/kUPkKDxiE0mIwSaSEINNJCFeY3dTa2sr\n",
              "Dhw4AJPJhL59+yrdjl1MJhNOnjyJiRMn9tp9AOTYj3/aB29vb7z11lv/WIe3RuqmpqYmuLq6orGx\n",
              "ES4uLkq3YxcZ9gGQYz8ctQ88FSeSEINNJCEGm0hCDHY3OTs74/3337f+dpBeRIZ9AOTYD0ftA988\n",
              "I5IQj9hEEmKwiSTEYBNJiMHuhqqqKkyePBljx47FhAkTcPbsWaVbsllLSwtmz56NsWPHQqvVQq/X\n",
              "4/z580q3ZTeDwQCVSoXc3FylW7FZa2srlixZgjFjxiAgIADz58+3uxaD3Q0LFy5EUlISKisr8e67\n",
              "7yIhIUHpluySlJQEo9GI06dPY9asWViwYIHSLdmluroa27dvR2hoqNKt2GX58uVQqVSorKxERUUF\n",
              "0tLS7C8myC7Xr18XGo1G3L17VwghREdHhxg6dKioqqpSuLPuKS0tFd7e3kq3YTOTySSmTp0qysrK\n",
              "RHh4uPjyyy+Vbskmzc3NQqPRiMbGRofU4xHbTleuXMHw4cPh5PTn/9GoVCp4eXnh8uXLCnfWPVu3\n",
              "bsWsWbOUbsNm6enpeOqppxAcHKx0K3a5cOECBg4ciNTUVISEhCAsLAxff/213fX4311klpqaivPn\n",
              "z3frBaWEM2fO4IsvvsDRo0eVbsVu7e3tqKmpwbhx47Bx40acOnUKer0eZ8+exdChQ22ux2DbydPT\n",
              "E1evXkV7ezucnJwghMDly5fh5eWldGt2SUtLw759+1BYWIhHHnlE6XZsUlxcjOrqaowZMwYAcO3a\n",
              "NSQlJeHq1at47bXXFO6ua7y8vNCnTx/Ex8cDAIKCgjBq1ChUVFTYFWxeY3dDeHi4MBgMQgghcnJy\n",
              "RHBwsLIN2Wnz5s1i/Pjx4vbt20q34hC98RpbCCH0er3Iz88XQghx8eJFMWjQIFFbW2tXLX6ktBuM\n",
              "RiMSEhJw69YtuLi4wGAwICAgQOm2bFJbWwtPT0889thj0Gg0AP78vPKJEycU7sx+ERERSE5OxuzZ\n",
              "s5VuxSYXL17Eq6++ivr6evTp0werVq3CCy+8YFctBptIQnxXnEhCDDaRhBhsIgkx2EQSYrCJJMRg\n",
              "E0mIwSaSEINNJCEGm0hCDDaRhBhsIgn9Fyz/jSpmVoIAAAAAAElFTkSuQmCC\n",
              "\">\n",
              "        \n",
              "      </div>\n",
              "      <script></script>\n",
              "      <script type=\"text/javascript\">\n",
              "        (() => {\n",
              "          const chartElement = document.getElementById(\"chart-d3ccf9ed-7916-44aa-a4d4-4fca034cb72b\");\n",
              "          async function getCodeForChartHandler(event) {\n",
              "            const chartCodeResponse =  await google.colab.kernel.invokeFunction(\n",
              "                'getCodeForChart', [\"chart-d3ccf9ed-7916-44aa-a4d4-4fca034cb72b\"], {});\n",
              "            const responseJson = chartCodeResponse.data['application/json'];\n",
              "            await google.colab.notebook.addCell(responseJson.code, 'code');\n",
              "          }\n",
              "          chartElement.onclick = getCodeForChartHandler;\n",
              "        })();\n",
              "      </script>\n",
              "      <style>\n",
              "        .colab-quickchart-chart-with-code  {\n",
              "            display: block;\n",
              "            float: left;\n",
              "            border: 1px solid transparent;\n",
              "        }\n",
              "\n",
              "        .colab-quickchart-chart-with-code:hover {\n",
              "            cursor: pointer;\n",
              "            border: 1px solid #aaa;\n",
              "        }\n",
              "      </style>"
            ]
          },
          "metadata": {}
        },
        {
          "output_type": "display_data",
          "data": {
            "text/plain": [
              "<google.colab._quickchart_helpers.SectionTitle at 0x7c5ed8223a90>"
            ],
            "text/html": [
              "<h4 class=\"colab-quickchart-section-title\">Faceted distributions</h4>\n",
              "<style>\n",
              "  .colab-quickchart-section-title {\n",
              "      clear: both;\n",
              "  }\n",
              "</style>"
            ]
          },
          "metadata": {}
        },
        {
          "output_type": "display_data",
          "data": {
            "text/plain": [
              "import numpy as np\n",
              "from google.colab import autoviz\n",
              "df_7797251329939857874 = autoviz.get_registered_df('df_7797251329939857874')\n",
              "\n",
              "def violin_plot(df, value_colname, facet_colname, col_width=.3, col_length=3, mpl_palette_name='Dark2', **kwargs):\n",
              "  from matplotlib import pyplot as plt\n",
              "  import seaborn as sns\n",
              "  plt.figure(figsize=(col_length, col_width * len(df[facet_colname].unique())))\n",
              "  sns.violinplot(df, x=value_colname, y=facet_colname, palette=mpl_palette_name, **kwargs)\n",
              "  sns.despine(top=True, right=True, bottom=True, left=True)\n",
              "  return autoviz.MplChart.from_current_mpl_state()\n",
              "\n",
              "chart = violin_plot(df_7797251329939857874, *['Factibilidad', 'Etiqueta'], **{'inner': 'stick'})\n",
              "chart"
            ],
            "text/html": [
              "      <div class=\"colab-quickchart-chart-with-code\" id=\"chart-6d5b8782-ce7c-4a41-9a29-d5565ed8a01c\">\n",
              "        <img src=\"data:image/png;base64,iVBORw0KGgoAAAANSUhEUgAAAU8AAABhCAYAAABWHCMAAAAAOXRFWHRTb2Z0d2FyZQBNYXRwbG90\n",
              "bGliIHZlcnNpb24zLjcuMSwgaHR0cHM6Ly9tYXRwbG90bGliLm9yZy/bCgiHAAAACXBIWXMAAA9h\n",
              "AAAPYQGoP6dpAAAbzElEQVR4nO3de1QTZ/4/8PckIVzKTQVUUEAqYEEkCCriperqrtYqaulqRX/e\n",
              "Wu22pfW0HrdutYLFdY+Xbb2cHrW42sKiqN1F10tr/bqexSI/pUgR9wvyU6gCVS4C4Zb78/sjZkwg\n",
              "QBICQf28zpmTzDMzz3wmxg/P88xMhmOMMRBCCDGLwNYBEELI04iSJyGEWICSJyGEWICSJyGEWICS\n",
              "JyGEWICSJyGEWICSJyGEWICSJyGEWICSJyGEWICSJyGEWEBk6wBIz1AqlcjLy0NRURGkUinEYjG8\n",
              "vb0RGhqKYcOGgeM4W4dIyFONkucz5tGjRzh69ChOnToFqVRqdJ2AgADMnz8fs2fPhpOTUy9HSMiz\n",
              "gaMfBnk2qFQqZGRkIOVQClpbWg2WKQIHgdMwCBqaIaxp4stdXV2xePFivP7663jhhRd6O2RCnmpm\n",
              "J8+qqips3rwZP//8M2QyGV+el5dn9eCIaUpKSvDZZ5/h9u3bAAB1vxegeMkHjtna+abXxwECAaDR\n",
              "wPnE/4U8wg92JQ8haNL++7m6umLRokV47bXX4ObmZrPjIORpYvYJo1WrVsHf3x81NTVISkqCt7c3\n",
              "Zs+e3ROxkS6oVCp8/fXXWLFiBW7fvg0mFkE25kW0zgiD2qdfh9sphw9CyywJZOOGQ+PiAKlUioMH\n",
              "DyI2NhZbt25FXl4e1Gp1Lx4JIU8fs1ueEokE+fn5CAsLw82bN6FQKPDyyy/j6tWrPRUjMeLu3bvY\n",
              "unUrbt26BQBQ+fSDPDIAzFGsXeFxKxNo3/Lk5wFAwyC6Xwu7ogoI61v4+l1dXREWFobg4GD4+vpi\n",
              "0KBB8PLygoeHB8Rica8eKyF9kdknjHT/cRwcHFBbW4t+/fqhpqbG6oER45qbm3HkyBEcPXoUKpUK\n",
              "zE4IeYQ/VP6egCVn0AUcVH4eUPkOgKCmEXalVRBVPIJUKsWPP/6IH3/8sd0m7u7u8Pb2hp+fHwIC\n",
              "AhAcHIzQ0FAaNyXPFbOTZ1BQEGpra7FkyRKMGzcOrq6uiIyMbLeev78/HBwcUFhYCJFIu5uoqCjs\n",
              "3LkTU6ZMMXl/ly9fxqxZsxAcHMyXbdmyBXPnzjU3dCQmJuLjjz+Gg4MDAODTTz9FcHAw4uPjkZiY\n",
              "iPr6enzxxRdGt+toWW9paGhAZmYmjh49ivr6egCAyrsf5JHDwJzsu78DjoPG0xVyT1fINQyCuiYI\n",
              "a5sgqG+BoEkGrkUOrlUBTsNQX1+P+vp6/Pe//9XbnENgYCAiIiIQGRkJiUQCV1fX7sdFSB9ldvJM\n",
              "S0sDAHzwwQeIiopCXV0dZs2aZXRduVyOQ4cOYc2aNd0KMjg4GPn5+d2qAwCSkpKwdu1aPnlu2bKl\n",
              "23X2pNraWly/fh1ZWVnIysqCQqEAAGhcHCAP94Pap3/P7FjAQTPABZoBLobljAEyBZxP56E1OhCC\n",
              "ZhkE9S0QPmqCoFmO27dv4/bt28jIyADHcRg+fDjCw8MREhKCoKAg+Pn5wc7OrmdiJqSXmZ0833nn\n",
              "HXz55ZcAgAkTJrQr05eYmIhPPvkES5cubXc9YVVVFd5++22UlJSAMYaEhASzkmx8fDyKi4uhUCgw\n",
              "dOhQHDp0CIMGDQIAnD17FomJiVAoFOA4DgcOHMDhw4cBAJMmTYJQKMSFCxewfv16SCQSrF27FgBw\n",
              "//59TJs2DZWVlQgMDMSRI0cwYMCAdvveuXMnjh8/DpVKBS8vLxw4cAB+fn5G45TL5ZDL5QZl9vb2\n",
              "sLfvvLVYVFSEt956C0qlki9TuztBGewNla8HILDBRe4cB9hrk596aH+oBU/ON3KtCgirpRBWSSGs\n",
              "aoCgUYaSkhKUlJTw6wiFQgwePBi+vr5Yu3YtfH19e/0QCLEWs8+25+TktCvLzs42um54eDimTp2K\n",
              "zz//vN2yhIQEBAcH4+bNm7h06RKSk5ON1g0AxcXFkEgk/KRWq/HFF18gNzcXBQUFmDRpEhITEwEA\n",
              "t2/fxooVK5Camoqff/4Z169fx4gRI7B//34AQFZWFvLz8+Hl5dVuP1lZWUhPT0dRURGGDh2KDRs2\n",
              "tFsnPT0dxcXFuHr1KvLy8hAfH4933nmnw89r27ZtcHNzM5i2bdvW4fo6paWlfOJUvjgQLTPC0Prb\n",
              "UdqxTVskzi4wRzFUvh6QRwWg5ZUINM+NRGtMEJR+Hvw6arUa5eXlyM7OxnfffWfDaAnpPpNbnhkZ\n",
              "GTh27BhKS0uxYMECvryhoQHOzs4dbvfZZ59h7NixePvttw3KL168iJ9++gkA4OXlhQULFuDixYuI\n",
              "jo5uV4exbnt6ejpSU1Mhk8kgk8ng4aH9T/rDDz9g5syZGDFiBADAzs7O5GsXZ8+ezbdeV69ebXCc\n",
              "OpmZmbh+/To/ztvVJT0bNmzAhx9+aFDWVasTgMEZbdHdh+CaZVAGDNR21ftg8tThWuQQPpRCWN0A\n",
              "YXUjfy1pW97e3r0cGSHWZXLyHDFiBGJjY5GXl4fY2Fi+3NXVFb/5zW863M7f3x+LFy9GcnJyp/Wb\n",
              "c6/1lStXsGfPHly9ehVeXl44ffo0Pv30U5O3N5WxmBhj2LBhA1avXm1SHaZ00Y2JiYlBfHw8srOz\n",
              "UVpaCtGDBogeNEDzgj0UIUP6RgtUrYFA2grBoyYIaxohrJZC0Cxvt5qfnx+CgoIQEBCAoUOHws/P\n",
              "D4GBgTYImBDrMTl5hoeHIzw8HLNnz4anpyfkcrnJSWHjxo146aWXDE4WTJ8+HV999RW2bt2K6upq\n",
              "/OMf/8CJEydMqq+urg4uLi4YMGAAFAoFDhw4wC/73e9+hy1btqCoqAgjRoyAUqlES0sL3Nzc4OLi\n",
              "goaGBri7uxut99y5c3j48CEGDhyIlJQUTJ8+vd068+bNw65duxAXF4f+/ftDqVSisLAQERERJsVu\n",
              "KkdHRyQkJCAhIQH37t3D+fPnkZmZibq6OjhcvwN1ya+QRwZA4+HSdWWWYgxcs1x7tr1Ze7Zd0KJN\n",
              "jk7n88E1K8C1uUxYKBQiODgYkZGRiIiIQFhYGFxcejBGQmzE7BNGDx48wNSpU1FfX4/y8nL89NNP\n",
              "yMjIwPbt2zvcxsPDA++//75B63DPnj34wx/+gLCwMDDG8Mknn2DcuHEmxTBz5kykpaUhODgYAwYM\n",
              "wPTp01FRUQEAGD58OA4fPowlS5ZAqVRCKBRi//79GDt2LD766CPMmDEDTk5OuHDhQrt6J02ahMWL\n",
              "F6OiooI/YdRWfHw8amtrMXXqVADau3xWrlxp9eSpz9fXF2vWrMGyZcvw7bff4siRI2isb4TT/xRC\n",
              "ETgIilG+gEholX1xja0QlT+C8EE9hI+awKk0RtcTNGmTqLOzM4KDgzFy5Ej+Dyxd70meB2bfYTRl\n",
              "yhQkJycjISEBN27cAGMMI0eO5O90IT2vvr4e+/btw5kzZwAAGmcH7a2W+q1QU+8wArR3GZXXwq7k\n",
              "AYQ1jQb7EovF8PHx4e8wGjBgADw9PeHj4wM/Pz94eXnRz9uR55LZLc+mpiZMnDiRn+c4jm7X62Xu\n",
              "7u7YuHEjZsyYga1bt6KqqgpOlwqhCBoMxcihprdCNQyiX6oh/m8535IUCIUYExWFiRMnIiIiAv7+\n",
              "/vxNDoSQJ8z+XyESiaBUKvnWxv379yEUWqfLSMwzbtw4/P3vf8df//pXnD9/HuLiXyEqf6S9gN7b\n",
              "veMN1RqISqshLqrgk6abmxvi4uIwb948eHp69s4BEPIUM7vbnpaWhqNHj6KgoADLli1DWloatm/f\n",
              "jt///vc9FSMxQVZWFnbs2IGqqioAgNrFAcJG7WVCTXNHg2OAoK4ZjleKwcRCcArtJVb9+vVDfHw8\n",
              "XnvtNTg6OtosfkKeNhb9GHJ2djZOnToFxhjmzp1r0I0nttPS0oK0tDQcO3YMLS0tna47cOBALFy4\n",
              "EPPnz6ekSYgF6Jfkn0GNjY347rvvcPnyZRQXF6OpqQlCoRCDBg3CqFGjMG3aNIwfP57GMgnpBrOT\n",
              "59SpU42eXb106ZLVgiLWpVarIRAI6Kw4IVZkdtNj3bp1/HuZTIb09HQEBQVZNShiXXRCjxDr63a3\n",
              "XaVSYdq0afjPf/5jrZgIIaTPM/tXldpSq9WorKy0RiyEEPLUMLvbPn/+fH7sTK1Wo6CgAK+88orV\n",
              "AyOEkL7M7G77119/zb8XiUQYPny4yfekE0LIs4IuVSKEEAuY3W1fuXJlp8v/9re/WRwMIYQ8Lcw+\n",
              "YSQWi5GTk4OAgAC8+OKLuHbtGuzt7REZGWn0KZqEEPIsMrvbPnnyZJw5c4Z/rKxUKsWrr77ao5cq\n",
              "+fv7w97enr+NMCoqCikpKWbVkZmZiUGDBvGP+cjNzcWOHTuQkZGBsrIySCQS/pG++jpbRp5earUa\n",
              "CoUCcrkcCoUCMpmMf6971b2Xy+VQKpWQy+WQyWRQq9VQqVRQKpVQqVRQKBRQKpXQaDTQaDRQq9VQ\n",
              "q9X8vG4yhuM4/gYG3SQSiWBnZwehUAiRSMS/2tnZ8a+6SSAQwMHBAfb29rCzs4O9vT3EYjHEYjH/\n",
              "FAPdvH4Z3TDRfWZ326urqw2ex+3q6orq6mqrBmVMRkYGJBKJxdtnZmZCIpHwyTMqKgoZGRlWio6Y\n",
              "S5d8dElK916/TD9Z6ZfrT20TnX7C03/fdl7/qaTPI7FYzCddXYK1t7c3KNOfdMnXwcGBn4ytp1+X\n",
              "/iQUCp+5hG128gwPD8fy5cuxatUqAMDhw4cRHh5u9cA6k56ejt27d0OhUECj0SA5ORlz5swBAFRU\n",
              "VOCDDz5AcXExOI5DbGwsxo8fj9OnT+OHH37AkSNH8N5772H48OFYu3atwYPl1q1bhwsXLkCtVmP3\n",
              "7t1GH8Nx/fp1/PGPf4RUKoVarcaf/vQnvP766x3Gaumjh61FpVIhOzub/wPHGDP4EuvPM8b4VpNu\n",
              "UqlU7SZdMtO1vHSJsLNJoVC0a6X1FUKOQcQx2HEMIoHuFdoygXaZiGMQcsBNqSMi3ZshFjAIOO06\n",
              "HIDLNS6Y4SWFnUA7L+AADuzxq3YCAI570tFj7PHn/nhSaYAzD9wxc2ADtFsDagaoGQfN41fV4/cq\n",
              "xkGpAW5KnRD0ggxqcFAzQMk4qDQclIyDWsNBya/LgeHJv7vuD05vEQgE7VrBYrGYby3rt6bFYjFE\n",
              "IhG/XCgUGrS69VvjQqEQQqGQb7131pEeP368VR88aHbyTElJQVJSEv+s8+nTp2PTpk1WC6gjCxcu\n",
              "5LvtmzZtQk5ODjiOQ1lZGaKjo/HLL7/A3t4eS5YswW9/+1ucPHkSgLal7Onpiblz5xo8o/3y5csG\n",
              "9Tc0NOCll17Czp07kZOTg7lz5+LOnTsG69TX12P16tU4d+4cBg8ejJqaGowePRoxMTHw8fExGve2\n",
              "bduQlJRkULZ582b+Uck9LSMjA3v37u2VfVmbCBqoIICHWAkHIYOjUAN7vWQmEoBPeLpEJ+QY7Djo\n",
              "JUHtq127+SfJ0dTn6KkZcPOWI+b7NEDIGZZfrnHBy55NBuXmUjNt8pzo0WxSPdp4nPB//B+ZvL5S\n",
              "w/HJVJtotQlXqeHaLdMvk6s5/PjIGaPdWqACINcI0KoSoFXNoUUtQKtaAA06DkKj0aC1tRWtra2m\n",
              "fyBW5uTkhPPnz1ut4WJ28nR2dsaOHTussnNz6Hfbc3NzMWvWLJSXl0MkEuHRo0coLS3FkCFDcOXK\n",
              "FXz//ff8dqb+sK9IJMLy5csBANHR0fD29saNGzfg6+vLr5OdnY27d+9i1qxZBtsWFxd3mDwtffSw\n",
              "tQwbNqzX9mVtqsfnM2sUTx4cyEHbAjRIlgIGEWfYUuRf9ZKsncDIcr3kKuLQbrlIrxXaVyk1gALa\n",
              "JKfScFA9bm2q+AT5JBmq9BKofrnheoBSI4BSb12FWpsYC6UO2tZvJ4myrxoxYoTBQyi7y+TkefTo\n",
              "UbzxxhvYs2eP0eXvv/++1YLqyqJFi/CXv/wFcXFxAID+/ftDJjP+fPDuaDtGwxhDaGgosrOzTa6j\n",
              "N7voxsTExCAnJ4ef13XN9bvouhMaui65SqVqN6/fhW/bXW978qTtq/54pn43vqNX/TFMXb18/HiS\n",
              "HGS93PPXdqSB5P8dxCduIQcIHpd/+f88IBRohwH0u+4cp9dt16tP110HtF149eOZg3c9oAGgYYAG\n",
              "T7rp+l13NQNUGm1tSf9rva5oVxSs/QU6xsY49cc+jb227bq3fW17ckwkErU7kaabBAIB/6rfjdfN\n",
              "99RYq8nJs6ioCABw48aNdst6eyC4rq6Ob1GlpaWhrq4OgLZVPHnyZOzatQsbNmwA8KTb7urqioaG\n",
              "hg7rVKlUSE1NxfLly3Ht2jVUVlZCIpGgtraWXycmJgalpaW4ePEiPx6an5+PkJCQp+Y5TrqzuQCs\n",
              "+le4J2k0GqPJVT/BGjtBpCs3Z2p74kl/bFY3ZijTCIwm7kq5db4D91otr0eXoHSJqKOTOB0lvLaT\n",
              "7sSQbhzSyckJjo6OBvUIBN3+iYynksnJUzdut2PHDnh4eBgsq6mpsW5UXdi9ezfi4uLg7u6OadOm\n",
              "GXStU1NTkZCQgNDQUNjZ2SE2NhZJSUlYunQpli9fjszMTLz77rsYPny4QZ1ubm4oLCxEeHg4VCoV\n",
              "0tPT4eLiYpA8+/Xrh7Nnz2LdunX46KOPoFQq4evri8zMzN469OeS7nIcBweHXt+3futZJpOhtbWV\n",
              "b5Xrt7oVCgXfote13HXzGo0GjDGjJzN0Jzr0f29Vv1Wl38rq6FIlR0dHvsX2rJ3R7svMvs5z9OjR\n",
              "yMvL67KMEEKeZSa3PHUXEqvVajQ2NvJ/RRsaGtDc3NxjARJCSF9k8mDFtm3b4O7ujsLCQri5ucHd\n",
              "3R3u7u4ICwvDkiVLejJGQgjpc0xOnnFxcdBoNFi9ejU/7qPRaFBfX4/Jkyf3ZIyEENLnmDzmqT+u\n",
              "2XaMk8Y8CSHPG5Nbnvo5tm2+pZ8EJYQ8b0xOnvqXQLS9HIIujyCEPG9MTp6tra24efMmCgoKDN7r\n",
              "5onp5HI5EhMT2/1gyNOAYrcNir3vMXnM09/fv8MWJsdxuHv3rlUDe5ZJpVK4ubmhoaHB4Of9ngYU\n",
              "u21Q7H2Pydd5lpWV9WAYhBDydHk+b0olhJBuouRJCCEWoORpA/b29ti8ebNNf6rOUhS7bVDsfQ89\n",
              "t50QQixALU9CCLEAJU9CCLEAJU9CCLEAJU8zlZSUICYmBkFBQRgzZgxu3bpldL1Dhw4hMDAQL774\n",
              "It566y2D54R3tOzSpUsYO3YsQkJCEBoaivXr1/OPgSgrK4NQKIREIuGntk/3tGXsly9fhqOjo0F8\n",
              "+needVanrWM/fPiwQdweHh5YsGABgL7xuZeVlWHKlClwc3PjH4LY3WPuC7H39Pe9xzFilqlTp7LD\n",
              "hw8zxhg7ceIEi4qKarfO3bt32eDBg9mvv/7KNBoNmzNnDtu3b1+Xy/Ly8tidO3cYY4y1trayCRMm\n",
              "8PsqLS1lbm5ufTb2f//73yw8PNzofjvbri/E3lZoaCg7efIkY6xvfO61tbUsKyuLnTlzpt1nbK1j\n",
              "tkXsPf1972mUPM3w8OFD5uLiwpRKJWOMMY1GwwYOHMhKSkoM1tu+fTtbs2YNP3/27Fk2YcKELpe1\n",
              "9e6777LNmzczxrr/Zerp2DtLnuYcsy1i15eTk8M8PT2ZQqFgjPWNz13H2Gdsre+aLWJvy5rf995A\n",
              "3XYz3L9/H4MHD+afPslxHHx9fXHv3j2D9e7duwc/Pz9+3t/fn1+ns2X6Hjx4gJMnT+LVV1/ly5qb\n",
              "mzFmzBiMHj0aW7ZsgVqt7lOx37lzB6NHj8aYMWPw5ZdfmlRnX4ld59ChQ1i6dKnBk0Vt/bl3xhrH\n",
              "bKvY9Vn7+94bKHn2QVKpFHPmzMH69esRFRUFABg8eDAqKipw/fp1XLx4EVlZWdi1a5eNI31i9OjR\n",
              "KC8vR15eHv75z39i//79OH78uK3DMktzczOOHTuGVatW8WV9/XN/FjyN33eAkqdZhg4dil9//RUq\n",
              "lQqA9keg7927Z/DoYwDw9fXFL7/8ws+XlZXx63S2DAAaGxsxc+ZMxMbG4sMPP+TL7e3t4eXlBQDo\n",
              "378/Vq5ciaysrD4Tu6urK9zc3AAAQ4YMwRtvvMHH19Ux2zp2nRMnTiA0NBQhISF8WV/43DvT3WO2\n",
              "ZexAz33fe4VNBw2eQi+//LLBAHpkZGS7de7cudNuAH3v3r1dLmtsbGQxMTEsKSmpXZ0PHz7kx+Fk\n",
              "MhmLi4tjmzZt6jOxV1ZWMrVazRhjTCqVspiYGHbo0KEut+sLsetMnDiRffXVVwZlfeFz1zE2btjd\n",
              "Y7Zl7D39fe9plDzNVFRUxKKjo1lgYCCLjIxkBQUFjDHGVq1axU6dOsWvd/DgQRYQEMACAgLYypUr\n",
              "+S9CZ8uSk5OZSCRi4eHh/JScnMwYY+zbb79loaGhbNSoUSwkJIS99957TCaT9ZnY9+7dy0JCQvj4\n",
              "Nm/ezDQajUl12jp2Xf3Ozs5MKpUa7LcvfO7Nzc3Mx8eHeXh4MDs7O+bj48M+/vjjbh+zrWPv6e97\n",
              "T6N72wkhxAI05kkIIRag5EkIIRag5EmeCf7+/ggODuZv5XvzzTfNriMzMxM5OTn8fG5uLhYuXAhA\n",
              "ewbZ3d3d6HaVlZWYNGkSP89xHOrr6wEAr7zyCoqLi41uFxcXhyNHjpgdp6XbEesy+RlGhPR1GRkZ\n",
              "Ru/9NlVmZiYkEgmio6MBAFFRUcjIyOhyO29v7w4vozl37pzF8ZC+jVqe5JmUnp6OcePGISIiAuHh\n",
              "4fjXv/7FL6uoqEBcXBzCwsIwatQobNq0CefOncPp06exY8cOSCQSpKSk4PLly+2S8bp16zBq1CiE\n",
              "hobi4sWLADpvlfr7+yM/Px8AUFRUhJiYGISGhmLevHmQSqUmxdvZdsSGbH26nxBr8PPzY0FBQfwl\n",
              "LydPnuQvlSotLWUDBw7kL3WZMmUK+/Of/8xvW1VVxRhjbNmyZezzzz/ny/WvTSwtLWUAWEpKCmOM\n",
              "satXrzJPT08mlUrb3YcNgNXV1fFx3bhxgzHGWFRUFL99QUEBE4vF/DWUNTU1Hcbb2XbEdqjbTp4Z\n",
              "+t323NxczJo1C+Xl5RCJRHj06BFKS0sxZMgQXLlyBd9//z2/naenp0n1i0QiLF++HAAQHR0Nb29v\n",
              "3Lhxw6S7aaRSKfLz8/ntw8LCMHHiRH55aWkp4uPj28Xr7e3d6XbEdqjbTp5JixYtwptvvonCwkLk\n",
              "5+fD2dkZMpnM6vvhOM4q25oTb3f2SayHkid5JtXV1WHYsGEAgLS0NNTV1QEAnJ2dMXnyZIMfmaiu\n",
              "rgagvT+/oaGhwzpVKhVSU1MBANeuXUNlZaXJJ6hcXV0RERGBb775BgBw69YtXLlypct4u9qO2A4l\n",
              "T/JM2r17N+Li4hAREdGua52amorc3FyEhoZCIpFg3759AIClS5fi+PHjiIiIQEpKSrs63dzcUFhY\n",
              "iPDwcKxYsQLp6elwcXExOaZvvvkGBw8exMiRI7Fx40ZMnjzZpHg7247YDt2eSQghFqCWJyGEWICS\n",
              "JyGEWICSJyGEWICSJyGEWICSJyGEWICSJyGEWICSJyGEWICSJyGEWICSJyGEWICSJyGEWICSJyGE\n",
              "WOD/A19gNIH+tUnrAAAAAElFTkSuQmCC\n",
              "\">\n",
              "        \n",
              "      </div>\n",
              "      <script></script>\n",
              "      <script type=\"text/javascript\">\n",
              "        (() => {\n",
              "          const chartElement = document.getElementById(\"chart-6d5b8782-ce7c-4a41-9a29-d5565ed8a01c\");\n",
              "          async function getCodeForChartHandler(event) {\n",
              "            const chartCodeResponse =  await google.colab.kernel.invokeFunction(\n",
              "                'getCodeForChart', [\"chart-6d5b8782-ce7c-4a41-9a29-d5565ed8a01c\"], {});\n",
              "            const responseJson = chartCodeResponse.data['application/json'];\n",
              "            await google.colab.notebook.addCell(responseJson.code, 'code');\n",
              "          }\n",
              "          chartElement.onclick = getCodeForChartHandler;\n",
              "        })();\n",
              "      </script>\n",
              "      <style>\n",
              "        .colab-quickchart-chart-with-code  {\n",
              "            display: block;\n",
              "            float: left;\n",
              "            border: 1px solid transparent;\n",
              "        }\n",
              "\n",
              "        .colab-quickchart-chart-with-code:hover {\n",
              "            cursor: pointer;\n",
              "            border: 1px solid #aaa;\n",
              "        }\n",
              "      </style>"
            ]
          },
          "metadata": {}
        }
      ]
    }
  ]
}