{
 "cells": [
  {
   "cell_type": "code",
   "execution_count": 3,
   "id": "fc6b610e",
   "metadata": {},
   "outputs": [],
   "source": [
    "pytesseract.pytesseract.tesseract_cmd = r'C:\\Program Files\\Tesseract-OCR\\tesseract'"
   ]
  },
  {
   "cell_type": "code",
   "execution_count": 4,
   "id": "6278161f",
   "metadata": {},
   "outputs": [],
   "source": [
    "from PyPDF2 import PdfReader\n",
    "from PIL import Image\n",
    "import pytesseract\n",
    "import fitz\n",
    "import os\n",
    "\n",
    "pytesseract.pytesseract.tesseract_cmd = r'C:\\Program Files\\Tesseract-OCR\\tesseract'\n",
    "\n",
    "input_folder = 'convenios_'\n",
    "output_folder = 'convenios_result'\n",
    "\n",
    "# Obtener la lista de archivos PDF en la carpeta de entrada\n",
    "file_list = [f for f in os.listdir(input_folder) if f.endswith('.pdf')]\n",
    "\n",
    "# Ciclo para procesar cada PDF\n",
    "for pdf_file in file_list:\n",
    "    scannedpdf = os.path.join(input_folder, pdf_file)\n",
    "    doc = fitz.open(scannedpdf)\n",
    "\n",
    "    texto_completo = ''  # Variable para almacenar el texto de todas las páginas\n",
    "\n",
    "    # Ciclo para procesar cada página\n",
    "    for i, page in enumerate(doc):\n",
    "        pix = page.get_pixmap(dpi=300)\n",
    "        image_path = f'page_{i+1}.jpg'\n",
    "        pix.save(image_path)\n",
    "\n",
    "        ocrd_text = pytesseract.image_to_string(Image.open(image_path))\n",
    "        texto_completo += ocrd_text + '\\n'  # Agregar el texto de la página al texto completo\n",
    "\n",
    "    doc.close()\n",
    "\n",
    "    # Obtener el nombre base del archivo PDF (sin extensión)\n",
    "    file_name = os.path.splitext(pdf_file)[0]\n",
    "\n",
    "    # Guardar el texto completo en un archivo de texto en la carpeta de resultados\n",
    "    output_file = os.path.join(output_folder, f'{file_name}_texto_completo.txt')\n",
    "    with open(output_file, 'w', encoding='utf-8') as txt_file:\n",
    "        txt_file.write(texto_completo)\n"
   ]
  },
  {
   "cell_type": "code",
   "execution_count": null,
   "id": "aacd0a19",
   "metadata": {},
   "outputs": [],
   "source": []
  }
 ],
 "metadata": {
  "kernelspec": {
   "display_name": "Python 3 (ipykernel)",
   "language": "python",
   "name": "python3"
  },
  "language_info": {
   "codemirror_mode": {
    "name": "ipython",
    "version": 3
   },
   "file_extension": ".py",
   "mimetype": "text/x-python",
   "name": "python",
   "nbconvert_exporter": "python",
   "pygments_lexer": "ipython3",
   "version": "3.10.9"
  }
 },
 "nbformat": 4,
 "nbformat_minor": 5
}
